{
 "cells": [
  {
   "cell_type": "code",
   "execution_count": 32,
   "id": "d2e2181c",
   "metadata": {},
   "outputs": [],
   "source": [
    "import requests\n",
    "import json\n",
    "import syft as sy\n",
    "import pandas as pd"
   ]
  },
  {
   "cell_type": "code",
   "execution_count": 17,
   "id": "27bdd312",
   "metadata": {},
   "outputs": [],
   "source": [
    "from enum import Enum\n",
    "from syft.grid.grid_url import GridURL\n",
    "from tqdm import tqdm"
   ]
  },
  {
   "cell_type": "code",
   "execution_count": 39,
   "id": "6ba2c8d8",
   "metadata": {},
   "outputs": [],
   "source": [
    "class EndPoints(Enum):\n",
    "    METADATA = \"api/v1/syft/metadata\"\n",
    "    STATUS = \"api/v1/status\"\n",
    "    \n",
    "class Status(Enum):\n",
    "    OK = \"Ok\"\n",
    "    FAILED = \"Failed\""
   ]
  },
  {
   "cell_type": "code",
   "execution_count": 24,
   "id": "0b8b3294",
   "metadata": {},
   "outputs": [],
   "source": [
    "PUBLIC_NETWORKS_URL = \"https://raw.githubusercontent.com/OpenMined/NetworkRegistry/main/networks.json\"\n",
    "\n",
    "def get_listed_public_networks(url=PUBLIC_NETWORKS_URL):\n",
    "    response = requests.get(url, timeout=5)\n",
    "    print(f\"GET Public Network Status: {response.status_code}\")\n",
    "    response = response.json()\n",
    "    network_list = response.get(\"networks\", [])[1:]\n",
    "    return network_list\n",
    "\n",
    "\n",
    "def check_network_status(host_url):\n",
    "    status = \"\"\n",
    "    url = f\"http://{host_url}/{EndPoints.STATUS.value}\"\n",
    "    response = requests.get(url, timeout=0.5)\n",
    "    if response.status_code == 200:\n",
    "        return Status.OK.value\n",
    "    return Status.FAILED.value\n",
    "\n",
    "\n",
    "def check_metadata_api(host_url):\n",
    "    status = \"\"\n",
    "    url = f\"http://{host_url}/{EndPoints.METADATA.value}\"\n",
    "    response = requests.get(url, timeout=5)\n",
    "    if response.status_code == 200:\n",
    "        return Status.OK.value\n",
    "    \n",
    "    return Status.FAILED.value\n",
    "\n",
    "\n",
    "def check_login_via_syft(host_url, retry=5):\n",
    "    network_client = None\n",
    "    grid_url = GridURL(host_or_ip=host_url)\n",
    "    grid_url = grid_url.with_path(\"/api/v1\")\n",
    "    while(not network_client and retry > 0):\n",
    "        \n",
    "        try:\n",
    "            network_client = sy.connect(url=grid_url, timeout=5)\n",
    "        except TimeoutError:\n",
    "            retry -= 1\n",
    "    if network_client is None:\n",
    "        return Status.FAILED.value\n",
    "    \n",
    "    print(network_client.name)\n",
    "    return Status.OK.value\n",
    "\n",
    "\n",
    "def check_ip_port(host_ip: str, port: int) -> bool:\n",
    "    import socket\n",
    "    try:\n",
    "        sock = socket.socket(socket.AF_INET, socket.SOCK_STREAM)\n",
    "        sock.settimeout(2)\n",
    "        result = sock.connect_ex((host_ip, port))\n",
    "        sock.close()\n",
    "        if result == 0:\n",
    "            return Status.OK.value\n",
    "    except Exception:\n",
    "        pass\n",
    "    return Status.FAILED.value"
   ]
  },
  {
   "cell_type": "code",
   "execution_count": 48,
   "id": "eea9e834",
   "metadata": {},
   "outputs": [],
   "source": [
    "import paramiko\n",
    "\n",
    "def check_tailscale_status(host_ip: str, key_filename: str):\n",
    "    ssh_client = paramiko.SSHClient()\n",
    "\n",
    "    # To avoid an \"unknown hosts\" error. Solve this differently if you must...\n",
    "    ssh_client.set_missing_host_key_policy(paramiko.AutoAddPolicy())\n",
    "\n",
    "    # This mechanism uses a key_filename.    \n",
    "    username = \"azureuser\"\n",
    "\n",
    "    ssh_client.connect(hostname=host_ip, username=username, key_filename=key_filename)\n",
    "    \n",
    "    command = \"TAILSCALE_CONTAINER_NAME=$(sudo docker ps --format '{{.Names}}' | grep -m 1 tailscale) &&\"\n",
    "    command += \"sudo docker exec $TAILSCALE_CONTAINER_NAME tailscale status\"\n",
    "    \n",
    "    stdin,stdout,stderr = ssh_client.exec_command(command)\n",
    "    \n",
    "    errors = stderr.readlines()\n",
    "    \n",
    "    if len(errors) > 0:\n",
    "        return Status.FAILED.value\n",
    "    \n",
    "    stdout = stdout.readlines()\n",
    "    if len(stdout) > 0:\n",
    "        return Status.OK.value\n",
    "\n",
    "    return Status.FAILED.value\n",
    "\n",
    "\n",
    "def check_headscale_node_list(host_ip: str, key_filename: str):\n",
    "    ssh_client = paramiko.SSHClient()\n",
    "\n",
    "    # To avoid an \"unknown hosts\" error. Solve this differently if you must...\n",
    "    ssh_client.set_missing_host_key_policy(paramiko.AutoAddPolicy())\n",
    "\n",
    "    # This mechanism uses a key_filename.    \n",
    "    username = \"azureuser\"\n",
    "\n",
    "    ssh_client.connect(hostname=host_ip, username=username, key_filename=key_filename)\n",
    "    \n",
    "    command = \"HEADSCALE_CONTAINER_NAME=$(sudo docker ps --format '{{.Names}}' | grep -m 1 headscale) && \"\n",
    "    command += \"sudo docker exec $HEADSCALE_CONTAINER_NAME headscale nodes list -o json\"\n",
    "    \n",
    "    stdin,stdout,stderr = ssh_client.exec_command(command)\n",
    "    \n",
    "    errors = stderr.readlines()\n",
    "    print(errors)\n",
    "    \n",
    "    if len(errors) > 0:\n",
    "        return Status.FAILED.value\n",
    "    \n",
    "    stdout = json.loads(stdout.read())\n",
    "    if len(stdout) > 0:\n",
    "        return stdout\n",
    "    return Status.FAILED.value"
   ]
  },
  {
   "cell_type": "code",
   "execution_count": 41,
   "id": "f7b1cfbb",
   "metadata": {},
   "outputs": [
    {
     "name": "stdout",
     "output_type": "stream",
     "text": [
      "GET Public Network Status: 200\n"
     ]
    }
   ],
   "source": [
    "network_list = get_listed_public_networks()"
   ]
  },
  {
   "cell_type": "code",
   "execution_count": 42,
   "id": "97602d4b",
   "metadata": {},
   "outputs": [
    {
     "name": "stderr",
     "output_type": "stream",
     "text": [
      "\r",
      "  0%|                                                                                                                                           | 0/10 [00:00<?, ?it/s]"
     ]
    },
    {
     "name": "stdout",
     "output_type": "stream",
     "text": [
      "govai_network_1\n"
     ]
    },
    {
     "name": "stderr",
     "output_type": "stream",
     "text": [
      "\r",
      " 10%|█████████████                                                                                                                      | 1/10 [00:08<01:12,  8.08s/it]"
     ]
    },
    {
     "name": "stdout",
     "output_type": "stream",
     "text": [
      "[]\n",
      "govai_network_2\n"
     ]
    },
    {
     "name": "stderr",
     "output_type": "stream",
     "text": [
      "\r",
      " 20%|██████████████████████████▏                                                                                                        | 2/10 [00:15<01:03,  7.88s/it]"
     ]
    },
    {
     "name": "stdout",
     "output_type": "stream",
     "text": [
      "[]\n",
      "govai_network_3\n"
     ]
    },
    {
     "name": "stderr",
     "output_type": "stream",
     "text": [
      "\r",
      " 30%|███████████████████████████████████████▎                                                                                           | 3/10 [00:23<00:55,  7.89s/it]"
     ]
    },
    {
     "name": "stdout",
     "output_type": "stream",
     "text": [
      "[]\n",
      "govai_network_4\n"
     ]
    },
    {
     "name": "stderr",
     "output_type": "stream",
     "text": [
      "\r",
      " 40%|████████████████████████████████████████████████████▍                                                                              | 4/10 [00:31<00:46,  7.79s/it]"
     ]
    },
    {
     "name": "stdout",
     "output_type": "stream",
     "text": [
      "[]\n",
      "govai_network_5\n"
     ]
    },
    {
     "name": "stderr",
     "output_type": "stream",
     "text": [
      "\r",
      " 50%|█████████████████████████████████████████████████████████████████▌                                                                 | 5/10 [00:39<00:38,  7.76s/it]"
     ]
    },
    {
     "name": "stdout",
     "output_type": "stream",
     "text": [
      "[]\n",
      "govai_network_6\n"
     ]
    },
    {
     "name": "stderr",
     "output_type": "stream",
     "text": [
      "\r",
      " 60%|██████████████████████████████████████████████████████████████████████████████▌                                                    | 6/10 [00:47<00:31,  7.99s/it]"
     ]
    },
    {
     "name": "stdout",
     "output_type": "stream",
     "text": [
      "[]\n",
      "govai_network_7\n"
     ]
    },
    {
     "name": "stderr",
     "output_type": "stream",
     "text": [
      "\r",
      " 70%|███████████████████████████████████████████████████████████████████████████████████████████▋                                       | 7/10 [00:55<00:23,  7.84s/it]"
     ]
    },
    {
     "name": "stdout",
     "output_type": "stream",
     "text": [
      "[]\n",
      "govai_network_8\n"
     ]
    },
    {
     "name": "stderr",
     "output_type": "stream",
     "text": [
      "\r",
      " 80%|████████████████████████████████████████████████████████████████████████████████████████████████████████▊                          | 8/10 [01:02<00:15,  7.79s/it]"
     ]
    },
    {
     "name": "stdout",
     "output_type": "stream",
     "text": [
      "[]\n",
      "govai_network_9\n"
     ]
    },
    {
     "name": "stderr",
     "output_type": "stream",
     "text": [
      "\r",
      " 90%|█████████████████████████████████████████████████████████████████████████████████████████████████████████████████████▉             | 9/10 [01:10<00:07,  7.84s/it]"
     ]
    },
    {
     "name": "stdout",
     "output_type": "stream",
     "text": [
      "[]\n",
      "govai_network_10\n"
     ]
    },
    {
     "name": "stderr",
     "output_type": "stream",
     "text": [
      "100%|██████████████████████████████████████████████████████████████████████████████████████████████████████████████████████████████████| 10/10 [01:18<00:00,  7.82s/it]"
     ]
    },
    {
     "name": "stdout",
     "output_type": "stream",
     "text": [
      "[]\n"
     ]
    },
    {
     "name": "stderr",
     "output_type": "stream",
     "text": [
      "\n"
     ]
    }
   ],
   "source": [
    "status_table_list = []\n",
    "\n",
    "for network in tqdm(network_list):\n",
    "    host_url = network[\"host_or_ip\"]\n",
    "    status = {}\n",
    "    \n",
    "    status[\"host_or_ip\"] = host_url\n",
    "    status[\"ssh_status\"] = check_ip_port(host_url, port=80)\n",
    "    status[\"ping_status\"] = check_network_status(host_url)\n",
    "    status[\"api_status\"] = check_metadata_api(host_url)\n",
    "    status[\"login_status\"] = check_login_via_syft(host_url)\n",
    "    status[\"tailscale_status\"] = check_tailscale_status(host_url, key_filename=\"/home/shubham/PySyft/ssh_keys/networkMachine.pem\")\n",
    "    status[\"headscale_nodes_list\"] = check_headscale_node_list(host_url, \"/home/shubham/PySyft/ssh_keys/networkMachine.pem\")\n",
    "    \n",
    "    status_table_list.append(status)"
   ]
  },
  {
   "cell_type": "code",
   "execution_count": 43,
   "id": "8b827bb8",
   "metadata": {},
   "outputs": [],
   "source": [
    "status_df = pd.DataFrame(status_table_list)"
   ]
  },
  {
   "cell_type": "code",
   "execution_count": 49,
   "id": "0bb3d8f2",
   "metadata": {},
   "outputs": [
    {
     "data": {
      "text/html": [
       "<div>\n",
       "<style scoped>\n",
       "    .dataframe tbody tr th:only-of-type {\n",
       "        vertical-align: middle;\n",
       "    }\n",
       "\n",
       "    .dataframe tbody tr th {\n",
       "        vertical-align: top;\n",
       "    }\n",
       "\n",
       "    .dataframe thead th {\n",
       "        text-align: right;\n",
       "    }\n",
       "</style>\n",
       "<table border=\"1\" class=\"dataframe\">\n",
       "  <thead>\n",
       "    <tr style=\"text-align: right;\">\n",
       "      <th></th>\n",
       "      <th>host_or_ip</th>\n",
       "      <th>ssh_status</th>\n",
       "      <th>ping_status</th>\n",
       "      <th>api_status</th>\n",
       "      <th>login_status</th>\n",
       "      <th>tailscale_status</th>\n",
       "      <th>headscale_nodes_list</th>\n",
       "    </tr>\n",
       "  </thead>\n",
       "  <tbody>\n",
       "    <tr>\n",
       "      <th>0</th>\n",
       "      <td>20.84.12.110</td>\n",
       "      <td>Ok</td>\n",
       "      <td>Ok</td>\n",
       "      <td>Ok</td>\n",
       "      <td>Ok</td>\n",
       "      <td>Ok</td>\n",
       "      <td>b'[\\n\\t{\\n\\t\\t\"id\": 1,\\n\\t\\t\"machine_key\": \"40...</td>\n",
       "    </tr>\n",
       "    <tr>\n",
       "      <th>1</th>\n",
       "      <td>20.84.14.55</td>\n",
       "      <td>Ok</td>\n",
       "      <td>Ok</td>\n",
       "      <td>Ok</td>\n",
       "      <td>Ok</td>\n",
       "      <td>Ok</td>\n",
       "      <td>b'[\\n\\t{\\n\\t\\t\"id\": 1,\\n\\t\\t\"machine_key\": \"dd...</td>\n",
       "    </tr>\n",
       "    <tr>\n",
       "      <th>2</th>\n",
       "      <td>20.84.13.24</td>\n",
       "      <td>Ok</td>\n",
       "      <td>Ok</td>\n",
       "      <td>Ok</td>\n",
       "      <td>Ok</td>\n",
       "      <td>Ok</td>\n",
       "      <td>b'[\\n\\t{\\n\\t\\t\"id\": 1,\\n\\t\\t\"machine_key\": \"d6...</td>\n",
       "    </tr>\n",
       "    <tr>\n",
       "      <th>3</th>\n",
       "      <td>20.84.14.84</td>\n",
       "      <td>Ok</td>\n",
       "      <td>Ok</td>\n",
       "      <td>Ok</td>\n",
       "      <td>Ok</td>\n",
       "      <td>Ok</td>\n",
       "      <td>b'[\\n\\t{\\n\\t\\t\"id\": 1,\\n\\t\\t\"machine_key\": \"5b...</td>\n",
       "    </tr>\n",
       "    <tr>\n",
       "      <th>4</th>\n",
       "      <td>20.84.12.64</td>\n",
       "      <td>Ok</td>\n",
       "      <td>Ok</td>\n",
       "      <td>Ok</td>\n",
       "      <td>Ok</td>\n",
       "      <td>Ok</td>\n",
       "      <td>b'[\\n\\t{\\n\\t\\t\"id\": 1,\\n\\t\\t\"machine_key\": \"93...</td>\n",
       "    </tr>\n",
       "    <tr>\n",
       "      <th>5</th>\n",
       "      <td>20.84.14.94</td>\n",
       "      <td>Ok</td>\n",
       "      <td>Ok</td>\n",
       "      <td>Ok</td>\n",
       "      <td>Ok</td>\n",
       "      <td>Ok</td>\n",
       "      <td>b'[\\n\\t{\\n\\t\\t\"id\": 1,\\n\\t\\t\"machine_key\": \"71...</td>\n",
       "    </tr>\n",
       "    <tr>\n",
       "      <th>6</th>\n",
       "      <td>20.84.12.138</td>\n",
       "      <td>Ok</td>\n",
       "      <td>Ok</td>\n",
       "      <td>Ok</td>\n",
       "      <td>Ok</td>\n",
       "      <td>Ok</td>\n",
       "      <td>b'[\\n\\t{\\n\\t\\t\"id\": 1,\\n\\t\\t\"machine_key\": \"90...</td>\n",
       "    </tr>\n",
       "    <tr>\n",
       "      <th>7</th>\n",
       "      <td>20.84.14.128</td>\n",
       "      <td>Ok</td>\n",
       "      <td>Ok</td>\n",
       "      <td>Ok</td>\n",
       "      <td>Ok</td>\n",
       "      <td>Ok</td>\n",
       "      <td>b'[\\n\\t{\\n\\t\\t\"id\": 1,\\n\\t\\t\"machine_key\": \"1b...</td>\n",
       "    </tr>\n",
       "    <tr>\n",
       "      <th>8</th>\n",
       "      <td>20.84.12.33</td>\n",
       "      <td>Ok</td>\n",
       "      <td>Ok</td>\n",
       "      <td>Ok</td>\n",
       "      <td>Ok</td>\n",
       "      <td>Ok</td>\n",
       "      <td>b'[\\n\\t{\\n\\t\\t\"id\": 1,\\n\\t\\t\"machine_key\": \"94...</td>\n",
       "    </tr>\n",
       "    <tr>\n",
       "      <th>9</th>\n",
       "      <td>20.84.8.208</td>\n",
       "      <td>Ok</td>\n",
       "      <td>Ok</td>\n",
       "      <td>Ok</td>\n",
       "      <td>Ok</td>\n",
       "      <td>Ok</td>\n",
       "      <td>b'[\\n\\t{\\n\\t\\t\"id\": 1,\\n\\t\\t\"machine_key\": \"00...</td>\n",
       "    </tr>\n",
       "  </tbody>\n",
       "</table>\n",
       "</div>"
      ],
      "text/plain": [
       "     host_or_ip ssh_status ping_status api_status login_status  \\\n",
       "0  20.84.12.110         Ok          Ok         Ok           Ok   \n",
       "1   20.84.14.55         Ok          Ok         Ok           Ok   \n",
       "2   20.84.13.24         Ok          Ok         Ok           Ok   \n",
       "3   20.84.14.84         Ok          Ok         Ok           Ok   \n",
       "4   20.84.12.64         Ok          Ok         Ok           Ok   \n",
       "5   20.84.14.94         Ok          Ok         Ok           Ok   \n",
       "6  20.84.12.138         Ok          Ok         Ok           Ok   \n",
       "7  20.84.14.128         Ok          Ok         Ok           Ok   \n",
       "8   20.84.12.33         Ok          Ok         Ok           Ok   \n",
       "9   20.84.8.208         Ok          Ok         Ok           Ok   \n",
       "\n",
       "  tailscale_status                               headscale_nodes_list  \n",
       "0               Ok  b'[\\n\\t{\\n\\t\\t\"id\": 1,\\n\\t\\t\"machine_key\": \"40...  \n",
       "1               Ok  b'[\\n\\t{\\n\\t\\t\"id\": 1,\\n\\t\\t\"machine_key\": \"dd...  \n",
       "2               Ok  b'[\\n\\t{\\n\\t\\t\"id\": 1,\\n\\t\\t\"machine_key\": \"d6...  \n",
       "3               Ok  b'[\\n\\t{\\n\\t\\t\"id\": 1,\\n\\t\\t\"machine_key\": \"5b...  \n",
       "4               Ok  b'[\\n\\t{\\n\\t\\t\"id\": 1,\\n\\t\\t\"machine_key\": \"93...  \n",
       "5               Ok  b'[\\n\\t{\\n\\t\\t\"id\": 1,\\n\\t\\t\"machine_key\": \"71...  \n",
       "6               Ok  b'[\\n\\t{\\n\\t\\t\"id\": 1,\\n\\t\\t\"machine_key\": \"90...  \n",
       "7               Ok  b'[\\n\\t{\\n\\t\\t\"id\": 1,\\n\\t\\t\"machine_key\": \"1b...  \n",
       "8               Ok  b'[\\n\\t{\\n\\t\\t\"id\": 1,\\n\\t\\t\"machine_key\": \"94...  \n",
       "9               Ok  b'[\\n\\t{\\n\\t\\t\"id\": 1,\\n\\t\\t\"machine_key\": \"00...  "
      ]
     },
     "execution_count": 49,
     "metadata": {},
     "output_type": "execute_result"
    }
   ],
   "source": [
    "status_df"
   ]
  },
  {
   "cell_type": "code",
   "execution_count": 51,
   "id": "f4f2aa32",
   "metadata": {},
   "outputs": [
    {
     "data": {
      "text/plain": [
       "'<table border=\"1\" class=\"dataframe\">\\n  <thead>\\n    <tr style=\"text-align: right;\">\\n      <th></th>\\n      <th>host_or_ip</th>\\n      <th>ssh_status</th>\\n      <th>ping_status</th>\\n      <th>api_status</th>\\n      <th>login_status</th>\\n      <th>tailscale_status</th>\\n      <th>headscale_nodes_list</th>\\n    </tr>\\n  </thead>\\n  <tbody>\\n    <tr>\\n      <th>0</th>\\n      <td>20.84.12.110</td>\\n      <td>Ok</td>\\n      <td>Ok</td>\\n      <td>Ok</td>\\n      <td>Ok</td>\\n      <td>Ok</td>\\n      <td>b\\'[\\\\n\\\\t{\\\\n\\\\t\\\\t\"id\": 1,\\\\n\\\\t\\\\t\"machine_key\": \"40623f9de820d486101b34ed8d392485132864064962708900bc24dbd4aeaf1e\",\\\\n\\\\t\\\\t\"node_key\": \"bfb19632726c6590dd363077052400c3b3e3cf7d1e281cee6561b12cccfab66e\",\\\\n\\\\t\\\\t\"disco_key\": \"7fe19c71912b2e75348e1c20b71105c353e5f774980cbf5eca5a3186ffd4fb2f\",\\\\n\\\\t\\\\t\"ip_addresses\": [\\\\n\\\\t\\\\t\\\\t\"100.64.0.1\"\\\\n\\\\t\\\\t],\\\\n\\\\t\\\\t\"name\": \"govai-network-1\",\\\\n\\\\t\\\\t\"namespace\": {\\\\n\\\\t\\\\t\\\\t\"id\": \"1\",\\\\n\\\\t\\\\t\\\\t\"name\": \"omnet\",\\\\n\\\\t\\\\t\\\\t\"created_at\": {\\\\n\\\\t\\\\t\\\\t\\\\t\"seconds\": 1654004443,\\\\n\\\\t\\\\t\\\\t\\\\t\"nanos\": 179895583\\\\n\\\\t\\\\t\\\\t}\\\\n\\\\t\\\\t},\\\\n\\\\t\\\\t\"last_seen\": {\\\\n\\\\t\\\\t\\\\t\"seconds\": 1654499312,\\\\n\\\\t\\\\t\\\\t\"nanos\": 63876604\\\\n\\\\t\\\\t},\\\\n\\\\t\\\\t\"last_successful_update\": {\\\\n\\\\t\\\\t\\\\t\"seconds\": 1654499322,\\\\n\\\\t\\\\t\\\\t\"nanos\": 69633106\\\\n\\\\t\\\\t},\\\\n\\\\t\\\\t\"expiry\": {\\\\n\\\\t\\\\t\\\\t\"seconds\": -62135596800\\\\n\\\\t\\\\t},\\\\n\\\\t\\\\t\"pre_auth_key\": {\\\\n\\\\t\\\\t\\\\t\"namespace\": \"omnet\",\\\\n\\\\t\\\\t\\\\t\"id\": \"1\",\\\\n\\\\t\\\\t\\\\t\"key\": \"36f860ed246084c56c3713015715ddd08140e5e7003cf9ce\",\\\\n\\\\t\\\\t\\\\t\"used\": true,\\\\n\\\\t\\\\t\\\\t\"expiration\": {\\\\n\\\\t\\\\t\\\\t\\\\t\"seconds\": 1654008089,\\\\n\\\\t\\\\t\\\\t\\\\t\"nanos\": 507476260\\\\n\\\\t\\\\t\\\\t},\\\\n\\\\t\\\\t\\\\t\"created_at\": {\\\\n\\\\t\\\\t\\\\t\\\\t\"seconds\": 1654004489,\\\\n\\\\t\\\\t\\\\t\\\\t\"nanos\": 509007173\\\\n\\\\t\\\\t\\\\t}\\\\n\\\\t\\\\t},\\\\n\\\\t\\\\t\"created_at\": {\\\\n\\\\t\\\\t\\\\t\"seconds\": 1654004491,\\\\n\\\\t\\\\t\\\\t\"nanos\": 546774732\\\\n\\\\t\\\\t}\\\\n\\\\t},\\\\n\\\\t{\\\\n\\\\t\\\\t\"id\": 2,\\\\n\\\\t\\\\t\"machine_key\": \"1bb0fbb288d10eaea1ba32e4d14e6ef790329c91aa012ee9aef138ceae645a37\",\\\\n\\\\t\\\\t\"node_key\": \"6df4fb6050a1e0a422364e533a16b10a5707ff0e527c3ae202ac3cb13615de3c\",\\\\n\\\\t\\\\t\"disco_key\": \"0fa80861703334c07a846c89ad70a3e1d5a8d5baa764b66325f35c9e5615be57\",\\\\n\\\\t\\\\t\"ip_addresses\": [\\\\n\\\\t\\\\t\\\\t\"100.64.0.2\"\\\\n\\\\t\\\\t],\\\\n\\\\t\\\\t\"name\": \"australian-national-university\",\\\\n\\\\t\\\\t\"namespace\": {\\\\n\\\\t\\\\t\\\\t\"id\": \"1\",\\\\n\\\\t\\\\t\\\\t\"name\": \"omnet\",\\\\n\\\\t\\\\t\\\\t\"created_at\": {\\\\n\\\\t\\\\t\\\\t\\\\t\"seconds\": 1654004443,\\\\n\\\\t\\\\t\\\\t\\\\t\"nanos\": 179895583\\\\n\\\\t\\\\t\\\\t}\\\\n\\\\t\\\\t},\\\\n\\\\t\\\\t\"last_seen\": {\\\\n\\\\t\\\\t\\\\t\"seconds\": 1654499322,\\\\n\\\\t\\\\t\\\\t\"nanos\": 514513285\\\\n\\\\t\\\\t},\\\\n\\\\t\\\\t\"last_successful_update\": {\\\\n\\\\t\\\\t\\\\t\"seconds\": 1654499322,\\\\n\\\\t\\\\t\\\\t\"nanos\": 527653491\\\\n\\\\t\\\\t},\\\\n\\\\t\\\\t\"expiry\": {\\\\n\\\\t\\\\t\\\\t\"seconds\": -62135596800\\\\n\\\\t\\\\t},\\\\n\\\\t\\\\t\"pre_auth_key\": {\\\\n\\\\t\\\\t\\\\t\"namespace\": \"omnet\",\\\\n\\\\t\\\\t\\\\t\"id\": \"2\",\\\\n\\\\t\\\\t\\\\t\"key\": \"aa9814453c9d04184dfdbc64f121b98ac86374905f457236\",\\\\n\\\\t\\\\t\\\\t\"used\": true,\\\\n\\\\t\\\\t\\\\t\"expiration\": {\\\\n\\\\t\\\\t\\\\t\\\\t\"seconds\": 1654012346,\\\\n\\\\t\\\\t\\\\t\\\\t\"nanos\": 373801259\\\\n\\\\t\\\\t\\\\t},\\\\n\\\\t\\\\t\\\\t\"created_at\": {\\\\n\\\\t\\\\t\\\\t\\\\t\"seconds\": 1654008746,\\\\n\\\\t\\\\t\\\\t\\\\t\"nanos\": 375103070\\\\n\\\\t\\\\t\\\\t}\\\\n\\\\t\\\\t},\\\\n\\\\t\\\\t\"created_at\": {\\\\n\\\\t\\\\t\\\\t\"seconds\": 1654008748,\\\\n\\\\t\\\\t\\\\t\"nanos\": 612654593\\\\n\\\\t\\\\t}\\\\n\\\\t},\\\\n\\\\t{\\\\n\\\\t\\\\t\"id\": 3,\\\\n\\\\t\\\\t\"machine_key\": \"41f1c58aef6975086e6721caeac749b5e0e4020707a292d668580b17f7b0c331\",\\\\n\\\\t\\\\t\"node_key\": \"ec42a0020c2e05d06c72d77761c1f0d9fcaa4338db520b0422d42d2b25f96a3c\",\\\\n\\\\t\\\\t\"disco_key\": \"e1825394d48416753558e7bd51930df1c75e0c14fd2480a9aa31043d6b21c16c\",\\\\n\\\\t\\\\t\"ip_addresses\": [\\\\n\\\\t\\\\t\\\\t\"100.64.0.3\"\\\\n\\\\t\\\\t],\\\\n\\\\t\\\\t\"name\": \"university-of-waterloo\",\\\\n\\\\t\\\\t\"namespace\": {\\\\n\\\\t\\\\t\\\\t\"id\": \"1\",\\\\n\\\\t\\\\t\\\\t\"name\": \"omnet\",\\\\n\\\\t\\\\t\\\\t\"created_at\": {\\\\n\\\\t\\\\t\\\\t\\\\t\"seconds\": 1654004443,\\\\n\\\\t\\\\t\\\\t\\\\t\"nanos\": 179895583\\\\n\\\\t\\\\t\\\\t}\\\\n\\\\t\\\\t},\\\\n\\\\t\\\\t\"last_seen\": {\\\\n\\\\t\\\\t\\\\t\"seconds\": 1654499321,\\\\n\\\\t\\\\t\\\\t\"nanos\": 128510434\\\\n\\\\t\\\\t},\\\\n\\\\t\\\\t\"last_successful_update\": {\\\\n\\\\t\\\\t\\\\t\"seconds\": 1654499321,\\\\n\\\\t\\\\t\\\\t\"nanos\": 138382414\\\\n\\\\t\\\\t},\\\\n\\\\t\\\\t\"expiry\": {\\\\n\\\\t\\\\t\\\\t\"seconds\": -62135596800\\\\n\\\\t\\\\t},\\\\n\\\\t\\\\t\"pre_auth_key\": {\\\\n\\\\t\\\\t\\\\t\"namespace\": \"omnet\",\\\\n\\\\t\\\\t\\\\t\"id\": \"4\",\\\\n\\\\t\\\\t\\\\t\"key\": \"a04dbeb9206ef2cd82d50abc052a3ed2d4fcd867202ded8f\",\\\\n\\\\t\\\\t\\\\t\"used\": true,\\\\n\\\\t\\\\t\\\\t\"expiration\": {\\\\n\\\\t\\\\t\\\\t\\\\t\"seconds\": 1654012538,\\\\n\\\\t\\\\t\\\\t\\\\t\"nanos\": 250428961\\\\n\\\\t\\\\t\\\\t},\\\\n\\\\t\\\\t\\\\t\"created_at\": {\\\\n\\\\t\\\\t\\\\t\\\\t\"seconds\": 1654008938,\\\\n\\\\t\\\\t\\\\t\\\\t\"nanos\": 253081982\\\\n\\\\t\\\\t\\\\t}\\\\n\\\\t\\\\t},\\\\n\\\\t\\\\t\"created_at\": {\\\\n\\\\t\\\\t\\\\t\"seconds\": 1654008940,\\\\n\\\\t\\\\t\\\\t\"nanos\": 520793949\\\\n\\\\t\\\\t}\\\\n\\\\t},\\\\n\\\\t{\\\\n\\\\t\\\\t\"id\": 4,\\\\n\\\\t\\\\t\"machine_key\": \"98346bb8061a078e13197a2d26559f5f5348b7c2ab567fc10a66aaaee9d57b2b\",\\\\n\\\\t\\\\t\"node_key\": \"9e7ad94a70011c23df3df706dbb9737074d49ca1a5665f228f5e3fd3511a583e\",\\\\n\\\\t\\\\t\"disco_key\": \"9ffc1b19c6d8992cfea95ec05cefa4e70cefde977999b28eaaf39d9325676c13\",\\\\n\\\\t\\\\t\"ip_addresses\": [\\\\n\\\\t\\\\t\\\\t\"100.64.0.4\"\\\\n\\\\t\\\\t],\\\\n\\\\t\\\\t\"name\": \"mit-lincoln-laboratory\",\\\\n\\\\t\\\\t\"namespace\": {\\\\n\\\\t\\\\t\\\\t\"id\": \"1\",\\\\n\\\\t\\\\t\\\\t\"name\": \"omnet\",\\\\n\\\\t\\\\t\\\\t\"created_at\": {\\\\n\\\\t\\\\t\\\\t\\\\t\"seconds\": 1654004443,\\\\n\\\\t\\\\t\\\\t\\\\t\"nanos\": 179895583\\\\n\\\\t\\\\t\\\\t}\\\\n\\\\t\\\\t},\\\\n\\\\t\\\\t\"last_seen\": {\\\\n\\\\t\\\\t\\\\t\"seconds\": 1654499305,\\\\n\\\\t\\\\t\\\\t\"nanos\": 142000112\\\\n\\\\t\\\\t},\\\\n\\\\t\\\\t\"last_successful_update\": {\\\\n\\\\t\\\\t\\\\t\"seconds\": 1654499315,\\\\n\\\\t\\\\t\\\\t\"nanos\": 144580490\\\\n\\\\t\\\\t},\\\\n\\\\t\\\\t\"expiry\": {\\\\n\\\\t\\\\t\\\\t\"seconds\": -62135596800\\\\n\\\\t\\\\t},\\\\n\\\\t\\\\t\"pre_auth_key\": {\\\\n\\\\t\\\\t\\\\t\"namespace\": \"omnet\",\\\\n\\\\t\\\\t\\\\t\"id\": \"5\",\\\\n\\\\t\\\\t\\\\t\"key\": \"1a4eb0b2a989a38f39d041eefadc54e9ec2ab8165c3b59e7\",\\\\n\\\\t\\\\t\\\\t\"used\": true,\\\\n\\\\t\\\\t\\\\t\"expiration\": {\\\\n\\\\t\\\\t\\\\t\\\\t\"seconds\": 1654012608,\\\\n\\\\t\\\\t\\\\t\\\\t\"nanos\": 435273305\\\\n\\\\t\\\\t\\\\t},\\\\n\\\\t\\\\t\\\\t\"created_at\": {\\\\n\\\\t\\\\t\\\\t\\\\t\"seconds\": 1654009008,\\\\n\\\\t\\\\t\\\\t\\\\t\"nanos\": 436533615\\\\n\\\\t\\\\t\\\\t}\\\\n\\\\t\\\\t},\\\\n\\\\t\\\\t\"created_at\": {\\\\n\\\\t\\\\t\\\\t\"seconds\": 1654009010,\\\\n\\\\t\\\\t\\\\t\"nanos\": 683530814\\\\n\\\\t\\\\t}\\\\n\\\\t},\\\\n\\\\t{\\\\n\\\\t\\\\t\"id\": 7,\\\\n\\\\t\\\\t\"machine_key\": \"5a389934c2aae7882a6de82ecf4dfb1eb343029de808e3fd0e2cabee54448e11\",\\\\n\\\\t\\\\t\"node_key\": \"ad63be99303206b332ceb97847cfb01833f942aa03fca4f87f5f98b3a034f368\",\\\\n\\\\t\\\\t\"disco_key\": \"852f40d9319d5a85aaa9a7057e4f47ab3eef298cde6c807922b56271f69b5754\",\\\\n\\\\t\\\\t\"ip_addresses\": [\\\\n\\\\t\\\\t\\\\t\"100.64.0.7\"\\\\n\\\\t\\\\t],\\\\n\\\\t\\\\t\"name\": \"university-hospital-cologne\",\\\\n\\\\t\\\\t\"namespace\": {\\\\n\\\\t\\\\t\\\\t\"id\": \"1\",\\\\n\\\\t\\\\t\\\\t\"name\": \"omnet\",\\\\n\\\\t\\\\t\\\\t\"created_at\": {\\\\n\\\\t\\\\t\\\\t\\\\t\"seconds\": 1654004443,\\\\n\\\\t\\\\t\\\\t\\\\t\"nanos\": 179895583\\\\n\\\\t\\\\t\\\\t}\\\\n\\\\t\\\\t},\\\\n\\\\t\\\\t\"last_seen\": {\\\\n\\\\t\\\\t\\\\t\"seconds\": 1654499303,\\\\n\\\\t\\\\t\\\\t\"nanos\": 65834708\\\\n\\\\t\\\\t},\\\\n\\\\t\\\\t\"last_successful_update\": {\\\\n\\\\t\\\\t\\\\t\"seconds\": 1654499313,\\\\n\\\\t\\\\t\\\\t\"nanos\": 69744597\\\\n\\\\t\\\\t},\\\\n\\\\t\\\\t\"expiry\": {\\\\n\\\\t\\\\t\\\\t\"seconds\": -62135596800\\\\n\\\\t\\\\t},\\\\n\\\\t\\\\t\"pre_auth_key\": {\\\\n\\\\t\\\\t\\\\t\"namespace\": \"omnet\",\\\\n\\\\t\\\\t\\\\t\"id\": \"10\",\\\\n\\\\t\\\\t\\\\t\"key\": \"aa1c00c6081e2748aef7b0cb33be285035333aa58fcbdc81\",\\\\n\\\\t\\\\t\\\\t\"used\": true,\\\\n\\\\t\\\\t\\\\t\"expiration\": {\\\\n\\\\t\\\\t\\\\t\\\\t\"seconds\": 1654014380,\\\\n\\\\t\\\\t\\\\t\\\\t\"nanos\": 343614602\\\\n\\\\t\\\\t\\\\t},\\\\n\\\\t\\\\t\\\\t\"created_at\": {\\\\n\\\\t\\\\t\\\\t\\\\t\"seconds\": 1654010780,\\\\n\\\\t\\\\t\\\\t\\\\t\"nanos\": 344841812\\\\n\\\\t\\\\t\\\\t}\\\\n\\\\t\\\\t},\\\\n\\\\t\\\\t\"created_at\": {\\\\n\\\\t\\\\t\\\\t\"seconds\": 1654010782,\\\\n\\\\t\\\\t\\\\t\"nanos\": 597250312\\\\n\\\\t\\\\t}\\\\n\\\\t},\\\\n\\\\t{\\\\n\\\\t\\\\t\"id\": 8,\\\\n\\\\t\\\\t\"machine_key\": \"8cabd2c4637d969b658e2f7bada8227e6fe356cd03c76d5ccbcb1f640434491b\",\\\\n\\\\t\\\\t\"node_key\": \"062e14fc9684f92fc45f17c3103c439e0666a366bbaeefc0e91dd4b0b79e8b5a\",\\\\n\\\\t\\\\t\"disco_key\": \"6d16765299c36430415a7dc03cc93ec6b659f7c4e7ff226eb92485217198e92d\",\\\\n\\\\t\\\\t\"ip_addresses\": [\\\\n\\\\t\\\\t\\\\t\"100.64.0.8\"\\\\n\\\\t\\\\t],\\\\n\\\\t\\\\t\"name\": \"university-of-montreal\",\\\\n\\\\t\\\\t\"namespace\": {\\\\n\\\\t\\\\t\\\\t\"id\": \"1\",\\\\n\\\\t\\\\t\\\\t\"name\": \"omnet\",\\\\n\\\\t\\\\t\\\\t\"created_at\": {\\\\n\\\\t\\\\t\\\\t\\\\t\"seconds\": 1654004443,\\\\n\\\\t\\\\t\\\\t\\\\t\"nanos\": 179895583\\\\n\\\\t\\\\t\\\\t}\\\\n\\\\t\\\\t},\\\\n\\\\t\\\\t\"last_seen\": {\\\\n\\\\t\\\\t\\\\t\"seconds\": 1654499309,\\\\n\\\\t\\\\t\\\\t\"nanos\": 17742096\\\\n\\\\t\\\\t},\\\\n\\\\t\\\\t\"last_successful_update\": {\\\\n\\\\t\\\\t\\\\t\"seconds\": 1654499319,\\\\n\\\\t\\\\t\\\\t\"nanos\": 19128363\\\\n\\\\t\\\\t},\\\\n\\\\t\\\\t\"expiry\": {\\\\n\\\\t\\\\t\\\\t\"seconds\": -62135596800\\\\n\\\\t\\\\t},\\\\n\\\\t\\\\t\"pre_auth_key\": {\\\\n\\\\t\\\\t\\\\t\"namespace\": \"omnet\",\\\\n\\\\t\\\\t\\\\t\"id\": \"11\",\\\\n\\\\t\\\\t\\\\t\"key\": \"ecb8422bfdf0ff8aeb4ed658822ff3c5e01713597a9e4b3d\",\\\\n\\\\t\\\\t\\\\t\"used\": true,\\\\n\\\\t\\\\t\\\\t\"expiration\": {\\\\n\\\\t\\\\t\\\\t\\\\t\"seconds\": 1654014446,\\\\n\\\\t\\\\t\\\\t\\\\t\"nanos\": 259516526\\\\n\\\\t\\\\t\\\\t},\\\\n\\\\t\\\\t\\\\t\"created_at\": {\\\\n\\\\t\\\\t\\\\t\\\\t\"seconds\": 1654010846,\\\\n\\\\t\\\\t\\\\t\\\\t\"nanos\": 260830737\\\\n\\\\t\\\\t\\\\t}\\\\n\\\\t\\\\t},\\\\n\\\\t\\\\t\"created_at\": {\\\\n\\\\t\\\\t\\\\t\"seconds\": 1654010848,\\\\n\\\\t\\\\t\\\\t\"nanos\": 514134643\\\\n\\\\t\\\\t}\\\\n\\\\t},\\\\n\\\\t{\\\\n\\\\t\\\\t\"id\": 9,\\\\n\\\\t\\\\t\"machine_key\": \"0985876c77fd61c1aab856eec4fb87542434b56154d1b56e8d9dc32466203a13\",\\\\n\\\\t\\\\t\"node_key\": \"eef60f321a0c093916ac3744918401e891f029a8c0bdbd59a024231eaf27d604\",\\\\n\\\\t\\\\t\"disco_key\": \"eee9ca3919250b0bfbd3e05e0d5e68d7c462c2039699dad467a3e0d7fb19880a\",\\\\n\\\\t\\\\t\"ip_addresses\": [\\\\n\\\\t\\\\t\\\\t\"100.64.0.9\"\\\\n\\\\t\\\\t],\\\\n\\\\t\\\\t\"name\": \"university-of-vermont\",\\\\n\\\\t\\\\t\"namespace\": {\\\\n\\\\t\\\\t\\\\t\"id\": \"1\",\\\\n\\\\t\\\\t\\\\t\"name\": \"omnet\",\\\\n\\\\t\\\\t\\\\t\"created_at\": {\\\\n\\\\t\\\\t\\\\t\\\\t\"seconds\": 1654004443,\\\\n\\\\t\\\\t\\\\t\\\\t\"nanos\": 179895583\\\\n\\\\t\\\\t\\\\t}\\\\n\\\\t\\\\t},\\\\n\\\\t\\\\t\"last_seen\": {\\\\n\\\\t\\\\t\\\\t\"seconds\": 1654499293,\\\\n\\\\t\\\\t\\\\t\"nanos\": 454924480\\\\n\\\\t\\\\t},\\\\n\\\\t\\\\t\"last_successful_update\": {\\\\n\\\\t\\\\t\\\\t\"seconds\": 1654499313,\\\\n\\\\t\\\\t\\\\t\"nanos\": 459055329\\\\n\\\\t\\\\t},\\\\n\\\\t\\\\t\"expiry\": {\\\\n\\\\t\\\\t\\\\t\"seconds\": -62135596800\\\\n\\\\t\\\\t},\\\\n\\\\t\\\\t\"pre_auth_key\": {\\\\n\\\\t\\\\t\\\\t\"namespace\": \"omnet\",\\\\n\\\\t\\\\t\\\\t\"id\": \"13\",\\\\n\\\\t\\\\t\\\\t\"key\": \"232ecaca807b064ccf22bc2de259c8cd2c8280a5abd8789b\",\\\\n\\\\t\\\\t\\\\t\"used\": true,\\\\n\\\\t\\\\t\\\\t\"expiration\": {\\\\n\\\\t\\\\t\\\\t\\\\t\"seconds\": 1654014610,\\\\n\\\\t\\\\t\\\\t\\\\t\"nanos\": 675914959\\\\n\\\\t\\\\t\\\\t},\\\\n\\\\t\\\\t\\\\t\"created_at\": {\\\\n\\\\t\\\\t\\\\t\\\\t\"seconds\": 1654011010,\\\\n\\\\t\\\\t\\\\t\\\\t\"nanos\": 677172069\\\\n\\\\t\\\\t\\\\t}\\\\n\\\\t\\\\t},\\\\n\\\\t\\\\t\"created_at\": {\\\\n\\\\t\\\\t\\\\t\"seconds\": 1654011012,\\\\n\\\\t\\\\t\\\\t\"nanos\": 943737980\\\\n\\\\t\\\\t}\\\\n\\\\t}\\\\n]\\\\n\\'</td>\\n    </tr>\\n    <tr>\\n      <th>1</th>\\n      <td>20.84.14.55</td>\\n      <td>Ok</td>\\n      <td>Ok</td>\\n      <td>Ok</td>\\n      <td>Ok</td>\\n      <td>Ok</td>\\n      <td>b\\'[\\\\n\\\\t{\\\\n\\\\t\\\\t\"id\": 1,\\\\n\\\\t\\\\t\"machine_key\": \"dd2df9aa503b21263434a336c81518c1cedd079b31216528967e920c97abfb53\",\\\\n\\\\t\\\\t\"node_key\": \"b813759d5beb2e63fe309d85e564f25ddebc2a5c02dccdc32c52712a545be71d\",\\\\n\\\\t\\\\t\"disco_key\": \"427e23c079feed20f7ecad82a18167ee7f0725d20190bc2c99242964f4462c4b\",\\\\n\\\\t\\\\t\"ip_addresses\": [\\\\n\\\\t\\\\t\\\\t\"100.64.0.1\"\\\\n\\\\t\\\\t],\\\\n\\\\t\\\\t\"name\": \"govai-network-2\",\\\\n\\\\t\\\\t\"namespace\": {\\\\n\\\\t\\\\t\\\\t\"id\": \"1\",\\\\n\\\\t\\\\t\\\\t\"name\": \"omnet\",\\\\n\\\\t\\\\t\\\\t\"created_at\": {\\\\n\\\\t\\\\t\\\\t\\\\t\"seconds\": 1653978783,\\\\n\\\\t\\\\t\\\\t\\\\t\"nanos\": 128687881\\\\n\\\\t\\\\t\\\\t}\\\\n\\\\t\\\\t},\\\\n\\\\t\\\\t\"last_seen\": {\\\\n\\\\t\\\\t\\\\t\"seconds\": 1654499329,\\\\n\\\\t\\\\t\\\\t\"nanos\": 984274501\\\\n\\\\t\\\\t},\\\\n\\\\t\\\\t\"last_successful_update\": {\\\\n\\\\t\\\\t\\\\t\"seconds\": 1654499329,\\\\n\\\\t\\\\t\\\\t\"nanos\": 989965453\\\\n\\\\t\\\\t},\\\\n\\\\t\\\\t\"expiry\": {\\\\n\\\\t\\\\t\\\\t\"seconds\": -62135596800\\\\n\\\\t\\\\t},\\\\n\\\\t\\\\t\"pre_auth_key\": {\\\\n\\\\t\\\\t\\\\t\"namespace\": \"omnet\",\\\\n\\\\t\\\\t\\\\t\"id\": \"1\",\\\\n\\\\t\\\\t\\\\t\"key\": \"5499927e98ac7453b6c398162f8393d422ac1a711881e8d8\",\\\\n\\\\t\\\\t\\\\t\"used\": true,\\\\n\\\\t\\\\t\\\\t\"expiration\": {\\\\n\\\\t\\\\t\\\\t\\\\t\"seconds\": 1653982427,\\\\n\\\\t\\\\t\\\\t\\\\t\"nanos\": 567713652\\\\n\\\\t\\\\t\\\\t},\\\\n\\\\t\\\\t\\\\t\"created_at\": {\\\\n\\\\t\\\\t\\\\t\\\\t\"seconds\": 1653978827,\\\\n\\\\t\\\\t\\\\t\\\\t\"nanos\": 570333777\\\\n\\\\t\\\\t\\\\t}\\\\n\\\\t\\\\t},\\\\n\\\\t\\\\t\"created_at\": {\\\\n\\\\t\\\\t\\\\t\"seconds\": 1653978829,\\\\n\\\\t\\\\t\\\\t\"nanos\": 595011894\\\\n\\\\t\\\\t}\\\\n\\\\t},\\\\n\\\\t{\\\\n\\\\t\\\\t\"id\": 2,\\\\n\\\\t\\\\t\"machine_key\": \"9ded8c2adf3909e521e8010b7e70d01beb1783b06a0d8989510cf68c3fe38d0b\",\\\\n\\\\t\\\\t\"node_key\": \"d0bf21b04552590d7025c12246ca4c7b832e1d2a614b96b38d390628bac46545\",\\\\n\\\\t\\\\t\"disco_key\": \"ad5f4d34f36447f059ec19021f804b4ef0709219d3e06935f31defc27bb1e619\",\\\\n\\\\t\\\\t\"ip_addresses\": [\\\\n\\\\t\\\\t\\\\t\"100.64.0.2\"\\\\n\\\\t\\\\t],\\\\n\\\\t\\\\t\"name\": \"canada\",\\\\n\\\\t\\\\t\"namespace\": {\\\\n\\\\t\\\\t\\\\t\"id\": \"1\",\\\\n\\\\t\\\\t\\\\t\"name\": \"omnet\",\\\\n\\\\t\\\\t\\\\t\"created_at\": {\\\\n\\\\t\\\\t\\\\t\\\\t\"seconds\": 1653978783,\\\\n\\\\t\\\\t\\\\t\\\\t\"nanos\": 128687881\\\\n\\\\t\\\\t\\\\t}\\\\n\\\\t\\\\t},\\\\n\\\\t\\\\t\"last_seen\": {\\\\n\\\\t\\\\t\\\\t\"seconds\": 1654491018,\\\\n\\\\t\\\\t\\\\t\"nanos\": 445447834\\\\n\\\\t\\\\t},\\\\n\\\\t\\\\t\"last_successful_update\": {\\\\n\\\\t\\\\t\\\\t\"seconds\": 1654491010,\\\\n\\\\t\\\\t\\\\t\"nanos\": 222663543\\\\n\\\\t\\\\t},\\\\n\\\\t\\\\t\"expiry\": {\\\\n\\\\t\\\\t\\\\t\"seconds\": -62135596800\\\\n\\\\t\\\\t},\\\\n\\\\t\\\\t\"pre_auth_key\": {\\\\n\\\\t\\\\t\\\\t\"namespace\": \"omnet\",\\\\n\\\\t\\\\t\\\\t\"id\": \"2\",\\\\n\\\\t\\\\t\\\\t\"key\": \"de0d58cc313c0b13bd5f5c8121d654945fb5c9a47dc9d309\",\\\\n\\\\t\\\\t\\\\t\"used\": true,\\\\n\\\\t\\\\t\\\\t\"expiration\": {\\\\n\\\\t\\\\t\\\\t\\\\t\"seconds\": 1654405227,\\\\n\\\\t\\\\t\\\\t\\\\t\"nanos\": 756826025\\\\n\\\\t\\\\t\\\\t},\\\\n\\\\t\\\\t\\\\t\"created_at\": {\\\\n\\\\t\\\\t\\\\t\\\\t\"seconds\": 1654401627,\\\\n\\\\t\\\\t\\\\t\\\\t\"nanos\": 759298348\\\\n\\\\t\\\\t\\\\t}\\\\n\\\\t\\\\t},\\\\n\\\\t\\\\t\"created_at\": {\\\\n\\\\t\\\\t\\\\t\"seconds\": 1654401629,\\\\n\\\\t\\\\t\\\\t\"nanos\": 814822201\\\\n\\\\t\\\\t}\\\\n\\\\t}\\\\n]\\\\n\\'</td>\\n    </tr>\\n    <tr>\\n      <th>2</th>\\n      <td>20.84.13.24</td>\\n      <td>Ok</td>\\n      <td>Ok</td>\\n      <td>Ok</td>\\n      <td>Ok</td>\\n      <td>Ok</td>\\n      <td>b\\'[\\\\n\\\\t{\\\\n\\\\t\\\\t\"id\": 1,\\\\n\\\\t\\\\t\"machine_key\": \"d6c2c40c6869178cf4f41acae2a71f40a3bf04daeb50896dde7f466af265854e\",\\\\n\\\\t\\\\t\"node_key\": \"31949c914e765b1c270e5a3280d6b9a287cf18e187e00c43f87a6d66f5f4025f\",\\\\n\\\\t\\\\t\"disco_key\": \"26921c17a228f61df5b0a53955f0b997a5a87060c5bca414b062420807ffca17\",\\\\n\\\\t\\\\t\"ip_addresses\": [\\\\n\\\\t\\\\t\\\\t\"100.64.0.1\"\\\\n\\\\t\\\\t],\\\\n\\\\t\\\\t\"name\": \"govai-network-3\",\\\\n\\\\t\\\\t\"namespace\": {\\\\n\\\\t\\\\t\\\\t\"id\": \"1\",\\\\n\\\\t\\\\t\\\\t\"name\": \"omnet\",\\\\n\\\\t\\\\t\\\\t\"created_at\": {\\\\n\\\\t\\\\t\\\\t\\\\t\"seconds\": 1653969216,\\\\n\\\\t\\\\t\\\\t\\\\t\"nanos\": 398501077\\\\n\\\\t\\\\t\\\\t}\\\\n\\\\t\\\\t},\\\\n\\\\t\\\\t\"last_seen\": {\\\\n\\\\t\\\\t\\\\t\"seconds\": 1654499302,\\\\n\\\\t\\\\t\\\\t\"nanos\": 768014032\\\\n\\\\t\\\\t},\\\\n\\\\t\\\\t\"last_successful_update\": {\\\\n\\\\t\\\\t\\\\t\"seconds\": 1654499332,\\\\n\\\\t\\\\t\\\\t\"nanos\": 769367485\\\\n\\\\t\\\\t},\\\\n\\\\t\\\\t\"expiry\": {\\\\n\\\\t\\\\t\\\\t\"seconds\": -62135596800\\\\n\\\\t\\\\t},\\\\n\\\\t\\\\t\"pre_auth_key\": {\\\\n\\\\t\\\\t\\\\t\"namespace\": \"omnet\",\\\\n\\\\t\\\\t\\\\t\"id\": \"1\",\\\\n\\\\t\\\\t\\\\t\"key\": \"6404c07ceb3f7ed2aa5d23d84410d7cd251fe3250ec2f365\",\\\\n\\\\t\\\\t\\\\t\"used\": true,\\\\n\\\\t\\\\t\\\\t\"expiration\": {\\\\n\\\\t\\\\t\\\\t\\\\t\"seconds\": 1653972860,\\\\n\\\\t\\\\t\\\\t\\\\t\"nanos\": 354114434\\\\n\\\\t\\\\t\\\\t},\\\\n\\\\t\\\\t\\\\t\"created_at\": {\\\\n\\\\t\\\\t\\\\t\\\\t\"seconds\": 1653969260,\\\\n\\\\t\\\\t\\\\t\\\\t\"nanos\": 355807249\\\\n\\\\t\\\\t\\\\t}\\\\n\\\\t\\\\t},\\\\n\\\\t\\\\t\"created_at\": {\\\\n\\\\t\\\\t\\\\t\"seconds\": 1653969262,\\\\n\\\\t\\\\t\\\\t\"nanos\": 387689167\\\\n\\\\t\\\\t}\\\\n\\\\t}\\\\n]\\\\n\\'</td>\\n    </tr>\\n    <tr>\\n      <th>3</th>\\n      <td>20.84.14.84</td>\\n      <td>Ok</td>\\n      <td>Ok</td>\\n      <td>Ok</td>\\n      <td>Ok</td>\\n      <td>Ok</td>\\n      <td>b\\'[\\\\n\\\\t{\\\\n\\\\t\\\\t\"id\": 1,\\\\n\\\\t\\\\t\"machine_key\": \"5b660f63d829ca7fc73a2a1af1c30ae09b4c0c7294e8f9e541be739d05cc8f6d\",\\\\n\\\\t\\\\t\"node_key\": \"f9a6657810dbf041911991251a62688479800c2f6dbc2d2c42fd7bf793d21554\",\\\\n\\\\t\\\\t\"disco_key\": \"3a24ae365708badb28d306f07b845815d21b205f7ce353874cf9beef85a37243\",\\\\n\\\\t\\\\t\"ip_addresses\": [\\\\n\\\\t\\\\t\\\\t\"100.64.0.1\"\\\\n\\\\t\\\\t],\\\\n\\\\t\\\\t\"name\": \"govai-network-4\",\\\\n\\\\t\\\\t\"namespace\": {\\\\n\\\\t\\\\t\\\\t\"id\": \"1\",\\\\n\\\\t\\\\t\\\\t\"name\": \"omnet\",\\\\n\\\\t\\\\t\\\\t\"created_at\": {\\\\n\\\\t\\\\t\\\\t\\\\t\"seconds\": 1653969267,\\\\n\\\\t\\\\t\\\\t\\\\t\"nanos\": 768745956\\\\n\\\\t\\\\t\\\\t}\\\\n\\\\t\\\\t},\\\\n\\\\t\\\\t\"last_seen\": {\\\\n\\\\t\\\\t\\\\t\"seconds\": 1654499294,\\\\n\\\\t\\\\t\\\\t\"nanos\": 787650315\\\\n\\\\t\\\\t},\\\\n\\\\t\\\\t\"last_successful_update\": {\\\\n\\\\t\\\\t\\\\t\"seconds\": 1654499344,\\\\n\\\\t\\\\t\\\\t\"nanos\": 787853818\\\\n\\\\t\\\\t},\\\\n\\\\t\\\\t\"expiry\": {\\\\n\\\\t\\\\t\\\\t\"seconds\": -62135596800\\\\n\\\\t\\\\t},\\\\n\\\\t\\\\t\"pre_auth_key\": {\\\\n\\\\t\\\\t\\\\t\"namespace\": \"omnet\",\\\\n\\\\t\\\\t\\\\t\"id\": \"1\",\\\\n\\\\t\\\\t\\\\t\"key\": \"0f234619f41a4f676734036315e4cc996d07a6ab24474194\",\\\\n\\\\t\\\\t\\\\t\"used\": true,\\\\n\\\\t\\\\t\\\\t\"expiration\": {\\\\n\\\\t\\\\t\\\\t\\\\t\"seconds\": 1653972912,\\\\n\\\\t\\\\t\\\\t\\\\t\"nanos\": 226374480\\\\n\\\\t\\\\t\\\\t},\\\\n\\\\t\\\\t\\\\t\"created_at\": {\\\\n\\\\t\\\\t\\\\t\\\\t\"seconds\": 1653969312,\\\\n\\\\t\\\\t\\\\t\\\\t\"nanos\": 228256509\\\\n\\\\t\\\\t\\\\t}\\\\n\\\\t\\\\t},\\\\n\\\\t\\\\t\"created_at\": {\\\\n\\\\t\\\\t\\\\t\"seconds\": 1653969314,\\\\n\\\\t\\\\t\\\\t\"nanos\": 262921714\\\\n\\\\t\\\\t}\\\\n\\\\t}\\\\n]\\\\n\\'</td>\\n    </tr>\\n    <tr>\\n      <th>4</th>\\n      <td>20.84.12.64</td>\\n      <td>Ok</td>\\n      <td>Ok</td>\\n      <td>Ok</td>\\n      <td>Ok</td>\\n      <td>Ok</td>\\n      <td>b\\'[\\\\n\\\\t{\\\\n\\\\t\\\\t\"id\": 1,\\\\n\\\\t\\\\t\"machine_key\": \"938cfad88fab033020545619ec6ae010d9f386110e20a547607c5913df4fbe25\",\\\\n\\\\t\\\\t\"node_key\": \"f790ba2135440ab784f391bc5e27aac5e5efd2339b646fd9f5eb698dec70f603\",\\\\n\\\\t\\\\t\"disco_key\": \"3b494597f46602a858d5c89d4b5a687bdb9c306889f098aac71bdb065eb7cc1a\",\\\\n\\\\t\\\\t\"ip_addresses\": [\\\\n\\\\t\\\\t\\\\t\"100.64.0.1\"\\\\n\\\\t\\\\t],\\\\n\\\\t\\\\t\"name\": \"govai-network-5\",\\\\n\\\\t\\\\t\"namespace\": {\\\\n\\\\t\\\\t\\\\t\"id\": \"1\",\\\\n\\\\t\\\\t\\\\t\"name\": \"omnet\",\\\\n\\\\t\\\\t\\\\t\"created_at\": {\\\\n\\\\t\\\\t\\\\t\\\\t\"seconds\": 1653969314,\\\\n\\\\t\\\\t\\\\t\\\\t\"nanos\": 47165777\\\\n\\\\t\\\\t\\\\t}\\\\n\\\\t\\\\t},\\\\n\\\\t\\\\t\"last_seen\": {\\\\n\\\\t\\\\t\\\\t\"seconds\": 1654499341,\\\\n\\\\t\\\\t\\\\t\"nanos\": 295685307\\\\n\\\\t\\\\t},\\\\n\\\\t\\\\t\"last_successful_update\": {\\\\n\\\\t\\\\t\\\\t\"seconds\": 1654499351,\\\\n\\\\t\\\\t\\\\t\"nanos\": 299641325\\\\n\\\\t\\\\t},\\\\n\\\\t\\\\t\"expiry\": {\\\\n\\\\t\\\\t\\\\t\"seconds\": -62135596800\\\\n\\\\t\\\\t},\\\\n\\\\t\\\\t\"pre_auth_key\": {\\\\n\\\\t\\\\t\\\\t\"namespace\": \"omnet\",\\\\n\\\\t\\\\t\\\\t\"id\": \"1\",\\\\n\\\\t\\\\t\\\\t\"key\": \"0a1f0aa258d43bef62237f781e9acf3ea40532a774a12320\",\\\\n\\\\t\\\\t\\\\t\"used\": true,\\\\n\\\\t\\\\t\\\\t\"expiration\": {\\\\n\\\\t\\\\t\\\\t\\\\t\"seconds\": 1653972958,\\\\n\\\\t\\\\t\\\\t\\\\t\"nanos\": 789551693\\\\n\\\\t\\\\t\\\\t},\\\\n\\\\t\\\\t\\\\t\"created_at\": {\\\\n\\\\t\\\\t\\\\t\\\\t\"seconds\": 1653969358,\\\\n\\\\t\\\\t\\\\t\\\\t\"nanos\": 795654757\\\\n\\\\t\\\\t\\\\t}\\\\n\\\\t\\\\t},\\\\n\\\\t\\\\t\"created_at\": {\\\\n\\\\t\\\\t\\\\t\"seconds\": 1653969360,\\\\n\\\\t\\\\t\\\\t\"nanos\": 816590428\\\\n\\\\t\\\\t}\\\\n\\\\t}\\\\n]\\\\n\\'</td>\\n    </tr>\\n    <tr>\\n      <th>5</th>\\n      <td>20.84.14.94</td>\\n      <td>Ok</td>\\n      <td>Ok</td>\\n      <td>Ok</td>\\n      <td>Ok</td>\\n      <td>Ok</td>\\n      <td>b\\'[\\\\n\\\\t{\\\\n\\\\t\\\\t\"id\": 1,\\\\n\\\\t\\\\t\"machine_key\": \"71825281ea944dd96a0dbaf9a4a80d1e89173ae52bd803c352b4f377bdc7642a\",\\\\n\\\\t\\\\t\"node_key\": \"d4b2e5c3f29712ecbb671f89298c85013618739a60ccc72d18db2717fc1f9f2d\",\\\\n\\\\t\\\\t\"disco_key\": \"b99fcef824b89e1f680f60a80a2172a85940c6e82c43384ac02a32a00b654138\",\\\\n\\\\t\\\\t\"ip_addresses\": [\\\\n\\\\t\\\\t\\\\t\"100.64.0.1\"\\\\n\\\\t\\\\t],\\\\n\\\\t\\\\t\"name\": \"govai-network-6\",\\\\n\\\\t\\\\t\"namespace\": {\\\\n\\\\t\\\\t\\\\t\"id\": \"1\",\\\\n\\\\t\\\\t\\\\t\"name\": \"omnet\",\\\\n\\\\t\\\\t\\\\t\"created_at\": {\\\\n\\\\t\\\\t\\\\t\\\\t\"seconds\": 1653969344,\\\\n\\\\t\\\\t\\\\t\\\\t\"nanos\": 654094701\\\\n\\\\t\\\\t\\\\t}\\\\n\\\\t\\\\t},\\\\n\\\\t\\\\t\"last_seen\": {\\\\n\\\\t\\\\t\\\\t\"seconds\": 1654499311,\\\\n\\\\t\\\\t\\\\t\"nanos\": 66896049\\\\n\\\\t\\\\t},\\\\n\\\\t\\\\t\"last_successful_update\": {\\\\n\\\\t\\\\t\\\\t\"seconds\": 1654499361,\\\\n\\\\t\\\\t\\\\t\"nanos\": 66944323\\\\n\\\\t\\\\t},\\\\n\\\\t\\\\t\"expiry\": {\\\\n\\\\t\\\\t\\\\t\"seconds\": -62135596800\\\\n\\\\t\\\\t},\\\\n\\\\t\\\\t\"pre_auth_key\": {\\\\n\\\\t\\\\t\\\\t\"namespace\": \"omnet\",\\\\n\\\\t\\\\t\\\\t\"id\": \"1\",\\\\n\\\\t\\\\t\\\\t\"key\": \"23e77450fbd25b6b022e3c8bcfa1b03d163f33838c0b2dcf\",\\\\n\\\\t\\\\t\\\\t\"used\": true,\\\\n\\\\t\\\\t\\\\t\"expiration\": {\\\\n\\\\t\\\\t\\\\t\\\\t\"seconds\": 1653972988,\\\\n\\\\t\\\\t\\\\t\\\\t\"nanos\": 655159287\\\\n\\\\t\\\\t\\\\t},\\\\n\\\\t\\\\t\\\\t\"created_at\": {\\\\n\\\\t\\\\t\\\\t\\\\t\"seconds\": 1653969388,\\\\n\\\\t\\\\t\\\\t\\\\t\"nanos\": 662325567\\\\n\\\\t\\\\t\\\\t}\\\\n\\\\t\\\\t},\\\\n\\\\t\\\\t\"created_at\": {\\\\n\\\\t\\\\t\\\\t\"seconds\": 1653969390,\\\\n\\\\t\\\\t\\\\t\"nanos\": 683508205\\\\n\\\\t\\\\t}\\\\n\\\\t}\\\\n]\\\\n\\'</td>\\n    </tr>\\n    <tr>\\n      <th>6</th>\\n      <td>20.84.12.138</td>\\n      <td>Ok</td>\\n      <td>Ok</td>\\n      <td>Ok</td>\\n      <td>Ok</td>\\n      <td>Ok</td>\\n      <td>b\\'[\\\\n\\\\t{\\\\n\\\\t\\\\t\"id\": 1,\\\\n\\\\t\\\\t\"machine_key\": \"9036b8398b79ac1f706173cd7e4a11ac5325826a6f629f45f8b7958cfa1d644c\",\\\\n\\\\t\\\\t\"node_key\": \"ff5c972334f017390339714b48fef44f7a93b61fe51c10778d2dc25bd33a9d74\",\\\\n\\\\t\\\\t\"disco_key\": \"20c9f2319db0c64b0a0b17260231472aebddc584d19300a8dde2c1b5b5b4b441\",\\\\n\\\\t\\\\t\"ip_addresses\": [\\\\n\\\\t\\\\t\\\\t\"100.64.0.1\"\\\\n\\\\t\\\\t],\\\\n\\\\t\\\\t\"name\": \"govai-network-7\",\\\\n\\\\t\\\\t\"namespace\": {\\\\n\\\\t\\\\t\\\\t\"id\": \"1\",\\\\n\\\\t\\\\t\\\\t\"name\": \"omnet\",\\\\n\\\\t\\\\t\\\\t\"created_at\": {\\\\n\\\\t\\\\t\\\\t\\\\t\"seconds\": 1653969402,\\\\n\\\\t\\\\t\\\\t\\\\t\"nanos\": 481370434\\\\n\\\\t\\\\t\\\\t}\\\\n\\\\t\\\\t},\\\\n\\\\t\\\\t\"last_seen\": {\\\\n\\\\t\\\\t\\\\t\"seconds\": 1654499369,\\\\n\\\\t\\\\t\\\\t\"nanos\": 495913589\\\\n\\\\t\\\\t},\\\\n\\\\t\\\\t\"last_successful_update\": {\\\\n\\\\t\\\\t\\\\t\"seconds\": 1654499369,\\\\n\\\\t\\\\t\\\\t\"nanos\": 508930961\\\\n\\\\t\\\\t},\\\\n\\\\t\\\\t\"expiry\": {\\\\n\\\\t\\\\t\\\\t\"seconds\": -62135596800\\\\n\\\\t\\\\t},\\\\n\\\\t\\\\t\"pre_auth_key\": {\\\\n\\\\t\\\\t\\\\t\"namespace\": \"omnet\",\\\\n\\\\t\\\\t\\\\t\"id\": \"1\",\\\\n\\\\t\\\\t\\\\t\"key\": \"4ec553701735ee3eef8ee9cbb0133ed6d1924ac96c367174\",\\\\n\\\\t\\\\t\\\\t\"used\": true,\\\\n\\\\t\\\\t\\\\t\"expiration\": {\\\\n\\\\t\\\\t\\\\t\\\\t\"seconds\": 1653973047,\\\\n\\\\t\\\\t\\\\t\\\\t\"nanos\": 50237128\\\\n\\\\t\\\\t\\\\t},\\\\n\\\\t\\\\t\\\\t\"created_at\": {\\\\n\\\\t\\\\t\\\\t\\\\t\"seconds\": 1653969447,\\\\n\\\\t\\\\t\\\\t\\\\t\"nanos\": 52728442\\\\n\\\\t\\\\t\\\\t}\\\\n\\\\t\\\\t},\\\\n\\\\t\\\\t\"created_at\": {\\\\n\\\\t\\\\t\\\\t\"seconds\": 1653969449,\\\\n\\\\t\\\\t\\\\t\"nanos\": 90441387\\\\n\\\\t\\\\t}\\\\n\\\\t}\\\\n]\\\\n\\'</td>\\n    </tr>\\n    <tr>\\n      <th>7</th>\\n      <td>20.84.14.128</td>\\n      <td>Ok</td>\\n      <td>Ok</td>\\n      <td>Ok</td>\\n      <td>Ok</td>\\n      <td>Ok</td>\\n      <td>b\\'[\\\\n\\\\t{\\\\n\\\\t\\\\t\"id\": 1,\\\\n\\\\t\\\\t\"machine_key\": \"1b1684a6e58a90d530c181e17c3ff8bf13d0ebaf65baff1ad864e6190589a443\",\\\\n\\\\t\\\\t\"node_key\": \"d8fe57b96359e884dd98f84a6e8407953265e912de019696870e456522eb412a\",\\\\n\\\\t\\\\t\"disco_key\": \"acf8887f2d9319a10b658fe802b56162baa2b1ff4920c53d422b95e54c9b5d21\",\\\\n\\\\t\\\\t\"ip_addresses\": [\\\\n\\\\t\\\\t\\\\t\"100.64.0.1\"\\\\n\\\\t\\\\t],\\\\n\\\\t\\\\t\"name\": \"govai-network-8\",\\\\n\\\\t\\\\t\"namespace\": {\\\\n\\\\t\\\\t\\\\t\"id\": \"1\",\\\\n\\\\t\\\\t\\\\t\"name\": \"omnet\",\\\\n\\\\t\\\\t\\\\t\"created_at\": {\\\\n\\\\t\\\\t\\\\t\\\\t\"seconds\": 1653969427,\\\\n\\\\t\\\\t\\\\t\\\\t\"nanos\": 86184617\\\\n\\\\t\\\\t\\\\t}\\\\n\\\\t\\\\t},\\\\n\\\\t\\\\t\"last_seen\": {\\\\n\\\\t\\\\t\\\\t\"seconds\": 1654499333,\\\\n\\\\t\\\\t\\\\t\"nanos\": 247938528\\\\n\\\\t\\\\t},\\\\n\\\\t\\\\t\"last_successful_update\": {\\\\n\\\\t\\\\t\\\\t\"seconds\": 1654499373,\\\\n\\\\t\\\\t\\\\t\"nanos\": 248811659\\\\n\\\\t\\\\t},\\\\n\\\\t\\\\t\"expiry\": {\\\\n\\\\t\\\\t\\\\t\"seconds\": -62135596800\\\\n\\\\t\\\\t},\\\\n\\\\t\\\\t\"pre_auth_key\": {\\\\n\\\\t\\\\t\\\\t\"namespace\": \"omnet\",\\\\n\\\\t\\\\t\\\\t\"id\": \"1\",\\\\n\\\\t\\\\t\\\\t\"key\": \"f6995abf4522f2c2fcb3a60c33b566d21512fdf085deb949\",\\\\n\\\\t\\\\t\\\\t\"used\": true,\\\\n\\\\t\\\\t\\\\t\"expiration\": {\\\\n\\\\t\\\\t\\\\t\\\\t\"seconds\": 1653973070,\\\\n\\\\t\\\\t\\\\t\\\\t\"nanos\": 816776257\\\\n\\\\t\\\\t\\\\t},\\\\n\\\\t\\\\t\\\\t\"created_at\": {\\\\n\\\\t\\\\t\\\\t\\\\t\"seconds\": 1653969470,\\\\n\\\\t\\\\t\\\\t\\\\t\"nanos\": 818367668\\\\n\\\\t\\\\t\\\\t}\\\\n\\\\t\\\\t},\\\\n\\\\t\\\\t\"created_at\": {\\\\n\\\\t\\\\t\\\\t\"seconds\": 1653969472,\\\\n\\\\t\\\\t\\\\t\"nanos\": 856825234\\\\n\\\\t\\\\t}\\\\n\\\\t}\\\\n]\\\\n\\'</td>\\n    </tr>\\n    <tr>\\n      <th>8</th>\\n      <td>20.84.12.33</td>\\n      <td>Ok</td>\\n      <td>Ok</td>\\n      <td>Ok</td>\\n      <td>Ok</td>\\n      <td>Ok</td>\\n      <td>b\\'[\\\\n\\\\t{\\\\n\\\\t\\\\t\"id\": 1,\\\\n\\\\t\\\\t\"machine_key\": \"94fa3bba22b4092b2529d1ef1d6793f07d4d22a3642cf1677c3dccd0e309eb6d\",\\\\n\\\\t\\\\t\"node_key\": \"e03ca61c278e57ad9105bd307540757e51aa93d3bd54841fa34f84d3d1f8c43c\",\\\\n\\\\t\\\\t\"disco_key\": \"cb8556eb4a342ab26ef97a6a7a121bc3eb0f7c12c9344fa4bb5e102d3511f079\",\\\\n\\\\t\\\\t\"ip_addresses\": [\\\\n\\\\t\\\\t\\\\t\"100.64.0.1\"\\\\n\\\\t\\\\t],\\\\n\\\\t\\\\t\"name\": \"govai-network-9\",\\\\n\\\\t\\\\t\"namespace\": {\\\\n\\\\t\\\\t\\\\t\"id\": \"1\",\\\\n\\\\t\\\\t\\\\t\"name\": \"omnet\",\\\\n\\\\t\\\\t\\\\t\"created_at\": {\\\\n\\\\t\\\\t\\\\t\\\\t\"seconds\": 1653969471,\\\\n\\\\t\\\\t\\\\t\\\\t\"nanos\": 377644046\\\\n\\\\t\\\\t\\\\t}\\\\n\\\\t\\\\t},\\\\n\\\\t\\\\t\"last_seen\": {\\\\n\\\\t\\\\t\\\\t\"seconds\": 1654499379,\\\\n\\\\t\\\\t\\\\t\"nanos\": 20566539\\\\n\\\\t\\\\t},\\\\n\\\\t\\\\t\"last_successful_update\": {\\\\n\\\\t\\\\t\\\\t\"seconds\": 1654499379,\\\\n\\\\t\\\\t\\\\t\"nanos\": 33030924\\\\n\\\\t\\\\t},\\\\n\\\\t\\\\t\"expiry\": {\\\\n\\\\t\\\\t\\\\t\"seconds\": -62135596800\\\\n\\\\t\\\\t},\\\\n\\\\t\\\\t\"pre_auth_key\": {\\\\n\\\\t\\\\t\\\\t\"namespace\": \"omnet\",\\\\n\\\\t\\\\t\\\\t\"id\": \"1\",\\\\n\\\\t\\\\t\\\\t\"key\": \"0f9735368b5e1d660a8b4996a6e1128c22c07ee10fca1ab1\",\\\\n\\\\t\\\\t\\\\t\"used\": true,\\\\n\\\\t\\\\t\\\\t\"expiration\": {\\\\n\\\\t\\\\t\\\\t\\\\t\"seconds\": 1653973116,\\\\n\\\\t\\\\t\\\\t\\\\t\"nanos\": 567047923\\\\n\\\\t\\\\t\\\\t},\\\\n\\\\t\\\\t\\\\t\"created_at\": {\\\\n\\\\t\\\\t\\\\t\\\\t\"seconds\": 1653969516,\\\\n\\\\t\\\\t\\\\t\\\\t\"nanos\": 568482345\\\\n\\\\t\\\\t\\\\t}\\\\n\\\\t\\\\t},\\\\n\\\\t\\\\t\"created_at\": {\\\\n\\\\t\\\\t\\\\t\"seconds\": 1653969518,\\\\n\\\\t\\\\t\\\\t\"nanos\": 603425261\\\\n\\\\t\\\\t}\\\\n\\\\t}\\\\n]\\\\n\\'</td>\\n    </tr>\\n    <tr>\\n      <th>9</th>\\n      <td>20.84.8.208</td>\\n      <td>Ok</td>\\n      <td>Ok</td>\\n      <td>Ok</td>\\n      <td>Ok</td>\\n      <td>Ok</td>\\n      <td>b\\'[\\\\n\\\\t{\\\\n\\\\t\\\\t\"id\": 1,\\\\n\\\\t\\\\t\"machine_key\": \"006e44a95f810669ce7a455e2eadd40e677e832e916b26e725eb23b1967bf368\",\\\\n\\\\t\\\\t\"node_key\": \"77f0e0996426509ab4199851daf4adbde304dbc38bfb4ff56daf577ed81ff045\",\\\\n\\\\t\\\\t\"disco_key\": \"1d9502da71ba6ffb2117062935fc87a783d8d1cf2fa1f579cc8d8e3c69054751\",\\\\n\\\\t\\\\t\"ip_addresses\": [\\\\n\\\\t\\\\t\\\\t\"100.64.0.1\"\\\\n\\\\t\\\\t],\\\\n\\\\t\\\\t\"name\": \"govai-network-10\",\\\\n\\\\t\\\\t\"namespace\": {\\\\n\\\\t\\\\t\\\\t\"id\": \"1\",\\\\n\\\\t\\\\t\\\\t\"name\": \"omnet\",\\\\n\\\\t\\\\t\\\\t\"created_at\": {\\\\n\\\\t\\\\t\\\\t\\\\t\"seconds\": 1654368873,\\\\n\\\\t\\\\t\\\\t\\\\t\"nanos\": 82248226\\\\n\\\\t\\\\t\\\\t}\\\\n\\\\t\\\\t},\\\\n\\\\t\\\\t\"last_seen\": {\\\\n\\\\t\\\\t\\\\t\"seconds\": 1654499361,\\\\n\\\\t\\\\t\\\\t\"nanos\": 31872355\\\\n\\\\t\\\\t},\\\\n\\\\t\\\\t\"last_successful_update\": {\\\\n\\\\t\\\\t\\\\t\"seconds\": 1654499391,\\\\n\\\\t\\\\t\\\\t\"nanos\": 29270394\\\\n\\\\t\\\\t},\\\\n\\\\t\\\\t\"expiry\": {\\\\n\\\\t\\\\t\\\\t\"seconds\": -62135596800\\\\n\\\\t\\\\t},\\\\n\\\\t\\\\t\"pre_auth_key\": {\\\\n\\\\t\\\\t\\\\t\"namespace\": \"omnet\",\\\\n\\\\t\\\\t\\\\t\"id\": \"1\",\\\\n\\\\t\\\\t\\\\t\"key\": \"94becb4e083e4532490e125214628c5dc28450cd7a588954\",\\\\n\\\\t\\\\t\\\\t\"used\": true,\\\\n\\\\t\\\\t\\\\t\"expiration\": {\\\\n\\\\t\\\\t\\\\t\\\\t\"seconds\": 1654372518,\\\\n\\\\t\\\\t\\\\t\\\\t\"nanos\": 598893378\\\\n\\\\t\\\\t\\\\t},\\\\n\\\\t\\\\t\\\\t\"created_at\": {\\\\n\\\\t\\\\t\\\\t\\\\t\"seconds\": 1654368918,\\\\n\\\\t\\\\t\\\\t\\\\t\"nanos\": 604313287\\\\n\\\\t\\\\t\\\\t}\\\\n\\\\t\\\\t},\\\\n\\\\t\\\\t\"created_at\": {\\\\n\\\\t\\\\t\\\\t\"seconds\": 1654368920,\\\\n\\\\t\\\\t\\\\t\"nanos\": 623426439\\\\n\\\\t\\\\t}\\\\n\\\\t}\\\\n]\\\\n\\'</td>\\n    </tr>\\n  </tbody>\\n</table>'"
      ]
     },
     "execution_count": 51,
     "metadata": {},
     "output_type": "execute_result"
    }
   ],
   "source": [
    "status_df.to_html()"
   ]
  },
  {
   "cell_type": "code",
   "execution_count": 37,
   "id": "bbb1c34a",
   "metadata": {},
   "outputs": [
    {
     "data": {
      "text/plain": [
       "{'name': 'GovAI Network 1',\n",
       " 'host_or_ip': '20.84.12.110',\n",
       " 'vpn_host_or_ip': '100.64.0.1',\n",
       " 'protocol': 'http',\n",
       " 'port': 80,\n",
       " 'admin_email': 'support@openmined.org',\n",
       " 'website': 'https://www.governance.ai/',\n",
       " 'slack': 'https://slack.openmined.org/',\n",
       " 'slack_channel': '#support'}"
      ]
     },
     "execution_count": 37,
     "metadata": {},
     "output_type": "execute_result"
    }
   ],
   "source": [
    "network_list[0]"
   ]
  },
  {
   "cell_type": "code",
   "execution_count": 50,
   "id": "4427e3d4",
   "metadata": {},
   "outputs": [
    {
     "name": "stdout",
     "output_type": "stream",
     "text": [
      "[]\n"
     ]
    },
    {
     "data": {
      "text/plain": [
       "[{'id': 1,\n",
       "  'machine_key': '006e44a95f810669ce7a455e2eadd40e677e832e916b26e725eb23b1967bf368',\n",
       "  'node_key': '77f0e0996426509ab4199851daf4adbde304dbc38bfb4ff56daf577ed81ff045',\n",
       "  'disco_key': '1d9502da71ba6ffb2117062935fc87a783d8d1cf2fa1f579cc8d8e3c69054751',\n",
       "  'ip_addresses': ['100.64.0.1'],\n",
       "  'name': 'govai-network-10',\n",
       "  'namespace': {'id': '1',\n",
       "   'name': 'omnet',\n",
       "   'created_at': {'seconds': 1654368873, 'nanos': 82248226}},\n",
       "  'last_seen': {'seconds': 1654499601, 'nanos': 27277000},\n",
       "  'last_successful_update': {'seconds': 1654499611, 'nanos': 28544971},\n",
       "  'expiry': {'seconds': -62135596800},\n",
       "  'pre_auth_key': {'namespace': 'omnet',\n",
       "   'id': '1',\n",
       "   'key': '94becb4e083e4532490e125214628c5dc28450cd7a588954',\n",
       "   'used': True,\n",
       "   'expiration': {'seconds': 1654372518, 'nanos': 598893378},\n",
       "   'created_at': {'seconds': 1654368918, 'nanos': 604313287}},\n",
       "  'created_at': {'seconds': 1654368920, 'nanos': 623426439}}]"
      ]
     },
     "execution_count": 50,
     "metadata": {},
     "output_type": "execute_result"
    }
   ],
   "source": [
    "check_headscale_node_list(host_url, \"/home/shubham/PySyft/ssh_keys/networkMachine.pem\")"
   ]
  },
  {
   "cell_type": "code",
   "execution_count": null,
   "id": "749de8bc",
   "metadata": {},
   "outputs": [],
   "source": []
  }
 ],
 "metadata": {
  "kernelspec": {
   "display_name": "Python 3 (ipykernel)",
   "language": "python",
   "name": "python3"
  },
  "language_info": {
   "codemirror_mode": {
    "name": "ipython",
    "version": 3
   },
   "file_extension": ".py",
   "mimetype": "text/x-python",
   "name": "python",
   "nbconvert_exporter": "python",
   "pygments_lexer": "ipython3",
   "version": "3.9.7"
  }
 },
 "nbformat": 4,
 "nbformat_minor": 5
}
