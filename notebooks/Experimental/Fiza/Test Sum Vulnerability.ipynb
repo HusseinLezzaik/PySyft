{
 "cells": [
  {
   "cell_type": "code",
   "execution_count": 1,
   "id": "c3f2f557-b2da-4634-ac10-38d1e40cb160",
   "metadata": {},
   "outputs": [
    {
     "name": "stderr",
     "output_type": "stream",
     "text": [
      "/Users/fizahusain/x86-64/miniforge_x86_64/envs/syft/lib/python3.9/site-packages/tqdm/auto.py:22: TqdmWarning: IProgress not found. Please update jupyter and ipywidgets. See https://ipywidgets.readthedocs.io/en/stable/user_install.html\n",
      "  from .autonotebook import tqdm as notebook_tqdm\n"
     ]
    }
   ],
   "source": [
    "import syft as sy\n",
    "import numpy as np\n",
    "from syft.core.adp.data_subject import DataSubject"
   ]
  },
  {
   "cell_type": "code",
   "execution_count": 2,
   "id": "7079c52c-70d6-4411-8918-a9f5c7574b80",
   "metadata": {},
   "outputs": [
    {
     "name": "stdout",
     "output_type": "stream",
     "text": [
      "Creating new Ledger\n"
     ]
    }
   ],
   "source": [
    "from syft.core.adp.data_subject_ledger import DataSubjectLedger\n",
    "from syft.core.adp.ledger_store import DictLedgerStore\n",
    "from typing import Any\n",
    "\n",
    "ledger_store = DictLedgerStore()\n",
    "user_key = b\"1231\"\n",
    "ledger = DataSubjectLedger.get_or_create(store=ledger_store, user_key=user_key)\n",
    "\n",
    "def get_budget_for_user(*args: Any, **kwargs: Any) -> float:\n",
    "    return 999999\n",
    "\n",
    "def deduct_epsilon_for_user(*args: Any, **kwargs: Any) -> bool:\n",
    "    return True"
   ]
  },
  {
   "cell_type": "code",
   "execution_count": 3,
   "id": "65764c31-5020-48cc-b32e-488a32c47601",
   "metadata": {},
   "outputs": [],
   "source": [
    "test = DataSubject(name=\"Test\")\n",
    "test2 = DataSubject(name=\"Test2\")"
   ]
  },
  {
   "cell_type": "code",
   "execution_count": 4,
   "id": "d981e9a7-c381-4cc0-bcb1-a38ef304f2ee",
   "metadata": {},
   "outputs": [],
   "source": [
    "from syft.core.tensor.autodp.phi_tensor import PhiTensor"
   ]
  },
  {
   "cell_type": "code",
   "execution_count": 5,
   "id": "94283423-ef2c-49f3-b737-9485b4d0966c",
   "metadata": {},
   "outputs": [],
   "source": [
    "# 8-bit integers\n",
    "L = -128\n",
    "U = 127"
   ]
  },
  {
   "cell_type": "code",
   "execution_count": 6,
   "id": "9867681f-f035-4526-8609-abab8e7e4b64",
   "metadata": {},
   "outputs": [],
   "source": [
    "n = 5"
   ]
  },
  {
   "cell_type": "code",
   "execution_count": 84,
   "id": "f683d45b-9482-4195-b99b-2bc50042ebbd",
   "metadata": {},
   "outputs": [],
   "source": [
    "tensor1 = PhiTensor(np.ones(n, dtype=np.int8), min_vals=1, max_vals=1, data_subjects= [test] * n)\n",
    "tensor2 = PhiTensor(U*np.ones(n, dtype=np.int8), min_vals=U, max_vals=U, data_subjects= [test2] * n)"
   ]
  },
  {
   "cell_type": "code",
   "execution_count": 80,
   "id": "37518afb-2188-4afa-b74f-343975cf3335",
   "metadata": {},
   "outputs": [],
   "source": [
    "tensor_sum = tensor1 + tensor2"
   ]
  },
  {
   "cell_type": "code",
   "execution_count": 82,
   "id": "a3479ac1-2fc4-4b4f-aa0c-14bf77e895f4",
   "metadata": {},
   "outputs": [
    {
     "data": {
      "text/plain": [
       "dtype('int64')"
      ]
     },
     "execution_count": 82,
     "metadata": {},
     "output_type": "execute_result"
    }
   ],
   "source": [
    "tensor_sum.dtype"
   ]
  },
  {
   "cell_type": "code",
   "execution_count": 77,
   "id": "0b6bdf1e-ff75-46cc-8860-27b3a3bc6677",
   "metadata": {},
   "outputs": [
    {
     "name": "stderr",
     "output_type": "stream",
     "text": [
      "100%|██████████████████████████████████████████████████████████████████████████████████████████████| 2/2 [00:00<00:00, 202.37it/s]"
     ]
    },
    {
     "name": "stdout",
     "output_type": "stream",
     "text": [
      "Epsilon spend  [nan nan nan nan nan]\n",
      "Highest possible spend  nan\n",
      "Epsilon spend  [nan nan nan nan nan]\n",
      "Highest possible spend  nan\n",
      "We have filtered all the input tensors. Now to compute the result:\n",
      "Filtered inputs  [array([65536, 65536, 65536, 65536, 65536]), array([-65536, -65536, -65536, -65536, -65536])]\n",
      "original output (before noise: [0. 0. 0. 0. 0.]\n",
      "noise:  [-0.04644206  0.13472507 -1.13558716  0.25197183 -0.49519187]\n",
      "got output <class 'numpy.ndarray'> float64\n"
     ]
    },
    {
     "name": "stderr",
     "output_type": "stream",
     "text": [
      "\n"
     ]
    }
   ],
   "source": [
    "result_sum = tensor_sum.publish(get_budget_for_user=get_budget_for_user,\n",
    "                                deduct_epsilon_for_user=deduct_epsilon_for_user,\n",
    "                                ledger=ledger,\n",
    "                                sigma=1\n",
    "                                )"
   ]
  },
  {
   "cell_type": "code",
   "execution_count": 78,
   "id": "22d649a8-dc15-4d01-bb36-c20ada1aa323",
   "metadata": {},
   "outputs": [
    {
     "data": {
      "text/plain": [
       "array([-0.04644206,  0.13472507, -1.13558716,  0.25197183, -0.49519187])"
      ]
     },
     "execution_count": 78,
     "metadata": {},
     "output_type": "execute_result"
    }
   ],
   "source": [
    "result_sum"
   ]
  },
  {
   "cell_type": "code",
   "execution_count": 99,
   "id": "21698741-6101-4613-8d75-cc6eb274e530",
   "metadata": {},
   "outputs": [],
   "source": [
    "tensor1 = PhiTensor(np.ones(n, dtype=np.int8), min_vals=1, max_vals=1, data_subjects= [test] * n)\n",
    "tensor2 = PhiTensor(U*np.ones(n, dtype=np.int8), min_vals=U, max_vals=U, data_subjects= [test2] * n)\n",
    "tensor_sum = tensor1 + tensor2"
   ]
  },
  {
   "cell_type": "code",
   "execution_count": 100,
   "id": "062b4943-a214-41cb-a3fe-f39d8700265a",
   "metadata": {},
   "outputs": [
    {
     "data": {
      "text/plain": [
       "dtype('int64')"
      ]
     },
     "execution_count": 100,
     "metadata": {},
     "output_type": "execute_result"
    }
   ],
   "source": [
    "tensor_sum.dtype"
   ]
  },
  {
   "cell_type": "code",
   "execution_count": 101,
   "id": "59d2cc8a-c6fe-4a59-87e5-ae18f9c5dfde",
   "metadata": {},
   "outputs": [
    {
     "name": "stderr",
     "output_type": "stream",
     "text": [
      "100%|██████████████████████████████████████████████████████████████████████████████████████████████| 2/2 [00:00<00:00, 201.72it/s]"
     ]
    },
    {
     "name": "stdout",
     "output_type": "stream",
     "text": [
      "Epsilon spend  [nan nan nan nan nan]\n",
      "Highest possible spend  nan\n",
      "Epsilon spend  [nan nan nan nan nan]\n",
      "Highest possible spend  nan\n",
      "We have filtered all the input tensors. Now to compute the result:\n",
      "Filtered inputs  [array([65536, 65536, 65536, 65536, 65536]), array([-65536, -65536, -65536, -65536, -65536])]\n",
      "original output (before noise: [0. 0. 0. 0. 0.]\n",
      "noise:  [-0.83394128 -0.76187168  0.9130962  -0.343097    0.99359776]\n",
      "got output <class 'numpy.ndarray'> float64\n"
     ]
    },
    {
     "name": "stderr",
     "output_type": "stream",
     "text": [
      "\n"
     ]
    }
   ],
   "source": [
    "result_sum = tensor_sum.publish(get_budget_for_user=get_budget_for_user,\n",
    "                                deduct_epsilon_for_user=deduct_epsilon_for_user,\n",
    "                                ledger=ledger,\n",
    "                                sigma=1\n",
    "                                )"
   ]
  },
  {
   "cell_type": "code",
   "execution_count": 102,
   "id": "4014a72f-dffb-4ec8-8783-753ed8e9a4c5",
   "metadata": {},
   "outputs": [
    {
     "data": {
      "text/plain": [
       "array([-0.83394128, -0.76187168,  0.9130962 , -0.343097  ,  0.99359776])"
      ]
     },
     "execution_count": 102,
     "metadata": {},
     "output_type": "execute_result"
    }
   ],
   "source": [
    "result_sum"
   ]
  },
  {
   "cell_type": "code",
   "execution_count": 185,
   "id": "96ce6ca1-afd2-4605-b30f-962fad30539f",
   "metadata": {},
   "outputs": [],
   "source": [
    "# 64-bit integers\n",
    "L = -(2**63)\n",
    "U = 2**63 - 1"
   ]
  },
  {
   "cell_type": "code",
   "execution_count": 187,
   "id": "e7b233e4-d41c-4757-9490-b281de02f2ce",
   "metadata": {},
   "outputs": [],
   "source": [
    "n = 5"
   ]
  },
  {
   "cell_type": "code",
   "execution_count": 188,
   "id": "f9933fd4-9829-4f11-8191-dcc60534502e",
   "metadata": {},
   "outputs": [
    {
     "data": {
      "text/plain": [
       "9223372036854775807"
      ]
     },
     "execution_count": 188,
     "metadata": {},
     "output_type": "execute_result"
    }
   ],
   "source": [
    "np.iinfo(np.dtype('int64')).max"
   ]
  },
  {
   "cell_type": "code",
   "execution_count": 189,
   "id": "8005acb1-15e4-4c63-b958-752cfd5d25c3",
   "metadata": {},
   "outputs": [],
   "source": [
    "tensor1 = PhiTensor(np.ones(n, dtype=np.int64), min_vals=1, max_vals=1, data_subjects=[test] * n)\n",
    "tensor2 = PhiTensor(np.full(n, U, dtype=np.int64), min_vals=U, max_vals=U, data_subjects=[test] * n)\n",
    "tensor_sum = tensor1 + tensor2"
   ]
  },
  {
   "cell_type": "code",
   "execution_count": 193,
   "id": "5329fb3a-1b76-4336-b0de-ae5fd4b9db48",
   "metadata": {},
   "outputs": [
    {
     "data": {
      "text/plain": [
       "PhiTensor(child=FixedPrecisionTensor(child=[0 0 0 0 0]), min_vals=<lazyrepeatarray data: -9223372036854775808 -> shape: (5,)>, max_vals=<lazyrepeatarray data: -9223372036854775808 -> shape: (5,)>)"
      ]
     },
     "execution_count": 193,
     "metadata": {},
     "output_type": "execute_result"
    }
   ],
   "source": [
    "tensor_sum"
   ]
  },
  {
   "cell_type": "code",
   "execution_count": 194,
   "id": "011d345f-43fd-45a6-b1d4-a0970a4dfae5",
   "metadata": {},
   "outputs": [
    {
     "name": "stdout",
     "output_type": "stream",
     "text": [
      "PUBLISHING TO GAMMA:\n",
      "FixedPrecisionTensor(child=[0 0 0 0 0])\n"
     ]
    },
    {
     "name": "stderr",
     "output_type": "stream",
     "text": [
      "100%|███████████████████████████████████████████████████████████████████████████████████████████████| 1/1 [00:00<00:00, 23.06it/s]"
     ]
    },
    {
     "name": "stdout",
     "output_type": "stream",
     "text": [
      "Epsilon spend  [696219.831434 696219.831434 696219.831434 696219.831434 696219.831434]\n",
      "Highest possible spend  696219.8314340019\n",
      "Attemping to spend epsilon: 696219.8314340019. Try: 0\n",
      "got user budget 999999.0 epsilon_spent 696219.8314340019\n",
      "We have filtered all the input tensors. Now to compute the result:\n",
      "Filtered inputs  [array([0, 0, 0, 0, 0])]\n",
      "original output (before noise: [[0 0 0 0 0]]\n",
      "noise:  [[-0.11098883 -0.30177045  1.2468398   0.37408938 -0.52528706]]\n",
      "Noise after FPT [[ -7273 -19776  81712  24516 -34425]]\n",
      "got output <class 'numpy.ndarray'> int64\n",
      "Final FPT Values FixedPrecisionTensor(child=[ -7273 -19776  81712  24516 -34425])\n"
     ]
    },
    {
     "name": "stderr",
     "output_type": "stream",
     "text": [
      "\n"
     ]
    }
   ],
   "source": [
    "result_sum = tensor_sum.publish(get_budget_for_user=get_budget_for_user,\n",
    "                                deduct_epsilon_for_user=deduct_epsilon_for_user,\n",
    "                                ledger=ledger,\n",
    "                                sigma=1\n",
    "                                )"
   ]
  },
  {
   "cell_type": "code",
   "execution_count": 195,
   "id": "51d36999-3a14-4dc0-8d91-cd9ceedb8580",
   "metadata": {},
   "outputs": [
    {
     "data": {
      "text/plain": [
       "FixedPrecisionTensor(child=[ -7273 -19776  81712  24516 -34425])"
      ]
     },
     "execution_count": 195,
     "metadata": {},
     "output_type": "execute_result"
    }
   ],
   "source": [
    "result_sum"
   ]
  },
  {
   "cell_type": "markdown",
   "id": "4f052355-c72f-467d-81d9-1d8f57e75efb",
   "metadata": {},
   "source": [
    "The above overflow can be prevented if the lenght of the dataset ($u$) is known to the data analyst. The direct check is that the blow up cannot occur if:\n",
    "$maxVal * len(u) \\leq U$ \\\n",
    "$minVal * len(u) \\geq L$"
   ]
  },
  {
   "cell_type": "markdown",
   "id": "215924ef-ce8c-4c5a-bd7e-b8e1169d1002",
   "metadata": {},
   "source": [
    "The above method won't work for the floating-point arithmetic due to rounding effect."
   ]
  },
  {
   "cell_type": "code",
   "execution_count": 198,
   "id": "5cf8a7e8-0f82-4cc2-99c0-8cf0df0f4c0a",
   "metadata": {},
   "outputs": [],
   "source": [
    "tensor1 = PhiTensor(np.ones(n, dtype=np.float64), min_vals=1, max_vals=1, data_subjects=[test] * n)\n",
    "tensor2 = PhiTensor(np.full(n, U - 1, dtype=np.float64), min_vals=U-1, max_vals=U-1, data_subjects=[test] * n)\n",
    "tensor_sum = tensor1 + tensor2"
   ]
  },
  {
   "cell_type": "code",
   "execution_count": 199,
   "id": "a9cf64ac-106f-4c16-88c3-9f5bb30c685b",
   "metadata": {},
   "outputs": [
    {
     "data": {
      "text/plain": [
       "PhiTensor(child=FixedPrecisionTensor(child=[-9223372036854710272 -9223372036854710272 -9223372036854710272\n",
       " -9223372036854710272 -9223372036854710272]), min_vals=<lazyrepeatarray data: 9223372036854775807 -> shape: (5,)>, max_vals=<lazyrepeatarray data: 9223372036854775807 -> shape: (5,)>)"
      ]
     },
     "execution_count": 199,
     "metadata": {},
     "output_type": "execute_result"
    }
   ],
   "source": [
    "tensor_sum"
   ]
  },
  {
   "cell_type": "code",
   "execution_count": 200,
   "id": "c1d39863-2610-4842-b61a-b5bebfa3d509",
   "metadata": {},
   "outputs": [
    {
     "name": "stdout",
     "output_type": "stream",
     "text": [
      "PUBLISHING TO GAMMA:\n",
      "FixedPrecisionTensor(child=[-9223372036854710272 -9223372036854710272 -9223372036854710272\n",
      " -9223372036854710272 -9223372036854710272])\n"
     ]
    },
    {
     "name": "stderr",
     "output_type": "stream",
     "text": [
      "100%|███████████████████████████████████████████████████████████████████████████████████████████████| 1/1 [00:00<00:00, 85.24it/s]"
     ]
    },
    {
     "name": "stdout",
     "output_type": "stream",
     "text": [
      "Epsilon spend  [nan nan nan nan nan]\n",
      "Highest possible spend  nan\n",
      "We have filtered all the input tensors. Now to compute the result:\n",
      "Filtered inputs  [array([-9223372036854710272, -9223372036854710272, -9223372036854710272,\n",
      "       -9223372036854710272, -9223372036854710272])]\n",
      "original output (before noise: [[-9223372036854710272 -9223372036854710272 -9223372036854710272\n",
      "  -9223372036854710272 -9223372036854710272]]\n",
      "noise:  [[-1.26746132  2.53592956 -0.51710111 -1.60698546 -0.56351634]]\n",
      "Noise after FPT [[ -83064  166194  -33888 -105315  -36930]]\n",
      "got output <class 'numpy.ndarray'> int64\n",
      "Final FPT Values FixedPrecisionTensor(child=[ 9223372036854758280 -9223372036854544078 -9223372036854744160\n",
      "  9223372036854736029 -9223372036854747202])\n"
     ]
    },
    {
     "name": "stderr",
     "output_type": "stream",
     "text": [
      "\n"
     ]
    }
   ],
   "source": [
    "result_sum = tensor_sum.publish(get_budget_for_user=get_budget_for_user,\n",
    "                                deduct_epsilon_for_user=deduct_epsilon_for_user,\n",
    "                                ledger=ledger,\n",
    "                                sigma=1\n",
    "                                )"
   ]
  },
  {
   "cell_type": "code",
   "execution_count": 205,
   "id": "fcba5b5c-68e9-479c-a873-93f98892e747",
   "metadata": {},
   "outputs": [
    {
     "data": {
      "text/plain": [
       "array([ 1.40737488e+14, -1.40737488e+14, -1.40737488e+14,  1.40737488e+14,\n",
       "       -1.40737488e+14])"
      ]
     },
     "execution_count": 205,
     "metadata": {},
     "output_type": "execute_result"
    }
   ],
   "source": [
    "result_sum.decode()"
   ]
  },
  {
   "cell_type": "code",
   "execution_count": null,
   "id": "04af405d-fe2a-403b-a550-a3323ebc9112",
   "metadata": {},
   "outputs": [],
   "source": []
  }
 ],
 "metadata": {
  "kernelspec": {
   "display_name": "Python 3 (ipykernel)",
   "language": "python",
   "name": "python3"
  },
  "language_info": {
   "codemirror_mode": {
    "name": "ipython",
    "version": 3
   },
   "file_extension": ".py",
   "mimetype": "text/x-python",
   "name": "python",
   "nbconvert_exporter": "python",
   "pygments_lexer": "ipython3",
   "version": "3.9.12"
  }
 },
 "nbformat": 4,
 "nbformat_minor": 5
}
