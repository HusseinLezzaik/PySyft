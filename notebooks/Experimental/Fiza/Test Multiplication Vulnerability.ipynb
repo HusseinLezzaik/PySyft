{
 "cells": [
  {
   "cell_type": "code",
   "execution_count": 13,
   "id": "c3f2f557-b2da-4634-ac10-38d1e40cb160",
   "metadata": {},
   "outputs": [],
   "source": [
    "import syft as sy\n",
    "import numpy as np\n",
    "from syft.core.adp.data_subject import DataSubject"
   ]
  },
  {
   "cell_type": "code",
   "execution_count": 14,
   "id": "7079c52c-70d6-4411-8918-a9f5c7574b80",
   "metadata": {},
   "outputs": [
    {
     "name": "stdout",
     "output_type": "stream",
     "text": [
      "Creating new Ledger\n"
     ]
    }
   ],
   "source": [
    "from syft.core.adp.data_subject_ledger import DataSubjectLedger\n",
    "from syft.core.adp.ledger_store import DictLedgerStore\n",
    "from typing import Any\n",
    "\n",
    "ledger_store = DictLedgerStore()\n",
    "user_key = b\"1231\"\n",
    "ledger = DataSubjectLedger.get_or_create(store=ledger_store, user_key=user_key)\n",
    "\n",
    "def get_budget_for_user(*args: Any, **kwargs: Any) -> float:\n",
    "    return 999999\n",
    "\n",
    "def deduct_epsilon_for_user(*args: Any, **kwargs: Any) -> bool:\n",
    "    return True"
   ]
  },
  {
   "cell_type": "code",
   "execution_count": 15,
   "id": "65764c31-5020-48cc-b32e-488a32c47601",
   "metadata": {},
   "outputs": [],
   "source": [
    "test = DataSubject(name=\"Test\")\n",
    "test2 = DataSubject(name=\"Test2\")"
   ]
  },
  {
   "cell_type": "code",
   "execution_count": 16,
   "id": "d981e9a7-c381-4cc0-bcb1-a38ef304f2ee",
   "metadata": {},
   "outputs": [],
   "source": [
    "from syft.core.tensor.autodp.phi_tensor import PhiTensor"
   ]
  },
  {
   "cell_type": "markdown",
   "id": "bfabe546-6196-48c6-a000-32b8fb6fa44b",
   "metadata": {},
   "source": [
    "Overflow due to multiplication of two float64 tensors"
   ]
  },
  {
   "cell_type": "code",
   "execution_count": 90,
   "id": "8de2f18c-f523-4315-a74f-660f1e8c8330",
   "metadata": {},
   "outputs": [
    {
     "name": "stderr",
     "output_type": "stream",
     "text": [
      "/Users/fizahusain/Desktop/adp/PySyft/packages/syft/src/syft/core/tensor/fixed_precision_tensor.py:55: RuntimeWarning: overflow encountered in multiply\n",
      "  encoded_value = np.array(self._scale * value, DEFAULT_INT_NUMPY_TYPE)\n"
     ]
    }
   ],
   "source": [
    "tensor1 = PhiTensor(np.array([1.5e+308], dtype=np.float64), min_vals=0, max_vals=1e7, data_subjects=[test] * n)\n",
    "tensor2 = PhiTensor(np.array([1.5e+308], dtype=np.float64), min_vals=0, max_vals=1e7, data_subjects=[test] * n)\n",
    "tensor_mul = tensor1 * tensor2"
   ]
  },
  {
   "cell_type": "code",
   "execution_count": 91,
   "id": "554cc46f-cd60-4720-a3ed-abedde40c066",
   "metadata": {},
   "outputs": [
    {
     "name": "stdout",
     "output_type": "stream",
     "text": [
      "PUBLISHING TO GAMMA:\n",
      "FixedPrecisionTensor(child=[0])\n"
     ]
    },
    {
     "name": "stderr",
     "output_type": "stream",
     "text": [
      "100%|███████████████████████████████████████████████████████████████████████████████████████████████████████████████████| 1/1 [00:00<00:00, 168.51it/s]"
     ]
    },
    {
     "name": "stdout",
     "output_type": "stream",
     "text": [
      "Epsilon spend  [696219.831434]\n",
      "Highest possible spend  696219.8314340019\n",
      "Attemping to spend epsilon: 696219.8314340019. Try: 0\n",
      "got user budget 999999.0 epsilon_spent 696219.8314340019\n",
      "We have filtered all the input tensors. Now to compute the result:\n",
      "Filtered inputs  [array([0])]\n",
      "original output (before noise: [[0]]\n",
      "noise:  [[-1.24482601]]\n",
      "Noise after FPT [[-81580]]\n",
      "got output <class 'numpy.ndarray'> int64\n",
      "Final FPT Values FixedPrecisionTensor(child=-81580)\n"
     ]
    },
    {
     "name": "stderr",
     "output_type": "stream",
     "text": [
      "\n"
     ]
    }
   ],
   "source": [
    "result_mul = tensor_mul.publish(get_budget_for_user=get_budget_for_user,\n",
    "                                deduct_epsilon_for_user=deduct_epsilon_for_user,\n",
    "                                ledger=ledger,\n",
    "                                sigma=1\n",
    "                                )"
   ]
  },
  {
   "cell_type": "code",
   "execution_count": 92,
   "id": "d1484de9-cde1-479d-ab04-0d362d9c8148",
   "metadata": {},
   "outputs": [
    {
     "data": {
      "text/plain": [
       "-1.24481201171875"
      ]
     },
     "execution_count": 92,
     "metadata": {},
     "output_type": "execute_result"
    }
   ],
   "source": [
    "result_mul.decode()"
   ]
  },
  {
   "cell_type": "code",
   "execution_count": 93,
   "id": "bc79b986-fa2c-43a1-8294-4a1f98e18575",
   "metadata": {},
   "outputs": [],
   "source": [
    "tensor1 = PhiTensor(np.array([3.4e+38], dtype=np.float32), min_vals=0, max_vals=3.4e+38, data_subjects=[test] * n)\n",
    "tensor2 = PhiTensor(np.array([3.4e+38], dtype=np.float32), min_vals=0, max_vals=3.4e+38, data_subjects=[test] * n)\n",
    "tensor_mul = tensor1 * tensor2"
   ]
  },
  {
   "cell_type": "code",
   "execution_count": 95,
   "id": "218267a1-63ff-42fe-acca-8c1ee1a03e52",
   "metadata": {},
   "outputs": [
    {
     "name": "stdout",
     "output_type": "stream",
     "text": [
      "PUBLISHING TO GAMMA:\n",
      "FixedPrecisionTensor(child=0)\n"
     ]
    },
    {
     "name": "stderr",
     "output_type": "stream",
     "text": [
      "100%|███████████████████████████████████████████████████████████████████████████████████████████████████████████████████| 1/1 [00:00<00:00, 172.17it/s]"
     ]
    },
    {
     "name": "stdout",
     "output_type": "stream",
     "text": [
      "Epsilon spend  [696219.831434]\n",
      "Highest possible spend  696219.8314340019\n",
      "Attemping to spend epsilon: 696219.8314340019. Try: 0\n",
      "got user budget 999999.0 epsilon_spent 696219.8314340019\n",
      "We have filtered all the input tensors. Now to compute the result:\n",
      "Filtered inputs  [0]\n",
      "original output (before noise: [0]\n",
      "noise:  [-0.4780571]\n",
      "Noise after FPT [-31329]\n",
      "got output <class 'numpy.ndarray'> int64\n",
      "Final FPT Values FixedPrecisionTensor(child=-31329)\n"
     ]
    },
    {
     "name": "stderr",
     "output_type": "stream",
     "text": [
      "\n"
     ]
    }
   ],
   "source": [
    "result_mul = tensor_mul.publish(get_budget_for_user=get_budget_for_user,\n",
    "                                deduct_epsilon_for_user=deduct_epsilon_for_user,\n",
    "                                ledger=ledger,\n",
    "                                sigma=1\n",
    "                                )"
   ]
  },
  {
   "cell_type": "code",
   "execution_count": 96,
   "id": "25347f1f-f1c2-4319-a9af-d6407035d9ac",
   "metadata": {},
   "outputs": [
    {
     "data": {
      "text/plain": [
       "-0.4780426025390625"
      ]
     },
     "execution_count": 96,
     "metadata": {},
     "output_type": "execute_result"
    }
   ],
   "source": [
    "result_mul.decode()"
   ]
  },
  {
   "cell_type": "markdown",
   "id": "967e73ab-8009-4759-8456-e2ee89d2b18e",
   "metadata": {},
   "source": [
    "We need to upcast the tensors to float64 before multiplying as it's overflowing the range of float32."
   ]
  },
  {
   "cell_type": "code",
   "execution_count": null,
   "id": "9ff0c4bf-44ec-4fe4-92db-821e7a7983c0",
   "metadata": {},
   "outputs": [],
   "source": []
  }
 ],
 "metadata": {
  "kernelspec": {
   "display_name": "Python 3 (ipykernel)",
   "language": "python",
   "name": "python3"
  },
  "language_info": {
   "codemirror_mode": {
    "name": "ipython",
    "version": 3
   },
   "file_extension": ".py",
   "mimetype": "text/x-python",
   "name": "python",
   "nbconvert_exporter": "python",
   "pygments_lexer": "ipython3",
   "version": "3.9.12"
  }
 },
 "nbformat": 4,
 "nbformat_minor": 5
}
