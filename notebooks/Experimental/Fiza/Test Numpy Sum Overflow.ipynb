{
 "cells": [
  {
   "cell_type": "code",
   "execution_count": 1,
   "id": "cd570b8b-a3b8-4971-a3b7-d0bb72cf3548",
   "metadata": {},
   "outputs": [],
   "source": [
    "import numpy as np"
   ]
  },
  {
   "cell_type": "code",
   "execution_count": 5,
   "id": "8c2050a0-1aa4-4429-86f0-d80eca11ae1d",
   "metadata": {},
   "outputs": [],
   "source": [
    "# (8-bit Signed Integers)\n",
    "L = 2**7\n",
    "U = (2**7) - 1"
   ]
  },
  {
   "cell_type": "code",
   "execution_count": 6,
   "id": "09d9e8e9-6fc0-43a5-9f3d-97316e95f123",
   "metadata": {},
   "outputs": [],
   "source": [
    "# Size of the array\n",
    "n = 2**7"
   ]
  },
  {
   "cell_type": "code",
   "execution_count": 21,
   "id": "be670465-3495-41ac-9527-5a6fa8e65bc1",
   "metadata": {},
   "outputs": [],
   "source": [
    "# should lead to overflow\n",
    "array_sum = np.ones(n, dtype=np.int8).sum()"
   ]
  },
  {
   "cell_type": "code",
   "execution_count": 22,
   "id": "1e0366d7-fd3f-4825-8f76-3bfd237393ef",
   "metadata": {},
   "outputs": [
    {
     "data": {
      "text/plain": [
       "128"
      ]
     },
     "execution_count": 22,
     "metadata": {},
     "output_type": "execute_result"
    }
   ],
   "source": [
    "array_sum"
   ]
  },
  {
   "cell_type": "markdown",
   "id": "fc790fa4-8ab5-4467-8ea7-692cc6243b0b",
   "metadata": {},
   "source": [
    "Numpy causes an upcast to 64 bits"
   ]
  },
  {
   "cell_type": "code",
   "execution_count": 23,
   "id": "fce16249-5883-4ac4-998b-28c1b21aa25d",
   "metadata": {},
   "outputs": [
    {
     "data": {
      "text/plain": [
       "dtype('int64')"
      ]
     },
     "execution_count": 23,
     "metadata": {},
     "output_type": "execute_result"
    }
   ],
   "source": [
    "array_sum.dtype"
   ]
  },
  {
   "cell_type": "code",
   "execution_count": 17,
   "id": "26553cb5-2a04-4505-8adc-96b2fc994e71",
   "metadata": {},
   "outputs": [
    {
     "name": "stderr",
     "output_type": "stream",
     "text": [
      "/var/folders/wj/8nx2_m391gs16rmltrmw42jm0000gn/T/ipykernel_2055/326073416.py:2: RuntimeWarning: overflow encountered in ubyte_scalars\n",
      "  np.uint8(0) - np.uint8(1)\n"
     ]
    },
    {
     "data": {
      "text/plain": [
       "255"
      ]
     },
     "execution_count": 17,
     "metadata": {},
     "output_type": "execute_result"
    }
   ],
   "source": [
    "# Overflow warning for scalars \n",
    "np.uint8(0) - np.uint8(1)"
   ]
  },
  {
   "cell_type": "code",
   "execution_count": 20,
   "id": "fa38b131-4812-4cd1-83ab-970d98079f41",
   "metadata": {},
   "outputs": [
    {
     "data": {
      "text/plain": [
       "255"
      ]
     },
     "execution_count": 20,
     "metadata": {},
     "output_type": "execute_result"
    }
   ],
   "source": [
    "# no overflow warning for arrays\n",
    "np.uint8(0)[...] - np.uint8(1)[...]"
   ]
  },
  {
   "cell_type": "code",
   "execution_count": null,
   "id": "34497974-86e3-4df2-8f3b-e74d9bb22985",
   "metadata": {},
   "outputs": [],
   "source": []
  }
 ],
 "metadata": {
  "kernelspec": {
   "display_name": "Python 3 (ipykernel)",
   "language": "python",
   "name": "python3"
  },
  "language_info": {
   "codemirror_mode": {
    "name": "ipython",
    "version": 3
   },
   "file_extension": ".py",
   "mimetype": "text/x-python",
   "name": "python",
   "nbconvert_exporter": "python",
   "pygments_lexer": "ipython3",
   "version": "3.9.12"
  }
 },
 "nbformat": 4,
 "nbformat_minor": 5
}
