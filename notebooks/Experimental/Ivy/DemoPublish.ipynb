{
 "cells": [
  {
   "cell_type": "code",
   "execution_count": 1,
   "id": "9a4b66c0-2ed2-49e0-baf0-65f381563e22",
   "metadata": {},
   "outputs": [
    {
     "name": "stderr",
     "output_type": "stream",
     "text": [
      "/home/azureuser/anaconda3/envs/syft_env/lib/python3.9/site-packages/tqdm/auto.py:22: TqdmWarning: IProgress not found. Please update jupyter and ipywidgets. See https://ipywidgets.readthedocs.io/en/stable/user_install.html\n",
      "  from .autonotebook import tqdm as notebook_tqdm\n"
     ]
    },
    {
     "data": {
      "text/plain": [
       "(dict_keys(['435038522', '2020355694']), array(0))"
      ]
     },
     "execution_count": 1,
     "metadata": {},
     "output_type": "execute_result"
    }
   ],
   "source": [
    "import syft as sy\n",
    "import numpy as np\n",
    "from syft import phi_tensor\n",
    "\n",
    "data1 = np.random.random((5,5))\n",
    "data2 = np.random.random((5,5))\n",
    "\n",
    "tensor1 = phi_tensor.PhiTensor(child=data1, data_subjects=1, min_vals=0, max_vals=1)\n",
    "tensor2 = phi_tensor.PhiTensor(child=data2, data_subjects=2, min_vals=0, max_vals=1)\n",
    "gt = tensor1 + tensor2\n",
    "gt.state.keys(), gt.data_subjects.data_subjects_indexed"
   ]
  },
  {
   "cell_type": "code",
   "execution_count": 2,
   "id": "e90d93d0-289e-4fbd-a215-31a706317d06",
   "metadata": {},
   "outputs": [
    {
     "name": "stderr",
     "output_type": "stream",
     "text": [
      "WARNING:absl:No GPU/TPU found, falling back to CPU. (Set TF_CPP_MIN_LOG_LEVEL=0 and rerun for more info.)\n"
     ]
    },
    {
     "name": "stdout",
     "output_type": "stream",
     "text": [
      "{}\n",
      "Creating new Ledger\n",
      "SIGMA TYPES:  <class 'float'>\n",
      "SIGMA TYPE2:  <class 'float'>\n",
      "0.1\n",
      "BOUND SIGMA TYPE:  <class 'float'>\n",
      "SIGMA TYPE3:  <class 'jaxlib.xla_extension.DeviceArray'>\n",
      "CALIBRATE SIGMA TYPE:  48331.088069688645\n"
     ]
    },
    {
     "name": "stderr",
     "output_type": "stream",
     "text": [
      "  0%|          | 0/2 [00:00<?, ?it/s]/home/azureuser/anaconda3/envs/syft_env/lib/python3.9/site-packages/jax/interpreters/mlir.py:512: UserWarning: Some donated buffers were not usable: ShapedArray(float64[25]), ShapedArray(int64[]).\n",
      "Donation is not implemented for cpu.\n",
      "See an explanation at https://jax.readthedocs.io/en/latest/faq.html#buffer-donation.\n",
      "  warnings.warn(f\"Some donated buffers were not usable: {', '.join(unused_donations)}.\\n{msg}\")\n",
      "100%|██████████| 2/2 [00:00<00:00, 19.83it/s]"
     ]
    },
    {
     "name": "stdout",
     "output_type": "stream",
     "text": [
      "48331.088069688645\n",
      "BOUND SIGMA TYPE:  <class 'numpy.float64'>\n",
      "constant:  [5.97467709 5.97467709 5.97467709 5.97467709 5.97467709 5.97467709\n",
      " 5.97467709 5.97467709 5.97467709 5.97467709 5.97467709 5.97467709\n",
      " 5.97467709 5.97467709 5.97467709 5.97467709 5.97467709 5.97467709\n",
      " 5.97467709 5.97467709 5.97467709 5.97467709 5.97467709 5.97467709\n",
      " 5.97467709]\n",
      "_rdp_constants:  [0. 0. 0. 0. 0. 0. 0. 0. 0. 0. 0. 0. 0. 0. 0. 0. 0. 0. 0. 0. 0. 0. 0. 0.\n",
      " 0.]\n",
      "entity ids query 0\n",
      "0\n",
      "Epsilon spend  [20.48602602 20.48602602 20.48602602 20.48602602 20.48602602 20.48602602\n",
      " 20.48602602 20.48602602 20.48602602 20.48602602 20.48602602 20.48602602\n",
      " 20.48602602 20.48602602 20.48602602 20.48602602 20.48602602 20.48602602\n",
      " 20.48602602 20.48602602 20.48602602 20.48602602 20.48602602 20.48602602\n",
      " 20.48602602]\n",
      "Highest possible spend  20.48602601969117\n",
      "Attemping to spend epsilon: 20.48602601969117. Try: 0\n",
      "got user budget 999999.0 epsilon_spent 20.48602601969117\n",
      "48331.088069688645\n",
      "BOUND SIGMA TYPE:  <class 'numpy.float64'>\n",
      "constant:  [9.05689967 9.05689967 9.05689967 9.05689967 9.05689967 9.05689967\n",
      " 9.05689967 9.05689967 9.05689967 9.05689967 9.05689967 9.05689967\n",
      " 9.05689967 9.05689967 9.05689967 9.05689967 9.05689967 9.05689967\n",
      " 9.05689967 9.05689967 9.05689967 9.05689967 9.05689967 9.05689967\n",
      " 9.05689967]\n",
      "_rdp_constants:  [5.97467709 0.         0.         0.         0.         0.\n",
      " 0.         0.         0.         0.         0.         0.\n",
      " 0.         0.         0.         0.         0.         0.\n",
      " 0.         0.         0.         0.         0.         0.\n",
      " 0.        ]\n",
      "entity ids query 0\n",
      "0\n",
      "Epsilon spend  [27.9412589 27.9412589 27.9412589 27.9412589 27.9412589 27.9412589\n",
      " 27.9412589 27.9412589 27.9412589 27.9412589 27.9412589 27.9412589\n",
      " 27.9412589 27.9412589 27.9412589 27.9412589 27.9412589 27.9412589\n",
      " 27.9412589 27.9412589 27.9412589 27.9412589 27.9412589 27.9412589\n",
      " 27.9412589]\n",
      "Highest possible spend  27.941258900226977\n",
      "Attemping to spend epsilon: 27.941258900226977. Try: 0\n",
      "got user budget 999999.0 epsilon_spent 27.941258900226977\n",
      "We have filtered all the input tensors. Now to compute the result:\n",
      "Filtered inputs  [array([[53145, 49178, 21832,  2916,  7524],\n",
      "       [33425, 13438, 43110,  2289, 17352],\n",
      "       [42677, 37870, 46646, 56504,  3042],\n",
      "       [36305, 62303, 22172, 39930, 36215],\n",
      "       [ 7072, 29924, 18213, 11028,  5991]]), array([[35188, 54379, 41188, 53734, 58414],\n",
      "       [26425, 33908, 29681, 29903, 47324],\n",
      "       [17937, 43151,  7552, 16544, 27441],\n",
      "       [13447, 39258, 51315, 58518, 12049],\n",
      "       [52228, 56790, 62431, 51926, 22778]])]\n",
      "original output (before noise: [[ 88333 103557  63020  56650  65938]\n",
      " [ 59850  47346  72791  32192  64676]\n",
      " [ 60614  81021  54198  73048  30483]\n",
      " [ 49752 101561  73487  98448  48264]\n",
      " [ 59300  86714  80644  62954  28769]]\n",
      "noise:  [[ 0.00823647 -0.13355875 -0.18498495  0.03967096 -0.01191499]\n",
      " [-0.1943063   0.04683876  0.01938145 -0.01245873  0.17254879]\n",
      " [-0.08121144 -0.14061855 -0.07123363 -0.06317415  0.00909845]\n",
      " [-0.32961588 -0.24964199  0.13930548 -0.04555764 -0.2334682 ]\n",
      " [ 0.06724098  0.0828856  -0.0228935   0.03664494 -0.07562878]]\n",
      "got output <class 'numpy.ndarray'> float64\n"
     ]
    },
    {
     "name": "stderr",
     "output_type": "stream",
     "text": [
      "\n"
     ]
    }
   ],
   "source": [
    "from syft.core.adp.data_subject_ledger import DataSubjectLedger\n",
    "from syft.core.adp.ledger_store import DictLedgerStore\n",
    "from typing import Any\n",
    "\n",
    "ledger_store = DictLedgerStore()\n",
    "print(ledger_store.kv_store)\n",
    "user_key = b\"1231\"\n",
    "ledger = DataSubjectLedger.get_or_create(store=ledger_store, user_key=user_key)\n",
    "\n",
    "def get_budget_for_user(*args: Any, **kwargs: Any) -> float:\n",
    "    return 999999\n",
    "\n",
    "def deduct_epsilon_for_user(*args: Any, **kwargs: Any) -> bool:\n",
    "    return True\n",
    "\n",
    "results = gt.publish(\n",
    "    get_budget_for_user=get_budget_for_user,\n",
    "    deduct_epsilon_for_user=deduct_epsilon_for_user,\n",
    "    ledger=ledger,\n",
    "    sigma=0.1,\n",
    ")\n",
    "\n",
    "#SIGMA TYPE <class 'jax.interpreters.partial_eval.DynamicJaxprTracer'>\n"
   ]
  },
  {
   "cell_type": "code",
   "execution_count": null,
   "id": "71220f89-7f4f-4867-870e-90e135318417",
   "metadata": {},
   "outputs": [
    {
     "ename": "NameError",
     "evalue": "name 'results' is not defined",
     "output_type": "error",
     "traceback": [
      "\u001b[0;31m---------------------------------------------------------------------------\u001b[0m",
      "\u001b[0;31mNameError\u001b[0m                                 Traceback (most recent call last)",
      "\u001b[1;32m/home/azureuser/OpenMined/PySyft/notebooks/Experimental/Ivy/DemoPublish.ipynb Cell 4'\u001b[0m in \u001b[0;36m<cell line: 1>\u001b[0;34m()\u001b[0m\n\u001b[0;32m----> <a href='vscode-notebook-cell://ssh-remote%2B40.113.97.88/home/azureuser/OpenMined/PySyft/notebooks/Experimental/Ivy/DemoPublish.ipynb#ch0000015vscode-remote?line=0'>1</a>\u001b[0m results\n",
      "\u001b[0;31mNameError\u001b[0m: name 'results' is not defined"
     ]
    }
   ],
   "source": [
    "results"
   ]
  },
  {
   "cell_type": "code",
   "execution_count": null,
   "id": "2e33072c-2d51-4d43-ae10-ef0dfba242ad",
   "metadata": {},
   "outputs": [],
   "source": []
  },
  {
   "cell_type": "code",
   "execution_count": null,
   "id": "72a7ebc9-8d08-4834-ab44-e5b06fc47950",
   "metadata": {},
   "outputs": [],
   "source": []
  },
  {
   "cell_type": "code",
   "execution_count": null,
   "id": "feede733-1ec8-4472-b7d4-f93cfc2e2b2c",
   "metadata": {},
   "outputs": [],
   "source": [
    "A, B, C, D, E\n",
    "2, 3, 5, 11, 9\n",
    "9, 8, 7,  6, 5\n",
    "\n",
    "=max(2, 3, 5, 11, 9) = 11\n",
    "\n",
    "for the data scientist:\n",
    "original PB = 25\n",
    "final PB = 25 -11 = 14\n",
    "\n",
    "\n",
    "original PB = 10\n",
    "\n",
    "A, B, C, E\n",
    "3, 4, 6, 10.5\n",
    "\n",
    "A, B, C\n",
    "5, 6, 10\n",
    "\n",
    "A, B, C\n",
    "10.5, 10.5, 10.5\n",
    "\n",
    "result = (tensorA * 0+tensorB*0+tensorC *0+ tensorD *0+tensorE *0) = 0\n",
    "FINAL PUBLISHED RESULT = 0 + noise()\n",
    "\n",
    "\n",
    "original PB = 0\n",
    "result = (tensor A * 0+tensor B*0+tensor C *0+ tensor D *0+tensor E *0) = 0\n",
    "FINAL PUBLISHED RESULT = 0 + noise()"
   ]
  },
  {
   "cell_type": "code",
   "execution_count": null,
   "id": "ad1e2f54-b7db-4004-8237-1b5c7a938faa",
   "metadata": {},
   "outputs": [],
   "source": []
  },
  {
   "cell_type": "code",
   "execution_count": null,
   "id": "ecbe2969-c2b8-4925-8452-7d5719ad6e39",
   "metadata": {},
   "outputs": [],
   "source": []
  },
  {
   "cell_type": "code",
   "execution_count": null,
   "id": "67335019-8add-4601-8d42-db07f42cd45d",
   "metadata": {},
   "outputs": [],
   "source": []
  },
  {
   "cell_type": "code",
   "execution_count": null,
   "id": "da6b91a4-e1b9-4ab7-bccb-1acdde8727fe",
   "metadata": {},
   "outputs": [],
   "source": []
  },
  {
   "cell_type": "code",
   "execution_count": null,
   "id": "382c3f15-25d6-4af6-87f4-a9abc05e3d44",
   "metadata": {},
   "outputs": [],
   "source": []
  },
  {
   "cell_type": "code",
   "execution_count": 18,
   "id": "9f97bcd5-27b1-45b4-b06a-a3b986098f17",
   "metadata": {},
   "outputs": [
    {
     "name": "stdout",
     "output_type": "stream",
     "text": [
      "{}\n",
      "Creating new Ledger\n"
     ]
    },
    {
     "name": "stderr",
     "output_type": "stream",
     "text": [
      "100%|██████████████████████████████████████████████████████████████████████████████████████████████████████████████████████████| 2/2 [00:00<00:00, 210.20it/s]"
     ]
    },
    {
     "name": "stdout",
     "output_type": "stream",
     "text": [
      "constant:  [1.87939322e+12 1.87939322e+12 1.87939322e+12 1.87939322e+12\n",
      " 1.87939322e+12 1.87939322e+12 1.87939322e+12 1.87939322e+12\n",
      " 1.87939322e+12 1.87939322e+12 1.87939322e+12 1.87939322e+12\n",
      " 1.87939322e+12 1.87939322e+12 1.87939322e+12 1.87939322e+12\n",
      " 1.87939322e+12 1.87939322e+12 1.87939322e+12 1.87939322e+12\n",
      " 1.87939322e+12 1.87939322e+12 1.87939322e+12 1.87939322e+12\n",
      " 1.87939322e+12]\n",
      "_rdp_constants:  [0. 0. 0. 0. 0. 0. 0. 0. 0. 0. 0. 0. 0. 0. 0. 0. 0. 0. 0. 0. 0. 0. 0. 0.\n",
      " 0.]\n",
      "entity ids query 0\n",
      "0\n",
      "Epsilon spend  [706263.4037034 706263.4037034 706263.4037034 706263.4037034\n",
      " 706263.4037034 706263.4037034 706263.4037034 706263.4037034\n",
      " 706263.4037034 706263.4037034 706263.4037034 706263.4037034\n",
      " 706263.4037034 706263.4037034 706263.4037034 706263.4037034\n",
      " 706263.4037034 706263.4037034 706263.4037034 706263.4037034\n",
      " 706263.4037034 706263.4037034 706263.4037034 706263.4037034\n",
      " 706263.4037034]\n",
      "Highest possible spend  706263.403703397\n",
      "Attemping to spend epsilon: 706263.403703397. Try: 0\n",
      "got user budget 999999.0 epsilon_spent 706263.403703397\n",
      "constant:  [1.1072807e+12 1.1072807e+12 1.1072807e+12 1.1072807e+12 1.1072807e+12\n",
      " 1.1072807e+12 1.1072807e+12 1.1072807e+12 1.1072807e+12 1.1072807e+12\n",
      " 1.1072807e+12 1.1072807e+12 1.1072807e+12 1.1072807e+12 1.1072807e+12\n",
      " 1.1072807e+12 1.1072807e+12 1.1072807e+12 1.1072807e+12 1.1072807e+12\n",
      " 1.1072807e+12 1.1072807e+12 1.1072807e+12 1.1072807e+12 1.1072807e+12]\n",
      "_rdp_constants:  [1.87939322e+12 0.00000000e+00 0.00000000e+00 0.00000000e+00\n",
      " 0.00000000e+00 0.00000000e+00 0.00000000e+00 0.00000000e+00\n",
      " 0.00000000e+00 0.00000000e+00 0.00000000e+00 0.00000000e+00\n",
      " 0.00000000e+00 0.00000000e+00 0.00000000e+00 0.00000000e+00\n",
      " 0.00000000e+00 0.00000000e+00 0.00000000e+00 0.00000000e+00\n",
      " 0.00000000e+00 0.00000000e+00 0.00000000e+00 0.00000000e+00\n",
      " 0.00000000e+00]\n",
      "entity ids query 0\n",
      "0\n",
      "Epsilon spend  [706263.4037034 706263.4037034 706263.4037034 706263.4037034\n",
      " 706263.4037034 706263.4037034 706263.4037034 706263.4037034\n",
      " 706263.4037034 706263.4037034 706263.4037034 706263.4037034\n",
      " 706263.4037034 706263.4037034 706263.4037034 706263.4037034\n",
      " 706263.4037034 706263.4037034 706263.4037034 706263.4037034\n",
      " 706263.4037034 706263.4037034 706263.4037034 706263.4037034\n",
      " 706263.4037034]\n",
      "Highest possible spend  706263.403703397\n",
      "Attemping to spend epsilon: 706263.403703397. Try: 0\n",
      "got user budget 999999.0 epsilon_spent 706263.403703397\n",
      "We have filtered all the input tensors. Now to compute the result:\n",
      "Filtered inputs  [array([[53437, 47639, 28758, 43787,  1419],\n",
      "       [41817, 53123, 12785, 62606,  9878],\n",
      "       [15696,  3980, 37852,  7514, 21095],\n",
      "       [50945,  5819, 29485, 39013, 54391],\n",
      "       [60068, 34894,  4687, 42183, 64519]]), array([[29245,  6981, 10574, 46555, 19181],\n",
      "       [12311, 38195, 23998, 48734, 13009],\n",
      "       [34796, 26004, 46935, 22906, 52240],\n",
      "       [12957, 19144, 40420, 27797, 31339],\n",
      "       [40393,  9572, 18571,  4715, 22519]])]\n",
      "original output (before noise: [[ 82682  54620  39332  90342  20600]\n",
      " [ 54128  91318  36783 111340  22887]\n",
      " [ 50492  29984  84787  30420  73335]\n",
      " [ 63902  24963  69905  66810  85730]\n",
      " [100461  44466  23258  46898  87038]]\n",
      "noise:  [[ 0.05547074  0.05412301  0.12472631 -0.02810933  0.05079741]\n",
      " [ 0.0194011   0.00952129 -0.16940186 -0.06129883  0.09265425]\n",
      " [ 0.07496263  0.11647675  0.02638125 -0.09160855 -0.04226396]\n",
      " [ 0.23173197  0.1292464   0.13024618 -0.24831262  0.13123092]\n",
      " [ 0.02315883  0.08056475 -0.04306874 -0.03487821 -0.02510734]]\n",
      "got output <class 'numpy.ndarray'> float64\n"
     ]
    },
    {
     "name": "stderr",
     "output_type": "stream",
     "text": [
      "\n"
     ]
    }
   ],
   "source": [
    "from syft.core.adp.data_subject_ledger import DataSubjectLedger\n",
    "from syft.core.adp.ledger_store import DictLedgerStore\n",
    "from typing import Any\n",
    "\n",
    "ledger_store = DictLedgerStore()\n",
    "print(ledger_store.kv_store)\n",
    "user_key = b\"1231\"\n",
    "ledger = DataSubjectLedger.get_or_create(store=ledger_store, user_key=user_key)\n",
    "\n",
    "def get_budget_for_user(*args: Any, **kwargs: Any) -> float:\n",
    "    return 999999\n",
    "\n",
    "def deduct_epsilon_for_user(*args: Any, **kwargs: Any) -> bool:\n",
    "    return True1\n",
    "\n",
    "results = gt.publish(\n",
    "    get_budget_for_user=get_budget_for_user,\n",
    "    deduct_epsilon_for_user=deduct_epsilon_for_user,\n",
    "    ledger=ledger,\n",
    "    sigma=0.1,\n",
    ")"
   ]
  },
  {
   "cell_type": "code",
   "execution_count": 17,
   "id": "215dd8c3-cd4d-4c21-91b3-6153bfa411fc",
   "metadata": {},
   "outputs": [
    {
     "data": {
      "text/plain": [
       "array([[ 82682.03511865,  54619.92336243,  39331.86338343,\n",
       "         90342.04798676,  20599.91481106],\n",
       "       [ 54128.07964356,  91317.84092048,  36782.95007537,\n",
       "        111340.05484056,  22887.00490288],\n",
       "       [ 50491.89031715,  29983.99738918,  84786.94174147,\n",
       "         30420.0830253 ,  73334.69842561],\n",
       "       [ 63901.88906492,  24962.98950684,  69905.04419538,\n",
       "         66810.05647355,  85730.00126437],\n",
       "       [100461.09286965,  44466.12292999,  23257.8500503 ,\n",
       "         46898.03330597,  87037.93755717]])"
      ]
     },
     "execution_count": 17,
     "metadata": {},
     "output_type": "execute_result"
    }
   ],
   "source": [
    "results"
   ]
  },
  {
   "cell_type": "code",
   "execution_count": null,
   "id": "63f4cb18-46c5-4763-b945-ddb2e53e2fec",
   "metadata": {},
   "outputs": [],
   "source": []
  },
  {
   "cell_type": "code",
   "execution_count": 11,
   "id": "2033f365-cc9e-4765-849e-bc7120656ebc",
   "metadata": {},
   "outputs": [
    {
     "name": "stdout",
     "output_type": "stream",
     "text": [
      "The autoreload extension is already loaded. To reload it, use:\n",
      "  %reload_ext autoreload\n"
     ]
    }
   ],
   "source": [
    "# %limport importlib\n",
    "# importlib.reload(your_module)"
   ]
  },
  {
   "cell_type": "code",
   "execution_count": null,
   "id": "d60ed2db-d580-4d42-ad86-4f4b55ff890d",
   "metadata": {},
   "outputs": [],
   "source": [
    "\n"
   ]
  },
  {
   "cell_type": "code",
   "execution_count": null,
   "id": "6e670ab0-91be-4b48-8e1a-5f3ffcd88010",
   "metadata": {},
   "outputs": [],
   "source": []
  }
 ],
 "metadata": {
  "interpreter": {
   "hash": "668bcc8cb546308946819be732d47d67ee162ab8d6e5025c108a035c33f59608"
  },
  "kernelspec": {
   "display_name": "Python 3.9.12 ('syft_env')",
   "language": "python",
   "name": "python3"
  },
  "language_info": {
   "codemirror_mode": {
    "name": "ipython",
    "version": 3
   },
   "file_extension": ".py",
   "mimetype": "text/x-python",
   "name": "python",
   "nbconvert_exporter": "python",
   "pygments_lexer": "ipython3",
   "version": "3.9.12"
  }
 },
 "nbformat": 4,
 "nbformat_minor": 5
}
