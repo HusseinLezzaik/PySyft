{
 "cells": [
  {
   "cell_type": "code",
   "execution_count": 1,
   "id": "9a4b66c0-2ed2-49e0-baf0-65f381563e22",
   "metadata": {},
   "outputs": [
    {
     "name": "stderr",
     "output_type": "stream",
     "text": [
      "/home/azureuser/anaconda3/envs/syft_env/lib/python3.9/site-packages/tqdm/auto.py:22: TqdmWarning: IProgress not found. Please update jupyter and ipywidgets. See https://ipywidgets.readthedocs.io/en/stable/user_install.html\n",
      "  from .autonotebook import tqdm as notebook_tqdm\n"
     ]
    },
    {
     "data": {
      "text/plain": [
       "(dict_keys(['1322105218', '1993989228']), array(0))"
      ]
     },
     "execution_count": 1,
     "metadata": {},
     "output_type": "execute_result"
    }
   ],
   "source": [
    "import syft as sy\n",
    "import numpy as np\n",
    "from syft import phi_tensor\n",
    "\n",
    "data1 = np.random.random((5,5))\n",
    "data2 = np.random.random((5,5))\n",
    "\n",
    "tensor1 = phi_tensor.PhiTensor(child=data1, data_subjects=1, min_vals=0, max_vals=1)\n",
    "tensor2 = phi_tensor.PhiTensor(child=data2, data_subjects=2, min_vals=0, max_vals=1)\n",
    "gt = tensor1 + tensor2\n",
    "gt.state.keys(), gt.data_subjects.data_subjects_indexed"
   ]
  },
  {
   "cell_type": "code",
   "execution_count": 2,
   "id": "0792a21b",
   "metadata": {},
   "outputs": [
    {
     "name": "stderr",
     "output_type": "stream",
     "text": [
      "WARNING:absl:No GPU/TPU found, falling back to CPU. (Set TF_CPP_MIN_LOG_LEVEL=0 and rerun for more info.)\n"
     ]
    },
    {
     "name": "stdout",
     "output_type": "stream",
     "text": [
      "STR: <class 'jax.interpreters.partial_eval.DynamicJaxprTracer'>\n",
      "Traced<ShapedArray(int64[], weak_type=True)>with<DynamicJaxprTrace(level=0/1)>\n"
     ]
    },
    {
     "data": {
      "text/plain": [
       "DeviceArray(4, dtype=int64, weak_type=True)"
      ]
     },
     "execution_count": 2,
     "metadata": {},
     "output_type": "execute_result"
    }
   ],
   "source": [
    "import jax\n",
    "from jax import numpy as jnp\n",
    "@jax.jit\n",
    "def f(x):\n",
    "  vtype = str(type(x))\n",
    "  print(\"STR:\", vtype)\n",
    "  if \"int64\" in vtype: \n",
    "    print(\"WORKS\")\n",
    "  y = 2 * x\n",
    "  print(y)\n",
    "  return y\n",
    "f(2)"
   ]
  },
  {
   "cell_type": "code",
   "execution_count": 3,
   "id": "e90d93d0-289e-4fbd-a215-31a706317d06",
   "metadata": {},
   "outputs": [
    {
     "name": "stdout",
     "output_type": "stream",
     "text": [
      "{}\n",
      "Creating new Ledger\n"
     ]
    },
    {
     "name": "stderr",
     "output_type": "stream",
     "text": [
      "  0%|          | 0/2 [00:00<?, ?it/s]/home/azureuser/anaconda3/envs/syft_env/lib/python3.9/site-packages/jax/interpreters/mlir.py:512: UserWarning: Some donated buffers were not usable: ShapedArray(float64[25]), ShapedArray(int64[]).\n",
      "Donation is not implemented for cpu.\n",
      "See an explanation at https://jax.readthedocs.io/en/latest/faq.html#buffer-donation.\n",
      "  warnings.warn(f\"Some donated buffers were not usable: {', '.join(unused_donations)}.\\n{msg}\")\n",
      "100%|██████████| 2/2 [00:00<00:00, 16.19it/s]"
     ]
    },
    {
     "name": "stdout",
     "output_type": "stream",
     "text": [
      "constant:  [8.73847579 8.73847579 8.73847579 8.73847579 8.73847579 8.73847579\n",
      " 8.73847579 8.73847579 8.73847579 8.73847579 8.73847579 8.73847579\n",
      " 8.73847579 8.73847579 8.73847579 8.73847579 8.73847579 8.73847579\n",
      " 8.73847579 8.73847579 8.73847579 8.73847579 8.73847579 8.73847579\n",
      " 8.73847579]\n",
      "_rdp_constants:  [0. 0. 0. 0. 0. 0. 0. 0. 0. 0. 0. 0. 0. 0. 0. 0. 0. 0. 0. 0. 0. 0. 0. 0.\n",
      " 0.]\n",
      "entity ids query 0\n",
      "0\n",
      "Epsilon spend  [27.21448999 27.21448999 27.21448999 27.21448999 27.21448999 27.21448999\n",
      " 27.21448999 27.21448999 27.21448999 27.21448999 27.21448999 27.21448999\n",
      " 27.21448999 27.21448999 27.21448999 27.21448999 27.21448999 27.21448999\n",
      " 27.21448999 27.21448999 27.21448999 27.21448999 27.21448999 27.21448999\n",
      " 27.21448999]\n",
      "Highest possible spend  27.214489991778244\n",
      "Attemping to spend epsilon: 27.214489991778244. Try: 0\n",
      "got user budget 999999.0 epsilon_spent 27.214489991778244\n",
      "constant:  [9.90172898 9.90172898 9.90172898 9.90172898 9.90172898 9.90172898\n",
      " 9.90172898 9.90172898 9.90172898 9.90172898 9.90172898 9.90172898\n",
      " 9.90172898 9.90172898 9.90172898 9.90172898 9.90172898 9.90172898\n",
      " 9.90172898 9.90172898 9.90172898 9.90172898 9.90172898 9.90172898\n",
      " 9.90172898]\n",
      "_rdp_constants:  [8.73847579 0.         0.         0.         0.         0.\n",
      " 0.         0.         0.         0.         0.         0.\n",
      " 0.         0.         0.         0.         0.         0.\n",
      " 0.         0.         0.         0.         0.         0.\n",
      " 0.        ]\n",
      "entity ids query 0\n",
      "0\n",
      "Epsilon spend  [29.8330157 29.8330157 29.8330157 29.8330157 29.8330157 29.8330157\n",
      " 29.8330157 29.8330157 29.8330157 29.8330157 29.8330157 29.8330157\n",
      " 29.8330157 29.8330157 29.8330157 29.8330157 29.8330157 29.8330157\n",
      " 29.8330157 29.8330157 29.8330157 29.8330157 29.8330157 29.8330157\n",
      " 29.8330157]\n",
      "Highest possible spend  29.833015701714693\n",
      "Attemping to spend epsilon: 29.833015701714693. Try: 0\n",
      "got user budget 999999.0 epsilon_spent 29.833015701714693\n",
      "We have filtered all the input tensors. Now to compute the result:\n",
      "Filtered inputs  [array([[41414,  5023, 36350, 51203, 38522],\n",
      "       [ 2253, 46738, 21048,  9412, 49343],\n",
      "       [57773, 58243,  6246,  6652, 43863],\n",
      "       [53403, 41910, 53742, 46812, 38789],\n",
      "       [44178, 45339, 48192, 10591, 45762]]), array([[57135, 51292, 61704, 33190, 23289],\n",
      "       [51850, 43888, 51355, 59110, 60024],\n",
      "       [28560, 11127, 23010, 50765, 27343],\n",
      "       [27690, 29038, 55900, 37437, 50816],\n",
      "       [30934, 19945, 38247, 24114, 60101]])]\n",
      "original output (before noise: [[ 98549  56315  98054  84393  61811]\n",
      " [ 54103  90626  72403  68522 109367]\n",
      " [ 86333  69370  29256  57417  71206]\n",
      " [ 81093  70948 109642  84249  89605]\n",
      " [ 75112  65284  86439  34705 105863]]\n",
      "noise:  [[ 0.0345657   0.0294692  -0.0821021  -0.00120132  0.02695257]\n",
      " [-0.02653908  0.07777618  0.04631707 -0.02102203  0.0344832 ]\n",
      " [-0.26716349  0.01918087  0.08345747 -0.05108546  0.10914333]\n",
      " [ 0.08034903 -0.06124041  0.09965533 -0.05431984 -0.06500905]\n",
      " [-0.12145581 -0.03783931  0.04181646 -0.01279337  0.14948378]]\n",
      "got output <class 'numpy.ndarray'> float64\n"
     ]
    },
    {
     "name": "stderr",
     "output_type": "stream",
     "text": [
      "\n"
     ]
    }
   ],
   "source": [
    "from syft.core.adp.data_subject_ledger import DataSubjectLedger\n",
    "from syft.core.adp.ledger_store import DictLedgerStore\n",
    "from typing import Any\n",
    "\n",
    "ledger_store = DictLedgerStore()\n",
    "print(ledger_store.kv_store)\n",
    "user_key = b\"1231\"\n",
    "ledger = DataSubjectLedger.get_or_create(store=ledger_store, user_key=user_key)\n",
    "\n",
    "def get_budget_for_user(*args: Any, **kwargs: Any) -> float:\n",
    "    return 999999\n",
    "\n",
    "def deduct_epsilon_for_user(*args: Any, **kwargs: Any) -> bool:\n",
    "    return True\n",
    "\n",
    "results = gt.publish(\n",
    "    get_budget_for_user=get_budget_for_user,\n",
    "    deduct_epsilon_for_user=deduct_epsilon_for_user,\n",
    "    ledger=ledger,\n",
    "    sigma=0.1,\n",
    ")\n",
    "\n",
    "#SIGMA TYPE <class 'jax.interpreters.partial_eval.DynamicJaxprTracer'>\n"
   ]
  },
  {
   "cell_type": "code",
   "execution_count": 4,
   "id": "71220f89-7f4f-4867-870e-90e135318417",
   "metadata": {},
   "outputs": [
    {
     "data": {
      "text/plain": [
       "array([[ 98549.0345657 ,  56315.0294692 ,  98053.9178979 ,\n",
       "         84392.99879868,  61811.02695257],\n",
       "       [ 54102.97346092,  90626.07777618,  72403.04631707,\n",
       "         68521.97897797, 109367.0344832 ],\n",
       "       [ 86332.73283651,  69370.01918087,  29256.08345747,\n",
       "         57416.94891454,  71206.10914333],\n",
       "       [ 81093.08034903,  70947.93875959, 109642.09965533,\n",
       "         84248.94568016,  89604.93499095],\n",
       "       [ 75111.87854419,  65283.96216069,  86439.04181646,\n",
       "         34704.98720663, 105863.14948378]])"
      ]
     },
     "execution_count": 4,
     "metadata": {},
     "output_type": "execute_result"
    }
   ],
   "source": [
    "results"
   ]
  },
  {
   "cell_type": "code",
   "execution_count": null,
   "id": "2e33072c-2d51-4d43-ae10-ef0dfba242ad",
   "metadata": {},
   "outputs": [],
   "source": []
  },
  {
   "cell_type": "code",
   "execution_count": null,
   "id": "67335019-8add-4601-8d42-db07f42cd45d",
   "metadata": {},
   "outputs": [],
   "source": []
  }
 ],
 "metadata": {
  "interpreter": {
   "hash": "668bcc8cb546308946819be732d47d67ee162ab8d6e5025c108a035c33f59608"
  },
  "kernelspec": {
   "display_name": "Python 3.9.12 ('syft_env')",
   "language": "python",
   "name": "python3"
  },
  "language_info": {
   "codemirror_mode": {
    "name": "ipython",
    "version": 3
   },
   "file_extension": ".py",
   "mimetype": "text/x-python",
   "name": "python",
   "nbconvert_exporter": "python",
   "pygments_lexer": "ipython3",
   "version": "3.9.12"
  }
 },
 "nbformat": 4,
 "nbformat_minor": 5
}
