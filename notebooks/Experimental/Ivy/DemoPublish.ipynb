{
 "cells": [
  {
   "cell_type": "code",
   "execution_count": 1,
   "id": "9a4b66c0-2ed2-49e0-baf0-65f381563e22",
   "metadata": {},
   "outputs": [
    {
     "name": "stderr",
     "output_type": "stream",
     "text": [
      "/home/ivoline/anaconda3/envs/syft_env/lib/python3.9/site-packages/tqdm/auto.py:22: TqdmWarning: IProgress not found. Please update jupyter and ipywidgets. See https://ipywidgets.readthedocs.io/en/stable/user_install.html\n",
      "  from .autonotebook import tqdm as notebook_tqdm\n"
     ]
    }
   ],
   "source": [
    "import syft as sy\n",
    "import numpy as np\n",
    "from syft import phi_tensor"
   ]
  },
  {
   "cell_type": "code",
   "execution_count": 2,
   "id": "eaf238f1-9dce-4be4-a747-97d0192feacb",
   "metadata": {},
   "outputs": [],
   "source": [
    "data1 = np.random.random((5,5))\n",
    "data2 = np.random.random((5,5))\n",
    "\n",
    "tensor1 = phi_tensor.PhiTensor(child=data1, data_subjects=1, min_vals=0, max_vals=1)\n",
    "tensor2 = phi_tensor.PhiTensor(child=data2, data_subjects=2, min_vals=0, max_vals=1)"
   ]
  },
  {
   "cell_type": "code",
   "execution_count": 3,
   "id": "af4ebccc-c580-489f-b63d-dad97b2c9fab",
   "metadata": {},
   "outputs": [],
   "source": [
    "gt = tensor1 + tensor2"
   ]
  },
  {
   "cell_type": "code",
   "execution_count": 4,
   "id": "c062e85c-9d02-44de-95f8-cec21db57eb1",
   "metadata": {},
   "outputs": [
    {
     "data": {
      "text/plain": [
       "syft.core.tensor.autodp.gamma_tensor.GammaTensor"
      ]
     },
     "execution_count": 4,
     "metadata": {},
     "output_type": "execute_result"
    }
   ],
   "source": [
    "type(gt)"
   ]
  },
  {
   "cell_type": "code",
   "execution_count": 5,
   "id": "64c053e5-1c59-41de-8073-06b054a9173d",
   "metadata": {},
   "outputs": [
    {
     "data": {
      "text/plain": [
       "{'1032642014': GammaTensor(value=array([[25485, 46232, 26351, 10385, 53320],\n",
       "        [45263, 45337, 29927, 53832, 28043],\n",
       "        [55226, 61358,  7558, 61031, 37853],\n",
       "        [36466, 26497, 64209, 60865, 30487],\n",
       "        [32156, 39159, 12171, 29834,  3404]]), data_subjects=<syft.core.adp.data_subject_list.DataSubjectList object at 0x7f85b536b8b0>, min_val=array([[0, 0, 0, 0, 0],\n",
       "        [0, 0, 0, 0, 0],\n",
       "        [0, 0, 0, 0, 0],\n",
       "        [0, 0, 0, 0, 0],\n",
       "        [0, 0, 0, 0, 0]]), max_val=array([[1, 1, 1, 1, 1],\n",
       "        [1, 1, 1, 1, 1],\n",
       "        [1, 1, 1, 1, 1],\n",
       "        [1, 1, 1, 1, 1],\n",
       "        [1, 1, 1, 1, 1]]), is_linear=True, func=<function no_op at 0x7f85b62ee310>, id='1032642014', state={}, fpt_values=FixedPrecisionTensor(child=[[25485 46232 26351 10385 53320]\n",
       "  [45263 45337 29927 53832 28043]\n",
       "  [55226 61358  7558 61031 37853]\n",
       "  [36466 26497 64209 60865 30487]\n",
       "  [32156 39159 12171 29834  3404]])),\n",
       " '1744616579': GammaTensor(value=array([[38202,    10,  1645, 36041, 47406],\n",
       "        [28896, 61453, 13316, 32580,  7624],\n",
       "        [51424, 52231, 12720, 50633, 35349],\n",
       "        [18246, 57820, 10478,  1046, 14947],\n",
       "        [37272, 55733, 39781, 20064, 65242]]), data_subjects=<syft.core.adp.data_subject_list.DataSubjectList object at 0x7f85b536ba00>, min_val=array([[0, 0, 0, 0, 0],\n",
       "        [0, 0, 0, 0, 0],\n",
       "        [0, 0, 0, 0, 0],\n",
       "        [0, 0, 0, 0, 0],\n",
       "        [0, 0, 0, 0, 0]]), max_val=array([[1, 1, 1, 1, 1],\n",
       "        [1, 1, 1, 1, 1],\n",
       "        [1, 1, 1, 1, 1],\n",
       "        [1, 1, 1, 1, 1],\n",
       "        [1, 1, 1, 1, 1]]), is_linear=True, func=<function no_op at 0x7f85b62ee310>, id='1744616579', state={}, fpt_values=FixedPrecisionTensor(child=[[38202    10  1645 36041 47406]\n",
       "  [28896 61453 13316 32580  7624]\n",
       "  [51424 52231 12720 50633 35349]\n",
       "  [18246 57820 10478  1046 14947]\n",
       "  [37272 55733 39781 20064 65242]]))}"
      ]
     },
     "execution_count": 5,
     "metadata": {},
     "output_type": "execute_result"
    }
   ],
   "source": [
    "gt.state"
   ]
  },
  {
   "cell_type": "code",
   "execution_count": 6,
   "id": "ef8422e1-29cc-4f39-88fd-5540be03b37a",
   "metadata": {},
   "outputs": [
    {
     "data": {
      "text/plain": [
       "dict_keys(['1032642014', '1744616579'])"
      ]
     },
     "execution_count": 6,
     "metadata": {},
     "output_type": "execute_result"
    }
   ],
   "source": [
    "gt.state.keys()"
   ]
  },
  {
   "cell_type": "code",
   "execution_count": 7,
   "id": "5372c4bc-a22c-48f8-8418-35d54b2637e9",
   "metadata": {},
   "outputs": [],
   "source": [
    "# gt.state['1362547297']"
   ]
  },
  {
   "cell_type": "code",
   "execution_count": 8,
   "id": "8906412d-4085-4116-80bd-25ca3ce67305",
   "metadata": {},
   "outputs": [
    {
     "data": {
      "text/plain": [
       "array(0)"
      ]
     },
     "execution_count": 8,
     "metadata": {},
     "output_type": "execute_result"
    }
   ],
   "source": [
    "gt.data_subjects.data_subjects_indexed"
   ]
  },
  {
   "cell_type": "code",
   "execution_count": 9,
   "id": "eec87240-056a-4857-8db6-2f629bd3f2e8",
   "metadata": {},
   "outputs": [
    {
     "data": {
      "text/plain": [
       "array([1])"
      ]
     },
     "execution_count": 9,
     "metadata": {},
     "output_type": "execute_result"
    }
   ],
   "source": [
    "gt.data_subjects.one_hot_lookup"
   ]
  },
  {
   "cell_type": "code",
   "execution_count": 10,
   "id": "0f0cb58f-e8db-47c5-a107-aa771643f969",
   "metadata": {},
   "outputs": [],
   "source": [
    "# gt1 = gt.state['1362547297']"
   ]
  },
  {
   "cell_type": "code",
   "execution_count": 11,
   "id": "9516e7a3-bd40-477d-9960-79abc70c1264",
   "metadata": {},
   "outputs": [],
   "source": [
    "#type(gt1)"
   ]
  },
  {
   "cell_type": "code",
   "execution_count": 12,
   "id": "41337994-cfb6-4184-98b1-dbd4fa7f20d5",
   "metadata": {},
   "outputs": [],
   "source": [
    "#gt1.id"
   ]
  },
  {
   "cell_type": "markdown",
   "id": "2b67141e-778e-4142-8703-7fb59f6e95dd",
   "metadata": {},
   "source": [
    "A, B, C, D, E\n",
    "2, 3, 5, 11, 9\n",
    "9, 8, 7,  6, 5\n",
    "\n",
    "=max(2, 3, 5, 11, 9) = 11\n",
    "\n",
    "for the data scientist:\n",
    "original PB = 25\n",
    "final PB = 25 -11 = 14\n",
    "\n",
    "\n",
    "original PB = 10\n",
    "\n",
    "A, B, C, E\n",
    "3, 4, 6, 10.5\n",
    "\n",
    "A, B, C\n",
    "5, 6, 10\n",
    "\n",
    "A, B, C\n",
    "10.5, 10.5, 10.5\n",
    "\n",
    "result = (tensorA * 0+tensorB*0+tensorC *0+ tensorD *0+tensorE *0) = 0\n",
    "FINAL PUBLISHED RESULT = 0 + noise()\n",
    "\n",
    "\n",
    "original PB = 0\n",
    "result = (tensor A * 0+tensor B*0+tensor C *0+ tensor D *0+tensor E *0) = 0\n",
    "FINAL PUBLISHED RESULT = 0 + noise()"
   ]
  },
  {
   "cell_type": "code",
   "execution_count": null,
   "id": "4d7be83f-a1c2-4c61-8b32-01b6db1ad2ac",
   "metadata": {},
   "outputs": [],
   "source": []
  },
  {
   "cell_type": "code",
   "execution_count": 13,
   "id": "e90d93d0-289e-4fbd-a215-31a706317d06",
   "metadata": {},
   "outputs": [
    {
     "name": "stderr",
     "output_type": "stream",
     "text": [
      "WARNING:absl:No GPU/TPU found, falling back to CPU. (Set TF_CPP_MIN_LOG_LEVEL=0 and rerun for more info.)\n"
     ]
    },
    {
     "name": "stdout",
     "output_type": "stream",
     "text": [
      "{}\n",
      "Creating new Ledger\n",
      "TYPE:  <class 'numpy.ndarray'>\n",
      "LEDGER:  <syft.core.adp.data_subject_ledger.DataSubjectLedger object at 0x7f85b53a3850>\n"
     ]
    },
    {
     "ename": "FrozenInstanceError",
     "evalue": "cannot assign to field 'sigmas'",
     "output_type": "error",
     "traceback": [
      "\u001b[0;31m---------------------------------------------------------------------------\u001b[0m",
      "\u001b[0;31mFrozenInstanceError\u001b[0m                       Traceback (most recent call last)",
      "Input \u001b[0;32mIn [13]\u001b[0m, in \u001b[0;36m<cell line: 16>\u001b[0;34m()\u001b[0m\n\u001b[1;32m     13\u001b[0m \u001b[38;5;28;01mdef\u001b[39;00m \u001b[38;5;21mdeduct_epsilon_for_user\u001b[39m(\u001b[38;5;241m*\u001b[39margs: Any, \u001b[38;5;241m*\u001b[39m\u001b[38;5;241m*\u001b[39mkwargs: Any) \u001b[38;5;241m-\u001b[39m\u001b[38;5;241m>\u001b[39m \u001b[38;5;28mbool\u001b[39m:\n\u001b[1;32m     14\u001b[0m     \u001b[38;5;28;01mreturn\u001b[39;00m True1\n\u001b[0;32m---> 16\u001b[0m results \u001b[38;5;241m=\u001b[39m \u001b[43mgt\u001b[49m\u001b[38;5;241;43m.\u001b[39;49m\u001b[43mpublish\u001b[49m\u001b[43m(\u001b[49m\n\u001b[1;32m     17\u001b[0m \u001b[43m    \u001b[49m\u001b[43mget_budget_for_user\u001b[49m\u001b[38;5;241;43m=\u001b[39;49m\u001b[43mget_budget_for_user\u001b[49m\u001b[43m,\u001b[49m\n\u001b[1;32m     18\u001b[0m \u001b[43m    \u001b[49m\u001b[43mdeduct_epsilon_for_user\u001b[49m\u001b[38;5;241;43m=\u001b[39;49m\u001b[43mdeduct_epsilon_for_user\u001b[49m\u001b[43m,\u001b[49m\n\u001b[1;32m     19\u001b[0m \u001b[43m    \u001b[49m\u001b[43mledger\u001b[49m\u001b[38;5;241;43m=\u001b[39;49m\u001b[43mledger\u001b[49m\u001b[43m,\u001b[49m\n\u001b[1;32m     20\u001b[0m \u001b[43m    \u001b[49m\u001b[43msigma\u001b[49m\u001b[38;5;241;43m=\u001b[39;49m\u001b[38;5;241;43m0.1\u001b[39;49m\u001b[43m,\u001b[49m\n\u001b[1;32m     21\u001b[0m \u001b[43m)\u001b[49m\n",
      "File \u001b[0;32m~/Documents/Research/OpenMined/PySyft/packages/syft/src/syft/core/tensor/autodp/gamma_tensor.py:244\u001b[0m, in \u001b[0;36mGammaTensor.publish\u001b[0;34m(self, get_budget_for_user, deduct_epsilon_for_user, ledger, sigma)\u001b[0m\n\u001b[1;32m    241\u001b[0m \u001b[38;5;28;01mif\u001b[39;00m fpt_values \u001b[38;5;129;01mis\u001b[39;00m \u001b[38;5;129;01mnot\u001b[39;00m \u001b[38;5;28;01mNone\u001b[39;00m:\n\u001b[1;32m    242\u001b[0m     fpt_encode_func \u001b[38;5;241m=\u001b[39m fpt_values\u001b[38;5;241m.\u001b[39mencode\n\u001b[0;32m--> 244\u001b[0m \u001b[38;5;28;01mreturn\u001b[39;00m \u001b[43mvectorized_publish\u001b[49m\u001b[43m(\u001b[49m\n\u001b[1;32m    245\u001b[0m \u001b[43m    \u001b[49m\u001b[43mvalue\u001b[49m\u001b[38;5;241;43m=\u001b[39;49m\u001b[38;5;28;43mself\u001b[39;49m\u001b[38;5;241;43m.\u001b[39;49m\u001b[43mvalue\u001b[49m\u001b[43m,\u001b[49m\n\u001b[1;32m    246\u001b[0m \u001b[43m    \u001b[49m\u001b[43mmin_vals\u001b[49m\u001b[38;5;241;43m=\u001b[39;49m\u001b[38;5;28;43mself\u001b[39;49m\u001b[38;5;241;43m.\u001b[39;49m\u001b[43mmin_val\u001b[49m\u001b[43m,\u001b[49m\n\u001b[1;32m    247\u001b[0m \u001b[43m    \u001b[49m\u001b[43mmax_vals\u001b[49m\u001b[38;5;241;43m=\u001b[39;49m\u001b[38;5;28;43mself\u001b[39;49m\u001b[38;5;241;43m.\u001b[39;49m\u001b[43mmax_val\u001b[49m\u001b[43m,\u001b[49m\n\u001b[1;32m    248\u001b[0m \u001b[43m    \u001b[49m\u001b[43mstate_tree\u001b[49m\u001b[38;5;241;43m=\u001b[39;49m\u001b[38;5;28;43mself\u001b[39;49m\u001b[38;5;241;43m.\u001b[39;49m\u001b[43mstate\u001b[49m\u001b[43m,\u001b[49m\n\u001b[1;32m    249\u001b[0m \u001b[43m    \u001b[49m\u001b[43mdata_subjects\u001b[49m\u001b[38;5;241;43m=\u001b[39;49m\u001b[38;5;28;43mself\u001b[39;49m\u001b[38;5;241;43m.\u001b[39;49m\u001b[43mdata_subjects\u001b[49m\u001b[43m,\u001b[49m\n\u001b[1;32m    250\u001b[0m \u001b[43m    \u001b[49m\u001b[43mis_linear\u001b[49m\u001b[38;5;241;43m=\u001b[39;49m\u001b[38;5;28;43mself\u001b[39;49m\u001b[38;5;241;43m.\u001b[39;49m\u001b[43mis_linear\u001b[49m\u001b[43m,\u001b[49m\n\u001b[1;32m    251\u001b[0m \u001b[43m    \u001b[49m\u001b[43msigma\u001b[49m\u001b[38;5;241;43m=\u001b[39;49m\u001b[43msigma\u001b[49m\u001b[43m,\u001b[49m\n\u001b[1;32m    252\u001b[0m \u001b[43m    \u001b[49m\u001b[43moutput_func\u001b[49m\u001b[38;5;241;43m=\u001b[39;49m\u001b[38;5;28;43mself\u001b[39;49m\u001b[38;5;241;43m.\u001b[39;49m\u001b[43mfunc\u001b[49m\u001b[43m,\u001b[49m\n\u001b[1;32m    253\u001b[0m \u001b[43m    \u001b[49m\u001b[43mledger\u001b[49m\u001b[38;5;241;43m=\u001b[39;49m\u001b[43mledger\u001b[49m\u001b[43m,\u001b[49m\n\u001b[1;32m    254\u001b[0m \u001b[43m    \u001b[49m\u001b[43mget_budget_for_user\u001b[49m\u001b[38;5;241;43m=\u001b[39;49m\u001b[43mget_budget_for_user\u001b[49m\u001b[43m,\u001b[49m\n\u001b[1;32m    255\u001b[0m \u001b[43m    \u001b[49m\u001b[43mdeduct_epsilon_for_user\u001b[49m\u001b[38;5;241;43m=\u001b[39;49m\u001b[43mdeduct_epsilon_for_user\u001b[49m\u001b[43m,\u001b[49m\n\u001b[1;32m    256\u001b[0m \u001b[43m    \u001b[49m\u001b[43mfpt_encode_func\u001b[49m\u001b[38;5;241;43m=\u001b[39;49m\u001b[43mfpt_encode_func\u001b[49m\u001b[43m,\u001b[49m\n\u001b[1;32m    257\u001b[0m \u001b[43m\u001b[49m\u001b[43m)\u001b[49m\n",
      "File \u001b[0;32m~/Documents/Research/OpenMined/PySyft/packages/syft/src/syft/core/adp/vectorized_publish.py:144\u001b[0m, in \u001b[0;36mvectorized_publish\u001b[0;34m(value, min_vals, max_vals, state_tree, data_subjects, ledger, get_budget_for_user, deduct_epsilon_for_user, is_linear, sigma, output_func, fpt_encode_func, query_limit)\u001b[0m\n\u001b[1;32m    142\u001b[0m     selected_rdp_value \u001b[38;5;241m=\u001b[39m np\u001b[38;5;241m.\u001b[39mrandom\u001b[38;5;241m.\u001b[39mchoice(np\u001b[38;5;241m.\u001b[39marange(threshold_index \u001b[38;5;241m-\u001b[39m \u001b[38;5;241m9\u001b[39m, threshold_index \u001b[38;5;241m+\u001b[39m \u001b[38;5;241m1\u001b[39m))\n\u001b[1;32m    143\u001b[0m     new_sigma \u001b[38;5;241m=\u001b[39m selected_rdp_value \u001b[38;5;241m*\u001b[39m np\u001b[38;5;241m.\u001b[39msqrt(max_rdp \u001b[38;5;241m/\u001b[39m selected_rdp_value)\n\u001b[0;32m--> 144\u001b[0m     rdp_params\u001b[38;5;241m.\u001b[39msigmas \u001b[38;5;241m=\u001b[39m np\u001b[38;5;241m.\u001b[39mones_like(rdp_params\u001b[38;5;241m.\u001b[39msigmas) \u001b[38;5;241m*\u001b[39m new_sigma\n\u001b[1;32m    146\u001b[0m \u001b[38;5;28mprint\u001b[39m(\u001b[38;5;124m\"\u001b[39m\u001b[38;5;124mGOT RDP CONSTANTS: \u001b[39m\u001b[38;5;124m\"\u001b[39m, rdp_constants)\n\u001b[1;32m    147\u001b[0m \u001b[38;5;28mprint\u001b[39m(\u001b[38;5;124m\"\u001b[39m\u001b[38;5;124mNEW SIGMA: \u001b[39m\u001b[38;5;124m\"\u001b[39m, new_sigma)\n",
      "File \u001b[0;32m<string>:4\u001b[0m, in \u001b[0;36m__setattr__\u001b[0;34m(self, name, value)\u001b[0m\n",
      "\u001b[0;31mFrozenInstanceError\u001b[0m: cannot assign to field 'sigmas'"
     ]
    }
   ],
   "source": [
    "from syft.core.adp.data_subject_ledger import DataSubjectLedger\n",
    "from syft.core.adp.ledger_store import DictLedgerStore\n",
    "from typing import Any\n",
    "\n",
    "ledger_store = DictLedgerStore()\n",
    "print(ledger_store.kv_store)\n",
    "user_key = b\"1231\"\n",
    "ledger = DataSubjectLedger.get_or_create(store=ledger_store, user_key=user_key)\n",
    "\n",
    "def get_budget_for_user(*args: Any, **kwargs: Any) -> float:\n",
    "    return 999999\n",
    "\n",
    "def deduct_epsilon_for_user(*args: Any, **kwargs: Any) -> bool:\n",
    "    return True1\n",
    "\n",
    "results = gt.publish(\n",
    "    get_budget_for_user=get_budget_for_user,\n",
    "    deduct_epsilon_for_user=deduct_epsilon_for_user,\n",
    "    ledger=ledger,\n",
    "    sigma=0.1,\n",
    ")"
   ]
  },
  {
   "cell_type": "code",
   "execution_count": null,
   "id": "71220f89-7f4f-4867-870e-90e135318417",
   "metadata": {},
   "outputs": [],
   "source": []
  },
  {
   "cell_type": "code",
   "execution_count": null,
   "id": "2e33072c-2d51-4d43-ae10-ef0dfba242ad",
   "metadata": {},
   "outputs": [],
   "source": []
  },
  {
   "cell_type": "code",
   "execution_count": null,
   "id": "72a7ebc9-8d08-4834-ab44-e5b06fc47950",
   "metadata": {},
   "outputs": [],
   "source": []
  },
  {
   "cell_type": "code",
   "execution_count": null,
   "id": "feede733-1ec8-4472-b7d4-f93cfc2e2b2c",
   "metadata": {},
   "outputs": [],
   "source": []
  },
  {
   "cell_type": "code",
   "execution_count": null,
   "id": "ad1e2f54-b7db-4004-8237-1b5c7a938faa",
   "metadata": {},
   "outputs": [],
   "source": []
  },
  {
   "cell_type": "code",
   "execution_count": null,
   "id": "ecbe2969-c2b8-4925-8452-7d5719ad6e39",
   "metadata": {},
   "outputs": [],
   "source": []
  },
  {
   "cell_type": "code",
   "execution_count": null,
   "id": "67335019-8add-4601-8d42-db07f42cd45d",
   "metadata": {},
   "outputs": [],
   "source": []
  },
  {
   "cell_type": "code",
   "execution_count": null,
   "id": "da6b91a4-e1b9-4ab7-bccb-1acdde8727fe",
   "metadata": {},
   "outputs": [],
   "source": []
  },
  {
   "cell_type": "code",
   "execution_count": null,
   "id": "382c3f15-25d6-4af6-87f4-a9abc05e3d44",
   "metadata": {},
   "outputs": [],
   "source": []
  },
  {
   "cell_type": "code",
   "execution_count": 18,
   "id": "9f97bcd5-27b1-45b4-b06a-a3b986098f17",
   "metadata": {},
   "outputs": [
    {
     "name": "stdout",
     "output_type": "stream",
     "text": [
      "{}\n",
      "Creating new Ledger\n"
     ]
    },
    {
     "name": "stderr",
     "output_type": "stream",
     "text": [
      "100%|██████████████████████████████████████████████████████████████████████████████████████████████████████████████████████████| 2/2 [00:00<00:00, 210.20it/s]"
     ]
    },
    {
     "name": "stdout",
     "output_type": "stream",
     "text": [
      "constant:  [1.87939322e+12 1.87939322e+12 1.87939322e+12 1.87939322e+12\n",
      " 1.87939322e+12 1.87939322e+12 1.87939322e+12 1.87939322e+12\n",
      " 1.87939322e+12 1.87939322e+12 1.87939322e+12 1.87939322e+12\n",
      " 1.87939322e+12 1.87939322e+12 1.87939322e+12 1.87939322e+12\n",
      " 1.87939322e+12 1.87939322e+12 1.87939322e+12 1.87939322e+12\n",
      " 1.87939322e+12 1.87939322e+12 1.87939322e+12 1.87939322e+12\n",
      " 1.87939322e+12]\n",
      "_rdp_constants:  [0. 0. 0. 0. 0. 0. 0. 0. 0. 0. 0. 0. 0. 0. 0. 0. 0. 0. 0. 0. 0. 0. 0. 0.\n",
      " 0.]\n",
      "entity ids query 0\n",
      "0\n",
      "Epsilon spend  [706263.4037034 706263.4037034 706263.4037034 706263.4037034\n",
      " 706263.4037034 706263.4037034 706263.4037034 706263.4037034\n",
      " 706263.4037034 706263.4037034 706263.4037034 706263.4037034\n",
      " 706263.4037034 706263.4037034 706263.4037034 706263.4037034\n",
      " 706263.4037034 706263.4037034 706263.4037034 706263.4037034\n",
      " 706263.4037034 706263.4037034 706263.4037034 706263.4037034\n",
      " 706263.4037034]\n",
      "Highest possible spend  706263.403703397\n",
      "Attemping to spend epsilon: 706263.403703397. Try: 0\n",
      "got user budget 999999.0 epsilon_spent 706263.403703397\n",
      "constant:  [1.1072807e+12 1.1072807e+12 1.1072807e+12 1.1072807e+12 1.1072807e+12\n",
      " 1.1072807e+12 1.1072807e+12 1.1072807e+12 1.1072807e+12 1.1072807e+12\n",
      " 1.1072807e+12 1.1072807e+12 1.1072807e+12 1.1072807e+12 1.1072807e+12\n",
      " 1.1072807e+12 1.1072807e+12 1.1072807e+12 1.1072807e+12 1.1072807e+12\n",
      " 1.1072807e+12 1.1072807e+12 1.1072807e+12 1.1072807e+12 1.1072807e+12]\n",
      "_rdp_constants:  [1.87939322e+12 0.00000000e+00 0.00000000e+00 0.00000000e+00\n",
      " 0.00000000e+00 0.00000000e+00 0.00000000e+00 0.00000000e+00\n",
      " 0.00000000e+00 0.00000000e+00 0.00000000e+00 0.00000000e+00\n",
      " 0.00000000e+00 0.00000000e+00 0.00000000e+00 0.00000000e+00\n",
      " 0.00000000e+00 0.00000000e+00 0.00000000e+00 0.00000000e+00\n",
      " 0.00000000e+00 0.00000000e+00 0.00000000e+00 0.00000000e+00\n",
      " 0.00000000e+00]\n",
      "entity ids query 0\n",
      "0\n",
      "Epsilon spend  [706263.4037034 706263.4037034 706263.4037034 706263.4037034\n",
      " 706263.4037034 706263.4037034 706263.4037034 706263.4037034\n",
      " 706263.4037034 706263.4037034 706263.4037034 706263.4037034\n",
      " 706263.4037034 706263.4037034 706263.4037034 706263.4037034\n",
      " 706263.4037034 706263.4037034 706263.4037034 706263.4037034\n",
      " 706263.4037034 706263.4037034 706263.4037034 706263.4037034\n",
      " 706263.4037034]\n",
      "Highest possible spend  706263.403703397\n",
      "Attemping to spend epsilon: 706263.403703397. Try: 0\n",
      "got user budget 999999.0 epsilon_spent 706263.403703397\n",
      "We have filtered all the input tensors. Now to compute the result:\n",
      "Filtered inputs  [array([[53437, 47639, 28758, 43787,  1419],\n",
      "       [41817, 53123, 12785, 62606,  9878],\n",
      "       [15696,  3980, 37852,  7514, 21095],\n",
      "       [50945,  5819, 29485, 39013, 54391],\n",
      "       [60068, 34894,  4687, 42183, 64519]]), array([[29245,  6981, 10574, 46555, 19181],\n",
      "       [12311, 38195, 23998, 48734, 13009],\n",
      "       [34796, 26004, 46935, 22906, 52240],\n",
      "       [12957, 19144, 40420, 27797, 31339],\n",
      "       [40393,  9572, 18571,  4715, 22519]])]\n",
      "original output (before noise: [[ 82682  54620  39332  90342  20600]\n",
      " [ 54128  91318  36783 111340  22887]\n",
      " [ 50492  29984  84787  30420  73335]\n",
      " [ 63902  24963  69905  66810  85730]\n",
      " [100461  44466  23258  46898  87038]]\n",
      "noise:  [[ 0.05547074  0.05412301  0.12472631 -0.02810933  0.05079741]\n",
      " [ 0.0194011   0.00952129 -0.16940186 -0.06129883  0.09265425]\n",
      " [ 0.07496263  0.11647675  0.02638125 -0.09160855 -0.04226396]\n",
      " [ 0.23173197  0.1292464   0.13024618 -0.24831262  0.13123092]\n",
      " [ 0.02315883  0.08056475 -0.04306874 -0.03487821 -0.02510734]]\n",
      "got output <class 'numpy.ndarray'> float64\n"
     ]
    },
    {
     "name": "stderr",
     "output_type": "stream",
     "text": [
      "\n"
     ]
    }
   ],
   "source": [
    "from syft.core.adp.data_subject_ledger import DataSubjectLedger\n",
    "from syft.core.adp.ledger_store import DictLedgerStore\n",
    "from typing import Any\n",
    "\n",
    "ledger_store = DictLedgerStore()\n",
    "print(ledger_store.kv_store)\n",
    "user_key = b\"1231\"\n",
    "ledger = DataSubjectLedger.get_or_create(store=ledger_store, user_key=user_key)\n",
    "\n",
    "def get_budget_for_user(*args: Any, **kwargs: Any) -> float:\n",
    "    return 999999\n",
    "\n",
    "def deduct_epsilon_for_user(*args: Any, **kwargs: Any) -> bool:\n",
    "    return True1\n",
    "\n",
    "results = gt.publish(\n",
    "    get_budget_for_user=get_budget_for_user,\n",
    "    deduct_epsilon_for_user=deduct_epsilon_for_user,\n",
    "    ledger=ledger,\n",
    "    sigma=0.1,\n",
    ")"
   ]
  },
  {
   "cell_type": "code",
   "execution_count": 17,
   "id": "215dd8c3-cd4d-4c21-91b3-6153bfa411fc",
   "metadata": {},
   "outputs": [
    {
     "data": {
      "text/plain": [
       "array([[ 82682.03511865,  54619.92336243,  39331.86338343,\n",
       "         90342.04798676,  20599.91481106],\n",
       "       [ 54128.07964356,  91317.84092048,  36782.95007537,\n",
       "        111340.05484056,  22887.00490288],\n",
       "       [ 50491.89031715,  29983.99738918,  84786.94174147,\n",
       "         30420.0830253 ,  73334.69842561],\n",
       "       [ 63901.88906492,  24962.98950684,  69905.04419538,\n",
       "         66810.05647355,  85730.00126437],\n",
       "       [100461.09286965,  44466.12292999,  23257.8500503 ,\n",
       "         46898.03330597,  87037.93755717]])"
      ]
     },
     "execution_count": 17,
     "metadata": {},
     "output_type": "execute_result"
    }
   ],
   "source": [
    "results"
   ]
  },
  {
   "cell_type": "code",
   "execution_count": null,
   "id": "63f4cb18-46c5-4763-b945-ddb2e53e2fec",
   "metadata": {},
   "outputs": [],
   "source": []
  },
  {
   "cell_type": "code",
   "execution_count": 11,
   "id": "2033f365-cc9e-4765-849e-bc7120656ebc",
   "metadata": {},
   "outputs": [
    {
     "name": "stdout",
     "output_type": "stream",
     "text": [
      "The autoreload extension is already loaded. To reload it, use:\n",
      "  %reload_ext autoreload\n"
     ]
    }
   ],
   "source": [
    "# %limport importlib\n",
    "# importlib.reload(your_module)"
   ]
  },
  {
   "cell_type": "code",
   "execution_count": null,
   "id": "d60ed2db-d580-4d42-ad86-4f4b55ff890d",
   "metadata": {},
   "outputs": [],
   "source": [
    "\n"
   ]
  },
  {
   "cell_type": "code",
   "execution_count": null,
   "id": "6e670ab0-91be-4b48-8e1a-5f3ffcd88010",
   "metadata": {},
   "outputs": [],
   "source": []
  }
 ],
 "metadata": {
  "kernelspec": {
   "display_name": "Python 3 (ipykernel)",
   "language": "python",
   "name": "python3"
  },
  "language_info": {
   "codemirror_mode": {
    "name": "ipython",
    "version": 3
   },
   "file_extension": ".py",
   "mimetype": "text/x-python",
   "name": "python",
   "nbconvert_exporter": "python",
   "pygments_lexer": "ipython3",
   "version": "3.9.12"
  }
 },
 "nbformat": 4,
 "nbformat_minor": 5
}
