{
 "cells": [
  {
   "cell_type": "code",
   "execution_count": 1,
   "id": "9a4b66c0-2ed2-49e0-baf0-65f381563e22",
   "metadata": {},
   "outputs": [
    {
     "name": "stderr",
     "output_type": "stream",
     "text": [
      "/Users/ivolinengong/miniforge3/envs/syft_env/lib/python3.10/site-packages/jax/_src/lib/__init__.py:33: UserWarning: JAX on Mac ARM machines is experimental and minimally tested. Please see https://github.com/google/jax/issues/5501 in the event of problems.\n",
      "  warnings.warn(\"JAX on Mac ARM machines is experimental and minimally tested. \"\n",
      "/Users/ivolinengong/miniforge3/envs/syft_env/lib/python3.10/site-packages/tqdm/auto.py:22: TqdmWarning: IProgress not found. Please update jupyter and ipywidgets. See https://ipywidgets.readthedocs.io/en/stable/user_install.html\n",
      "  from .autonotebook import tqdm as notebook_tqdm\n"
     ]
    },
    {
     "data": {
      "text/plain": [
       "(dict_keys(['1752410697', '264794995']), array(0))"
      ]
     },
     "execution_count": 1,
     "metadata": {},
     "output_type": "execute_result"
    }
   ],
   "source": [
    "import syft as sy\n",
    "import numpy as np\n",
    "from syft import phi_tensor\n",
    "\n",
    "from syft.core.adp.data_subject_ledger import DataSubjectLedger\n",
    "from syft.core.adp.ledger_store import DictLedgerStore\n",
    "from typing import Any\n",
    "from syft.core.adp.data_subject import DataSubject\n",
    "import numpy as np\n",
    "\n",
    "data1 = np.random.random((5,5))\n",
    "data2 = np.random.random((5,5))\n",
    "\n",
    "pt = phi_tensor.PhiTensor(child=data1, data_subjects=1, min_vals=0, max_vals=1)\n",
    "pt2 = phi_tensor.PhiTensor(child=data2, data_subjects=2, min_vals=0, max_vals=1)\n",
    "gt = pt + pt2\n",
    "gt.state.keys(), gt.data_subjects.data_subjects_indexed"
   ]
  },
  {
   "cell_type": "code",
   "execution_count": 2,
   "id": "113f3f99",
   "metadata": {},
   "outputs": [
    {
     "name": "stdout",
     "output_type": "stream",
     "text": [
      "Creating new Ledger\n"
     ]
    }
   ],
   "source": [
    "ledger_store = DictLedgerStore()\n",
    "# print(ledger_store.kv_store)\n",
    "user_key = b\"1231\"\n",
    "ledger = DataSubjectLedger.get_or_create(store=ledger_store, user_key=user_key)\n",
    "max_budget = 100\n",
    "\n",
    "def get_budget_for_user(*args: Any, **kwargs: Any) -> float:\n",
    "    return 9999999\n",
    "\n",
    "def deduct_epsilon_for_user(*args: Any, **kwargs: Any) -> bool:\n",
    "    return True\n"
   ]
  },
  {
   "cell_type": "markdown",
   "id": "4ee68877",
   "metadata": {},
   "source": [
    "Phi Tensor"
   ]
  },
  {
   "cell_type": "code",
   "execution_count": 3,
   "id": "e90d93d0-289e-4fbd-a215-31a706317d06",
   "metadata": {},
   "outputs": [
    {
     "name": "stderr",
     "output_type": "stream",
     "text": [
      "WARNING:absl:No GPU/TPU found, falling back to CPU. (Set TF_CPP_MIN_LOG_LEVEL=0 and rerun for more info.)\n"
     ]
    },
    {
     "name": "stdout",
     "output_type": "stream",
     "text": [
      "Query Limit:  5\n",
      "Sigma before Calibration:\n",
      "  0.1\n",
      "****** Budget spent EXCEEDS limit set by data owner\n",
      "Sigma after Calibration: \n",
      " 48166.899121699746\n"
     ]
    },
    {
     "name": "stderr",
     "output_type": "stream",
     "text": [
      "  0%|          | 0/1 [00:00<?, ?it/s]/Users/ivolinengong/miniforge3/envs/syft_env/lib/python3.10/site-packages/jax/interpreters/mlir.py:512: UserWarning: Some donated buffers were not usable: ShapedArray(float64[25]), ShapedArray(int64[]).\n",
      "Donation is not implemented for cpu.\n",
      "See an explanation at https://jax.readthedocs.io/en/latest/faq.html#buffer-donation.\n",
      "  warnings.warn(f\"Some donated buffers were not usable: {', '.join(unused_donations)}.\\n{msg}\")\n",
      "100%|██████████| 1/1 [00:00<00:00,  8.76it/s]"
     ]
    },
    {
     "name": "stdout",
     "output_type": "stream",
     "text": [
      "Epsilon spend  [31.02521722 31.02521722 31.02521722 31.02521722 31.02521722 31.02521722\n",
      " 31.02521722 31.02521722 31.02521722 31.02521722 31.02521722 31.02521722\n",
      " 31.02521722 31.02521722 31.02521722 31.02521722 31.02521722 31.02521722\n",
      " 31.02521722 31.02521722 31.02521722 31.02521722 31.02521722 31.02521722\n",
      " 31.02521722]\n",
      "\n",
      " Got user budget 9999999.0 epsilon_spent 31.02521721895727\n"
     ]
    },
    {
     "name": "stderr",
     "output_type": "stream",
     "text": [
      "\n"
     ]
    }
   ],
   "source": [
    "# Phi Tensor\n",
    "# with calibration: query_limit = 5\n",
    "results = pt.publish(\n",
    "    get_budget_for_user=get_budget_for_user,\n",
    "    deduct_epsilon_for_user=deduct_epsilon_for_user,\n",
    "    ledger=ledger,\n",
    "    sigma=0.1,\n",
    ")"
   ]
  },
  {
   "cell_type": "code",
   "execution_count": 3,
   "id": "14d55abc",
   "metadata": {},
   "outputs": [
    {
     "name": "stderr",
     "output_type": "stream",
     "text": [
      "WARNING:absl:No GPU/TPU found, falling back to CPU. (Set TF_CPP_MIN_LOG_LEVEL=0 and rerun for more info.)\n"
     ]
    },
    {
     "name": "stdout",
     "output_type": "stream",
     "text": [
      "Query Limit:  999999\n",
      "Sigma before Calibration:\n",
      "  0.1\n",
      "****** Budget spent BELOW limit set by data owner\n",
      "Sigma after Calibration: \n",
      " 0.1\n"
     ]
    },
    {
     "name": "stderr",
     "output_type": "stream",
     "text": [
      "  0%|          | 0/1 [00:00<?, ?it/s]/Users/ivolinengong/miniforge3/envs/syft_env/lib/python3.10/site-packages/jax/interpreters/mlir.py:512: UserWarning: Some donated buffers were not usable: ShapedArray(float64[25]), ShapedArray(int64[]).\n",
      "Donation is not implemented for cpu.\n",
      "See an explanation at https://jax.readthedocs.io/en/latest/faq.html#buffer-donation.\n",
      "  warnings.warn(f\"Some donated buffers were not usable: {', '.join(unused_donations)}.\\n{msg}\")\n",
      "100%|██████████| 1/1 [00:00<00:00, 12.47it/s]"
     ]
    },
    {
     "name": "stdout",
     "output_type": "stream",
     "text": [
      "Epsilon spend  [706263.4037034 706263.4037034 706263.4037034 706263.4037034\n",
      " 706263.4037034 706263.4037034 706263.4037034 706263.4037034\n",
      " 706263.4037034 706263.4037034 706263.4037034 706263.4037034\n",
      " 706263.4037034 706263.4037034 706263.4037034 706263.4037034\n",
      " 706263.4037034 706263.4037034 706263.4037034 706263.4037034\n",
      " 706263.4037034 706263.4037034 706263.4037034 706263.4037034\n",
      " 706263.4037034]\n",
      "\n",
      " Got user budget 9999999.0 epsilon_spent 706263.403703397\n"
     ]
    },
    {
     "name": "stderr",
     "output_type": "stream",
     "text": [
      "\n"
     ]
    }
   ],
   "source": [
    "# Phi Tensor\n",
    "# without calibration: query_limit = 99999\n",
    "results = pt.publish(\n",
    "    get_budget_for_user=get_budget_for_user,\n",
    "    deduct_epsilon_for_user=deduct_epsilon_for_user,\n",
    "    ledger=ledger,\n",
    "    sigma=0.1,\n",
    ")"
   ]
  },
  {
   "cell_type": "markdown",
   "id": "373256a3",
   "metadata": {},
   "source": [
    "Gamma Tensor"
   ]
  },
  {
   "cell_type": "code",
   "execution_count": 4,
   "id": "ea1ee51a",
   "metadata": {},
   "outputs": [
    {
     "name": "stdout",
     "output_type": "stream",
     "text": [
      "Query Limit:  5\n",
      "Sigma before Calibration:\n",
      "  0.1\n",
      "****** Budget spent EXCEEDS limit set by data owner\n",
      "Sigma after Calibration: \n",
      " 48315.413969043046\n"
     ]
    },
    {
     "name": "stderr",
     "output_type": "stream",
     "text": [
      "100%|██████████| 2/2 [00:00<00:00, 660.05it/s]"
     ]
    },
    {
     "name": "stdout",
     "output_type": "stream",
     "text": [
      "Epsilon spend  [30.88546328 30.88546328 30.88546328 30.88546328 30.88546328 30.88546328\n",
      " 30.88546328 30.88546328 30.88546328 30.88546328 30.88546328 30.88546328\n",
      " 30.88546328 30.88546328 30.88546328 30.88546328 30.88546328 30.88546328\n",
      " 30.88546328 30.88546328 30.88546328 30.88546328 30.88546328 30.88546328\n",
      " 30.88546328]\n",
      "\n",
      " Got user budget 9999999.0 epsilon_spent 30.885463279052054\n",
      "Epsilon spend  [24.95997727 24.95997727 24.95997727 24.95997727 24.95997727 24.95997727\n",
      " 24.95997727 24.95997727 24.95997727 24.95997727 24.95997727 24.95997727\n",
      " 24.95997727 24.95997727 24.95997727 24.95997727 24.95997727 24.95997727\n",
      " 24.95997727 24.95997727 24.95997727 24.95997727 24.95997727 24.95997727\n",
      " 24.95997727]\n",
      "\n",
      " Got user budget 9999999.0 epsilon_spent 24.959977266664893\n"
     ]
    },
    {
     "name": "stderr",
     "output_type": "stream",
     "text": [
      "\n"
     ]
    }
   ],
   "source": [
    "# Gamma Tensor\n",
    "# with calibration: query_limit = 5\n",
    "\n",
    "results = gt.publish(\n",
    "    get_budget_for_user=get_budget_for_user,\n",
    "    deduct_epsilon_for_user=deduct_epsilon_for_user,\n",
    "    ledger=ledger,\n",
    "    sigma=0.1,\n",
    ")"
   ]
  },
  {
   "cell_type": "code",
   "execution_count": 4,
   "id": "71220f89-7f4f-4867-870e-90e135318417",
   "metadata": {},
   "outputs": [
    {
     "name": "stdout",
     "output_type": "stream",
     "text": [
      "Query Limit:  999999\n",
      "Sigma before Calibration:\n",
      "  0.1\n",
      "****** Budget spent BELOW limit set by data owner\n",
      "Sigma after Calibration: \n",
      " 0.1\n"
     ]
    },
    {
     "name": "stderr",
     "output_type": "stream",
     "text": [
      "100%|██████████| 2/2 [00:00<00:00, 540.82it/s]"
     ]
    },
    {
     "name": "stdout",
     "output_type": "stream",
     "text": [
      "Epsilon spend  [706263.4037034 706263.4037034 706263.4037034 706263.4037034\n",
      " 706263.4037034 706263.4037034 706263.4037034 706263.4037034\n",
      " 706263.4037034 706263.4037034 706263.4037034 706263.4037034\n",
      " 706263.4037034 706263.4037034 706263.4037034 706263.4037034\n",
      " 706263.4037034 706263.4037034 706263.4037034 706263.4037034\n",
      " 706263.4037034 706263.4037034 706263.4037034 706263.4037034\n",
      " 706263.4037034]\n",
      "\n",
      " Got user budget 9999999.0 epsilon_spent 706263.403703397\n",
      "Epsilon spend  [706263.4037034 706263.4037034 706263.4037034 706263.4037034\n",
      " 706263.4037034 706263.4037034 706263.4037034 706263.4037034\n",
      " 706263.4037034 706263.4037034 706263.4037034 706263.4037034\n",
      " 706263.4037034 706263.4037034 706263.4037034 706263.4037034\n",
      " 706263.4037034 706263.4037034 706263.4037034 706263.4037034\n",
      " 706263.4037034 706263.4037034 706263.4037034 706263.4037034\n",
      " 706263.4037034]\n",
      "\n",
      " Got user budget 9999999.0 epsilon_spent 706263.403703397\n"
     ]
    },
    {
     "name": "stderr",
     "output_type": "stream",
     "text": [
      "\n"
     ]
    }
   ],
   "source": [
    "# Gamma Tensor\n",
    "# without calibration:  query_limit = 999999\n",
    "results = gt.publish(\n",
    "    get_budget_for_user=get_budget_for_user,\n",
    "    deduct_epsilon_for_user=deduct_epsilon_for_user,\n",
    "    ledger=ledger,\n",
    "    sigma=0.1,\n",
    ")"
   ]
  },
  {
   "cell_type": "markdown",
   "id": "b8104200",
   "metadata": {},
   "source": [
    "Syft Tensors"
   ]
  },
  {
   "cell_type": "code",
   "execution_count": 7,
   "id": "eb417cf1",
   "metadata": {},
   "outputs": [
    {
     "data": {
      "text/plain": [
       "((5, 5), (5, 5))"
      ]
     },
     "execution_count": 7,
     "metadata": {},
     "output_type": "execute_result"
    }
   ],
   "source": [
    "\n",
    "entity1 = np.random.choice([DataSubject(name=\"1\")], size=5)\n",
    "entity2 = np.random.choice( [DataSubject(name=\"2\")], size=5)\n",
    "\n",
    "pt_tensor = sy.Tensor(np.random.random((5,5))).private(min_val=0, max_val=2, data_subjects=entity1)\n",
    "pt_tensor2 = sy.Tensor(np.random.random((5,5))).private(min_val=0, max_val=2, data_subjects=entity2)\n",
    "pt_tensor.shape, pt.shape"
   ]
  },
  {
   "cell_type": "code",
   "execution_count": 8,
   "id": "db1a9df3",
   "metadata": {},
   "outputs": [
    {
     "name": "stdout",
     "output_type": "stream",
     "text": [
      "Query Limit:  5\n",
      "Sigma before Calibration:\n",
      "  0.1\n",
      "****** Budget spent EXCEEDS limit set by data owner\n",
      "Sigma after Calibration: \n",
      " 48341.53464671969\n"
     ]
    },
    {
     "name": "stderr",
     "output_type": "stream",
     "text": [
      "  0%|          | 0/1 [00:00<?, ?it/s]/Users/ivolinengong/miniforge3/envs/syft_env/lib/python3.10/site-packages/jax/interpreters/mlir.py:512: UserWarning: Some donated buffers were not usable: ShapedArray(float64[25]), ShapedArray(int64[5]).\n",
      "Donation is not implemented for cpu.\n",
      "See an explanation at https://jax.readthedocs.io/en/latest/faq.html#buffer-donation.\n",
      "  warnings.warn(f\"Some donated buffers were not usable: {', '.join(unused_donations)}.\\n{msg}\")\n",
      "100%|██████████| 1/1 [00:00<00:00, 22.19it/s]"
     ]
    },
    {
     "name": "stdout",
     "output_type": "stream",
     "text": [
      "Epsilon spend  [26.98984112 26.98984112 26.98984112 26.98984112 26.98984112 26.98984112\n",
      " 26.98984112 26.98984112 26.98984112 26.98984112 26.98984112 26.98984112\n",
      " 26.98984112 26.98984112 26.98984112 26.98984112 26.98984112 26.98984112\n",
      " 26.98984112 26.98984112 26.98984112 26.98984112 26.98984112 26.98984112\n",
      " 26.98984112]\n",
      "\n",
      " Got user budget 9999999.0 epsilon_spent 26.989841116423154\n"
     ]
    },
    {
     "name": "stderr",
     "output_type": "stream",
     "text": [
      "\n"
     ]
    }
   ],
   "source": [
    "# Syft Phi Tensor\n",
    "# with calibration: query_limit = 5\n",
    "results = pt_tensor.child.publish(\n",
    "    get_budget_for_user=get_budget_for_user,\n",
    "    deduct_epsilon_for_user=deduct_epsilon_for_user,\n",
    "    ledger=ledger,\n",
    "    sigma=0.1,\n",
    ")"
   ]
  },
  {
   "cell_type": "code",
   "execution_count": 8,
   "id": "a336d893",
   "metadata": {},
   "outputs": [
    {
     "name": "stdout",
     "output_type": "stream",
     "text": [
      "Query Limit:  999999\n",
      "Sigma before Calibration:\n",
      "  0.1\n",
      "****** Budget spent BELOW limit set by data owner\n",
      "Sigma after Calibration: \n",
      " 0.1\n"
     ]
    },
    {
     "name": "stderr",
     "output_type": "stream",
     "text": [
      "  0%|          | 0/1 [00:00<?, ?it/s]/Users/ivolinengong/miniforge3/envs/syft_env/lib/python3.10/site-packages/jax/interpreters/mlir.py:512: UserWarning: Some donated buffers were not usable: ShapedArray(float64[25]), ShapedArray(int64[5]).\n",
      "Donation is not implemented for cpu.\n",
      "See an explanation at https://jax.readthedocs.io/en/latest/faq.html#buffer-donation.\n",
      "  warnings.warn(f\"Some donated buffers were not usable: {', '.join(unused_donations)}.\\n{msg}\")\n",
      "100%|██████████| 1/1 [00:00<00:00, 24.57it/s]"
     ]
    },
    {
     "name": "stdout",
     "output_type": "stream",
     "text": [
      "Epsilon spend  [706263.4037034 706263.4037034 706263.4037034 706263.4037034\n",
      " 706263.4037034 706263.4037034 706263.4037034 706263.4037034\n",
      " 706263.4037034 706263.4037034 706263.4037034 706263.4037034\n",
      " 706263.4037034 706263.4037034 706263.4037034 706263.4037034\n",
      " 706263.4037034 706263.4037034 706263.4037034 706263.4037034\n",
      " 706263.4037034 706263.4037034 706263.4037034 706263.4037034\n",
      " 706263.4037034]\n",
      "\n",
      " Got user budget 9999999.0 epsilon_spent 706263.403703397\n"
     ]
    },
    {
     "name": "stderr",
     "output_type": "stream",
     "text": [
      "\n"
     ]
    }
   ],
   "source": [
    "# Syft Phi Tensor\n",
    "# without calibration: query_limit = 999999\n",
    "results = pt_tensor.child.publish(\n",
    "    get_budget_for_user=get_budget_for_user,\n",
    "    deduct_epsilon_for_user=deduct_epsilon_for_user,\n",
    "    ledger=ledger,\n",
    "    sigma=0.1,\n",
    ")"
   ]
  },
  {
   "cell_type": "markdown",
   "id": "bc191855",
   "metadata": {},
   "source": [
    "Gamma Tensor"
   ]
  },
  {
   "cell_type": "code",
   "execution_count": 9,
   "id": "78fa7600",
   "metadata": {},
   "outputs": [
    {
     "name": "stdout",
     "output_type": "stream",
     "text": [
      "Query Limit:  5\n",
      "Sigma before Calibration:\n",
      "  0.1\n",
      "****** Budget spent EXCEEDS limit set by data owner\n",
      "Sigma after Calibration: \n",
      " 49027.790354043085\n"
     ]
    },
    {
     "name": "stderr",
     "output_type": "stream",
     "text": [
      "100%|██████████| 2/2 [00:00<00:00, 262.78it/s]"
     ]
    },
    {
     "name": "stdout",
     "output_type": "stream",
     "text": [
      "Epsilon spend  [25.94763718 25.94763718 25.94763718 25.94763718 25.94763718 25.94763718\n",
      " 25.94763718 25.94763718 25.94763718 25.94763718 25.94763718 25.94763718\n",
      " 25.94763718 25.94763718 25.94763718 25.94763718 25.94763718 25.94763718\n",
      " 25.94763718 25.94763718 25.94763718 25.94763718 25.94763718 25.94763718\n",
      " 25.94763718]\n",
      "\n",
      " Got user budget 9999999.0 epsilon_spent 25.947637183620635\n",
      "Epsilon spend  [24.65395121 24.65395121 24.65395121 24.65395121 24.65395121 24.65395121\n",
      " 24.65395121 24.65395121 24.65395121 24.65395121 24.65395121 24.65395121\n",
      " 24.65395121 24.65395121 24.65395121 24.65395121 24.65395121 24.65395121\n",
      " 24.65395121 24.65395121 24.65395121 24.65395121 24.65395121 24.65395121\n",
      " 24.65395121]\n",
      "\n",
      " Got user budget 9999999.0 epsilon_spent 24.653951206121633\n"
     ]
    },
    {
     "name": "stderr",
     "output_type": "stream",
     "text": [
      "\n"
     ]
    }
   ],
   "source": [
    "# Syft Gamma Tensor\n",
    "# query_limit = 5\n",
    "gt_tensor = pt_tensor + pt_tensor2\n",
    "results = gt_tensor.child.publish(\n",
    "    get_budget_for_user=get_budget_for_user,\n",
    "    deduct_epsilon_for_user=deduct_epsilon_for_user,\n",
    "    ledger=ledger,\n",
    "    sigma=0.1,\n",
    ")"
   ]
  },
  {
   "cell_type": "code",
   "execution_count": 9,
   "id": "5a8e5531",
   "metadata": {},
   "outputs": [
    {
     "name": "stdout",
     "output_type": "stream",
     "text": [
      "Query Limit:  999999\n",
      "Sigma before Calibration:\n",
      "  0.1\n",
      "****** Budget spent BELOW limit set by data owner\n",
      "Sigma after Calibration: \n",
      " 0.1\n"
     ]
    },
    {
     "name": "stderr",
     "output_type": "stream",
     "text": [
      "100%|██████████| 2/2 [00:00<00:00, 674.05it/s]"
     ]
    },
    {
     "name": "stdout",
     "output_type": "stream",
     "text": [
      "Epsilon spend  [706263.4037034 706263.4037034 706263.4037034 706263.4037034\n",
      " 706263.4037034 706263.4037034 706263.4037034 706263.4037034\n",
      " 706263.4037034 706263.4037034 706263.4037034 706263.4037034\n",
      " 706263.4037034 706263.4037034 706263.4037034 706263.4037034\n",
      " 706263.4037034 706263.4037034 706263.4037034 706263.4037034\n",
      " 706263.4037034 706263.4037034 706263.4037034 706263.4037034\n",
      " 706263.4037034]\n",
      "\n",
      " Got user budget 9999999.0 epsilon_spent 706263.403703397\n",
      "Epsilon spend  [706263.4037034 706263.4037034 706263.4037034 706263.4037034\n",
      " 706263.4037034 706263.4037034 706263.4037034 706263.4037034\n",
      " 706263.4037034 706263.4037034 706263.4037034 706263.4037034\n",
      " 706263.4037034 706263.4037034 706263.4037034 706263.4037034\n",
      " 706263.4037034 706263.4037034 706263.4037034 706263.4037034\n",
      " 706263.4037034 706263.4037034 706263.4037034 706263.4037034\n",
      " 706263.4037034]\n",
      "\n",
      " Got user budget 9999999.0 epsilon_spent 706263.403703397\n"
     ]
    },
    {
     "name": "stderr",
     "output_type": "stream",
     "text": [
      "\n"
     ]
    }
   ],
   "source": [
    "# Syft Gamma Tensor\n",
    "# query_limit = 99999\n",
    "gt_tensor = pt_tensor + pt_tensor2\n",
    "results = gt_tensor.child.publish(\n",
    "    get_budget_for_user=get_budget_for_user,\n",
    "    deduct_epsilon_for_user=deduct_epsilon_for_user,\n",
    "    ledger=ledger,\n",
    "    sigma=0.1,\n",
    ")"
   ]
  },
  {
   "cell_type": "code",
   "execution_count": null,
   "id": "7c955470",
   "metadata": {},
   "outputs": [],
   "source": []
  },
  {
   "cell_type": "code",
   "execution_count": null,
   "id": "4a40ada6",
   "metadata": {},
   "outputs": [],
   "source": []
  }
 ],
 "metadata": {
  "kernelspec": {
   "display_name": "Python 3.10.5 ('syft_env')",
   "language": "python",
   "name": "python3"
  },
  "language_info": {
   "codemirror_mode": {
    "name": "ipython",
    "version": 3
   },
   "file_extension": ".py",
   "mimetype": "text/x-python",
   "name": "python",
   "nbconvert_exporter": "python",
   "pygments_lexer": "ipython3",
   "version": "3.10.5"
  },
  "vscode": {
   "interpreter": {
    "hash": "608402134fc1d50a91a0fd234cc5c1eaca5f5294dcf84c9acf6f5355519845f7"
   }
  }
 },
 "nbformat": 4,
 "nbformat_minor": 5
}
