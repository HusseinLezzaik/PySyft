{
 "cells": [
  {
   "cell_type": "code",
   "execution_count": 1,
   "id": "9a4b66c0-2ed2-49e0-baf0-65f381563e22",
   "metadata": {},
   "outputs": [
    {
     "name": "stderr",
     "output_type": "stream",
     "text": [
      "/Users/ivolinengong/miniforge3/envs/syft_env/lib/python3.10/site-packages/jax/_src/lib/__init__.py:33: UserWarning: JAX on Mac ARM machines is experimental and minimally tested. Please see https://github.com/google/jax/issues/5501 in the event of problems.\n",
      "  warnings.warn(\"JAX on Mac ARM machines is experimental and minimally tested. \"\n",
      "/Users/ivolinengong/miniforge3/envs/syft_env/lib/python3.10/site-packages/tqdm/auto.py:22: TqdmWarning: IProgress not found. Please update jupyter and ipywidgets. See https://ipywidgets.readthedocs.io/en/stable/user_install.html\n",
      "  from .autonotebook import tqdm as notebook_tqdm\n"
     ]
    },
    {
     "data": {
      "text/plain": [
       "(dict_keys(['115251055', '1875872415']), array(0))"
      ]
     },
     "execution_count": 1,
     "metadata": {},
     "output_type": "execute_result"
    }
   ],
   "source": [
    "import syft as sy\n",
    "import numpy as np\n",
    "from syft import phi_tensor\n",
    "\n",
    "from syft.core.adp.data_subject_ledger import DataSubjectLedger\n",
    "from syft.core.adp.ledger_store import DictLedgerStore\n",
    "from typing import Any\n",
    "from syft.core.adp.data_subject import DataSubject\n",
    "import numpy as np\n",
    "\n",
    "data1 = np.random.random((5,5))\n",
    "data2 = np.random.random((5,5))\n",
    "\n",
    "pt = phi_tensor.PhiTensor(child=data1, data_subjects=1, min_vals=0, max_vals=1)\n",
    "pt2 = phi_tensor.PhiTensor(child=data2, data_subjects=2, min_vals=0, max_vals=1)\n",
    "gt = pt + pt2\n",
    "gt.state.keys(), gt.data_subjects.data_subjects_indexed"
   ]
  },
  {
   "cell_type": "code",
   "execution_count": 2,
   "id": "113f3f99",
   "metadata": {},
   "outputs": [
    {
     "name": "stdout",
     "output_type": "stream",
     "text": [
      "Creating new Ledger\n"
     ]
    }
   ],
   "source": [
    "ledger_store = DictLedgerStore()\n",
    "# print(ledger_store.kv_store)\n",
    "user_key = b\"1231\"\n",
    "ledger = DataSubjectLedger.get_or_create(store=ledger_store, user_key=user_key)\n",
    "max_budget = 100\n",
    "\n",
    "def get_budget_for_user(*args: Any, **kwargs: Any) -> float:\n",
    "    return 9999999\n",
    "\n",
    "def deduct_epsilon_for_user(*args: Any, **kwargs: Any) -> bool:\n",
    "    return True\n"
   ]
  },
  {
   "cell_type": "markdown",
   "id": "3b124334",
   "metadata": {},
   "source": [
    "Call publish\n",
    "\n",
    "Set calibration==false and true\n",
    "\n",
    "verify that budget spent is actually less than the query limit\n",
    "\n",
    "syftensor=>phi_tensor\n",
    "syftensor=>gamma_tensor"
   ]
  },
  {
   "cell_type": "code",
   "execution_count": 3,
   "id": "e90d93d0-289e-4fbd-a215-31a706317d06",
   "metadata": {},
   "outputs": [
    {
     "name": "stderr",
     "output_type": "stream",
     "text": [
      "WARNING:absl:No GPU/TPU found, falling back to CPU. (Set TF_CPP_MIN_LOG_LEVEL=0 and rerun for more info.)\n"
     ]
    },
    {
     "name": "stdout",
     "output_type": "stream",
     "text": [
      "PUBLISHING TO GAMMA:\n",
      "FixedPrecisionTensor(child=[[39632 48600 59897 23518 24331]\n",
      " [18162 51897 60692 62180 19321]\n",
      " [25920 50573 14825 59426 14750]\n",
      " [47556 19305  2533 61419 43769]\n",
      " [53502 56616 38664 21280 44793]])\n",
      "****** Budget spent EXCEEDS limit set by data owner\n"
     ]
    },
    {
     "name": "stderr",
     "output_type": "stream",
     "text": [
      "  0%|          | 0/1 [00:00<?, ?it/s]"
     ]
    },
    {
     "name": "stdout",
     "output_type": "stream",
     "text": [
      "constant:  [9.73900626 9.73900626 9.73900626 9.73900626 9.73900626 9.73900626\n",
      " 9.73900626 9.73900626 9.73900626 9.73900626 9.73900626 9.73900626\n",
      " 9.73900626 9.73900626 9.73900626 9.73900626 9.73900626 9.73900626\n",
      " 9.73900626 9.73900626 9.73900626 9.73900626 9.73900626 9.73900626\n",
      " 9.73900626]\n",
      "_rdp_constants:  [0. 0. 0. 0. 0. 0. 0. 0. 0. 0. 0. 0. 0. 0. 0. 0. 0. 0. 0. 0. 0. 0. 0. 0.\n",
      " 0.]\n",
      "entity ids query 0\n"
     ]
    },
    {
     "name": "stderr",
     "output_type": "stream",
     "text": [
      "/Users/ivolinengong/miniforge3/envs/syft_env/lib/python3.10/site-packages/jax/interpreters/mlir.py:512: UserWarning: Some donated buffers were not usable: ShapedArray(float64[25]), ShapedArray(int64[]).\n",
      "Donation is not implemented for cpu.\n",
      "See an explanation at https://jax.readthedocs.io/en/latest/faq.html#buffer-donation.\n",
      "  warnings.warn(f\"Some donated buffers were not usable: {', '.join(unused_donations)}.\\n{msg}\")\n",
      "100%|██████████| 1/1 [00:00<00:00,  9.69it/s]"
     ]
    },
    {
     "name": "stdout",
     "output_type": "stream",
     "text": [
      "0\n",
      "Epsilon spend  [29.47263845 29.47263845 29.47263845 29.47263845 29.47263845 29.47263845\n",
      " 29.47263845 29.47263845 29.47263845 29.47263845 29.47263845 29.47263845\n",
      " 29.47263845 29.47263845 29.47263845 29.47263845 29.47263845 29.47263845\n",
      " 29.47263845 29.47263845 29.47263845 29.47263845 29.47263845 29.47263845\n",
      " 29.47263845]\n",
      "Highest possible spend  29.472638447378344\n",
      "Attemping to spend epsilon: 29.472638447378344. Try: 0\n",
      "got user budget 9999999.0 epsilon_spent 29.472638447378344\n",
      "We have filtered all the input tensors. Now to compute the result:\n",
      "Filtered inputs  [array([[39632, 48600, 59897, 23518, 24331],\n",
      "       [18162, 51897, 60692, 62180, 19321],\n",
      "       [25920, 50573, 14825, 59426, 14750],\n",
      "       [47556, 19305,  2533, 61419, 43769],\n",
      "       [53502, 56616, 38664, 21280, 44793]])]\n",
      "original output (before noise: [[[39632 48600 59897 23518 24331]\n",
      "  [18162 51897 60692 62180 19321]\n",
      "  [25920 50573 14825 59426 14750]\n",
      "  [47556 19305  2533 61419 43769]\n",
      "  [53502 56616 38664 21280 44793]]]\n",
      "noise:  [[[-0.06375894  0.14442793 -0.2551427  -0.11824936 -0.0109686 ]\n",
      "  [-0.01212895  0.00705127  0.05275298  0.21113632 -0.06451406]\n",
      "  [-0.07009725  0.02377642  0.15842967 -0.17618397 -0.00518639]\n",
      "  [ 0.24067594  0.08938163 -0.10562389  0.00668447  0.13490031]\n",
      "  [ 0.02525733 -0.11862818  0.04560998  0.09785499  0.04286335]]]\n",
      "Noise after FPT [[[ -4178   9465 -16721  -7749   -718]\n",
      "  [  -794    462   3457  13837  -4227]\n",
      "  [ -4593   1558  10382 -11546   -339]\n",
      "  [ 15772   5857  -6922    438   8840]\n",
      "  [  1655  -7774   2989   6413   2809]]]\n",
      "got output <class 'numpy.ndarray'> int64\n",
      "Final FPT Values FixedPrecisionTensor(child=[[35454 58065 43176 15769 23613]\n",
      " [17368 52359 64149 76017 15094]\n",
      " [21327 52131 25207 47880 14411]\n",
      " [63328 25162 -4389 61857 52609]\n",
      " [55157 48842 41653 27693 47602]])\n"
     ]
    },
    {
     "name": "stderr",
     "output_type": "stream",
     "text": [
      "\n"
     ]
    }
   ],
   "source": [
    "\n",
    "# Phi Tensor\n",
    "results = pt.publish(\n",
    "    get_budget_for_user=get_budget_for_user,\n",
    "    deduct_epsilon_for_user=deduct_epsilon_for_user,\n",
    "    ledger=ledger,\n",
    "    sigma=0.1,\n",
    ")\n",
    "\n"
   ]
  },
  {
   "cell_type": "code",
   "execution_count": 4,
   "id": "71220f89-7f4f-4867-870e-90e135318417",
   "metadata": {},
   "outputs": [
    {
     "name": "stdout",
     "output_type": "stream",
     "text": [
      "****** Budget spent EXCEEDS limit set by data owner\n"
     ]
    },
    {
     "name": "stderr",
     "output_type": "stream",
     "text": [
      "100%|██████████| 2/2 [00:00<00:00, 780.63it/s]"
     ]
    },
    {
     "name": "stdout",
     "output_type": "stream",
     "text": [
      "constant:  [9.66459041 9.66459041 9.66459041 9.66459041 9.66459041 9.66459041\n",
      " 9.66459041 9.66459041 9.66459041 9.66459041 9.66459041 9.66459041\n",
      " 9.66459041 9.66459041 9.66459041 9.66459041 9.66459041 9.66459041\n",
      " 9.66459041 9.66459041 9.66459041 9.66459041 9.66459041 9.66459041\n",
      " 9.66459041]\n",
      "_rdp_constants:  [9.73900626 0.         0.         0.         0.         0.\n",
      " 0.         0.         0.         0.         0.         0.\n",
      " 0.         0.         0.         0.         0.         0.\n",
      " 0.         0.         0.         0.         0.         0.\n",
      " 0.        ]\n",
      "entity ids query 0\n",
      "0\n",
      "Epsilon spend  [29.30702117 29.30702117 29.30702117 29.30702117 29.30702117 29.30702117\n",
      " 29.30702117 29.30702117 29.30702117 29.30702117 29.30702117 29.30702117\n",
      " 29.30702117 29.30702117 29.30702117 29.30702117 29.30702117 29.30702117\n",
      " 29.30702117 29.30702117 29.30702117 29.30702117 29.30702117 29.30702117\n",
      " 29.30702117]\n",
      "Highest possible spend  29.307021168236922\n",
      "Attemping to spend epsilon: 29.307021168236922. Try: 0\n",
      "got user budget 9999999.0 epsilon_spent 29.307021168236922\n",
      "constant:  [8.55366535 8.55366535 8.55366535 8.55366535 8.55366535 8.55366535\n",
      " 8.55366535 8.55366535 8.55366535 8.55366535 8.55366535 8.55366535\n",
      " 8.55366535 8.55366535 8.55366535 8.55366535 8.55366535 8.55366535\n",
      " 8.55366535 8.55366535 8.55366535 8.55366535 8.55366535 8.55366535\n",
      " 8.55366535]\n",
      "_rdp_constants:  [19.40359667  0.          0.          0.          0.          0.\n",
      "  0.          0.          0.          0.          0.          0.\n",
      "  0.          0.          0.          0.          0.          0.\n",
      "  0.          0.          0.          0.          0.          0.\n",
      "  0.        ]\n",
      "entity ids query 0\n",
      "0\n",
      "Epsilon spend  [26.78889423 26.78889423 26.78889423 26.78889423 26.78889423 26.78889423\n",
      " 26.78889423 26.78889423 26.78889423 26.78889423 26.78889423 26.78889423\n",
      " 26.78889423 26.78889423 26.78889423 26.78889423 26.78889423 26.78889423\n",
      " 26.78889423 26.78889423 26.78889423 26.78889423 26.78889423 26.78889423\n",
      " 26.78889423]\n",
      "Highest possible spend  26.788894234189364\n",
      "Attemping to spend epsilon: 26.788894234189364. Try: 0\n",
      "got user budget 9999999.0 epsilon_spent 26.788894234189364\n",
      "We have filtered all the input tensors. Now to compute the result:\n",
      "Filtered inputs  [array([[39632, 48600, 59897, 23518, 24331],\n",
      "       [18162, 51897, 60692, 62180, 19321],\n",
      "       [25920, 50573, 14825, 59426, 14750],\n",
      "       [47556, 19305,  2533, 61419, 43769],\n",
      "       [53502, 56616, 38664, 21280, 44793]]), array([[37482, 42450, 56744, 23720, 58824],\n",
      "       [51596, 45236,  3518, 56427, 49369],\n",
      "       [40818, 44696, 25973, 29159, 40544],\n",
      "       [43900, 46006, 20892, 35679, 36553],\n",
      "       [ 8264,  2826, 36912, 60497, 12539]])]\n",
      "original output (before noise: [[ 77114  91050 116641  47238  83155]\n",
      " [ 69758  97133  64210 118607  68690]\n",
      " [ 66738  95269  40798  88585  55294]\n",
      " [ 91456  65311  23425  97098  80322]\n",
      " [ 61766  59442  75576  81777  57332]]\n",
      "noise:  [[-0.18423649  0.07263412 -0.10372261  0.0025445   0.04145524]\n",
      " [-0.1092904  -0.18059921 -0.14408482 -0.08085911  0.08630293]\n",
      " [ 0.08698123 -0.00529788  0.01891057  0.03815507  0.02525094]\n",
      " [ 0.09093882  0.07496684  0.04682168 -0.09575491 -0.01007207]\n",
      " [ 0.0953356  -0.04725309 -0.12234903 -0.02281437 -0.1746737 ]]\n",
      "got output <class 'numpy.ndarray'> float64\n"
     ]
    },
    {
     "name": "stderr",
     "output_type": "stream",
     "text": [
      "\n"
     ]
    }
   ],
   "source": [
    "# Gamma Tensor\n",
    "results = gt.publish(\n",
    "    get_budget_for_user=get_budget_for_user,\n",
    "    deduct_epsilon_for_user=deduct_epsilon_for_user,\n",
    "    ledger=ledger,\n",
    "    sigma=0.1,\n",
    ")"
   ]
  },
  {
   "cell_type": "markdown",
   "id": "b8104200",
   "metadata": {},
   "source": [
    "Syft Tensors"
   ]
  },
  {
   "cell_type": "code",
   "execution_count": 5,
   "id": "eb417cf1",
   "metadata": {},
   "outputs": [
    {
     "data": {
      "text/plain": [
       "((5, 5), (5, 5))"
      ]
     },
     "execution_count": 5,
     "metadata": {},
     "output_type": "execute_result"
    }
   ],
   "source": [
    "\n",
    "entity1 = np.random.choice([DataSubject(name=\"1\")], size=5)\n",
    "entity2 = np.random.choice( [DataSubject(name=\"2\")], size=5)\n",
    "\n",
    "pt_tensor = sy.Tensor(np.random.random((5,5))).private(min_val=0, max_val=2, data_subjects=entity1)\n",
    "pt_tensor2 = sy.Tensor(np.random.random((5,5))).private(min_val=0, max_val=2, data_subjects=entity2)\n",
    "pt_tensor.shape, pt.shape"
   ]
  },
  {
   "cell_type": "code",
   "execution_count": 6,
   "id": "db1a9df3",
   "metadata": {},
   "outputs": [
    {
     "name": "stdout",
     "output_type": "stream",
     "text": [
      "PUBLISHING TO GAMMA:\n",
      "FixedPrecisionTensor(child=[[56546  6618 18636 14517 36664]\n",
      " [ 4828   931 45263 18288  7290]\n",
      " [39617 22252  5839 15680 62367]\n",
      " [ 2606 19209 15301  3784 65030]\n",
      " [25696 58126  2399 64349  5447]])\n",
      "****** Budget spent EXCEEDS limit set by data owner\n"
     ]
    },
    {
     "name": "stderr",
     "output_type": "stream",
     "text": [
      "  0%|          | 0/1 [00:00<?, ?it/s]/Users/ivolinengong/miniforge3/envs/syft_env/lib/python3.10/site-packages/jax/interpreters/mlir.py:512: UserWarning: Some donated buffers were not usable: ShapedArray(float64[25]), ShapedArray(int64[5]).\n",
      "Donation is not implemented for cpu.\n",
      "See an explanation at https://jax.readthedocs.io/en/latest/faq.html#buffer-donation.\n",
      "  warnings.warn(f\"Some donated buffers were not usable: {', '.join(unused_donations)}.\\n{msg}\")\n",
      "100%|██████████| 1/1 [00:00<00:00, 25.21it/s]"
     ]
    },
    {
     "name": "stdout",
     "output_type": "stream",
     "text": [
      "constant:  [5.76310831 5.76310831 5.76310831 5.76310831 5.76310831 5.76310831\n",
      " 5.76310831 5.76310831 5.76310831 5.76310831 5.76310831 5.76310831\n",
      " 5.76310831 5.76310831 5.76310831 5.76310831 5.76310831 5.76310831\n",
      " 5.76310831 5.76310831 5.76310831 5.76310831 5.76310831 5.76310831\n",
      " 5.76310831]\n",
      "_rdp_constants:  [27.95726202  0.          0.          0.          0.          0.\n",
      "  0.          0.          0.          0.          0.          0.\n",
      "  0.          0.          0.          0.          0.          0.\n",
      "  0.          0.          0.          0.          0.          0.\n",
      "  0.        ]\n",
      "entity ids query [0 0 0 0 0]\n",
      "0\n",
      "Epsilon spend  [19.93090564 19.93090564 19.93090564 19.93090564 19.93090564 19.93090564\n",
      " 19.93090564 19.93090564 19.93090564 19.93090564 19.93090564 19.93090564\n",
      " 19.93090564 19.93090564 19.93090564 19.93090564 19.93090564 19.93090564\n",
      " 19.93090564 19.93090564 19.93090564 19.93090564 19.93090564 19.93090564\n",
      " 19.93090564]\n",
      "Highest possible spend  19.930905642716098\n",
      "Attemping to spend epsilon: 19.930905642716098. Try: 0\n",
      "got user budget 9999999.0 epsilon_spent 19.930905642716098\n",
      "We have filtered all the input tensors. Now to compute the result:\n",
      "Filtered inputs  [array([[56546,  6618, 18636, 14517, 36664],\n",
      "       [ 4828,   931, 45263, 18288,  7290],\n",
      "       [39617, 22252,  5839, 15680, 62367],\n",
      "       [ 2606, 19209, 15301,  3784, 65030],\n",
      "       [25696, 58126,  2399, 64349,  5447]])]\n",
      "original output (before noise: [[[56546  6618 18636 14517 36664]\n",
      "  [ 4828   931 45263 18288  7290]\n",
      "  [39617 22252  5839 15680 62367]\n",
      "  [ 2606 19209 15301  3784 65030]\n",
      "  [25696 58126  2399 64349  5447]]]\n",
      "noise:  [[[-0.02667587  0.03671345 -0.14821477  0.07886379 -0.08509549]\n",
      "  [ 0.09983296 -0.17032934  0.11137541  0.05669802  0.06066404]\n",
      "  [ 0.06960873 -0.06035292 -0.08538942 -0.13385186  0.10056143]\n",
      "  [-0.00881072 -0.1391753  -0.05249104 -0.01388053  0.00731767]\n",
      "  [ 0.09243861 -0.07118141  0.22937358  0.08417096 -0.17414093]]]\n",
      "Noise after FPT [[[ -1748   2406  -9713   5168  -5576]\n",
      "  [  6542 -11162   7299   3715   3975]\n",
      "  [  4561  -3955  -5596  -8772   6590]\n",
      "  [  -577  -9120  -3440   -909    479]\n",
      "  [  6058  -4664  15032   5516 -11412]]]\n",
      "got output <class 'numpy.ndarray'> int64\n",
      "Final FPT Values FixedPrecisionTensor(child=[[ 54798   9024   8923  19685  31088]\n",
      " [ 11370 -10231  52562  22003  11265]\n",
      " [ 44178  18297    243   6908  68957]\n",
      " [  2029  10089  11861   2875  65509]\n",
      " [ 31754  53462  17431  69865  -5965]])\n"
     ]
    },
    {
     "name": "stderr",
     "output_type": "stream",
     "text": [
      "\n"
     ]
    }
   ],
   "source": [
    "# Gamma Tensor\n",
    "results = pt_tensor.child.publish(\n",
    "    get_budget_for_user=get_budget_for_user,\n",
    "    deduct_epsilon_for_user=deduct_epsilon_for_user,\n",
    "    ledger=ledger,\n",
    "    sigma=0.1,\n",
    ")"
   ]
  },
  {
   "cell_type": "code",
   "execution_count": 7,
   "id": "78fa7600",
   "metadata": {},
   "outputs": [
    {
     "name": "stdout",
     "output_type": "stream",
     "text": [
      "****** Budget spent EXCEEDS limit set by data owner\n"
     ]
    },
    {
     "name": "stderr",
     "output_type": "stream",
     "text": [
      "100%|██████████| 2/2 [00:00<00:00, 716.36it/s]"
     ]
    },
    {
     "name": "stdout",
     "output_type": "stream",
     "text": [
      "constant:  [6.00073617 6.00073617 6.00073617 6.00073617 6.00073617 6.00073617\n",
      " 6.00073617 6.00073617 6.00073617 6.00073617 6.00073617 6.00073617\n",
      " 6.00073617 6.00073617 6.00073617 6.00073617 6.00073617 6.00073617\n",
      " 6.00073617 6.00073617 6.00073617 6.00073617 6.00073617 6.00073617\n",
      " 6.00073617]\n",
      "_rdp_constants:  [33.72037033  0.          0.          0.          0.          0.\n",
      "  0.          0.          0.          0.          0.          0.\n",
      "  0.          0.          0.          0.          0.          0.\n",
      "  0.          0.          0.          0.          0.          0.\n",
      "  0.        ]\n",
      "entity ids query [0 0 0 0 0]\n",
      "0\n",
      "Epsilon spend  [20.55403169 20.55403169 20.55403169 20.55403169 20.55403169 20.55403169\n",
      " 20.55403169 20.55403169 20.55403169 20.55403169 20.55403169 20.55403169\n",
      " 20.55403169 20.55403169 20.55403169 20.55403169 20.55403169 20.55403169\n",
      " 20.55403169 20.55403169 20.55403169 20.55403169 20.55403169 20.55403169\n",
      " 20.55403169]\n",
      "Highest possible spend  20.554031690244358\n",
      "Attemping to spend epsilon: 20.554031690244358. Try: 0\n",
      "got user budget 9999999.0 epsilon_spent 20.554031690244358\n",
      "constant:  [6.27480755 6.27480755 6.27480755 6.27480755 6.27480755 6.27480755\n",
      " 6.27480755 6.27480755 6.27480755 6.27480755 6.27480755 6.27480755\n",
      " 6.27480755 6.27480755 6.27480755 6.27480755 6.27480755 6.27480755\n",
      " 6.27480755 6.27480755 6.27480755 6.27480755 6.27480755 6.27480755\n",
      " 6.27480755]\n",
      "_rdp_constants:  [39.7211065  0.         0.         0.         0.         0.\n",
      "  0.         0.         0.         0.         0.         0.\n",
      "  0.         0.         0.         0.         0.         0.\n",
      "  0.         0.         0.         0.         0.         0.\n",
      "  0.       ]\n",
      "entity ids query [0 0 0 0 0]\n",
      "0\n",
      "Epsilon spend  [21.26193226 21.26193226 21.26193226 21.26193226 21.26193226 21.26193226\n",
      " 21.26193226 21.26193226 21.26193226 21.26193226 21.26193226 21.26193226\n",
      " 21.26193226 21.26193226 21.26193226 21.26193226 21.26193226 21.26193226\n",
      " 21.26193226 21.26193226 21.26193226 21.26193226 21.26193226 21.26193226\n",
      " 21.26193226]\n",
      "Highest possible spend  21.261932263389028\n",
      "Attemping to spend epsilon: 21.261932263389028. Try: 0\n",
      "got user budget 9999999.0 epsilon_spent 21.261932263389028\n",
      "We have filtered all the input tensors. Now to compute the result:\n",
      "Filtered inputs  [array([[ 54798,   9024,   8923,  19685,  31088],\n",
      "       [ 11370, -10231,  52562,  22003,  11265],\n",
      "       [ 44178,  18297,    243,   6908,  68957],\n",
      "       [  2029,  10089,  11861,   2875,  65509],\n",
      "       [ 31754,  53462,  17431,  69865,  -5965]]), array([[13576, 48071, 23832, 27839, 16542],\n",
      "       [ 8519, 44174, 48009,  2759, 43514],\n",
      "       [49224, 45767, 50305, 56897, 26068],\n",
      "       [24167, 28121, 11580, 12268, 54084],\n",
      "       [ 8850, 55508,  3132, 12706, 30724]])]\n",
      "original output (before noise: [[ 68374  57095  32755  47524  47630]\n",
      " [ 19889  33943 100571  24762  54779]\n",
      " [ 93402  64064  50548  63805  95025]\n",
      " [ 26196  38210  23441  15143 119593]\n",
      " [ 40604 108970  20563  82571  24759]]\n",
      "noise:  [[-0.19754042 -0.20668781  0.24306315 -0.12253271  0.0389509 ]\n",
      " [ 0.20645845 -0.1169988  -0.15117836  0.02005556 -0.03208601]\n",
      " [-0.07637313 -0.0344799  -0.10163743  0.22260347 -0.16696073]\n",
      " [-0.10276086  0.18309205  0.01809983 -0.05418575  0.11784355]\n",
      " [-0.02965036  0.05174299 -0.07461458  0.09847278 -0.050074  ]]\n",
      "got output <class 'numpy.ndarray'> float64\n"
     ]
    },
    {
     "name": "stderr",
     "output_type": "stream",
     "text": [
      "\n"
     ]
    }
   ],
   "source": [
    "# Gamma Tensor\n",
    "gt_tensor = pt_tensor + pt_tensor2\n",
    "results = gt_tensor.child.publish(\n",
    "    get_budget_for_user=get_budget_for_user,\n",
    "    deduct_epsilon_for_user=deduct_epsilon_for_user,\n",
    "    ledger=ledger,\n",
    "    sigma=0.1,\n",
    ")"
   ]
  },
  {
   "cell_type": "code",
   "execution_count": null,
   "id": "7c955470",
   "metadata": {},
   "outputs": [],
   "source": []
  }
 ],
 "metadata": {
  "kernelspec": {
   "display_name": "Python 3.10.5 ('syft_env')",
   "language": "python",
   "name": "python3"
  },
  "language_info": {
   "codemirror_mode": {
    "name": "ipython",
    "version": 3
   },
   "file_extension": ".py",
   "mimetype": "text/x-python",
   "name": "python",
   "nbconvert_exporter": "python",
   "pygments_lexer": "ipython3",
   "version": "3.10.5"
  },
  "vscode": {
   "interpreter": {
    "hash": "608402134fc1d50a91a0fd234cc5c1eaca5f5294dcf84c9acf6f5355519845f7"
   }
  }
 },
 "nbformat": 4,
 "nbformat_minor": 5
}
