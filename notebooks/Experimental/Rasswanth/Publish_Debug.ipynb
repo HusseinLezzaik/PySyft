{
 "cells": [
  {
   "cell_type": "code",
   "execution_count": 1,
   "id": "51b8b90e-3913-4183-9fe6-889d59a226f2",
   "metadata": {},
   "outputs": [],
   "source": [
    "%load_ext autoreload\n",
    "%autoreload 2\n",
    "import syft as sy\n",
    "import numpy as np"
   ]
  },
  {
   "cell_type": "code",
   "execution_count": 2,
   "id": "10d78e24-b6a2-416e-8b9f-d5826227f6af",
   "metadata": {},
   "outputs": [
    {
     "name": "stdout",
     "output_type": "stream",
     "text": [
      "WARNING: CHANGE YOUR USERNAME AND PASSWORD!!! \n",
      "\n",
      "Anyone can login as an admin to your node right now because your password is still the default PySyft username and password!!!\n",
      "\n",
      "Connecting to localhost... done! \t Logging into canada... done!\n"
     ]
    }
   ],
   "source": [
    "canada  = sy.login(email=\"info@openmined.org\",password=\"changethis\",port=8081)"
   ]
  },
  {
   "cell_type": "code",
   "execution_count": 3,
   "id": "240b2ae9-81a4-4546-b954-86bb1b34b781",
   "metadata": {},
   "outputs": [
    {
     "data": {
      "text/plain": [
       "9999999.0"
      ]
     },
     "execution_count": 3,
     "metadata": {},
     "output_type": "execute_result"
    }
   ],
   "source": [
    "from syft.core.node.common.node_service.user_manager.user_messages import (\n",
    "    UpdateUserMessage,\n",
    ")\n",
    "\n",
    "# Upgrade admins budget\n",
    "content = {\"user_id\": 1, \"budget\": 9_999_999}\n",
    "canada._perform_grid_request(grid_msg=UpdateUserMessage, content=content)\n",
    "\n",
    "canada.privacy_budget"
   ]
  },
  {
   "cell_type": "code",
   "execution_count": 33,
   "id": "4597e37c-29f0-4589-863c-923aca59a0e2",
   "metadata": {},
   "outputs": [
    {
     "name": "stdout",
     "output_type": "stream",
     "text": [
      "Loading dataset... checking asset types...                                                                                                                                    \n",
      "\n",
      "**Warning**: Blob Storage is disabled on this domain. Switching to database store.\n",
      "\n",
      "Dataset is uploaded successfully !!! 🎉                  \n",
      "\n",
      "Run `<your client variable>.datasets` to see your new dataset loaded into your machine!\n",
      "backend_phi_tensor: Tensor(child=[[     0  10000  20000]\n",
      " [ 30000  40000  50000]\n",
      " [ 60000  70000  80000]\n",
      " [ 90000 100000 110000]]) <class 'syft.core.tensor.tensor.Tensor'>\n"
     ]
    }
   ],
   "source": [
    "\n",
    "\n",
    "np_data = np.arange(12).reshape(4, 3) * 10000\n",
    "\n",
    "# Creates syft.core.tensor.tensor.Tensor (after private?)\n",
    "backend_phi_tensor = sy.Tensor(np_data)\n",
    "\n",
    "# .private is out-of-place\n",
    "single_data_subject = backend_phi_tensor.private(\n",
    "    min_val=10,\n",
    "    max_val=90,\n",
    "    data_subjects=[\"abc\"] * np_data.shape[0])\n",
    "\n",
    "data_asset_name = \"my_data_asset1\"\n",
    "canada.load_dataset(\n",
    "    assets={\n",
    "        data_asset_name:single_data_subject,\n",
    "    },\n",
    "    name=\"my_data\",\n",
    "    description=\"description\"\n",
    ")\n",
    "\n",
    "# The printing mechanism hides the underlying nesting\n",
    "print(\"backend_phi_tensor:\", backend_phi_tensor, type(backend_phi_tensor))\n",
    "# print(\"private_phi_tensor:\", private_phi_tensor.decode(), type(private_phi_tensor))\n",
    "\n",
    "\n",
    "# print(f\"{prev_budget - user.privacy_budget = }\")  # 1000"
   ]
  },
  {
   "cell_type": "code",
   "execution_count": 34,
   "id": "e5010029-a874-48ea-954d-1a160ed887b8",
   "metadata": {},
   "outputs": [
    {
     "name": "stdout",
     "output_type": "stream",
     "text": [
      "['T', '__add__', '__annotations__', '__attr_allowlist__', '__class__', '__del__', '__delattr__', '__dict__', '__dir__', '__doc__', '__eq__', '__format__', '__ge__', '__getattribute__', '__gt__', '__hash__', '__init__', '__init_subclass__', '__le__', '__lt__', '__matmul__', '__module__', '__mul__', '__name__', '__ne__', '__new__', '__reduce__', '__reduce_ex__', '__repr__', '__rmatmul__', '__serde_overrides__', '__setattr__', '__sizeof__', '__str__', '__sub__', '__subclasshook__', '__truediv__', '__weakref__', '_apply_op', '_apply_tensor_op', '_exhausted', '_get', '_object2proto', '_pointable', '_proto2object', 'block', 'block_with_timeout', 'check_access', 'client', 'concatenate', 'data_subjects', 'description', 'exists', 'exp', 'gamma', 'gc_enabled', 'get', 'get_copy', 'get_protobuf_schema', 'get_request_config', 'id_at_location', 'is_enum', 'max_vals', 'min_vals', 'object_type', 'one_hot', 'path_and_name', 'pointable', 'print', 'public_dtype', 'public_shape', 'publish', 'reciprocal', 'request', 'resolve_pointer_type', 'searchable', 'set_request_config', 'share', 'softmax', 'sum', 'synthetic', 'tags', 'to_local_object_without_private_data_child', 'update_searchability'] <lazyrepeatarray data: [90] -> shape: (4, 3)> <lazyrepeatarray data: [10] -> shape: (4, 3)>\n"
     ]
    }
   ],
   "source": [
    "frontend_tensor_ptr = canada.datasets[-1][data_asset_name]\n",
    "print(dir(frontend_tensor_ptr), frontend_tensor_ptr.max_vals, frontend_tensor_ptr.min_vals)\n"
   ]
  },
  {
   "cell_type": "code",
   "execution_count": 40,
   "id": "626fbcca-eecf-43b5-980b-00b8706f932d",
   "metadata": {},
   "outputs": [],
   "source": [
    "prev_budget = canada.privacy_budget\n",
    "published = frontend_tensor_ptr.publish(sigma=10000)\n",
    "published.block_with_timeout(10)\n",
    "pub_res = published.get_copy()\n"
   ]
  },
  {
   "cell_type": "code",
   "execution_count": 41,
   "id": "4cb44a8a-5355-46cd-ad2e-43bde8828467",
   "metadata": {},
   "outputs": [
    {
     "data": {
      "text/plain": [
       "368.67664341442287"
      ]
     },
     "execution_count": 41,
     "metadata": {},
     "output_type": "execute_result"
    }
   ],
   "source": [
    "prev_budget - canada.privacy_budget"
   ]
  },
  {
   "cell_type": "code",
   "execution_count": 44,
   "id": "7b5c5cd1-2914-4434-ae10-65e7684814cd",
   "metadata": {},
   "outputs": [
    {
     "data": {
      "text/plain": [
       "array([[ 12065.01100755,   2440.9611114 ,  11583.390771  ],\n",
       "       [ 14434.33396829,  37848.10978178,  50649.54849435],\n",
       "       [ 65751.15682801,  87424.14136759,  86087.20854235],\n",
       "       [ 80909.17217342, 101597.78252451,  85361.43672092]])"
      ]
     },
     "execution_count": 44,
     "metadata": {},
     "output_type": "execute_result"
    }
   ],
   "source": [
    "pub_res"
   ]
  },
  {
   "cell_type": "code",
   "execution_count": null,
   "id": "bc1607d3-1210-40f7-a669-23ee25694543",
   "metadata": {},
   "outputs": [],
   "source": [
    "prev_budget"
   ]
  },
  {
   "cell_type": "code",
   "execution_count": null,
   "id": "a7c1dbc4-0282-40ca-b042-0ac2e0508bc5",
   "metadata": {},
   "outputs": [],
   "source": [
    "gamma = single_data_subject.child.gamma"
   ]
  },
  {
   "cell_type": "code",
   "execution_count": null,
   "id": "c8cb06c5-aeaa-48c5-bd85-151a73d50bda",
   "metadata": {},
   "outputs": [],
   "source": [
    "from syft.core.tensor.autodp.gamma_tensor import GammaTensor"
   ]
  },
  {
   "cell_type": "code",
   "execution_count": null,
   "id": "f47fcddc-88e1-4de4-be77-8b56f2282109",
   "metadata": {},
   "outputs": [],
   "source": [
    "gamma.state[gamma.id] = gamma"
   ]
  },
  {
   "cell_type": "code",
   "execution_count": null,
   "id": "adb517c0-b18d-4db3-a559-ab5531716b08",
   "metadata": {},
   "outputs": [],
   "source": [
    "GammaTensor.get_input_tensors(gamma.state)"
   ]
  },
  {
   "cell_type": "code",
   "execution_count": null,
   "id": "12067492-ca6a-49fc-8ec8-7c56a1434632",
   "metadata": {},
   "outputs": [],
   "source": [
    "gamma.child.decode()"
   ]
  },
  {
   "cell_type": "code",
   "execution_count": null,
   "id": "e646ed87-9dc9-440b-a7d3-752c9864524c",
   "metadata": {},
   "outputs": [],
   "source": [
    "pub_res"
   ]
  },
  {
   "cell_type": "code",
   "execution_count": null,
   "id": "700757e5-735e-4d7f-b729-f71328d9f4e2",
   "metadata": {},
   "outputs": [],
   "source": [
    "np_data"
   ]
  },
  {
   "cell_type": "code",
   "execution_count": null,
   "id": "45bc2660-e97b-4bba-80af-037d3df74aee",
   "metadata": {},
   "outputs": [],
   "source": [
    "pub_res-single_data_subject.decode()"
   ]
  },
  {
   "cell_type": "code",
   "execution_count": null,
   "id": "bf01fc14-9ffe-47fb-8042-fb9bfb0ecac4",
   "metadata": {},
   "outputs": [],
   "source": []
  },
  {
   "cell_type": "code",
   "execution_count": null,
   "id": "13487465-7517-42e2-9237-7fad615a8576",
   "metadata": {},
   "outputs": [],
   "source": [
    "a = int(np.random.random()*100_000)\n",
    "b = -int(np.random.random()*100_000)\n",
    "c = int(np.random.random()*100_000)\n",
    "d = -int(np.random.random()*100_000)\n",
    "scale = 2**16"
   ]
  },
  {
   "cell_type": "code",
   "execution_count": null,
   "id": "f9c568f3-28f2-40ad-a5aa-d2f42daf7d96",
   "metadata": {},
   "outputs": [],
   "source": [
    "(a+b+c+d)/2**16"
   ]
  },
  {
   "cell_type": "code",
   "execution_count": null,
   "id": "e1b581b5-f60d-41e6-a66d-cd7b252b70cd",
   "metadata": {},
   "outputs": [],
   "source": [
    "(a/2**16 + b/2**16 + c/2**16 + d/2**16)"
   ]
  },
  {
   "cell_type": "code",
   "execution_count": null,
   "id": "b8346f71-f4e5-4035-b198-c34acd371554",
   "metadata": {},
   "outputs": [],
   "source": [
    "type(frontend_tensor_ptr)"
   ]
  }
 ],
 "metadata": {
  "kernelspec": {
   "display_name": "Python 3 (ipykernel)",
   "language": "python",
   "name": "python3"
  },
  "language_info": {
   "codemirror_mode": {
    "name": "ipython",
    "version": 3
   },
   "file_extension": ".py",
   "mimetype": "text/x-python",
   "name": "python",
   "nbconvert_exporter": "python",
   "pygments_lexer": "ipython3",
   "version": "3.9.4"
  }
 },
 "nbformat": 4,
 "nbformat_minor": 5
}
