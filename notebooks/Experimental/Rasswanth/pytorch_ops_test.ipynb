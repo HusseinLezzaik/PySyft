{
 "cells": [
  {
   "cell_type": "code",
   "execution_count": 1,
   "id": "3f1c64f0-3e9e-44ca-93cc-48e9516e833c",
   "metadata": {},
   "outputs": [],
   "source": [
    "%load_ext autoreload\n",
    "%autoreload 2\n",
    "import syft as sy\n",
    "import numpy as np"
   ]
  },
  {
   "cell_type": "code",
   "execution_count": 2,
   "id": "df417cf6-b24c-4943-81a8-5496b1e37b62",
   "metadata": {},
   "outputs": [
    {
     "name": "stdout",
     "output_type": "stream",
     "text": [
      "WARNING: CHANGE YOUR USERNAME AND PASSWORD!!! \n",
      "\n",
      "Anyone can login as an admin to your node right now because your password is still the default PySyft username and password!!!\n",
      "\n",
      "Connecting to localhost... done! \t Logging into canada... done!\n"
     ]
    }
   ],
   "source": [
    "ca = sy.login(email=\"info@openmined.org\", password=\"changethis\", port=8081)"
   ]
  },
  {
   "cell_type": "code",
   "execution_count": 3,
   "id": "548dd768-030f-4bcb-93da-39b83448ab87",
   "metadata": {},
   "outputs": [],
   "source": [
    "from syft.core.tensor.autodp.phi_tensor import PhiTensor"
   ]
  },
  {
   "cell_type": "code",
   "execution_count": 4,
   "id": "1d05c068-5f26-4fcc-8265-ee18746ceb70",
   "metadata": {},
   "outputs": [],
   "source": [
    "data = np.array([[1]])\n",
    "private_data = sy.Tensor(data).private(min_val=0,max_val=1,data_subjects=[\"0\"])\n"
   ]
  },
  {
   "cell_type": "code",
   "execution_count": 5,
   "id": "fb20547e-f805-4555-814e-e9f42447df85",
   "metadata": {},
   "outputs": [],
   "source": [
    "private_data.child = private_data.child.gamma"
   ]
  },
  {
   "cell_type": "code",
   "execution_count": 6,
   "id": "e2da5a94-9fd6-4061-a4e3-1fe7cb20da0d",
   "metadata": {},
   "outputs": [
    {
     "name": "stderr",
     "output_type": "stream",
     "text": [
      "kj/filesystem-disk-unix.c++:1690: warning: PWD environment variable doesn't match current directory; pwd = /home/azureuser/PySyft\n",
      "Uploading `4bf9848a63f94de7b0ed9f18144e0ed0`: 100%|\u001b[32m██████████████████\u001b[0m| 1/1 [00:00<00:00, 180.73it/s]\u001b[0m\n"
     ]
    }
   ],
   "source": [
    "ptr= private_data.send(ca)"
   ]
  },
  {
   "cell_type": "code",
   "execution_count": null,
   "id": "e96ed95f-e5e5-440b-802f-dfe4fa3b9ad8",
   "metadata": {},
   "outputs": [],
   "source": [
    "res = ptr.view_copy()"
   ]
  },
  {
   "cell_type": "code",
   "execution_count": 7,
   "id": "ffdce422-1452-4b92-9c0e-3660cb7415f2",
   "metadata": {},
   "outputs": [],
   "source": [
    "res = ptr.expand_copy(0)"
   ]
  },
  {
   "cell_type": "code",
   "execution_count": 8,
   "id": "11d5c434-6d75-43e6-b252-94f9f93bac7e",
   "metadata": {},
   "outputs": [
    {
     "data": {
      "text/plain": [
       "False"
      ]
     },
     "execution_count": 8,
     "metadata": {},
     "output_type": "execute_result"
    }
   ],
   "source": [
    "res.exists"
   ]
  },
  {
   "cell_type": "code",
   "execution_count": null,
   "id": "fc21f259-c23c-4773-8adc-19161c87c5f2",
   "metadata": {},
   "outputs": [],
   "source": [
    "res = ptr.squeeze_copy()"
   ]
  },
  {
   "cell_type": "code",
   "execution_count": null,
   "id": "f8c6d60d-7437-4703-940d-1f9d0594f81c",
   "metadata": {},
   "outputs": [],
   "source": [
    "res = ptr.fill(2)"
   ]
  },
  {
   "cell_type": "code",
   "execution_count": null,
   "id": "c0dc825d-cb8c-4412-ba40-79db34e4cdfa",
   "metadata": {},
   "outputs": [],
   "source": [
    "res.get_copy()"
   ]
  },
  {
   "cell_type": "code",
   "execution_count": null,
   "id": "56fd2196-8a92-46de-adf6-85945ccf2e78",
   "metadata": {},
   "outputs": [],
   "source": [
    "data.fill(2)"
   ]
  },
  {
   "cell_type": "code",
   "execution_count": null,
   "id": "2400aa92-034a-40df-bde9-23a6dae398bc",
   "metadata": {},
   "outputs": [],
   "source": [
    "data"
   ]
  },
  {
   "cell_type": "code",
   "execution_count": null,
   "id": "077d1948-d16e-4b9e-8b5b-3afb47382d17",
   "metadata": {},
   "outputs": [],
   "source": [
    "from jax import numpy as jnp"
   ]
  },
  {
   "cell_type": "code",
   "execution_count": null,
   "id": "1bc4908d-fbe3-436f-bd68-c813c1b3e06a",
   "metadata": {},
   "outputs": [],
   "source": [
    "np.array(jnp.array(data))"
   ]
  }
 ],
 "metadata": {
  "kernelspec": {
   "display_name": "Python 3 (ipykernel)",
   "language": "python",
   "name": "python3"
  },
  "language_info": {
   "codemirror_mode": {
    "name": "ipython",
    "version": 3
   },
   "file_extension": ".py",
   "mimetype": "text/x-python",
   "name": "python",
   "nbconvert_exporter": "python",
   "pygments_lexer": "ipython3",
   "version": "3.9.4"
  }
 },
 "nbformat": 4,
 "nbformat_minor": 5
}
