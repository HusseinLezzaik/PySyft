{
 "cells": [
  {
   "cell_type": "code",
   "execution_count": 1,
   "id": "67a2f380-0937-4661-b2db-597e2370d580",
   "metadata": {},
   "outputs": [],
   "source": [
    "import syft as sy\n",
    "import numpy as np\n",
    "from syft.core.adp.data_subject_list import DataSubjectList"
   ]
  },
  {
   "cell_type": "code",
   "execution_count": 2,
   "id": "5ea92854-7c2f-4daf-8cbd-07cdd50e7b10",
   "metadata": {},
   "outputs": [],
   "source": [
    "from syft.core.tensor.autodp.ndim_entity_phi import NDimEntityPhiTensor as NDEPT\n",
    "from syft.core.tensor.autodp.gamma_tensor import GammaTensor"
   ]
  },
  {
   "cell_type": "code",
   "execution_count": 5,
   "id": "1e253e36-ab3d-46da-8bce-5b2315715dc8",
   "metadata": {},
   "outputs": [],
   "source": [
    "ndept = NDEPT(\n",
    "    child = np.random.randint(low=2, high=100, size=(10,10), dtype=np.int64),\n",
    "    entities= np.random.choice([0, 1], size=(10, 10)),\n",
    "    min_vals= 2,\n",
    "    max_vals= 100\n",
    ")"
   ]
  },
  {
   "cell_type": "code",
   "execution_count": 72,
   "id": "242d4592-ac06-487c-8539-b55228e53e83",
   "metadata": {},
   "outputs": [
    {
     "data": {
      "text/plain": [
       "array([[54, 80, 93, 15, 97, 44, 91, 43, 73, 89],\n",
       "       [84, 50, 38, 21, 56, 44, 91,  7, 60, 44],\n",
       "       [32, 80, 75, 66, 32, 60, 28, 48, 88, 42],\n",
       "       [23, 72,  6, 46, 88, 90, 32, 30,  9, 48],\n",
       "       [34, 79, 57, 85,  2, 56, 62, 81, 98, 66],\n",
       "       [93, 30,  6, 14, 89, 24, 19, 94, 14, 26],\n",
       "       [37, 20, 99,  7, 81, 42, 54, 26, 58, 38],\n",
       "       [27,  7, 87, 82, 32, 88, 90, 96, 17, 86],\n",
       "       [14, 56, 89,  4, 34, 84, 72, 60, 27, 57],\n",
       "       [77, 74,  3, 49, 93, 76, 10, 10, 60, 97]])"
      ]
     },
     "execution_count": 72,
     "metadata": {},
     "output_type": "execute_result"
    }
   ],
   "source": [
    "ndept.child"
   ]
  },
  {
   "cell_type": "code",
   "execution_count": 71,
   "id": "a5045418-582b-4d6f-aecd-a88455cfe40e",
   "metadata": {},
   "outputs": [
    {
     "data": {
      "text/plain": [
       "array([[0, 1, 0, 1, 1, 1, 1, 0, 0, 0],\n",
       "       [0, 1, 0, 1, 1, 0, 1, 1, 0, 0],\n",
       "       [1, 0, 0, 1, 1, 1, 1, 0, 1, 1],\n",
       "       [1, 0, 0, 0, 1, 0, 1, 0, 0, 0],\n",
       "       [0, 1, 1, 0, 1, 1, 0, 0, 0, 1],\n",
       "       [0, 1, 1, 0, 1, 0, 0, 0, 0, 0],\n",
       "       [0, 1, 1, 1, 1, 0, 0, 1, 0, 0],\n",
       "       [1, 0, 0, 0, 1, 0, 0, 1, 0, 1],\n",
       "       [1, 0, 0, 1, 0, 1, 1, 0, 1, 1],\n",
       "       [0, 0, 0, 1, 1, 1, 0, 1, 1, 0]])"
      ]
     },
     "execution_count": 71,
     "metadata": {},
     "output_type": "execute_result"
    }
   ],
   "source": [
    "ndept.entities.data_subjects_indexed"
   ]
  },
  {
   "cell_type": "code",
   "execution_count": 6,
   "id": "1ca33690-6635-418c-a6ed-411bc085eb7d",
   "metadata": {},
   "outputs": [
    {
     "data": {
      "text/plain": [
       "NDimEntityPhiTensor(child=(10, 10), min_vals=<lazyrepeatarray data: 2 -> shape: (10, 10)>, max_vals=<lazyrepeatarray data: 100 -> shape: (10, 10)>)"
      ]
     },
     "execution_count": 6,
     "metadata": {},
     "output_type": "execute_result"
    }
   ],
   "source": [
    "ndept"
   ]
  },
  {
   "cell_type": "code",
   "execution_count": null,
   "id": "d587307a-daa2-4c9f-b3bc-a77e854bba40",
   "metadata": {},
   "outputs": [],
   "source": [
    "GammaTensor(...)"
   ]
  },
  {
   "cell_type": "code",
   "execution_count": 7,
   "id": "34268b41-a9dc-4f0b-a4db-17766ba5dd78",
   "metadata": {},
   "outputs": [
    {
     "data": {
      "text/plain": [
       "GammaTensor(value=array([[54, 80, 93, 15, 97, 44, 91, 43, 73, 89],\n",
       "       [84, 50, 38, 21, 56, 44, 91,  7, 60, 44],\n",
       "       [32, 80, 75, 66, 32, 60, 28, 48, 88, 42],\n",
       "       [23, 72,  6, 46, 88, 90, 32, 30,  9, 48],\n",
       "       [34, 79, 57, 85,  2, 56, 62, 81, 98, 66],\n",
       "       [93, 30,  6, 14, 89, 24, 19, 94, 14, 26],\n",
       "       [37, 20, 99,  7, 81, 42, 54, 26, 58, 38],\n",
       "       [27,  7, 87, 82, 32, 88, 90, 96, 17, 86],\n",
       "       [14, 56, 89,  4, 34, 84, 72, 60, 27, 57],\n",
       "       [77, 74,  3, 49, 93, 76, 10, 10, 60, 97]]), data_subjects=<syft.core.adp.data_subject_list.DataSubjectList object at 0x7fcfbb6d9490>, min_val=<lazyrepeatarray data: 2 -> shape: (10, 10)>, max_val=<lazyrepeatarray data: 100 -> shape: (10, 10)>, is_linear=True, func=<function no_op at 0x7fcfc1128b80>, id='1239285786', inputs=array([], dtype=int64), state={'1239285786': ...})"
      ]
     },
     "execution_count": 7,
     "metadata": {},
     "output_type": "execute_result"
    }
   ],
   "source": [
    "ndept.gamma"
   ]
  },
  {
   "cell_type": "code",
   "execution_count": 8,
   "id": "26fe9e9f-d487-405b-b0a9-fe6dfcf58dbd",
   "metadata": {},
   "outputs": [],
   "source": [
    "tensor1 = ndept + 1"
   ]
  },
  {
   "cell_type": "code",
   "execution_count": 10,
   "id": "289bb401-1f41-4285-8746-8cc0e5ad4943",
   "metadata": {},
   "outputs": [],
   "source": [
    "tensor2 = ndept + 7"
   ]
  },
  {
   "cell_type": "code",
   "execution_count": 12,
   "id": "df40f9e7-13a3-4b12-b22d-8de91977e367",
   "metadata": {},
   "outputs": [],
   "source": [
    "tensor3 = tensor1 + tensor2"
   ]
  },
  {
   "cell_type": "code",
   "execution_count": 16,
   "id": "c79d19f0-953c-4fb4-b353-6ec382a6dd8d",
   "metadata": {},
   "outputs": [],
   "source": [
    "assert (tensor1.child + tensor2.child == tensor3.child).all()"
   ]
  },
  {
   "cell_type": "code",
   "execution_count": 18,
   "id": "d7f99d30-b944-4cd8-8d52-b0aa7c667ca0",
   "metadata": {},
   "outputs": [
    {
     "data": {
      "text/plain": [
       "True"
      ]
     },
     "execution_count": 18,
     "metadata": {},
     "output_type": "execute_result"
    }
   ],
   "source": [
    "tensor3.entities == tensor1.entities"
   ]
  },
  {
   "cell_type": "code",
   "execution_count": 19,
   "id": "e7244aaf-3bcf-40bd-a7fc-3650dffb2566",
   "metadata": {},
   "outputs": [],
   "source": [
    "gt = tensor1.gamma + tensor2.gamma"
   ]
  },
  {
   "cell_type": "code",
   "execution_count": 20,
   "id": "2187ba35-ad21-4da1-bfab-3535a8ba36a5",
   "metadata": {},
   "outputs": [
    {
     "data": {
      "text/plain": [
       "GammaTensor(value=array([[116, 168, 194,  38, 202,  96, 190,  94, 154, 186],\n",
       "       [176, 108,  84,  50, 120,  96, 190,  22, 128,  96],\n",
       "       [ 72, 168, 158, 140,  72, 128,  64, 104, 184,  92],\n",
       "       [ 54, 152,  20, 100, 184, 188,  72,  68,  26, 104],\n",
       "       [ 76, 166, 122, 178,  12, 120, 132, 170, 204, 140],\n",
       "       [194,  68,  20,  36, 186,  56,  46, 196,  36,  60],\n",
       "       [ 82,  48, 206,  22, 170,  92, 116,  60, 124,  84],\n",
       "       [ 62,  22, 182, 172,  72, 184, 188, 200,  42, 180],\n",
       "       [ 36, 120, 186,  16,  76, 176, 152, 128,  62, 122],\n",
       "       [162, 156,  14, 106, 194, 160,  28,  28, 128, 202]]), data_subjects=<syft.core.adp.data_subject_list.DataSubjectList object at 0x7fcfbb6d9490>, min_val=<lazyrepeatarray data: 12 -> shape: (10, 10)>, max_val=<lazyrepeatarray data: 208 -> shape: (10, 10)>, is_linear=True, func=<function GammaTensor.__add__.<locals>._add at 0x7fcfba0a64c0>, id='451898244', inputs=array([], dtype=int64), state={'827855961': GammaTensor(value=array([[ 55,  81,  94,  16,  98,  45,  92,  44,  74,  90],\n",
       "       [ 85,  51,  39,  22,  57,  45,  92,   8,  61,  45],\n",
       "       [ 33,  81,  76,  67,  33,  61,  29,  49,  89,  43],\n",
       "       [ 24,  73,   7,  47,  89,  91,  33,  31,  10,  49],\n",
       "       [ 35,  80,  58,  86,   3,  57,  63,  82,  99,  67],\n",
       "       [ 94,  31,   7,  15,  90,  25,  20,  95,  15,  27],\n",
       "       [ 38,  21, 100,   8,  82,  43,  55,  27,  59,  39],\n",
       "       [ 28,   8,  88,  83,  33,  89,  91,  97,  18,  87],\n",
       "       [ 15,  57,  90,   5,  35,  85,  73,  61,  28,  58],\n",
       "       [ 78,  75,   4,  50,  94,  77,  11,  11,  61,  98]]), data_subjects=<syft.core.adp.data_subject_list.DataSubjectList object at 0x7fcfbb6d9490>, min_val=<lazyrepeatarray data: 3 -> shape: (10, 10)>, max_val=<lazyrepeatarray data: 101 -> shape: (10, 10)>, is_linear=True, func=<function no_op at 0x7fcfc1128b80>, id='827855961', inputs=array([], dtype=int64), state={'827855961': ...}), '1484962095': GammaTensor(value=array([[ 61,  87, 100,  22, 104,  51,  98,  50,  80,  96],\n",
       "       [ 91,  57,  45,  28,  63,  51,  98,  14,  67,  51],\n",
       "       [ 39,  87,  82,  73,  39,  67,  35,  55,  95,  49],\n",
       "       [ 30,  79,  13,  53,  95,  97,  39,  37,  16,  55],\n",
       "       [ 41,  86,  64,  92,   9,  63,  69,  88, 105,  73],\n",
       "       [100,  37,  13,  21,  96,  31,  26, 101,  21,  33],\n",
       "       [ 44,  27, 106,  14,  88,  49,  61,  33,  65,  45],\n",
       "       [ 34,  14,  94,  89,  39,  95,  97, 103,  24,  93],\n",
       "       [ 21,  63,  96,  11,  41,  91,  79,  67,  34,  64],\n",
       "       [ 84,  81,  10,  56, 100,  83,  17,  17,  67, 104]]), data_subjects=<syft.core.adp.data_subject_list.DataSubjectList object at 0x7fcfbb6d9490>, min_val=<lazyrepeatarray data: 9 -> shape: (10, 10)>, max_val=<lazyrepeatarray data: 107 -> shape: (10, 10)>, is_linear=True, func=<function no_op at 0x7fcfc1128b80>, id='1484962095', inputs=array([], dtype=int64), state={'1484962095': ...})})"
      ]
     },
     "execution_count": 20,
     "metadata": {},
     "output_type": "execute_result"
    }
   ],
   "source": [
    "gt"
   ]
  },
  {
   "cell_type": "code",
   "execution_count": 21,
   "id": "3371b007-2c22-4426-b01b-355958472692",
   "metadata": {},
   "outputs": [
    {
     "data": {
      "text/plain": [
       "{'827855961': GammaTensor(value=array([[ 55,  81,  94,  16,  98,  45,  92,  44,  74,  90],\n",
       "        [ 85,  51,  39,  22,  57,  45,  92,   8,  61,  45],\n",
       "        [ 33,  81,  76,  67,  33,  61,  29,  49,  89,  43],\n",
       "        [ 24,  73,   7,  47,  89,  91,  33,  31,  10,  49],\n",
       "        [ 35,  80,  58,  86,   3,  57,  63,  82,  99,  67],\n",
       "        [ 94,  31,   7,  15,  90,  25,  20,  95,  15,  27],\n",
       "        [ 38,  21, 100,   8,  82,  43,  55,  27,  59,  39],\n",
       "        [ 28,   8,  88,  83,  33,  89,  91,  97,  18,  87],\n",
       "        [ 15,  57,  90,   5,  35,  85,  73,  61,  28,  58],\n",
       "        [ 78,  75,   4,  50,  94,  77,  11,  11,  61,  98]]), data_subjects=<syft.core.adp.data_subject_list.DataSubjectList object at 0x7fcfbb6d9490>, min_val=<lazyrepeatarray data: 3 -> shape: (10, 10)>, max_val=<lazyrepeatarray data: 101 -> shape: (10, 10)>, is_linear=True, func=<function no_op at 0x7fcfc1128b80>, id='827855961', inputs=array([], dtype=int64), state={'827855961': ...}),\n",
       " '1484962095': GammaTensor(value=array([[ 61,  87, 100,  22, 104,  51,  98,  50,  80,  96],\n",
       "        [ 91,  57,  45,  28,  63,  51,  98,  14,  67,  51],\n",
       "        [ 39,  87,  82,  73,  39,  67,  35,  55,  95,  49],\n",
       "        [ 30,  79,  13,  53,  95,  97,  39,  37,  16,  55],\n",
       "        [ 41,  86,  64,  92,   9,  63,  69,  88, 105,  73],\n",
       "        [100,  37,  13,  21,  96,  31,  26, 101,  21,  33],\n",
       "        [ 44,  27, 106,  14,  88,  49,  61,  33,  65,  45],\n",
       "        [ 34,  14,  94,  89,  39,  95,  97, 103,  24,  93],\n",
       "        [ 21,  63,  96,  11,  41,  91,  79,  67,  34,  64],\n",
       "        [ 84,  81,  10,  56, 100,  83,  17,  17,  67, 104]]), data_subjects=<syft.core.adp.data_subject_list.DataSubjectList object at 0x7fcfbb6d9490>, min_val=<lazyrepeatarray data: 9 -> shape: (10, 10)>, max_val=<lazyrepeatarray data: 107 -> shape: (10, 10)>, is_linear=True, func=<function no_op at 0x7fcfc1128b80>, id='1484962095', inputs=array([], dtype=int64), state={'1484962095': ...})}"
      ]
     },
     "execution_count": 21,
     "metadata": {},
     "output_type": "execute_result"
    }
   ],
   "source": [
    "gt.state"
   ]
  },
  {
   "cell_type": "code",
   "execution_count": 22,
   "id": "3fb83aca-66e9-4828-8a49-cdf7c979bd09",
   "metadata": {},
   "outputs": [
    {
     "data": {
      "text/plain": [
       "dict_keys(['827855961', '1484962095'])"
      ]
     },
     "execution_count": 22,
     "metadata": {},
     "output_type": "execute_result"
    }
   ],
   "source": [
    "gt.state.keys()"
   ]
  },
  {
   "cell_type": "code",
   "execution_count": 24,
   "id": "83cba16c-f984-4a76-b95e-913317687658",
   "metadata": {},
   "outputs": [
    {
     "data": {
      "text/plain": [
       "{'827855961': GammaTensor(value=array([[ 55,  81,  94,  16,  98,  45,  92,  44,  74,  90],\n",
       "        [ 85,  51,  39,  22,  57,  45,  92,   8,  61,  45],\n",
       "        [ 33,  81,  76,  67,  33,  61,  29,  49,  89,  43],\n",
       "        [ 24,  73,   7,  47,  89,  91,  33,  31,  10,  49],\n",
       "        [ 35,  80,  58,  86,   3,  57,  63,  82,  99,  67],\n",
       "        [ 94,  31,   7,  15,  90,  25,  20,  95,  15,  27],\n",
       "        [ 38,  21, 100,   8,  82,  43,  55,  27,  59,  39],\n",
       "        [ 28,   8,  88,  83,  33,  89,  91,  97,  18,  87],\n",
       "        [ 15,  57,  90,   5,  35,  85,  73,  61,  28,  58],\n",
       "        [ 78,  75,   4,  50,  94,  77,  11,  11,  61,  98]]), data_subjects=<syft.core.adp.data_subject_list.DataSubjectList object at 0x7fcfbb6d9490>, min_val=<lazyrepeatarray data: 3 -> shape: (10, 10)>, max_val=<lazyrepeatarray data: 101 -> shape: (10, 10)>, is_linear=True, func=<function no_op at 0x7fcfc1128b80>, id='827855961', inputs=array([], dtype=int64), state={'827855961': ...})}"
      ]
     },
     "execution_count": 24,
     "metadata": {},
     "output_type": "execute_result"
    }
   ],
   "source": [
    "gt.state['827855961'].state"
   ]
  },
  {
   "cell_type": "code",
   "execution_count": 26,
   "id": "9e1c43ac-5ccd-42c9-b926-c8246159ffb2",
   "metadata": {},
   "outputs": [
    {
     "data": {
      "text/plain": [
       "<syft.core.adp.data_subject_list.DataSubjectList at 0x7fcfbb6d9490>"
      ]
     },
     "execution_count": 26,
     "metadata": {},
     "output_type": "execute_result"
    }
   ],
   "source": [
    "tensor1.entities"
   ]
  },
  {
   "cell_type": "code",
   "execution_count": 27,
   "id": "8fcbcf03-a073-46cf-80e2-1d9fae4c4090",
   "metadata": {},
   "outputs": [
    {
     "data": {
      "text/plain": [
       "array([[0, 1, 0, 1, 1, 1, 1, 0, 0, 0],\n",
       "       [0, 1, 0, 1, 1, 0, 1, 1, 0, 0],\n",
       "       [1, 0, 0, 1, 1, 1, 1, 0, 1, 1],\n",
       "       [1, 0, 0, 0, 1, 0, 1, 0, 0, 0],\n",
       "       [0, 1, 1, 0, 1, 1, 0, 0, 0, 1],\n",
       "       [0, 1, 1, 0, 1, 0, 0, 0, 0, 0],\n",
       "       [0, 1, 1, 1, 1, 0, 0, 1, 0, 0],\n",
       "       [1, 0, 0, 0, 1, 0, 0, 1, 0, 1],\n",
       "       [1, 0, 0, 1, 0, 1, 1, 0, 1, 1],\n",
       "       [0, 0, 0, 1, 1, 1, 0, 1, 1, 0]])"
      ]
     },
     "execution_count": 27,
     "metadata": {},
     "output_type": "execute_result"
    }
   ],
   "source": [
    "tensor1.entities.data_subjects_indexed"
   ]
  },
  {
   "cell_type": "code",
   "execution_count": 28,
   "id": "c37f7431-8361-487f-8803-546e541257c6",
   "metadata": {},
   "outputs": [
    {
     "data": {
      "text/plain": [
       "array([0, 1])"
      ]
     },
     "execution_count": 28,
     "metadata": {},
     "output_type": "execute_result"
    }
   ],
   "source": [
    "tensor1.entities.one_hot_lookup"
   ]
  },
  {
   "cell_type": "code",
   "execution_count": 30,
   "id": "ab72494b-7ea7-40f3-9715-cad87c1ac7c1",
   "metadata": {},
   "outputs": [],
   "source": [
    "original_dsi = tensor1.entities.data_subjects_indexed.copy()"
   ]
  },
  {
   "cell_type": "code",
   "execution_count": 31,
   "id": "31d0aaf6-f1ec-4d64-9d1f-2122c35eb8ec",
   "metadata": {},
   "outputs": [
    {
     "ename": "ValueError",
     "evalue": "shape mismatch: value array of shape (2,) could not be broadcast to indexing result of shape (2,10)",
     "output_type": "error",
     "traceback": [
      "\u001b[0;31m---------------------------------------------------------------------------\u001b[0m",
      "\u001b[0;31mValueError\u001b[0m                                Traceback (most recent call last)",
      "Input \u001b[0;32mIn [31]\u001b[0m, in \u001b[0;36m<cell line: 2>\u001b[0;34m()\u001b[0m\n\u001b[1;32m      1\u001b[0m new_dsi \u001b[38;5;241m=\u001b[39m np\u001b[38;5;241m.\u001b[39mempty_like(original_dsi)\n\u001b[0;32m----> 2\u001b[0m new_dsi[tensor1\u001b[38;5;241m.\u001b[39mentities\u001b[38;5;241m.\u001b[39mone_hot_lookup] \u001b[38;5;241m=\u001b[39m tensor1\u001b[38;5;241m.\u001b[39mentities\u001b[38;5;241m.\u001b[39mone_hot_lookup \u001b[38;5;241m+\u001b[39m \u001b[38;5;28mlen\u001b[39m(tensor1\u001b[38;5;241m.\u001b[39mentities\u001b[38;5;241m.\u001b[39mone_hot_lookup)\n",
      "\u001b[0;31mValueError\u001b[0m: shape mismatch: value array of shape (2,) could not be broadcast to indexing result of shape (2,10)"
     ]
    }
   ],
   "source": [
    "new_dsi = np.empty_like(original_dsi)\n",
    "new_dsi[tensor1.entities.one_hot_lookup] = tensor1.entities.one_hot_lookup + len(tensor1.entities.one_hot_lookup)"
   ]
  },
  {
   "cell_type": "code",
   "execution_count": 36,
   "id": "644339b4-1452-4de4-bdc3-6b3f89edecea",
   "metadata": {},
   "outputs": [
    {
     "data": {
      "text/plain": [
       "array([[0, 1, 0, 1, 1, 1, 1, 0, 0, 0],\n",
       "       [0, 1, 0, 1, 1, 0, 1, 1, 0, 0],\n",
       "       [1, 0, 0, 1, 1, 1, 1, 0, 1, 1],\n",
       "       [1, 0, 0, 0, 1, 0, 1, 0, 0, 0],\n",
       "       [0, 1, 1, 0, 1, 1, 0, 0, 0, 1],\n",
       "       [0, 1, 1, 0, 1, 0, 0, 0, 0, 0],\n",
       "       [0, 1, 1, 1, 1, 0, 0, 1, 0, 0],\n",
       "       [1, 0, 0, 0, 1, 0, 0, 1, 0, 1],\n",
       "       [1, 0, 0, 1, 0, 1, 1, 0, 1, 1],\n",
       "       [0, 0, 0, 1, 1, 1, 0, 1, 1, 0]])"
      ]
     },
     "execution_count": 36,
     "metadata": {},
     "output_type": "execute_result"
    }
   ],
   "source": [
    "original_dsi"
   ]
  },
  {
   "cell_type": "code",
   "execution_count": 37,
   "id": "7753f62c-f166-4b6b-8ce4-46d8e875c566",
   "metadata": {},
   "outputs": [],
   "source": [
    "new_dsi = original_dsi + len(tensor1.entities.one_hot_lookup)"
   ]
  },
  {
   "cell_type": "code",
   "execution_count": 38,
   "id": "4fde2ca5-8e05-4f87-b5ce-834140767564",
   "metadata": {},
   "outputs": [
    {
     "data": {
      "text/plain": [
       "array([[2, 3, 2, 3, 3, 3, 3, 2, 2, 2],\n",
       "       [2, 3, 2, 3, 3, 2, 3, 3, 2, 2],\n",
       "       [3, 2, 2, 3, 3, 3, 3, 2, 3, 3],\n",
       "       [3, 2, 2, 2, 3, 2, 3, 2, 2, 2],\n",
       "       [2, 3, 3, 2, 3, 3, 2, 2, 2, 3],\n",
       "       [2, 3, 3, 2, 3, 2, 2, 2, 2, 2],\n",
       "       [2, 3, 3, 3, 3, 2, 2, 3, 2, 2],\n",
       "       [3, 2, 2, 2, 3, 2, 2, 3, 2, 3],\n",
       "       [3, 2, 2, 3, 2, 3, 3, 2, 3, 3],\n",
       "       [2, 2, 2, 3, 3, 3, 2, 3, 3, 2]])"
      ]
     },
     "execution_count": 38,
     "metadata": {},
     "output_type": "execute_result"
    }
   ],
   "source": [
    "new_dsi"
   ]
  },
  {
   "cell_type": "code",
   "execution_count": 39,
   "id": "2ae5e387-75f7-4115-823d-730b22a6be3e",
   "metadata": {},
   "outputs": [
    {
     "data": {
      "text/plain": [
       "array([0, 1])"
      ]
     },
     "execution_count": 39,
     "metadata": {},
     "output_type": "execute_result"
    }
   ],
   "source": [
    "np.searchsorted(tensor1.entities.one_hot_lookup, tensor2.entities.one_hot_lookup)"
   ]
  },
  {
   "cell_type": "code",
   "execution_count": 46,
   "id": "e5698c0a-1639-46af-9568-d91368e0739a",
   "metadata": {},
   "outputs": [
    {
     "name": "stdout",
     "output_type": "stream",
     "text": [
      "[0 1 2 3 4 5 6 7 8] [ 8  9 10 11 12 13 14 15 16 17 18 19]\n"
     ]
    },
    {
     "data": {
      "text/plain": [
       "array([9, 9, 9, 9, 9, 9, 9, 9, 9, 9])"
      ]
     },
     "execution_count": 46,
     "metadata": {},
     "output_type": "execute_result"
    }
   ],
   "source": [
    "print(np.arange(9), np.arange(8,20))\n",
    "np.searchsorted(np.arange(9), np.arange(10, 20))"
   ]
  },
  {
   "cell_type": "code",
   "execution_count": 47,
   "id": "a0bdd477-3a10-4c39-9e30-0c0195523ee2",
   "metadata": {},
   "outputs": [
    {
     "data": {
      "text/plain": [
       "9"
      ]
     },
     "execution_count": 47,
     "metadata": {},
     "output_type": "execute_result"
    }
   ],
   "source": [
    "len(np.arange(9))"
   ]
  },
  {
   "cell_type": "code",
   "execution_count": 48,
   "id": "a23fc550-91e5-4b10-8c09-dc1492902ac9",
   "metadata": {},
   "outputs": [
    {
     "data": {
      "text/plain": [
       "9"
      ]
     },
     "execution_count": 48,
     "metadata": {},
     "output_type": "execute_result"
    }
   ],
   "source": [
    "np.searchsorted(np.arange(9), np.arange(10, 20)).min()"
   ]
  },
  {
   "cell_type": "code",
   "execution_count": 59,
   "id": "5b7d7075-0694-4207-8648-7c9c0bf4f417",
   "metadata": {},
   "outputs": [
    {
     "data": {
      "text/plain": [
       "array([ 0,  1,  2,  3,  4,  5,  6,  7,  8,  9, 10, 11, 12, 13, 14, 15, 16,\n",
       "       17])"
      ]
     },
     "execution_count": 59,
     "metadata": {},
     "output_type": "execute_result"
    }
   ],
   "source": [
    "np.concatenate((np.arange(9), np.arange(9) + 9))"
   ]
  },
  {
   "cell_type": "code",
   "execution_count": 61,
   "id": "63a92f59-4b2b-4a61-91c7-9a2f144b18ed",
   "metadata": {},
   "outputs": [
    {
     "data": {
      "text/plain": [
       "array([[ 0,  1,  2,  3,  4,  5,  6,  7,  8],\n",
       "       [ 9, 10, 11, 12, 13, 14, 15, 16, 17]])"
      ]
     },
     "execution_count": 61,
     "metadata": {},
     "output_type": "execute_result"
    }
   ],
   "source": [
    "np.stack((np.arange(9), np.arange(9) + 9))"
   ]
  },
  {
   "cell_type": "code",
   "execution_count": 67,
   "id": "78de0de0-d2d7-43cc-b63e-6e8ba88e0514",
   "metadata": {},
   "outputs": [],
   "source": [
    "search_result = np.searchsorted(np.arange(9), np.arange(6, 20))"
   ]
  },
  {
   "cell_type": "code",
   "execution_count": 93,
   "id": "d37b90dc-7605-4370-bd9c-240a2e040004",
   "metadata": {},
   "outputs": [
    {
     "data": {
      "text/plain": [
       "array([6, 7, 8])"
      ]
     },
     "execution_count": 93,
     "metadata": {},
     "output_type": "execute_result"
    }
   ],
   "source": [
    "search_result[search_result < len(np.arange(9))]"
   ]
  },
  {
   "cell_type": "code",
   "execution_count": 97,
   "id": "b04116a6-3eaf-444a-b456-790308db3063",
   "metadata": {},
   "outputs": [
    {
     "data": {
      "text/plain": [
       "(array([0, 1]),)"
      ]
     },
     "execution_count": 97,
     "metadata": {},
     "output_type": "execute_result"
    }
   ],
   "source": [
    "np.where(search_result < 8)"
   ]
  },
  {
   "cell_type": "code",
   "execution_count": 100,
   "id": "cd1ea01a-6b70-49f4-848d-654c6cac930f",
   "metadata": {},
   "outputs": [
    {
     "data": {
      "text/plain": [
       "array([6, 7])"
      ]
     },
     "execution_count": 100,
     "metadata": {},
     "output_type": "execute_result"
    }
   ],
   "source": [
    "v = search_result[search_result < 8]\n",
    "v"
   ]
  },
  {
   "cell_type": "code",
   "execution_count": 103,
   "id": "3acffbb8-a0d2-4cd6-b58b-d5b0ce8d2cd4",
   "metadata": {},
   "outputs": [
    {
     "name": "stdout",
     "output_type": "stream",
     "text": [
      "[1 2]\n"
     ]
    }
   ],
   "source": [
    "r = np.searchsorted(np.arange(5, 10), v)\n",
    "print(r)\n",
    "assert r.shape == v.shape"
   ]
  },
  {
   "cell_type": "code",
   "execution_count": 95,
   "id": "5f6859da-6631-45f1-b331-8ddf4d79ccd9",
   "metadata": {},
   "outputs": [
    {
     "name": "stderr",
     "output_type": "stream",
     "text": [
      "/tmp/ipykernel_25451/1951923677.py:1: DeprecationWarning: The truth value of an empty array is ambiguous. Returning False, but in future this will result in an error. Use `array.size > 0` to check that an array is not empty.\n",
      "  any(np.where(search_result < len(np.arange(4))) )\n"
     ]
    },
    {
     "data": {
      "text/plain": [
       "False"
      ]
     },
     "execution_count": 95,
     "metadata": {},
     "output_type": "execute_result"
    }
   ],
   "source": [
    "np.where(search_result < len(np.arange(4)))"
   ]
  },
  {
   "cell_type": "code",
   "execution_count": 74,
   "id": "705fef89-8728-4d31-b55c-1485c451b2e6",
   "metadata": {},
   "outputs": [
    {
     "ename": "AttributeError",
     "evalue": "module 'numpy' has no attribute 'at'",
     "output_type": "error",
     "traceback": [
      "\u001b[0;31m---------------------------------------------------------------------------\u001b[0m",
      "\u001b[0;31mAttributeError\u001b[0m                            Traceback (most recent call last)",
      "Input \u001b[0;32mIn [74]\u001b[0m, in \u001b[0;36m<cell line: 1>\u001b[0;34m()\u001b[0m\n\u001b[0;32m----> 1\u001b[0m \u001b[43mnp\u001b[49m\u001b[38;5;241;43m.\u001b[39;49m\u001b[43mat\u001b[49m(np\u001b[38;5;241m.\u001b[39marange(\u001b[38;5;241m15\u001b[39m), np\u001b[38;5;241m.\u001b[39mwhere(search_result \u001b[38;5;241m<\u001b[39m \u001b[38;5;28mlen\u001b[39m(np\u001b[38;5;241m.\u001b[39marange(\u001b[38;5;241m9\u001b[39m))))\n",
      "File \u001b[0;32m~/PycharmProjects/PySyft/.tox/syft.jupyter/lib/python3.8/site-packages/numpy/__init__.py:315\u001b[0m, in \u001b[0;36m__getattr__\u001b[0;34m(attr)\u001b[0m\n\u001b[1;32m    312\u001b[0m     \u001b[38;5;28;01mfrom\u001b[39;00m \u001b[38;5;21;01m.\u001b[39;00m\u001b[38;5;21;01mtesting\u001b[39;00m \u001b[38;5;28;01mimport\u001b[39;00m Tester\n\u001b[1;32m    313\u001b[0m     \u001b[38;5;28;01mreturn\u001b[39;00m Tester\n\u001b[0;32m--> 315\u001b[0m \u001b[38;5;28;01mraise\u001b[39;00m \u001b[38;5;167;01mAttributeError\u001b[39;00m(\u001b[38;5;124m\"\u001b[39m\u001b[38;5;124mmodule \u001b[39m\u001b[38;5;132;01m{!r}\u001b[39;00m\u001b[38;5;124m has no attribute \u001b[39m\u001b[38;5;124m\"\u001b[39m\n\u001b[1;32m    316\u001b[0m                      \u001b[38;5;124m\"\u001b[39m\u001b[38;5;132;01m{!r}\u001b[39;00m\u001b[38;5;124m\"\u001b[39m\u001b[38;5;241m.\u001b[39mformat(\u001b[38;5;18m__name__\u001b[39m, attr))\n",
      "\u001b[0;31mAttributeError\u001b[0m: module 'numpy' has no attribute 'at'"
     ]
    }
   ],
   "source": [
    "np.at(np.arange(15), np.where(search_result < len(np.arange(9))))"
   ]
  },
  {
   "cell_type": "code",
   "execution_count": 78,
   "id": "bdd1f898-510d-4c47-ab8e-b956f9c6483e",
   "metadata": {},
   "outputs": [
    {
     "name": "stderr",
     "output_type": "stream",
     "text": [
      "/tmp/ipykernel_25451/767052695.py:1: DeprecationWarning: elementwise comparison failed; this will raise an error in the future.\n",
      "  (np.arange(15) + 7).take(np.where(search_result == search_result[:5] ))\n"
     ]
    },
    {
     "data": {
      "text/plain": [
       "array([], shape=(1, 0), dtype=int64)"
      ]
     },
     "execution_count": 78,
     "metadata": {},
     "output_type": "execute_result"
    }
   ],
   "source": [
    "np.where(not np.isin(search_result, np.arange(20),  )"
   ]
  },
  {
   "cell_type": "code",
   "execution_count": 79,
   "id": "1d378361-c497-4ff6-926b-05f0ce805652",
   "metadata": {},
   "outputs": [],
   "source": [
    "arr = np.arange(15) + 7"
   ]
  },
  {
   "cell_type": "code",
   "execution_count": 80,
   "id": "570a4737-0f9a-4dec-840b-668380008ab7",
   "metadata": {},
   "outputs": [
    {
     "data": {
      "text/plain": [
       "array([ 7,  8,  9, 10, 11, 12, 13, 14, 15, 16, 17, 18, 19, 20, 21])"
      ]
     },
     "execution_count": 80,
     "metadata": {},
     "output_type": "execute_result"
    }
   ],
   "source": [
    "arr"
   ]
  },
  {
   "cell_type": "code",
   "execution_count": 84,
   "id": "b4e9f3a3-9708-4dbe-8903-64f264cfc2af",
   "metadata": {},
   "outputs": [
    {
     "data": {
      "text/plain": [
       "array([14, 15, 16, 17])"
      ]
     },
     "execution_count": 84,
     "metadata": {},
     "output_type": "execute_result"
    }
   ],
   "source": [
    "arr.take([0,1,2,3]) + 7"
   ]
  },
  {
   "cell_type": "code",
   "execution_count": 87,
   "id": "2fee3062-5a89-4456-aa37-deccd620880c",
   "metadata": {},
   "outputs": [],
   "source": [
    "arr.put([0,1,2,3], arr.take([0,1,2,3]) + 7)"
   ]
  },
  {
   "cell_type": "code",
   "execution_count": 88,
   "id": "6a0be45f-2f00-4037-b669-f842a38873e9",
   "metadata": {},
   "outputs": [
    {
     "data": {
      "text/plain": [
       "array([14, 15, 16, 17, 11, 12, 13, 14, 15, 16, 17, 18, 19, 20, 21])"
      ]
     },
     "execution_count": 88,
     "metadata": {},
     "output_type": "execute_result"
    }
   ],
   "source": [
    "arr"
   ]
  },
  {
   "cell_type": "code",
   "execution_count": 89,
   "id": "f32e14eb-0297-4b2b-ac2b-e79490137b56",
   "metadata": {},
   "outputs": [
    {
     "data": {
      "text/plain": [
       "array([714,  15,  16,  17, 711, 712, 713, 714,  15,  16,  17,  18,  19,\n",
       "        20,  21])"
      ]
     },
     "execution_count": 89,
     "metadata": {},
     "output_type": "execute_result"
    }
   ],
   "source": [
    "target_indices = np.where(arr < 15)\n",
    "arr.put(target_indices, arr.take(target_indices) + 700)\n",
    "arr"
   ]
  },
  {
   "cell_type": "code",
   "execution_count": 90,
   "id": "82bda27c-6e6f-4017-8c21-2f056941fc88",
   "metadata": {},
   "outputs": [
    {
     "data": {
      "text/plain": [
       "array([ True,  True])"
      ]
     },
     "execution_count": 90,
     "metadata": {},
     "output_type": "execute_result"
    }
   ],
   "source": [
    "np.isin([16, 17], arr)"
   ]
  },
  {
   "cell_type": "code",
   "execution_count": 92,
   "id": "16d0dc47-bef5-4e42-98ce-654f1e67f8f9",
   "metadata": {},
   "outputs": [
    {
     "data": {
      "text/plain": [
       "array([1, 2])"
      ]
     },
     "execution_count": 92,
     "metadata": {},
     "output_type": "execute_result"
    }
   ],
   "source": [
    "np.flatnonzero(np.isin([13, 16,16], arr))"
   ]
  },
  {
   "cell_type": "code",
   "execution_count": 165,
   "id": "6cd043c8-898f-423b-8c59-e02004f07053",
   "metadata": {},
   "outputs": [],
   "source": [
    "from syft.core.adp.data_subject_list import DataSubjectList"
   ]
  },
  {
   "cell_type": "code",
   "execution_count": 163,
   "id": "05fad107-097e-4b7d-950f-08354fe75df6",
   "metadata": {},
   "outputs": [],
   "source": [
    "# This is the starting array that we want to replace values in\n",
    "list2_indexed = arr\n",
    "list2_indexed[1] = 710\n",
    "l2 = DataSubjectList(*np.unique(list2_indexed, return_inverse=True))"
   ]
  },
  {
   "cell_type": "code",
   "execution_count": 164,
   "id": "53bd0a96-fa42-4ee4-b0b6-930b82ae7015",
   "metadata": {},
   "outputs": [],
   "source": [
    "list1_indexed = np.concatenate([np.array([710] * 5), np.arange(710, 720)])\n",
    "l1 = DataSubjectList(*np.unique(list1_indexed, return_inverse=True))"
   ]
  },
  {
   "cell_type": "code",
   "execution_count": 166,
   "id": "6f07cf38-2e93-483a-b3d8-3445fafa2f39",
   "metadata": {},
   "outputs": [],
   "source": [
    "l3 = DataSubjectList(one_hot_lookup=l1.one_hot_lookup+100, data_subjects_indexed=l1.data_subjects_indexed)"
   ]
  },
  {
   "cell_type": "markdown",
   "id": "d4b1e865-e89f-4101-a35a-5cf537bdd3e2",
   "metadata": {},
   "source": [
    "        \"\"\"\n",
    "        If there is are data subjects that exist in list1 and list2, then do the following:\n",
    "        - for overlapping data subjects, \n",
    "            - find the index given to them in list1.one_hot_lookup\n",
    "            - replace their index in list2.data_subjects_indexed with this index\n",
    "        - for non-overlapping data subjects,\n",
    "            - call np.unique(np.concatenate) on the on how lookup arrays\n",
    "            - find the new indices for all the non-overlapping data_subjects in list2\n",
    "            - replace the values in list2.data_subjects_indexed with this index\n",
    "        Finally, stack the new list1 and list2 data_subjects_indexed\n",
    "        \"\"\""
   ]
  },
  {
   "cell_type": "code",
   "execution_count": 169,
   "id": "f8df5d5d-7fac-4bc6-8791-ca8c790a8917",
   "metadata": {},
   "outputs": [
    {
     "name": "stdout",
     "output_type": "stream",
     "text": [
      "[710 711 712 713 714 715 716 717 718 719 810 811 812 813 814 815 816 817\n",
      " 818 819]\n",
      "[[ 0  0  0  0  0  0  1  2  3  4  5  6  7  8  9]\n",
      " [10 10 10 10 10 10 11 12 13 14 15 16 17 18 19]]\n"
     ]
    }
   ],
   "source": [
    "def combine(list1: DataSubjectList, list2: DataSubjectList) -> DataSubjectList:\n",
    "    # We search for any data subjects which might be present in both DSLs\n",
    "    # print(\"l1:\", list1.one_hot_lookup)\n",
    "    # print(\"l2:\", list2.one_hot_lookup)\n",
    "    overlapping_values = np.searchsorted(list1.one_hot_lookup, list2.one_hot_lookup)\n",
    "    # print(\"These values overlap: \", overlapping_values)\n",
    "    # print(list1.one_hot_lookup[overlapping_values])\n",
    "    offset = len(list1.one_hot_lookup)\n",
    "\n",
    "    if overlapping_values.min() == offset:\n",
    "        # There are no overlapping data subjects, we can just use a constant offset\n",
    "        combined_one_hot_lookup = np.concatenate((list1.one_hot_lookup, list2.one_hot_lookup))\n",
    "        combined_indices = np.stack((list1.data_subjects_indexed, list2.data_subjects_indexed + offset))\n",
    "        return DataSubjectList(one_hot_lookup=combined_one_hot_lookup,\n",
    "                               data_subjects_indexed=combined_indices)\n",
    "    \n",
    "    else:\n",
    "        print(overlapping_values)\n",
    "        raise Exception(\"how did we get here\")\n",
    "        #TODO: Check if this is actually faster than just recreating the entire DataSubjectList using np.unique(np.stack((list1.dsi, list2.dsi)))\n",
    "        # I *think* it should be because this method only iterates and renumbers through list2.dsi\n",
    "        \n",
    "        overlapping_values = overlapping_values[overlapping_values < offset]\n",
    "        print(\"These values overlap: \", overlapping_values)\n",
    "        new_list2_data_subjects_indexed = np.empty(list2.data_subjects_indexed.max() + 1, dtype=list2.data_subjects_indexed.dtype)\n",
    "        new_list2_data_subjects_indexed[overlapping_values] = np.searchsorted(list1.one_hot_lookup, overlapping_values)\n",
    "        \n",
    "        \n",
    "        combined_one_hot_lookup = np.unique(np.concatenate((list1.one_hot_lookup, list2.one_hot_lookup)))\n",
    "        non_overlapping_original_values = np.delete(list2.one_hot_lookup, overlapping_values)\n",
    "        print(non_overlapping_original_values, combined_one_hot_lookup, offset)\n",
    "        new_list2_data_subjects_indexed[non_overlapping_original_values] = combined_one_hot_lookup[offset:]\n",
    "        \n",
    "        combined_data_subjects_indexed = np.stack((list1.data_subjects_indexed, new_list2_data_subjects_indexed[list2.data_subjects_indexed]))\n",
    "        \n",
    "        return DataSubjectList(one_hot_lookup=combined_one_hot_lookup, data_subjects_indexed=combined_data_subjects_indexed)\n",
    "\n",
    "for i in range(10**6):\n",
    "    try:\n",
    "        res = combine(l1, l3)\n",
    "    except Exception:\n",
    "        print(i)\n",
    "print(res.one_hot_lookup)\n",
    "print(res.data_subjects_indexed)"
   ]
  },
  {
   "cell_type": "code",
   "execution_count": 115,
   "id": "754e9992-147a-4e23-8319-998bd75bfdbf",
   "metadata": {},
   "outputs": [
    {
     "data": {
      "text/plain": [
       "array([714,  15,  16,  17, 711, 712, 713, 714,  15,  16,  17,  18,  19,\n",
       "        20,  21])"
      ]
     },
     "execution_count": 115,
     "metadata": {},
     "output_type": "execute_result"
    }
   ],
   "source": [
    "arr"
   ]
  },
  {
   "cell_type": "code",
   "execution_count": 121,
   "id": "b5c14062-e866-4ac6-866c-03faeba99c10",
   "metadata": {},
   "outputs": [
    {
     "name": "stdout",
     "output_type": "stream",
     "text": [
      "(715,)\n"
     ]
    },
    {
     "data": {
      "text/plain": [
       "array([3., 0., 0., 0., 0., 1., 2., 3., 0., 0., 0., 0., 0., 0., 0.])"
      ]
     },
     "execution_count": 121,
     "metadata": {},
     "output_type": "execute_result"
    }
   ],
   "source": [
    "output = np.empty(arr.max() + 1)\n",
    "print(output.shape)\n",
    "output[np.arange(711, 715)] = np.arange(4)\n",
    "output[arr]"
   ]
  },
  {
   "cell_type": "code",
   "execution_count": 122,
   "id": "d92ecf8d-e90c-41e4-b923-e5abe46b40da",
   "metadata": {},
   "outputs": [
    {
     "ename": "IndexError",
     "evalue": "index 711 is out of bounds for axis 0 with size 15",
     "output_type": "error",
     "traceback": [
      "\u001b[0;31m---------------------------------------------------------------------------\u001b[0m",
      "\u001b[0;31mIndexError\u001b[0m                                Traceback (most recent call last)",
      "Input \u001b[0;32mIn [122]\u001b[0m, in \u001b[0;36m<cell line: 2>\u001b[0;34m()\u001b[0m\n\u001b[1;32m      1\u001b[0m output2 \u001b[38;5;241m=\u001b[39m np\u001b[38;5;241m.\u001b[39mempty_like(arr)\n\u001b[0;32m----> 2\u001b[0m output2[np\u001b[38;5;241m.\u001b[39marange(\u001b[38;5;241m711\u001b[39m,\u001b[38;5;241m715\u001b[39m)] \u001b[38;5;241m=\u001b[39m np\u001b[38;5;241m.\u001b[39marange(\u001b[38;5;241m4\u001b[39m)\n\u001b[1;32m      3\u001b[0m output2\n",
      "\u001b[0;31mIndexError\u001b[0m: index 711 is out of bounds for axis 0 with size 15"
     ]
    }
   ],
   "source": [
    "output2 = np.empty_like(arr)\n",
    "output2[np.arange(711,715)] = np.arange(4)\n",
    "output2"
   ]
  },
  {
   "cell_type": "code",
   "execution_count": 118,
   "id": "1b3fe162-7a67-419a-888f-fdf157888227",
   "metadata": {},
   "outputs": [
    {
     "data": {
      "text/plain": [
       "array([711, 712, 713, 714])"
      ]
     },
     "execution_count": 118,
     "metadata": {},
     "output_type": "execute_result"
    }
   ],
   "source": [
    "np.arange(711, 715)"
   ]
  },
  {
   "cell_type": "code",
   "execution_count": 119,
   "id": "53f9b075-0913-4e85-890f-1531c714c85d",
   "metadata": {},
   "outputs": [
    {
     "data": {
      "text/plain": [
       "array([0, 1, 2, 3])"
      ]
     },
     "execution_count": 119,
     "metadata": {},
     "output_type": "execute_result"
    }
   ],
   "source": [
    "np.arange(4)"
   ]
  },
  {
   "cell_type": "code",
   "execution_count": 123,
   "id": "f108b141-2574-4843-9b40-811c30c873eb",
   "metadata": {},
   "outputs": [],
   "source": [
    "ohl1 = np.arange(10)\n",
    "ohl2 = np.arange(7,15)"
   ]
  },
  {
   "cell_type": "code",
   "execution_count": 126,
   "id": "0f05821c-43b8-4d6e-b804-d91c7cbe63e4",
   "metadata": {},
   "outputs": [
    {
     "data": {
      "text/plain": [
       "array([ 0,  1,  2,  3,  4,  5,  6,  7,  8,  9, 10, 11, 12, 13, 14])"
      ]
     },
     "execution_count": 126,
     "metadata": {},
     "output_type": "execute_result"
    }
   ],
   "source": [
    "res = np.unique(np.concatenate((ohl1, ohl2)))\n",
    "res"
   ]
  },
  {
   "cell_type": "code",
   "execution_count": 127,
   "id": "2dfce1c5-fb49-4026-bb5f-91c72e94ec56",
   "metadata": {},
   "outputs": [
    {
     "data": {
      "text/plain": [
       "array([10, 11, 12, 13, 14])"
      ]
     },
     "execution_count": 127,
     "metadata": {},
     "output_type": "execute_result"
    }
   ],
   "source": [
    "res[len(ohl1):]"
   ]
  },
  {
   "cell_type": "code",
   "execution_count": null,
   "id": "979fc8ae-ffac-470b-ac68-1746cc052385",
   "metadata": {},
   "outputs": [],
   "source": []
  }
 ],
 "metadata": {
  "kernelspec": {
   "display_name": "Python 3 (ipykernel)",
   "language": "python",
   "name": "python3"
  },
  "language_info": {
   "codemirror_mode": {
    "name": "ipython",
    "version": 3
   },
   "file_extension": ".py",
   "mimetype": "text/x-python",
   "name": "python",
   "nbconvert_exporter": "python",
   "pygments_lexer": "ipython3",
   "version": "3.8.10"
  }
 },
 "nbformat": 4,
 "nbformat_minor": 5
}
