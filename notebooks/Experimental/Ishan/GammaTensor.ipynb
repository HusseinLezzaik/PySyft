{
 "cells": [
  {
   "cell_type": "code",
   "execution_count": 1,
   "id": "67a2f380-0937-4661-b2db-597e2370d580",
   "metadata": {},
   "outputs": [],
   "source": [
    "import syft as sy\n",
    "import numpy as np\n",
    "from syft.core.adp.data_subject_list import DataSubjectList"
   ]
  },
  {
   "cell_type": "code",
   "execution_count": 2,
   "id": "5ea92854-7c2f-4daf-8cbd-07cdd50e7b10",
   "metadata": {},
   "outputs": [],
   "source": [
    "from syft.core.tensor.autodp.ndim_entity_phi import NDimEntityPhiTensor as NDEPT\n",
    "from syft.core.tensor.autodp.gamma_tensor import GammaTensor"
   ]
  },
  {
   "cell_type": "code",
   "execution_count": 5,
   "id": "1e253e36-ab3d-46da-8bce-5b2315715dc8",
   "metadata": {},
   "outputs": [],
   "source": [
    "ndept = NDEPT(\n",
    "    child = np.random.randint(low=2, high=100, size=(10,10), dtype=np.int64),\n",
    "    entities= np.random.choice([0, 1], size=(10, 10)),\n",
    "    min_vals= 2,\n",
    "    max_vals= 100\n",
    ")"
   ]
  },
  {
   "cell_type": "code",
   "execution_count": 6,
   "id": "1ca33690-6635-418c-a6ed-411bc085eb7d",
   "metadata": {},
   "outputs": [
    {
     "data": {
      "text/plain": [
       "NDimEntityPhiTensor(child=(10, 10), min_vals=<lazyrepeatarray data: 2 -> shape: (10, 10)>, max_vals=<lazyrepeatarray data: 100 -> shape: (10, 10)>)"
      ]
     },
     "execution_count": 6,
     "metadata": {},
     "output_type": "execute_result"
    }
   ],
   "source": [
    "ndept"
   ]
  },
  {
   "cell_type": "code",
   "execution_count": 7,
   "id": "34268b41-a9dc-4f0b-a4db-17766ba5dd78",
   "metadata": {},
   "outputs": [
    {
     "data": {
      "text/plain": [
       "GammaTensor(value=array([[54, 80, 93, 15, 97, 44, 91, 43, 73, 89],\n",
       "       [84, 50, 38, 21, 56, 44, 91,  7, 60, 44],\n",
       "       [32, 80, 75, 66, 32, 60, 28, 48, 88, 42],\n",
       "       [23, 72,  6, 46, 88, 90, 32, 30,  9, 48],\n",
       "       [34, 79, 57, 85,  2, 56, 62, 81, 98, 66],\n",
       "       [93, 30,  6, 14, 89, 24, 19, 94, 14, 26],\n",
       "       [37, 20, 99,  7, 81, 42, 54, 26, 58, 38],\n",
       "       [27,  7, 87, 82, 32, 88, 90, 96, 17, 86],\n",
       "       [14, 56, 89,  4, 34, 84, 72, 60, 27, 57],\n",
       "       [77, 74,  3, 49, 93, 76, 10, 10, 60, 97]]), data_subjects=<syft.core.adp.data_subject_list.DataSubjectList object at 0x7fcfbb6d9490>, min_val=<lazyrepeatarray data: 2 -> shape: (10, 10)>, max_val=<lazyrepeatarray data: 100 -> shape: (10, 10)>, is_linear=True, func=<function no_op at 0x7fcfc1128b80>, id='1239285786', inputs=array([], dtype=int64), state={'1239285786': ...})"
      ]
     },
     "execution_count": 7,
     "metadata": {},
     "output_type": "execute_result"
    }
   ],
   "source": [
    "ndept.gamma"
   ]
  },
  {
   "cell_type": "code",
   "execution_count": 8,
   "id": "26fe9e9f-d487-405b-b0a9-fe6dfcf58dbd",
   "metadata": {},
   "outputs": [],
   "source": [
    "tensor1 = ndept + 1"
   ]
  },
  {
   "cell_type": "code",
   "execution_count": 10,
   "id": "289bb401-1f41-4285-8746-8cc0e5ad4943",
   "metadata": {},
   "outputs": [],
   "source": [
    "tensor2 = ndept + 7"
   ]
  },
  {
   "cell_type": "code",
   "execution_count": 12,
   "id": "df40f9e7-13a3-4b12-b22d-8de91977e367",
   "metadata": {},
   "outputs": [],
   "source": [
    "tensor3 = tensor1 + tensor2"
   ]
  },
  {
   "cell_type": "code",
   "execution_count": 16,
   "id": "c79d19f0-953c-4fb4-b353-6ec382a6dd8d",
   "metadata": {},
   "outputs": [],
   "source": [
    "assert (tensor1.child + tensor2.child == tensor3.child).all()"
   ]
  },
  {
   "cell_type": "code",
   "execution_count": 18,
   "id": "d7f99d30-b944-4cd8-8d52-b0aa7c667ca0",
   "metadata": {},
   "outputs": [
    {
     "data": {
      "text/plain": [
       "True"
      ]
     },
     "execution_count": 18,
     "metadata": {},
     "output_type": "execute_result"
    }
   ],
   "source": [
    "tensor3.entities == tensor1.entities"
   ]
  },
  {
   "cell_type": "code",
   "execution_count": 19,
   "id": "e7244aaf-3bcf-40bd-a7fc-3650dffb2566",
   "metadata": {},
   "outputs": [],
   "source": [
    "gt = tensor1.gamma + tensor2.gamma"
   ]
  },
  {
   "cell_type": "code",
   "execution_count": 20,
   "id": "2187ba35-ad21-4da1-bfab-3535a8ba36a5",
   "metadata": {},
   "outputs": [
    {
     "data": {
      "text/plain": [
       "GammaTensor(value=array([[116, 168, 194,  38, 202,  96, 190,  94, 154, 186],\n",
       "       [176, 108,  84,  50, 120,  96, 190,  22, 128,  96],\n",
       "       [ 72, 168, 158, 140,  72, 128,  64, 104, 184,  92],\n",
       "       [ 54, 152,  20, 100, 184, 188,  72,  68,  26, 104],\n",
       "       [ 76, 166, 122, 178,  12, 120, 132, 170, 204, 140],\n",
       "       [194,  68,  20,  36, 186,  56,  46, 196,  36,  60],\n",
       "       [ 82,  48, 206,  22, 170,  92, 116,  60, 124,  84],\n",
       "       [ 62,  22, 182, 172,  72, 184, 188, 200,  42, 180],\n",
       "       [ 36, 120, 186,  16,  76, 176, 152, 128,  62, 122],\n",
       "       [162, 156,  14, 106, 194, 160,  28,  28, 128, 202]]), data_subjects=<syft.core.adp.data_subject_list.DataSubjectList object at 0x7fcfbb6d9490>, min_val=<lazyrepeatarray data: 12 -> shape: (10, 10)>, max_val=<lazyrepeatarray data: 208 -> shape: (10, 10)>, is_linear=True, func=<function GammaTensor.__add__.<locals>._add at 0x7fcfba0a64c0>, id='451898244', inputs=array([], dtype=int64), state={'827855961': GammaTensor(value=array([[ 55,  81,  94,  16,  98,  45,  92,  44,  74,  90],\n",
       "       [ 85,  51,  39,  22,  57,  45,  92,   8,  61,  45],\n",
       "       [ 33,  81,  76,  67,  33,  61,  29,  49,  89,  43],\n",
       "       [ 24,  73,   7,  47,  89,  91,  33,  31,  10,  49],\n",
       "       [ 35,  80,  58,  86,   3,  57,  63,  82,  99,  67],\n",
       "       [ 94,  31,   7,  15,  90,  25,  20,  95,  15,  27],\n",
       "       [ 38,  21, 100,   8,  82,  43,  55,  27,  59,  39],\n",
       "       [ 28,   8,  88,  83,  33,  89,  91,  97,  18,  87],\n",
       "       [ 15,  57,  90,   5,  35,  85,  73,  61,  28,  58],\n",
       "       [ 78,  75,   4,  50,  94,  77,  11,  11,  61,  98]]), data_subjects=<syft.core.adp.data_subject_list.DataSubjectList object at 0x7fcfbb6d9490>, min_val=<lazyrepeatarray data: 3 -> shape: (10, 10)>, max_val=<lazyrepeatarray data: 101 -> shape: (10, 10)>, is_linear=True, func=<function no_op at 0x7fcfc1128b80>, id='827855961', inputs=array([], dtype=int64), state={'827855961': ...}), '1484962095': GammaTensor(value=array([[ 61,  87, 100,  22, 104,  51,  98,  50,  80,  96],\n",
       "       [ 91,  57,  45,  28,  63,  51,  98,  14,  67,  51],\n",
       "       [ 39,  87,  82,  73,  39,  67,  35,  55,  95,  49],\n",
       "       [ 30,  79,  13,  53,  95,  97,  39,  37,  16,  55],\n",
       "       [ 41,  86,  64,  92,   9,  63,  69,  88, 105,  73],\n",
       "       [100,  37,  13,  21,  96,  31,  26, 101,  21,  33],\n",
       "       [ 44,  27, 106,  14,  88,  49,  61,  33,  65,  45],\n",
       "       [ 34,  14,  94,  89,  39,  95,  97, 103,  24,  93],\n",
       "       [ 21,  63,  96,  11,  41,  91,  79,  67,  34,  64],\n",
       "       [ 84,  81,  10,  56, 100,  83,  17,  17,  67, 104]]), data_subjects=<syft.core.adp.data_subject_list.DataSubjectList object at 0x7fcfbb6d9490>, min_val=<lazyrepeatarray data: 9 -> shape: (10, 10)>, max_val=<lazyrepeatarray data: 107 -> shape: (10, 10)>, is_linear=True, func=<function no_op at 0x7fcfc1128b80>, id='1484962095', inputs=array([], dtype=int64), state={'1484962095': ...})})"
      ]
     },
     "execution_count": 20,
     "metadata": {},
     "output_type": "execute_result"
    }
   ],
   "source": [
    "gt"
   ]
  },
  {
   "cell_type": "code",
   "execution_count": 21,
   "id": "3371b007-2c22-4426-b01b-355958472692",
   "metadata": {},
   "outputs": [
    {
     "data": {
      "text/plain": [
       "{'827855961': GammaTensor(value=array([[ 55,  81,  94,  16,  98,  45,  92,  44,  74,  90],\n",
       "        [ 85,  51,  39,  22,  57,  45,  92,   8,  61,  45],\n",
       "        [ 33,  81,  76,  67,  33,  61,  29,  49,  89,  43],\n",
       "        [ 24,  73,   7,  47,  89,  91,  33,  31,  10,  49],\n",
       "        [ 35,  80,  58,  86,   3,  57,  63,  82,  99,  67],\n",
       "        [ 94,  31,   7,  15,  90,  25,  20,  95,  15,  27],\n",
       "        [ 38,  21, 100,   8,  82,  43,  55,  27,  59,  39],\n",
       "        [ 28,   8,  88,  83,  33,  89,  91,  97,  18,  87],\n",
       "        [ 15,  57,  90,   5,  35,  85,  73,  61,  28,  58],\n",
       "        [ 78,  75,   4,  50,  94,  77,  11,  11,  61,  98]]), data_subjects=<syft.core.adp.data_subject_list.DataSubjectList object at 0x7fcfbb6d9490>, min_val=<lazyrepeatarray data: 3 -> shape: (10, 10)>, max_val=<lazyrepeatarray data: 101 -> shape: (10, 10)>, is_linear=True, func=<function no_op at 0x7fcfc1128b80>, id='827855961', inputs=array([], dtype=int64), state={'827855961': ...}),\n",
       " '1484962095': GammaTensor(value=array([[ 61,  87, 100,  22, 104,  51,  98,  50,  80,  96],\n",
       "        [ 91,  57,  45,  28,  63,  51,  98,  14,  67,  51],\n",
       "        [ 39,  87,  82,  73,  39,  67,  35,  55,  95,  49],\n",
       "        [ 30,  79,  13,  53,  95,  97,  39,  37,  16,  55],\n",
       "        [ 41,  86,  64,  92,   9,  63,  69,  88, 105,  73],\n",
       "        [100,  37,  13,  21,  96,  31,  26, 101,  21,  33],\n",
       "        [ 44,  27, 106,  14,  88,  49,  61,  33,  65,  45],\n",
       "        [ 34,  14,  94,  89,  39,  95,  97, 103,  24,  93],\n",
       "        [ 21,  63,  96,  11,  41,  91,  79,  67,  34,  64],\n",
       "        [ 84,  81,  10,  56, 100,  83,  17,  17,  67, 104]]), data_subjects=<syft.core.adp.data_subject_list.DataSubjectList object at 0x7fcfbb6d9490>, min_val=<lazyrepeatarray data: 9 -> shape: (10, 10)>, max_val=<lazyrepeatarray data: 107 -> shape: (10, 10)>, is_linear=True, func=<function no_op at 0x7fcfc1128b80>, id='1484962095', inputs=array([], dtype=int64), state={'1484962095': ...})}"
      ]
     },
     "execution_count": 21,
     "metadata": {},
     "output_type": "execute_result"
    }
   ],
   "source": [
    "gt.state"
   ]
  },
  {
   "cell_type": "code",
   "execution_count": 22,
   "id": "3fb83aca-66e9-4828-8a49-cdf7c979bd09",
   "metadata": {},
   "outputs": [
    {
     "data": {
      "text/plain": [
       "dict_keys(['827855961', '1484962095'])"
      ]
     },
     "execution_count": 22,
     "metadata": {},
     "output_type": "execute_result"
    }
   ],
   "source": [
    "gt.state.keys()"
   ]
  },
  {
   "cell_type": "code",
   "execution_count": 24,
   "id": "83cba16c-f984-4a76-b95e-913317687658",
   "metadata": {},
   "outputs": [
    {
     "data": {
      "text/plain": [
       "{'827855961': GammaTensor(value=array([[ 55,  81,  94,  16,  98,  45,  92,  44,  74,  90],\n",
       "        [ 85,  51,  39,  22,  57,  45,  92,   8,  61,  45],\n",
       "        [ 33,  81,  76,  67,  33,  61,  29,  49,  89,  43],\n",
       "        [ 24,  73,   7,  47,  89,  91,  33,  31,  10,  49],\n",
       "        [ 35,  80,  58,  86,   3,  57,  63,  82,  99,  67],\n",
       "        [ 94,  31,   7,  15,  90,  25,  20,  95,  15,  27],\n",
       "        [ 38,  21, 100,   8,  82,  43,  55,  27,  59,  39],\n",
       "        [ 28,   8,  88,  83,  33,  89,  91,  97,  18,  87],\n",
       "        [ 15,  57,  90,   5,  35,  85,  73,  61,  28,  58],\n",
       "        [ 78,  75,   4,  50,  94,  77,  11,  11,  61,  98]]), data_subjects=<syft.core.adp.data_subject_list.DataSubjectList object at 0x7fcfbb6d9490>, min_val=<lazyrepeatarray data: 3 -> shape: (10, 10)>, max_val=<lazyrepeatarray data: 101 -> shape: (10, 10)>, is_linear=True, func=<function no_op at 0x7fcfc1128b80>, id='827855961', inputs=array([], dtype=int64), state={'827855961': ...})}"
      ]
     },
     "execution_count": 24,
     "metadata": {},
     "output_type": "execute_result"
    }
   ],
   "source": [
    "gt.state['827855961'].state"
   ]
  },
  {
   "cell_type": "code",
   "execution_count": 26,
   "id": "9e1c43ac-5ccd-42c9-b926-c8246159ffb2",
   "metadata": {},
   "outputs": [
    {
     "data": {
      "text/plain": [
       "<syft.core.adp.data_subject_list.DataSubjectList at 0x7fcfbb6d9490>"
      ]
     },
     "execution_count": 26,
     "metadata": {},
     "output_type": "execute_result"
    }
   ],
   "source": [
    "tensor1.entities"
   ]
  },
  {
   "cell_type": "code",
   "execution_count": 27,
   "id": "8fcbcf03-a073-46cf-80e2-1d9fae4c4090",
   "metadata": {},
   "outputs": [
    {
     "data": {
      "text/plain": [
       "array([[0, 1, 0, 1, 1, 1, 1, 0, 0, 0],\n",
       "       [0, 1, 0, 1, 1, 0, 1, 1, 0, 0],\n",
       "       [1, 0, 0, 1, 1, 1, 1, 0, 1, 1],\n",
       "       [1, 0, 0, 0, 1, 0, 1, 0, 0, 0],\n",
       "       [0, 1, 1, 0, 1, 1, 0, 0, 0, 1],\n",
       "       [0, 1, 1, 0, 1, 0, 0, 0, 0, 0],\n",
       "       [0, 1, 1, 1, 1, 0, 0, 1, 0, 0],\n",
       "       [1, 0, 0, 0, 1, 0, 0, 1, 0, 1],\n",
       "       [1, 0, 0, 1, 0, 1, 1, 0, 1, 1],\n",
       "       [0, 0, 0, 1, 1, 1, 0, 1, 1, 0]])"
      ]
     },
     "execution_count": 27,
     "metadata": {},
     "output_type": "execute_result"
    }
   ],
   "source": [
    "tensor1.entities.data_subjects_indexed"
   ]
  },
  {
   "cell_type": "code",
   "execution_count": 28,
   "id": "c37f7431-8361-487f-8803-546e541257c6",
   "metadata": {},
   "outputs": [
    {
     "data": {
      "text/plain": [
       "array([0, 1])"
      ]
     },
     "execution_count": 28,
     "metadata": {},
     "output_type": "execute_result"
    }
   ],
   "source": [
    "tensor1.entities.one_hot_lookup"
   ]
  },
  {
   "cell_type": "code",
   "execution_count": 30,
   "id": "ab72494b-7ea7-40f3-9715-cad87c1ac7c1",
   "metadata": {},
   "outputs": [],
   "source": [
    "original_dsi = tensor1.entities.data_subjects_indexed.copy()"
   ]
  },
  {
   "cell_type": "code",
   "execution_count": 31,
   "id": "31d0aaf6-f1ec-4d64-9d1f-2122c35eb8ec",
   "metadata": {},
   "outputs": [
    {
     "ename": "ValueError",
     "evalue": "shape mismatch: value array of shape (2,) could not be broadcast to indexing result of shape (2,10)",
     "output_type": "error",
     "traceback": [
      "\u001b[0;31m---------------------------------------------------------------------------\u001b[0m",
      "\u001b[0;31mValueError\u001b[0m                                Traceback (most recent call last)",
      "Input \u001b[0;32mIn [31]\u001b[0m, in \u001b[0;36m<cell line: 2>\u001b[0;34m()\u001b[0m\n\u001b[1;32m      1\u001b[0m new_dsi \u001b[38;5;241m=\u001b[39m np\u001b[38;5;241m.\u001b[39mempty_like(original_dsi)\n\u001b[0;32m----> 2\u001b[0m new_dsi[tensor1\u001b[38;5;241m.\u001b[39mentities\u001b[38;5;241m.\u001b[39mone_hot_lookup] \u001b[38;5;241m=\u001b[39m tensor1\u001b[38;5;241m.\u001b[39mentities\u001b[38;5;241m.\u001b[39mone_hot_lookup \u001b[38;5;241m+\u001b[39m \u001b[38;5;28mlen\u001b[39m(tensor1\u001b[38;5;241m.\u001b[39mentities\u001b[38;5;241m.\u001b[39mone_hot_lookup)\n",
      "\u001b[0;31mValueError\u001b[0m: shape mismatch: value array of shape (2,) could not be broadcast to indexing result of shape (2,10)"
     ]
    }
   ],
   "source": [
    "new_dsi = np.empty_like(original_dsi)\n",
    "new_dsi[tensor1.entities.one_hot_lookup] = tensor1.entities.one_hot_lookup + len(tensor1.entities.one_hot_lookup)"
   ]
  },
  {
   "cell_type": "code",
   "execution_count": 36,
   "id": "644339b4-1452-4de4-bdc3-6b3f89edecea",
   "metadata": {},
   "outputs": [
    {
     "data": {
      "text/plain": [
       "array([[0, 1, 0, 1, 1, 1, 1, 0, 0, 0],\n",
       "       [0, 1, 0, 1, 1, 0, 1, 1, 0, 0],\n",
       "       [1, 0, 0, 1, 1, 1, 1, 0, 1, 1],\n",
       "       [1, 0, 0, 0, 1, 0, 1, 0, 0, 0],\n",
       "       [0, 1, 1, 0, 1, 1, 0, 0, 0, 1],\n",
       "       [0, 1, 1, 0, 1, 0, 0, 0, 0, 0],\n",
       "       [0, 1, 1, 1, 1, 0, 0, 1, 0, 0],\n",
       "       [1, 0, 0, 0, 1, 0, 0, 1, 0, 1],\n",
       "       [1, 0, 0, 1, 0, 1, 1, 0, 1, 1],\n",
       "       [0, 0, 0, 1, 1, 1, 0, 1, 1, 0]])"
      ]
     },
     "execution_count": 36,
     "metadata": {},
     "output_type": "execute_result"
    }
   ],
   "source": [
    "original_dsi"
   ]
  },
  {
   "cell_type": "code",
   "execution_count": 37,
   "id": "7753f62c-f166-4b6b-8ce4-46d8e875c566",
   "metadata": {},
   "outputs": [],
   "source": [
    "new_dsi = original_dsi + len(tensor1.entities.one_hot_lookup)"
   ]
  },
  {
   "cell_type": "code",
   "execution_count": 38,
   "id": "4fde2ca5-8e05-4f87-b5ce-834140767564",
   "metadata": {},
   "outputs": [
    {
     "data": {
      "text/plain": [
       "array([[2, 3, 2, 3, 3, 3, 3, 2, 2, 2],\n",
       "       [2, 3, 2, 3, 3, 2, 3, 3, 2, 2],\n",
       "       [3, 2, 2, 3, 3, 3, 3, 2, 3, 3],\n",
       "       [3, 2, 2, 2, 3, 2, 3, 2, 2, 2],\n",
       "       [2, 3, 3, 2, 3, 3, 2, 2, 2, 3],\n",
       "       [2, 3, 3, 2, 3, 2, 2, 2, 2, 2],\n",
       "       [2, 3, 3, 3, 3, 2, 2, 3, 2, 2],\n",
       "       [3, 2, 2, 2, 3, 2, 2, 3, 2, 3],\n",
       "       [3, 2, 2, 3, 2, 3, 3, 2, 3, 3],\n",
       "       [2, 2, 2, 3, 3, 3, 2, 3, 3, 2]])"
      ]
     },
     "execution_count": 38,
     "metadata": {},
     "output_type": "execute_result"
    }
   ],
   "source": [
    "new_dsi"
   ]
  },
  {
   "cell_type": "code",
   "execution_count": 39,
   "id": "2ae5e387-75f7-4115-823d-730b22a6be3e",
   "metadata": {},
   "outputs": [
    {
     "data": {
      "text/plain": [
       "array([0, 1])"
      ]
     },
     "execution_count": 39,
     "metadata": {},
     "output_type": "execute_result"
    }
   ],
   "source": [
    "np.searchsorted(tensor1.entities.one_hot_lookup, tensor2.entities.one_hot_lookup)"
   ]
  },
  {
   "cell_type": "code",
   "execution_count": 46,
   "id": "e5698c0a-1639-46af-9568-d91368e0739a",
   "metadata": {},
   "outputs": [
    {
     "name": "stdout",
     "output_type": "stream",
     "text": [
      "[0 1 2 3 4 5 6 7 8] [ 8  9 10 11 12 13 14 15 16 17 18 19]\n"
     ]
    },
    {
     "data": {
      "text/plain": [
       "array([9, 9, 9, 9, 9, 9, 9, 9, 9, 9])"
      ]
     },
     "execution_count": 46,
     "metadata": {},
     "output_type": "execute_result"
    }
   ],
   "source": [
    "print(np.arange(9), np.arange(8,20))\n",
    "np.searchsorted(np.arange(9), np.arange(10, 20))"
   ]
  },
  {
   "cell_type": "code",
   "execution_count": 47,
   "id": "a0bdd477-3a10-4c39-9e30-0c0195523ee2",
   "metadata": {},
   "outputs": [
    {
     "data": {
      "text/plain": [
       "9"
      ]
     },
     "execution_count": 47,
     "metadata": {},
     "output_type": "execute_result"
    }
   ],
   "source": [
    "len(np.arange(9))"
   ]
  },
  {
   "cell_type": "code",
   "execution_count": 48,
   "id": "a23fc550-91e5-4b10-8c09-dc1492902ac9",
   "metadata": {},
   "outputs": [
    {
     "data": {
      "text/plain": [
       "9"
      ]
     },
     "execution_count": 48,
     "metadata": {},
     "output_type": "execute_result"
    }
   ],
   "source": [
    "np.searchsorted(np.arange(9), np.arange(10, 20)).min()"
   ]
  },
  {
   "cell_type": "code",
   "execution_count": 59,
   "id": "5b7d7075-0694-4207-8648-7c9c0bf4f417",
   "metadata": {},
   "outputs": [
    {
     "data": {
      "text/plain": [
       "array([ 0,  1,  2,  3,  4,  5,  6,  7,  8,  9, 10, 11, 12, 13, 14, 15, 16,\n",
       "       17])"
      ]
     },
     "execution_count": 59,
     "metadata": {},
     "output_type": "execute_result"
    }
   ],
   "source": [
    "np.concatenate((np.arange(9), np.arange(9) + 9))"
   ]
  },
  {
   "cell_type": "code",
   "execution_count": 61,
   "id": "63a92f59-4b2b-4a61-91c7-9a2f144b18ed",
   "metadata": {},
   "outputs": [
    {
     "data": {
      "text/plain": [
       "array([[ 0,  1,  2,  3,  4,  5,  6,  7,  8],\n",
       "       [ 9, 10, 11, 12, 13, 14, 15, 16, 17]])"
      ]
     },
     "execution_count": 61,
     "metadata": {},
     "output_type": "execute_result"
    }
   ],
   "source": [
    "np.stack((np.arange(9), np.arange(9) + 9))"
   ]
  },
  {
   "cell_type": "code",
   "execution_count": 67,
   "id": "78de0de0-d2d7-43cc-b63e-6e8ba88e0514",
   "metadata": {},
   "outputs": [],
   "source": [
    "search_result = np.searchsorted(np.arange(9), np.arange(6, 20))"
   ]
  },
  {
   "cell_type": "code",
   "execution_count": 68,
   "id": "d37b90dc-7605-4370-bd9c-240a2e040004",
   "metadata": {},
   "outputs": [
    {
     "data": {
      "text/plain": [
       "array([6, 7, 8, 9, 9, 9, 9, 9, 9, 9, 9, 9, 9, 9])"
      ]
     },
     "execution_count": 68,
     "metadata": {},
     "output_type": "execute_result"
    }
   ],
   "source": [
    "search_result"
   ]
  },
  {
   "cell_type": "code",
   "execution_count": 69,
   "id": "5f6859da-6631-45f1-b331-8ddf4d79ccd9",
   "metadata": {},
   "outputs": [
    {
     "data": {
      "text/plain": [
       "(array([0, 1, 2]),)"
      ]
     },
     "execution_count": 69,
     "metadata": {},
     "output_type": "execute_result"
    }
   ],
   "source": [
    "np.where(search_result < len(np.arange(9))) "
   ]
  },
  {
   "cell_type": "code",
   "execution_count": null,
   "id": "705fef89-8728-4d31-b55c-1485c451b2e6",
   "metadata": {},
   "outputs": [],
   "source": []
  }
 ],
 "metadata": {
  "kernelspec": {
   "display_name": "Python 3 (ipykernel)",
   "language": "python",
   "name": "python3"
  },
  "language_info": {
   "codemirror_mode": {
    "name": "ipython",
    "version": 3
   },
   "file_extension": ".py",
   "mimetype": "text/x-python",
   "name": "python",
   "nbconvert_exporter": "python",
   "pygments_lexer": "ipython3",
   "version": "3.8.10"
  }
 },
 "nbformat": 4,
 "nbformat_minor": 5
}
