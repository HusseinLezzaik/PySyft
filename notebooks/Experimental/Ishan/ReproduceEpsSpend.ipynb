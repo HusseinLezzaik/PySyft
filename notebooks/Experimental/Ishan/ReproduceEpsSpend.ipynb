{
 "cells": [
  {
   "cell_type": "code",
   "execution_count": 1,
   "id": "2c58bbd3-0b48-474e-ab02-0cb0173dd60d",
   "metadata": {},
   "outputs": [],
   "source": [
    "import syft as sy"
   ]
  },
  {
   "cell_type": "code",
   "execution_count": 2,
   "id": "ee0fc919-7755-4a78-a5b1-bb7c54ff1a50",
   "metadata": {},
   "outputs": [
    {
     "name": "stdout",
     "output_type": "stream",
     "text": [
      "Tensor created! You can activate Differential Privacy protection by calling .private() or             .annotate_with_dp_metadata().\n",
      "Tensor annotated with DP Metadata!\n",
      "You can upload this Tensor to a domain node by calling domain_client.load_dataset             and passing in this tensor as an asset.\n",
      "Tensor annotated with DP Metadata!\n",
      "You can upload this Tensor to a domain node by calling domain_client.load_dataset             and passing in this tensor as an asset.\n",
      "Tensor created! You can activate Differential Privacy protection by calling .private() or             .annotate_with_dp_metadata().\n",
      "-2.7693603042186754\n"
     ]
    }
   ],
   "source": [
    "import numpy as np\n",
    "\n",
    "n = 1000\n",
    "_x = (np.random.randn(n) * 100)\n",
    "a = sy.Tensor(_x).annotate_with_dp_metadata(min_val=-20, \n",
    "                                                   max_val=20, \n",
    "                                                   data_subjects=list(map(lambda x:str(x)+\":A\", range(0,n))))\n",
    "\n",
    "print(_x.mean())"
   ]
  },
  {
   "cell_type": "code",
   "execution_count": 3,
   "id": "db2c907f-b5cc-4b8c-b8ea-054e920631fc",
   "metadata": {},
   "outputs": [
    {
     "name": "stdout",
     "output_type": "stream",
     "text": [
      "\u001b[93mWARNING:\u001b[0m CHANGE YOUR USERNAME AND PASSWORD!!! \n",
      "\n",
      "Anyone can login as an admin to your node right now because your password is still the default PySyft username and password!!!\n",
      "\n",
      "Connecting to localhost... done! \t Logging into elastic_koller... done!\n"
     ]
    }
   ],
   "source": [
    "me = sy.login(email=\"info@openmined.org\", password=\"changethis\", port=8081)"
   ]
  },
  {
   "cell_type": "code",
   "execution_count": 4,
   "id": "ae63290a-e781-48c6-aad3-4a83d2423ba4",
   "metadata": {},
   "outputs": [
    {
     "name": "stdout",
     "output_type": "stream",
     "text": [
      "Tensor created! You can activate Differential Privacy protection by calling .private() or             .annotate_with_dp_metadata().\n",
      "Tensor annotated with DP Metadata!\n",
      "You can upload this Tensor to a domain node by calling domain_client.load_dataset             and passing in this tensor as an asset.\n",
      "Tensor annotated with DP Metadata!\n",
      "You can upload this Tensor to a domain node by calling domain_client.load_dataset             and passing in this tensor as an asset.\n",
      "Tensor created! You can activate Differential Privacy protection by calling .private() or             .annotate_with_dp_metadata().\n"
     ]
    }
   ],
   "source": [
    "b = sy.Tensor(_x).annotate_with_dp_metadata(min_val=-20, \n",
    "                                                   max_val=20, \n",
    "                                                   data_subjects=list(map(lambda x:str(x)+\":B\", range(0,n))))"
   ]
  },
  {
   "cell_type": "code",
   "execution_count": 5,
   "id": "400df2e4-0d29-4397-b299-e3e77e5125cc",
   "metadata": {},
   "outputs": [
    {
     "name": "stdout",
     "output_type": "stream",
     "text": [
      "Loading dataset... uploading...🚀                                                                                                                                             "
     ]
    },
    {
     "name": "stderr",
     "output_type": "stream",
     "text": [
      "Uploading `a`: 100%|\u001b[32m█████████████████████████████████████████████████\u001b[0m| 1/1 [00:00<00:00, 156.03it/s]\u001b[0m\n",
      "Uploading `b`: 100%|\u001b[32m█████████████████████████████████████████████████\u001b[0m| 1/1 [00:00<00:00, 135.56it/s]\u001b[0m\n",
      "[2022-11-23T11:29:03.337082-0500][CRITICAL][logger]][42319] You can't create a new User using this email!\n"
     ]
    },
    {
     "name": "stdout",
     "output_type": "stream",
     "text": [
      "Dataset is uploaded successfully !!! 🎉\n",
      "\n",
      "Run `<your client variable>.datasets` to see your new dataset loaded into your machine!\n",
      "failing to create user You can't create a new User using this email!\n",
      "Ignoring: user with email:andrew2@openmined.org already exists\n"
     ]
    },
    {
     "data": {
      "text/plain": [
       "{'name': 'Bob',\n",
       " 'email': 'andrew2@openmined.org',\n",
       " 'password': 'abc123',\n",
       " 'url': 'localhost'}"
      ]
     },
     "execution_count": 5,
     "metadata": {},
     "output_type": "execute_result"
    }
   ],
   "source": [
    "me.load_dataset(assets={\"a\":a, \"b\":b}, \n",
    "                name=\"Test Dataset\", \n",
    "                description=\"Short Desc\")\n",
    "\n",
    "\n",
    "me.create_user(name='Bob',\n",
    "               email=\"andrew2@openmined.org\",\n",
    "               password=\"abc123\",\n",
    "               budget=10000000)"
   ]
  },
  {
   "cell_type": "code",
   "execution_count": 6,
   "id": "db86d6a3-9dee-4486-a719-143a28bdac01",
   "metadata": {},
   "outputs": [
    {
     "name": "stdout",
     "output_type": "stream",
     "text": [
      "Connecting to localhost... done! \t Logging into elastic_koller... done!\n"
     ]
    }
   ],
   "source": [
    "bob = sy.login(email=\"andrew2@openmined.org\",\n",
    "               password=\"abc123\",\n",
    "               port=8081)"
   ]
  },
  {
   "cell_type": "code",
   "execution_count": 7,
   "id": "f2758fdf-79a8-4024-ad0f-408eba7a7991",
   "metadata": {},
   "outputs": [],
   "source": [
    "initial_budget = bob.privacy_budget\n",
    "\n",
    "x = bob.datasets[-1]['a']"
   ]
  },
  {
   "cell_type": "code",
   "execution_count": 8,
   "id": "6f39fcab-d556-48c5-a8d2-b9dd71b70910",
   "metadata": {},
   "outputs": [],
   "source": [
    "out_ptr = x.mean().publish(sigma=1)"
   ]
  },
  {
   "cell_type": "code",
   "execution_count": 9,
   "id": "88be30b6-d0e3-4e14-a53c-8d097a34432c",
   "metadata": {},
   "outputs": [],
   "source": [
    "out = out_ptr.block.get()"
   ]
  },
  {
   "cell_type": "code",
   "execution_count": 10,
   "id": "bf72914f-2d1c-4529-ab7b-66fd5ee2980f",
   "metadata": {},
   "outputs": [
    {
     "name": "stdout",
     "output_type": "stream",
     "text": [
      "10000000.0 9999982.603086589 -1.0230291489422323\n"
     ]
    }
   ],
   "source": [
    "final_budget = bob.privacy_budget\n",
    "\n",
    "print(initial_budget, final_budget, out)"
   ]
  },
  {
   "cell_type": "code",
   "execution_count": 11,
   "id": "2a4c7e39-81d1-4145-8482-3a03feee8736",
   "metadata": {},
   "outputs": [],
   "source": [
    "initial_budget = bob.privacy_budget\n",
    "\n",
    "x = bob.datasets[-1]['b']"
   ]
  },
  {
   "cell_type": "code",
   "execution_count": 12,
   "id": "bd81765c-b1a9-4f37-8a51-1d4d167da0c0",
   "metadata": {},
   "outputs": [],
   "source": [
    "out_ptr = x.mean().publish(sigma=1)"
   ]
  },
  {
   "cell_type": "code",
   "execution_count": 13,
   "id": "7892fbdd-fd95-45ee-b260-6db87381cdb6",
   "metadata": {},
   "outputs": [
    {
     "name": "stdout",
     "output_type": "stream",
     "text": [
      "9999982.603086589 9999965.206173178 -1.9507085655208547\n"
     ]
    }
   ],
   "source": [
    "out = out_ptr.block.get()\n",
    "\n",
    "final_budget = bob.privacy_budget\n",
    "\n",
    "print(initial_budget, final_budget, out)"
   ]
  }
 ],
 "metadata": {
  "kernelspec": {
   "display_name": "Python 3 (ipykernel)",
   "language": "python",
   "name": "python3"
  },
  "language_info": {
   "codemirror_mode": {
    "name": "ipython",
    "version": 3
   },
   "file_extension": ".py",
   "mimetype": "text/x-python",
   "name": "python",
   "nbconvert_exporter": "python",
   "pygments_lexer": "ipython3",
   "version": "3.9.7"
  }
 },
 "nbformat": 4,
 "nbformat_minor": 5
}
