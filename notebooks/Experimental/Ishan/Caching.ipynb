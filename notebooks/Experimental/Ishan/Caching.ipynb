{
 "cells": [
  {
   "cell_type": "markdown",
   "id": "96e4e708-0c4a-424f-907d-f95ef10d9fbf",
   "metadata": {},
   "source": [
    "### Caching\n",
    "\n",
    "The goal:\n",
    "- Detect if a given query has been calculated before by a data scientist, and if so, return the same result without spending PB.\n",
    "\n",
    "Constraints:\n",
    "- DS should get the choice to spend PB again and recalculate the query\n",
    "    - Could add a --force-publish flag or equivalent to forcibly recalculate the query?\n",
    "- If you publish a tensor directly, and then publish the result of an operation on the same tensor, your operation should be done on the previously published result?\n",
    "- Should be quickly retrievable\n",
    "    - Could we store this in memory? (maybe temporarily?)\n",
    "- Should be deleted when a DS account is deleted or when the DataSubjectLedger is deleted\n",
    "\n",
    "\n",
    "Could store it in a nested dictionary for fast retrieval:\n",
    "- GammaTensor.id maps to a dictionary of operations\n",
    "    - no_op would mean publishing the entire GammaTensor itself\n",
    "- Each operation maps to a dictionary of arguments (including `None`)\n",
    "    - The None case would be if no additional arguments were passed (i.e. `tensor.sum()`)\n",
    "- Each argument maps to the result of publishing that operation on that GammaTensor, with those arguments.\n",
    "\n",
    "\n",
    "\n",
    "Arguments could also be other GammaTensors- in which case we could use their .id as well\n"
   ]
  },
  {
   "cell_type": "code",
   "execution_count": 1,
   "id": "320b637c-58bb-4244-83ff-6ba7aae73ee5",
   "metadata": {},
   "outputs": [],
   "source": [
    "import syft as sy\n",
    "import numpy as np"
   ]
  },
  {
   "cell_type": "code",
   "execution_count": 18,
   "id": "d6b5ec72-cf7f-4cf7-85bb-35dae76c74f5",
   "metadata": {},
   "outputs": [],
   "source": [
    "from syft.core.tensor.autodp.phi_tensor import PhiTensor\n",
    "from syft.core.tensor.autodp.gamma_tensor import GammaTensor"
   ]
  },
  {
   "cell_type": "code",
   "execution_count": 3,
   "id": "4ec6491e-e28e-4462-83f5-6943afb2d49b",
   "metadata": {},
   "outputs": [],
   "source": [
    "data = np.random.random((10, 10))"
   ]
  },
  {
   "cell_type": "code",
   "execution_count": 17,
   "id": "533072d5-a983-4324-8a6e-32992536af22",
   "metadata": {},
   "outputs": [
    {
     "data": {
      "text/plain": [
       "array([[0.3911607 , 0.98592627, 0.33820702, 0.02963337, 0.24452058,\n",
       "        0.41329897, 0.04815035, 0.48070176, 0.29473544, 0.50122643],\n",
       "       [0.06626371, 0.59942671, 0.14740046, 0.04934191, 0.56365619,\n",
       "        0.89462541, 0.48128314, 0.3240633 , 0.55338792, 0.41130165],\n",
       "       [0.13919691, 0.69189855, 0.67913157, 0.01779266, 0.84575859,\n",
       "        0.41688369, 0.88947748, 0.07823131, 0.09196529, 0.53534729],\n",
       "       [0.16922522, 0.13575003, 0.74192282, 0.76545072, 0.88544838,\n",
       "        0.49943269, 0.93689261, 0.68560796, 0.37479221, 0.57739026],\n",
       "       [0.00688592, 0.70094057, 0.66412832, 0.88781842, 0.62214698,\n",
       "        0.98282953, 0.25232646, 0.69065589, 0.76593035, 0.07832368],\n",
       "       [0.79588142, 0.35475581, 0.03782302, 0.33643987, 0.22897223,\n",
       "        0.95788443, 0.48233922, 0.44960531, 0.5243275 , 0.14761585],\n",
       "       [0.11034538, 0.53468282, 0.71399612, 0.46200998, 0.90892998,\n",
       "        0.79781825, 0.36167335, 0.08702174, 0.04972668, 0.11119535],\n",
       "       [0.37944737, 0.81413721, 0.20980843, 0.19714207, 0.11068018,\n",
       "        0.68922782, 0.83949997, 0.36739026, 0.8254732 , 0.53743593],\n",
       "       [0.84602579, 0.57544947, 0.0750104 , 0.27621855, 0.26987951,\n",
       "        0.7138214 , 0.78701472, 0.96268606, 0.87245924, 0.12107719],\n",
       "       [0.17149965, 0.79088367, 0.99370045, 0.09081347, 0.83138316,\n",
       "        0.5089043 , 0.18584167, 0.37068197, 0.63979827, 0.9472039 ]])"
      ]
     },
     "execution_count": 17,
     "metadata": {},
     "output_type": "execute_result"
    }
   ],
   "source": [
    "data"
   ]
  },
  {
   "cell_type": "code",
   "execution_count": 4,
   "id": "06dd177b-6446-4bf2-94b7-8165b40c459d",
   "metadata": {},
   "outputs": [],
   "source": [
    "tensor1 = PhiTensor(child=data, data_subjects=\"Ishan\", min_vals=0, max_vals=1)\n",
    "tensor2 = PhiTensor(child=data, data_subjects=\"Not Ishan\", min_vals=0, max_vals=1)"
   ]
  },
  {
   "cell_type": "markdown",
   "id": "fa92fe6c-acbe-44a1-aba1-1a87a12822ee",
   "metadata": {},
   "source": [
    "Could this be a potential problem?"
   ]
  },
  {
   "cell_type": "code",
   "execution_count": 5,
   "id": "5b3cb654-0b63-442c-b14b-69d87913ec8b",
   "metadata": {},
   "outputs": [
    {
     "name": "stdout",
     "output_type": "stream",
     "text": [
      "350628696\n"
     ]
    }
   ],
   "source": [
    "result1 = tensor1 + tensor2\n",
    "print(result1.id)"
   ]
  },
  {
   "cell_type": "code",
   "execution_count": 6,
   "id": "e381f9bc-f56e-469d-8cac-821c2cdde3eb",
   "metadata": {},
   "outputs": [
    {
     "name": "stdout",
     "output_type": "stream",
     "text": [
      "357131025\n"
     ]
    }
   ],
   "source": [
    "result2 = tensor1 + tensor2\n",
    "print(result2.id)"
   ]
  },
  {
   "cell_type": "markdown",
   "id": "b61d3c8d-931f-45ca-8d7d-de160121a9e0",
   "metadata": {},
   "source": [
    "If we publish result1, and then publish result2, caching wouldn't work since the IDs are different, and we'd spend the PB twice"
   ]
  },
  {
   "cell_type": "code",
   "execution_count": 7,
   "id": "ab2ca51e-af5a-4aee-87f0-9d04b30f88f4",
   "metadata": {},
   "outputs": [
    {
     "data": {
      "text/plain": [
       "<function syft.core.tensor.autodp.gamma_tensor.GammaTensor.__add__.<locals>._add(state: 'dict') -> 'jax.numpy.DeviceArray'>"
      ]
     },
     "execution_count": 7,
     "metadata": {},
     "output_type": "execute_result"
    }
   ],
   "source": [
    "result1.func"
   ]
  },
  {
   "cell_type": "code",
   "execution_count": 12,
   "id": "3110b061-bdf5-47ec-bc0d-c187ec79a14b",
   "metadata": {},
   "outputs": [],
   "source": [
    "a = dict()\n",
    "a[result1.id] = {result1.func:{None:result1.value}}"
   ]
  },
  {
   "cell_type": "code",
   "execution_count": 26,
   "id": "8bb52561-8921-4aa0-a5ef-2ffa0f962ccf",
   "metadata": {},
   "outputs": [],
   "source": [
    "existing_cache = dict()\n",
    "def add_to_cache(tensor: GammaTensor, result, cache:dict=existing_cache, *args:None) -> dict:\n",
    "    cache[tensor.id] = {tensor.func : {args or None:result}}\n",
    "    return cache"
   ]
  },
  {
   "cell_type": "code",
   "execution_count": 28,
   "id": "f3fac5f0-0039-47d8-b88d-0d68f2d0df46",
   "metadata": {},
   "outputs": [
    {
     "data": {
      "text/plain": [
       "{'350628696': {<function syft.core.tensor.autodp.gamma_tensor.GammaTensor.__add__.<locals>._add(state: 'dict') -> 'jax.numpy.DeviceArray'>: {None: 5}}}"
      ]
     },
     "execution_count": 28,
     "metadata": {},
     "output_type": "execute_result"
    }
   ],
   "source": [
    "existing_cache = add_to_cache(result1, 5)\n",
    "existing_cache"
   ]
  },
  {
   "cell_type": "code",
   "execution_count": 29,
   "id": "16978340-5dd2-42fd-aad0-083de515deae",
   "metadata": {},
   "outputs": [],
   "source": [
    "def get_cached(tensor:GammaTensor, cache=existing_cache, *args):\n",
    "    try:\n",
    "        return cache[tensor.id][tensor.func][args or None]\n",
    "    except:\n",
    "        # regular publish method ensues\n",
    "        result = np.random.randint(high=100)\n",
    "        cache = add_to_cache(tensor, result, cache, args)\n",
    "        return result, cache"
   ]
  },
  {
   "cell_type": "code",
   "execution_count": null,
   "id": "a09791c4-a61f-4e15-9ffc-2b068c6fe78c",
   "metadata": {},
   "outputs": [],
   "source": [
    "get_cached(tensor=result1, cache=exi"
   ]
  },
  {
   "cell_type": "code",
   "execution_count": 13,
   "id": "1c4492b8-7bfe-4e89-8e2e-b69bbadc501c",
   "metadata": {},
   "outputs": [
    {
     "data": {
      "text/plain": [
       "{'350628696': {<function syft.core.tensor.autodp.gamma_tensor.GammaTensor.__add__.<locals>._add(state: 'dict') -> 'jax.numpy.DeviceArray'>: {None: array([[ 51270, 129226,  44328,   3884,  32048,  54170,   6310,  63006,\n",
       "            38630,  65696],\n",
       "          [  8684,  78568,  19320,   6466,  73878, 117260,  63082,  42474,\n",
       "            72532,  53910],\n",
       "          [ 18244,  90688,  89014,   2332, 110854,  54640, 116584,  10252,\n",
       "            12054,  70168],\n",
       "          [ 22180,  17792,  97244, 100328, 116056,  65460, 122800,  89864,\n",
       "            49124,  75678],\n",
       "          [   902,  91872,  87048, 116368,  81546, 128820,  33072,  90524,\n",
       "           100392,  10266],\n",
       "          [104316,  46498,   4956,  44096,  30010, 125550,  63220,  58930,\n",
       "            68724,  19348],\n",
       "          [ 14462,  70080,  93584,  60556, 119134, 104570,  47404,  11406,\n",
       "             6516,  14574],\n",
       "          [ 49734, 106710,  27500,  25838,  14506,  90338, 110034,  48154,\n",
       "           108196,  70442],\n",
       "          [110890,  75424,   9830,  36204,  35372,  93560, 103154, 126180,\n",
       "           114354,  15868],\n",
       "          [ 22478, 103662, 130246,  11902, 108970,  66702,  24358,  48586,\n",
       "            83858, 124150]])}}}"
      ]
     },
     "execution_count": 13,
     "metadata": {},
     "output_type": "execute_result"
    }
   ],
   "source": [
    "a"
   ]
  },
  {
   "cell_type": "code",
   "execution_count": 14,
   "id": "7ab8a07c-5480-441f-81ab-cbf2c4c499e6",
   "metadata": {},
   "outputs": [
    {
     "data": {
      "text/plain": [
       "array([[ 51270, 129226,  44328,   3884,  32048,  54170,   6310,  63006,\n",
       "         38630,  65696],\n",
       "       [  8684,  78568,  19320,   6466,  73878, 117260,  63082,  42474,\n",
       "         72532,  53910],\n",
       "       [ 18244,  90688,  89014,   2332, 110854,  54640, 116584,  10252,\n",
       "         12054,  70168],\n",
       "       [ 22180,  17792,  97244, 100328, 116056,  65460, 122800,  89864,\n",
       "         49124,  75678],\n",
       "       [   902,  91872,  87048, 116368,  81546, 128820,  33072,  90524,\n",
       "        100392,  10266],\n",
       "       [104316,  46498,   4956,  44096,  30010, 125550,  63220,  58930,\n",
       "         68724,  19348],\n",
       "       [ 14462,  70080,  93584,  60556, 119134, 104570,  47404,  11406,\n",
       "          6516,  14574],\n",
       "       [ 49734, 106710,  27500,  25838,  14506,  90338, 110034,  48154,\n",
       "        108196,  70442],\n",
       "       [110890,  75424,   9830,  36204,  35372,  93560, 103154, 126180,\n",
       "        114354,  15868],\n",
       "       [ 22478, 103662, 130246,  11902, 108970,  66702,  24358,  48586,\n",
       "         83858, 124150]])"
      ]
     },
     "execution_count": 14,
     "metadata": {},
     "output_type": "execute_result"
    }
   ],
   "source": [
    "result1.value"
   ]
  },
  {
   "cell_type": "code",
   "execution_count": null,
   "id": "2b41758a-e60d-4fc4-95d6-995f27a8a830",
   "metadata": {},
   "outputs": [],
   "source": [
    "def get_cached("
   ]
  }
 ],
 "metadata": {
  "kernelspec": {
   "display_name": "Python 3 (ipykernel)",
   "language": "python",
   "name": "python3"
  },
  "language_info": {
   "codemirror_mode": {
    "name": "ipython",
    "version": 3
   },
   "file_extension": ".py",
   "mimetype": "text/x-python",
   "name": "python",
   "nbconvert_exporter": "python",
   "pygments_lexer": "ipython3",
   "version": "3.9.7"
  }
 },
 "nbformat": 4,
 "nbformat_minor": 5
}
