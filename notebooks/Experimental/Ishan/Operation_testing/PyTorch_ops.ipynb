{
 "cells": [
  {
   "cell_type": "code",
   "execution_count": 1,
   "id": "ff893ea1-bcd0-4e8f-a556-b7715444c299",
   "metadata": {},
   "outputs": [
    {
     "name": "stderr",
     "output_type": "stream",
     "text": [
      "/home/e/anaconda3/envs/Hagrid/lib/python3.9/site-packages/tqdm/auto.py:22: TqdmWarning: IProgress not found. Please update jupyter and ipywidgets. See https://ipywidgets.readthedocs.io/en/stable/user_install.html\n",
      "  from .autonotebook import tqdm as notebook_tqdm\n"
     ]
    }
   ],
   "source": [
    "import syft as sy\n",
    "import numpy as np"
   ]
  },
  {
   "cell_type": "code",
   "execution_count": 2,
   "id": "d7d0db8d-8727-45c1-936f-771f488b10b9",
   "metadata": {},
   "outputs": [],
   "source": [
    "from syft import phi_tensor"
   ]
  },
  {
   "cell_type": "code",
   "execution_count": 3,
   "id": "e0849bfa-8c0a-4e6c-bf3b-555a253788b9",
   "metadata": {},
   "outputs": [],
   "source": [
    "data = np.random.random((5,1,3))"
   ]
  },
  {
   "cell_type": "code",
   "execution_count": 4,
   "id": "455cc73e-40bc-4b22-9483-416ef1ff3471",
   "metadata": {},
   "outputs": [
    {
     "data": {
      "text/plain": [
       "array([[[0.46656025, 0.56925602, 0.73257812]],\n",
       "\n",
       "       [[0.11858611, 0.80479455, 0.98048307]],\n",
       "\n",
       "       [[0.11062085, 0.94300082, 0.53606974]],\n",
       "\n",
       "       [[0.43928982, 0.59224367, 0.05011905]],\n",
       "\n",
       "       [[0.79970245, 0.81306065, 0.39400029]]])"
      ]
     },
     "execution_count": 4,
     "metadata": {},
     "output_type": "execute_result"
    }
   ],
   "source": [
    "data"
   ]
  },
  {
   "cell_type": "code",
   "execution_count": 5,
   "id": "a2e224d9-490e-48a0-8ee7-d68739bceaff",
   "metadata": {},
   "outputs": [
    {
     "data": {
      "text/plain": [
       "(5, 1, 3)"
      ]
     },
     "execution_count": 5,
     "metadata": {},
     "output_type": "execute_result"
    }
   ],
   "source": [
    "data.shape"
   ]
  },
  {
   "cell_type": "code",
   "execution_count": 6,
   "id": "e76de165-391b-4b37-af9d-95f088f53e5d",
   "metadata": {},
   "outputs": [],
   "source": [
    "tensor = phi_tensor.PhiTensor(child=data, data_subjects=np.ones_like(data), min_vals=0, max_vals=1)"
   ]
  },
  {
   "cell_type": "code",
   "execution_count": 7,
   "id": "8d7d2c1e-a656-434a-bf80-375cd1c603f6",
   "metadata": {},
   "outputs": [
    {
     "data": {
      "text/plain": [
       "PhiTensor(child=FixedPrecisionTensor(child=[[[30576 37306 48010]]\n",
       "\n",
       " [[ 7771 52743 64256]]\n",
       "\n",
       " [[ 7249 61800 35131]]\n",
       "\n",
       " [[28789 38813  3284]]\n",
       "\n",
       " [[52409 53284 25821]]]), min_vals=<lazyrepeatarray data: 0 -> shape: (5, 1, 3)>, max_vals=<lazyrepeatarray data: 1 -> shape: (5, 1, 3)>)"
      ]
     },
     "execution_count": 7,
     "metadata": {},
     "output_type": "execute_result"
    }
   ],
   "source": [
    "tensor"
   ]
  },
  {
   "cell_type": "code",
   "execution_count": 8,
   "id": "043098e1-b684-4256-86ea-8515157cc017",
   "metadata": {},
   "outputs": [],
   "source": [
    "res = tensor.squeeze()"
   ]
  },
  {
   "cell_type": "code",
   "execution_count": 9,
   "id": "5cdb3570-c5b0-4dc0-96ef-232f215fd2a3",
   "metadata": {},
   "outputs": [
    {
     "data": {
      "text/plain": [
       "(5, 3)"
      ]
     },
     "execution_count": 9,
     "metadata": {},
     "output_type": "execute_result"
    }
   ],
   "source": [
    "res.shape"
   ]
  },
  {
   "cell_type": "code",
   "execution_count": 10,
   "id": "fa986531-b726-4913-a3f5-51a0f153c12c",
   "metadata": {},
   "outputs": [
    {
     "data": {
      "text/plain": [
       "PhiTensor(child=FixedPrecisionTensor(child=[[30576 37306 48010]\n",
       " [ 7771 52743 64256]\n",
       " [ 7249 61800 35131]\n",
       " [28789 38813  3284]\n",
       " [52409 53284 25821]]), min_vals=<lazyrepeatarray data: 0 -> shape: (5, 3)>, max_vals=<lazyrepeatarray data: 1 -> shape: (5, 3)>)"
      ]
     },
     "execution_count": 10,
     "metadata": {},
     "output_type": "execute_result"
    }
   ],
   "source": [
    "res"
   ]
  },
  {
   "cell_type": "code",
   "execution_count": 11,
   "id": "0ecfb6d4-bfb3-4f4c-8040-899e04f83f33",
   "metadata": {},
   "outputs": [
    {
     "data": {
      "text/plain": [
       "PhiTensor(child=FixedPrecisionTensor(child=[[[30576 37306 48010]]\n",
       "\n",
       " [[ 7771 52743 64256]]\n",
       "\n",
       " [[ 7249 61800 35131]]\n",
       "\n",
       " [[28789 38813  3284]]\n",
       "\n",
       " [[52409 53284 25821]]]), min_vals=<lazyrepeatarray data: 0 -> shape: (5, 1, 3)>, max_vals=<lazyrepeatarray data: 1 -> shape: (5, 1, 3)>)"
      ]
     },
     "execution_count": 11,
     "metadata": {},
     "output_type": "execute_result"
    }
   ],
   "source": [
    "res.unsqueeze(1)"
   ]
  },
  {
   "cell_type": "code",
   "execution_count": 12,
   "id": "c0cd0bb1-f4c0-42df-a155-945a3df9452a",
   "metadata": {},
   "outputs": [],
   "source": [
    "res = tensor.transpose()"
   ]
  },
  {
   "cell_type": "code",
   "execution_count": 13,
   "id": "f0562891-de78-44cc-b3f7-1a1a3837e27c",
   "metadata": {},
   "outputs": [
    {
     "data": {
      "text/plain": [
       "PhiTensor(child=FixedPrecisionTensor(child=[[[30576  7771  7249 28789 52409]]\n",
       "\n",
       " [[37306 52743 61800 38813 53284]]\n",
       "\n",
       " [[48010 64256 35131  3284 25821]]]), min_vals=<lazyrepeatarray data: 0 -> shape: (3, 1, 5)>, max_vals=<lazyrepeatarray data: 1 -> shape: (3, 1, 5)>)"
      ]
     },
     "execution_count": 13,
     "metadata": {},
     "output_type": "execute_result"
    }
   ],
   "source": [
    "res"
   ]
  },
  {
   "cell_type": "code",
   "execution_count": 14,
   "id": "00ac416a-ad58-4fa3-b35e-e77776060db3",
   "metadata": {},
   "outputs": [
    {
     "data": {
      "text/plain": [
       "(3, 1, 5)"
      ]
     },
     "execution_count": 14,
     "metadata": {},
     "output_type": "execute_result"
    }
   ],
   "source": [
    "res.shape"
   ]
  },
  {
   "cell_type": "code",
   "execution_count": 15,
   "id": "8c3a89ef-da40-40c6-a68c-ec32eea1ab60",
   "metadata": {},
   "outputs": [
    {
     "data": {
      "text/plain": [
       "(5, 1, 3)"
      ]
     },
     "execution_count": 15,
     "metadata": {},
     "output_type": "execute_result"
    }
   ],
   "source": [
    "tensor.shape"
   ]
  },
  {
   "cell_type": "code",
   "execution_count": 16,
   "id": "9e052d0e-3f1d-425e-a4f2-7cded78949b9",
   "metadata": {},
   "outputs": [],
   "source": [
    "res = tensor.transpose(0,2,1)"
   ]
  },
  {
   "cell_type": "code",
   "execution_count": 17,
   "id": "23396e9f-37a0-4cd5-9409-1efd14ff8c4f",
   "metadata": {},
   "outputs": [
    {
     "data": {
      "text/plain": [
       "(5, 3, 1)"
      ]
     },
     "execution_count": 17,
     "metadata": {},
     "output_type": "execute_result"
    }
   ],
   "source": [
    "res.shape"
   ]
  },
  {
   "cell_type": "code",
   "execution_count": 18,
   "id": "df3077e6-f7f6-4773-a599-2dd5aafc0113",
   "metadata": {},
   "outputs": [
    {
     "data": {
      "text/plain": [
       "array([[[1., 1., 1.]],\n",
       "\n",
       "       [[1., 1., 1.]],\n",
       "\n",
       "       [[1., 1., 1.]],\n",
       "\n",
       "       [[1., 1., 1.]],\n",
       "\n",
       "       [[1., 1., 1.]]])"
      ]
     },
     "execution_count": 18,
     "metadata": {},
     "output_type": "execute_result"
    }
   ],
   "source": [
    "tensor.ones_like()"
   ]
  },
  {
   "cell_type": "code",
   "execution_count": 19,
   "id": "c0d07b8b-7dd1-4114-b4d9-22aa45040524",
   "metadata": {},
   "outputs": [
    {
     "data": {
      "text/plain": [
       "PhiTensor(child=FixedPrecisionTensor(child=[[[30576 37306 48010]]\n",
       "\n",
       " [[ 7771 52743 64256]]\n",
       "\n",
       " [[ 7249 61800 35131]]\n",
       "\n",
       " [[28789 38813  3284]]\n",
       "\n",
       " [[52409 53284 25821]]]), min_vals=<lazyrepeatarray data: 0 -> shape: (5, 1, 3)>, max_vals=<lazyrepeatarray data: 1 -> shape: (5, 1, 3)>)"
      ]
     },
     "execution_count": 19,
     "metadata": {},
     "output_type": "execute_result"
    }
   ],
   "source": [
    "tensor"
   ]
  },
  {
   "cell_type": "code",
   "execution_count": 20,
   "id": "3ea25a6a-a069-457d-836a-d92b69aec9f1",
   "metadata": {},
   "outputs": [
    {
     "data": {
      "text/plain": [
       "array([[[1.58827209, 1.75860596, 2.07026672]],\n",
       "\n",
       "       [[1.12374878, 2.228302  , 2.6524353 ]],\n",
       "\n",
       "       [[1.11509705, 2.55239868, 1.70471191]],\n",
       "\n",
       "       [[1.54612732, 1.79959106, 1.04782104]],\n",
       "\n",
       "       [[2.21133423, 2.24505615, 1.47535706]]])"
      ]
     },
     "execution_count": 20,
     "metadata": {},
     "output_type": "execute_result"
    }
   ],
   "source": [
    "tensor.exp().child.decode()"
   ]
  },
  {
   "cell_type": "code",
   "execution_count": 21,
   "id": "1e55efab-0326-4c4d-b45c-b52b8e8bfca7",
   "metadata": {},
   "outputs": [
    {
     "data": {
      "text/plain": [
       "array([[[0.46656025, 0.56925602, 0.73257812]],\n",
       "\n",
       "       [[0.11858611, 0.80479455, 0.98048307]],\n",
       "\n",
       "       [[0.11062085, 0.94300082, 0.53606974]],\n",
       "\n",
       "       [[0.43928982, 0.59224367, 0.05011905]],\n",
       "\n",
       "       [[0.79970245, 0.81306065, 0.39400029]]])"
      ]
     },
     "execution_count": 21,
     "metadata": {},
     "output_type": "execute_result"
    }
   ],
   "source": [
    "data"
   ]
  },
  {
   "cell_type": "code",
   "execution_count": 22,
   "id": "473779a2-fdd9-47ae-85df-785caa5bcd29",
   "metadata": {},
   "outputs": [
    {
     "data": {
      "text/plain": [
       "PhiTensor(child=FixedPrecisionTensor(child=[[[14265 21236 35170]]\n",
       "\n",
       " [[  921 42447 63001]]\n",
       "\n",
       " [[  801 58276 18832]]\n",
       "\n",
       " [[12646 22986   164]]\n",
       "\n",
       " [[41911 43322 10173]]]), min_vals=<lazyrepeatarray data: 0 -> shape: (5, 1, 3)>, max_vals=<lazyrepeatarray data: 1 -> shape: (5, 1, 3)>)"
      ]
     },
     "execution_count": 22,
     "metadata": {},
     "output_type": "execute_result"
    }
   ],
   "source": [
    "tensor ** 2"
   ]
  },
  {
   "cell_type": "code",
   "execution_count": 25,
   "id": "e63fe57e-8d14-4688-b350-3697320ee05c",
   "metadata": {},
   "outputs": [
    {
     "data": {
      "text/plain": [
       "array([[[1.01555212e-01, 1.84457478e-01, 3.93147326e-01]],\n",
       "\n",
       "       [[1.66721241e-03, 5.21260353e-01, 9.42543209e-01]],\n",
       "\n",
       "       [[1.35330133e-03, 8.38543571e-01, 1.54039374e-01]],\n",
       "\n",
       "       [[8.47695636e-02, 2.07726472e-01, 1.25825786e-04]],\n",
       "\n",
       "       [[5.11420141e-01, 5.37465593e-01, 6.11616765e-02]]])"
      ]
     },
     "execution_count": 25,
     "metadata": {},
     "output_type": "execute_result"
    }
   ],
   "source": [
    "tensor.child.decode() ** 3"
   ]
  },
  {
   "cell_type": "code",
   "execution_count": 26,
   "id": "015c77d1-2575-4447-abbb-54f6b4b14a2f",
   "metadata": {},
   "outputs": [
    {
     "data": {
      "text/plain": [
       "array([[[1.01547241e-01, 1.84448242e-01, 3.93142700e-01]],\n",
       "\n",
       "       [[1.66320801e-03, 5.21255493e-01, 9.42535400e-01]],\n",
       "\n",
       "       [[1.34277344e-03, 8.38531494e-01, 1.54037476e-01]],\n",
       "\n",
       "       [[8.47625732e-02, 2.07717896e-01, 1.22070312e-04]],\n",
       "\n",
       "       [[5.11413574e-01, 5.37460327e-01, 6.11572266e-02]]])"
      ]
     },
     "execution_count": 26,
     "metadata": {},
     "output_type": "execute_result"
    }
   ],
   "source": [
    "(tensor ** 3).decode()"
   ]
  },
  {
   "cell_type": "code",
   "execution_count": 27,
   "id": "a8bfc789-4141-430b-9a3c-ade3912d1fb2",
   "metadata": {},
   "outputs": [],
   "source": [
    "from syft.core.tensor.lazy_repeat_array import lazyrepeatarray as lra"
   ]
  },
  {
   "cell_type": "code",
   "execution_count": 28,
   "id": "3ccebbb6-baf7-4e1a-b9e3-aca17af2bf48",
   "metadata": {},
   "outputs": [],
   "source": [
    "min_val = lra(data=2, shape=(5,5))"
   ]
  },
  {
   "cell_type": "code",
   "execution_count": 29,
   "id": "913175c0-3f57-4841-9975-e22c463332dc",
   "metadata": {},
   "outputs": [
    {
     "data": {
      "text/plain": [
       "<lazyrepeatarray data: 8 -> shape: (5, 5)>"
      ]
     },
     "execution_count": 29,
     "metadata": {},
     "output_type": "execute_result"
    }
   ],
   "source": [
    "min_val ** 3"
   ]
  },
  {
   "cell_type": "code",
   "execution_count": 33,
   "id": "1638b591-fa96-42ec-88b8-b49c28fe7e8c",
   "metadata": {},
   "outputs": [
    {
     "ename": "ValueError",
     "evalue": "The truth value of an array with more than one element is ambiguous. Use a.any() or a.all()",
     "output_type": "error",
     "traceback": [
      "\u001b[0;31m---------------------------------------------------------------------------\u001b[0m",
      "\u001b[0;31mValueError\u001b[0m                                Traceback (most recent call last)",
      "\u001b[0;32m/tmp/ipykernel_23376/3906985954.py\u001b[0m in \u001b[0;36m<module>\u001b[0;34m\u001b[0m\n\u001b[0;32m----> 1\u001b[0;31m \u001b[0mmin_val\u001b[0m \u001b[0;34m**\u001b[0m \u001b[0mnp\u001b[0m\u001b[0;34m.\u001b[0m\u001b[0mones\u001b[0m\u001b[0;34m(\u001b[0m\u001b[0;34m(\u001b[0m\u001b[0;36m5\u001b[0m\u001b[0;34m,\u001b[0m\u001b[0;36m5\u001b[0m\u001b[0;34m)\u001b[0m\u001b[0;34m)\u001b[0m\u001b[0;34m\u001b[0m\u001b[0;34m\u001b[0m\u001b[0m\n\u001b[0m",
      "\u001b[0;32m~/PycharmProjects/PySyft/packages/syft/src/syft/core/tensor/lazy_repeat_array.py\u001b[0m in \u001b[0;36m__pow__\u001b[0;34m(self, exponent)\u001b[0m\n\u001b[1;32m    184\u001b[0m                 \u001b[0mtotal\u001b[0m \u001b[0;34m=\u001b[0m \u001b[0mself\u001b[0m \u001b[0;34m*\u001b[0m \u001b[0mtotal\u001b[0m  \u001b[0;31m# This might need imul or something\u001b[0m\u001b[0;34m\u001b[0m\u001b[0;34m\u001b[0m\u001b[0m\n\u001b[1;32m    185\u001b[0m             \u001b[0;32mreturn\u001b[0m \u001b[0mtotal\u001b[0m\u001b[0;34m\u001b[0m\u001b[0;34m\u001b[0m\u001b[0m\n\u001b[0;32m--> 186\u001b[0;31m         \u001b[0;32mif\u001b[0m \u001b[0mexponent\u001b[0m \u001b[0;34m==\u001b[0m \u001b[0;36m2\u001b[0m\u001b[0;34m:\u001b[0m\u001b[0;34m\u001b[0m\u001b[0;34m\u001b[0m\u001b[0m\n\u001b[0m\u001b[1;32m    187\u001b[0m             \u001b[0;32mreturn\u001b[0m \u001b[0mself\u001b[0m \u001b[0;34m*\u001b[0m \u001b[0mself\u001b[0m\u001b[0;34m\u001b[0m\u001b[0;34m\u001b[0m\u001b[0m\n\u001b[1;32m    188\u001b[0m         \u001b[0;32mraise\u001b[0m \u001b[0mException\u001b[0m\u001b[0;34m(\u001b[0m\u001b[0;34m\"not sure how to do this yet\"\u001b[0m\u001b[0;34m)\u001b[0m\u001b[0;34m\u001b[0m\u001b[0;34m\u001b[0m\u001b[0m\n",
      "\u001b[0;31mValueError\u001b[0m: The truth value of an array with more than one element is ambiguous. Use a.any() or a.all()"
     ]
    }
   ],
   "source": [
    "min_val ** np.ones((5,5))"
   ]
  },
  {
   "cell_type": "code",
   "execution_count": null,
   "id": "20c5adb1-3cc2-4847-914c-d93d17bd0eea",
   "metadata": {},
   "outputs": [],
   "source": []
  }
 ],
 "metadata": {
  "kernelspec": {
   "display_name": "Python 3 (ipykernel)",
   "language": "python",
   "name": "python3"
  },
  "language_info": {
   "codemirror_mode": {
    "name": "ipython",
    "version": 3
   },
   "file_extension": ".py",
   "mimetype": "text/x-python",
   "name": "python",
   "nbconvert_exporter": "python",
   "pygments_lexer": "ipython3",
   "version": "3.9.7"
  }
 },
 "nbformat": 4,
 "nbformat_minor": 5
}
