{
 "cells": [
  {
   "cell_type": "code",
   "execution_count": 1,
   "id": "ff893ea1-bcd0-4e8f-a556-b7715444c299",
   "metadata": {},
   "outputs": [
    {
     "name": "stderr",
     "output_type": "stream",
     "text": [
      "/home/e/anaconda3/envs/Hagrid/lib/python3.9/site-packages/tqdm/auto.py:22: TqdmWarning: IProgress not found. Please update jupyter and ipywidgets. See https://ipywidgets.readthedocs.io/en/stable/user_install.html\n",
      "  from .autonotebook import tqdm as notebook_tqdm\n"
     ]
    }
   ],
   "source": [
    "import syft as sy\n",
    "import numpy as np"
   ]
  },
  {
   "cell_type": "code",
   "execution_count": 2,
   "id": "d7d0db8d-8727-45c1-936f-771f488b10b9",
   "metadata": {},
   "outputs": [],
   "source": [
    "from syft import phi_tensor"
   ]
  },
  {
   "cell_type": "code",
   "execution_count": 3,
   "id": "e0849bfa-8c0a-4e6c-bf3b-555a253788b9",
   "metadata": {},
   "outputs": [],
   "source": [
    "data = np.random.random((5,1,3))"
   ]
  },
  {
   "cell_type": "code",
   "execution_count": 4,
   "id": "455cc73e-40bc-4b22-9483-416ef1ff3471",
   "metadata": {},
   "outputs": [
    {
     "data": {
      "text/plain": [
       "array([[[0.13898657, 0.36835345, 0.82580016]],\n",
       "\n",
       "       [[0.14550945, 0.34746646, 0.79054568]],\n",
       "\n",
       "       [[0.77210101, 0.21615092, 0.61577819]],\n",
       "\n",
       "       [[0.29889116, 0.55559489, 0.97923697]],\n",
       "\n",
       "       [[0.3883218 , 0.64417273, 0.72540169]]])"
      ]
     },
     "execution_count": 4,
     "metadata": {},
     "output_type": "execute_result"
    }
   ],
   "source": [
    "data"
   ]
  },
  {
   "cell_type": "code",
   "execution_count": 5,
   "id": "a2e224d9-490e-48a0-8ee7-d68739bceaff",
   "metadata": {},
   "outputs": [
    {
     "data": {
      "text/plain": [
       "(5, 1, 3)"
      ]
     },
     "execution_count": 5,
     "metadata": {},
     "output_type": "execute_result"
    }
   ],
   "source": [
    "data.shape"
   ]
  },
  {
   "cell_type": "code",
   "execution_count": 6,
   "id": "e76de165-391b-4b37-af9d-95f088f53e5d",
   "metadata": {},
   "outputs": [],
   "source": [
    "tensor = phi_tensor.PhiTensor(child=data, data_subjects=np.ones_like(data), min_vals=0, max_vals=1)"
   ]
  },
  {
   "cell_type": "code",
   "execution_count": 7,
   "id": "8d7d2c1e-a656-434a-bf80-375cd1c603f6",
   "metadata": {},
   "outputs": [
    {
     "data": {
      "text/plain": [
       "PhiTensor(child=FixedPrecisionTensor(child=[[[ 9108 24140 54119]]\n",
       "\n",
       " [[ 9536 22771 51809]]\n",
       "\n",
       " [[50600 14165 40355]]\n",
       "\n",
       " [[19588 36411 64175]]\n",
       "\n",
       " [[25449 42216 47539]]]), min_vals=<lazyrepeatarray data: 0 -> shape: (5, 1, 3)>, max_vals=<lazyrepeatarray data: 1 -> shape: (5, 1, 3)>)"
      ]
     },
     "execution_count": 7,
     "metadata": {},
     "output_type": "execute_result"
    }
   ],
   "source": [
    "tensor"
   ]
  },
  {
   "cell_type": "code",
   "execution_count": 8,
   "id": "043098e1-b684-4256-86ea-8515157cc017",
   "metadata": {},
   "outputs": [],
   "source": [
    "res = tensor.squeeze()"
   ]
  },
  {
   "cell_type": "code",
   "execution_count": 9,
   "id": "5cdb3570-c5b0-4dc0-96ef-232f215fd2a3",
   "metadata": {},
   "outputs": [
    {
     "data": {
      "text/plain": [
       "(5, 3)"
      ]
     },
     "execution_count": 9,
     "metadata": {},
     "output_type": "execute_result"
    }
   ],
   "source": [
    "res.shape"
   ]
  },
  {
   "cell_type": "code",
   "execution_count": 10,
   "id": "fa986531-b726-4913-a3f5-51a0f153c12c",
   "metadata": {},
   "outputs": [
    {
     "data": {
      "text/plain": [
       "PhiTensor(child=FixedPrecisionTensor(child=[[ 9108 24140 54119]\n",
       " [ 9536 22771 51809]\n",
       " [50600 14165 40355]\n",
       " [19588 36411 64175]\n",
       " [25449 42216 47539]]), min_vals=<lazyrepeatarray data: 0 -> shape: (5, 3)>, max_vals=<lazyrepeatarray data: 1 -> shape: (5, 3)>)"
      ]
     },
     "execution_count": 10,
     "metadata": {},
     "output_type": "execute_result"
    }
   ],
   "source": [
    "res"
   ]
  },
  {
   "cell_type": "code",
   "execution_count": 11,
   "id": "0ecfb6d4-bfb3-4f4c-8040-899e04f83f33",
   "metadata": {},
   "outputs": [
    {
     "ename": "AttributeError",
     "evalue": "'numpy.ndarray' object has no attribute 'unsqueeze'",
     "output_type": "error",
     "traceback": [
      "\u001b[0;31m---------------------------------------------------------------------------\u001b[0m",
      "\u001b[0;31mAttributeError\u001b[0m                            Traceback (most recent call last)",
      "\u001b[0;32m/tmp/ipykernel_15167/2548454015.py\u001b[0m in \u001b[0;36m<module>\u001b[0;34m\u001b[0m\n\u001b[0;32m----> 1\u001b[0;31m \u001b[0mres\u001b[0m\u001b[0;34m.\u001b[0m\u001b[0munsqueeze\u001b[0m\u001b[0;34m(\u001b[0m\u001b[0;36m1\u001b[0m\u001b[0;34m)\u001b[0m\u001b[0;34m\u001b[0m\u001b[0;34m\u001b[0m\u001b[0m\n\u001b[0m",
      "\u001b[0;32m~/PycharmProjects/PySyft/packages/syft/src/syft/core/tensor/autodp/phi_tensor.py\u001b[0m in \u001b[0;36munsqueeze\u001b[0;34m(self, axis)\u001b[0m\n\u001b[1;32m   1357\u001b[0m             data_subjects=DataSubjectList(\n\u001b[1;32m   1358\u001b[0m                 \u001b[0mone_hot_lookup\u001b[0m\u001b[0;34m=\u001b[0m\u001b[0mself\u001b[0m\u001b[0;34m.\u001b[0m\u001b[0mdata_subjects\u001b[0m\u001b[0;34m.\u001b[0m\u001b[0mone_hot_lookup\u001b[0m\u001b[0;34m,\u001b[0m\u001b[0;34m\u001b[0m\u001b[0;34m\u001b[0m\u001b[0m\n\u001b[0;32m-> 1359\u001b[0;31m                 \u001b[0mdata_subjects_indexed\u001b[0m\u001b[0;34m=\u001b[0m\u001b[0mself\u001b[0m\u001b[0;34m.\u001b[0m\u001b[0mdata_subjects\u001b[0m\u001b[0;34m.\u001b[0m\u001b[0mdata_subjects_indexed\u001b[0m\u001b[0;34m.\u001b[0m\u001b[0munsqueeze\u001b[0m\u001b[0;34m(\u001b[0m\u001b[0maxis\u001b[0m\u001b[0;34m)\u001b[0m\u001b[0;34m\u001b[0m\u001b[0;34m\u001b[0m\u001b[0m\n\u001b[0m\u001b[1;32m   1360\u001b[0m             )\n\u001b[1;32m   1361\u001b[0m         )\n",
      "\u001b[0;31mAttributeError\u001b[0m: 'numpy.ndarray' object has no attribute 'unsqueeze'"
     ]
    }
   ],
   "source": [
    "res.unsqueeze(1)"
   ]
  },
  {
   "cell_type": "code",
   "execution_count": null,
   "id": "c0cd0bb1-f4c0-42df-a155-945a3df9452a",
   "metadata": {},
   "outputs": [],
   "source": []
  }
 ],
 "metadata": {
  "kernelspec": {
   "display_name": "Python 3 (ipykernel)",
   "language": "python",
   "name": "python3"
  },
  "language_info": {
   "codemirror_mode": {
    "name": "ipython",
    "version": 3
   },
   "file_extension": ".py",
   "mimetype": "text/x-python",
   "name": "python",
   "nbconvert_exporter": "python",
   "pygments_lexer": "ipython3",
   "version": "3.9.7"
  }
 },
 "nbformat": 4,
 "nbformat_minor": 5
}
