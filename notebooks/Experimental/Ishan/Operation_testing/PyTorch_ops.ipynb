{
 "cells": [
  {
   "cell_type": "code",
   "execution_count": 1,
   "id": "ff893ea1-bcd0-4e8f-a556-b7715444c299",
   "metadata": {},
   "outputs": [
    {
     "name": "stderr",
     "output_type": "stream",
     "text": [
      "/home/e/anaconda3/envs/Hagrid/lib/python3.9/site-packages/tqdm/auto.py:22: TqdmWarning: IProgress not found. Please update jupyter and ipywidgets. See https://ipywidgets.readthedocs.io/en/stable/user_install.html\n",
      "  from .autonotebook import tqdm as notebook_tqdm\n"
     ]
    },
    {
     "ename": "IndentationError",
     "evalue": "expected an indented block (lazy_repeat_array.py, line 175)",
     "output_type": "error",
     "traceback": [
      "Traceback \u001b[0;36m(most recent call last)\u001b[0m:\n",
      "  File \u001b[1;32m\"/home/e/anaconda3/envs/Hagrid/lib/python3.9/site-packages/IPython/core/interactiveshell.py\"\u001b[0m, line \u001b[1;32m3444\u001b[0m, in \u001b[1;35mrun_code\u001b[0m\n    exec(code_obj, self.user_global_ns, self.user_ns)\n",
      "  File \u001b[1;32m\"/tmp/ipykernel_12784/1037399066.py\"\u001b[0m, line \u001b[1;32m1\u001b[0m, in \u001b[1;35m<module>\u001b[0m\n    import syft as sy\n",
      "  File \u001b[1;32m\"/home/e/PycharmProjects/PySyft/packages/syft/src/syft/__init__.py\"\u001b[0m, line \u001b[1;32m44\u001b[0m, in \u001b[1;35m<module>\u001b[0m\n    from . import lib  # noqa: F401\n",
      "  File \u001b[1;32m\"/home/e/PycharmProjects/PySyft/packages/syft/src/syft/lib/__init__.py\"\u001b[0m, line \u001b[1;32m25\u001b[0m, in \u001b[1;35m<module>\u001b[0m\n    from ..core.smpc import create_smpc_ast\n",
      "  File \u001b[1;32m\"/home/e/PycharmProjects/PySyft/packages/syft/src/syft/core/smpc/__init__.py\"\u001b[0m, line \u001b[1;32m17\u001b[0m, in \u001b[1;35m<module>\u001b[0m\n    from .protocol import beaver  # noqa: 401 isort: skip\n",
      "  File \u001b[1;32m\"/home/e/PycharmProjects/PySyft/packages/syft/src/syft/core/smpc/protocol/__init__.py\"\u001b[0m, line \u001b[1;32m3\u001b[0m, in \u001b[1;35m<module>\u001b[0m\n    from . import beaver\n",
      "  File \u001b[1;32m\"/home/e/PycharmProjects/PySyft/packages/syft/src/syft/core/smpc/protocol/beaver/__init__.py\"\u001b[0m, line \u001b[1;32m4\u001b[0m, in \u001b[1;35m<module>\u001b[0m\n    from . import beaver  # noqa F403\n",
      "  File \u001b[1;32m\"/home/e/PycharmProjects/PySyft/packages/syft/src/syft/core/smpc/protocol/beaver/beaver.py\"\u001b[0m, line \u001b[1;32m22\u001b[0m, in \u001b[1;35m<module>\u001b[0m\n    from ....tensor.config import DEFAULT_RING_SIZE\n",
      "  File \u001b[1;32m\"/home/e/PycharmProjects/PySyft/packages/syft/src/syft/core/tensor/__init__.py\"\u001b[0m, line \u001b[1;32m5\u001b[0m, in \u001b[1;35m<module>\u001b[0m\n    from . import functions  # noqa: 401\n",
      "  File \u001b[1;32m\"/home/e/PycharmProjects/PySyft/packages/syft/src/syft/core/tensor/functions.py\"\u001b[0m, line \u001b[1;32m12\u001b[0m, in \u001b[1;35m<module>\u001b[0m\n    from .tensor import Tensor\n",
      "  File \u001b[1;32m\"/home/e/PycharmProjects/PySyft/packages/syft/src/syft/core/tensor/tensor.py\"\u001b[0m, line \u001b[1;32m34\u001b[0m, in \u001b[1;35m<module>\u001b[0m\n    from ..node.common.action import smpc_action_functions\n",
      "  File \u001b[1;32m\"/home/e/PycharmProjects/PySyft/packages/syft/src/syft/core/node/common/action/smpc_action_functions.py\"\u001b[0m, line \u001b[1;32m16\u001b[0m, in \u001b[1;35m<module>\u001b[0m\n    from ....tensor.autodp.phi_tensor import PhiTensor\n",
      "\u001b[0;36m  File \u001b[0;32m\"/home/e/PycharmProjects/PySyft/packages/syft/src/syft/core/tensor/autodp/phi_tensor.py\"\u001b[0;36m, line \u001b[0;32m48\u001b[0;36m, in \u001b[0;35m<module>\u001b[0;36m\u001b[0m\n\u001b[0;31m    from ..lazy_repeat_array import compute_min_max\u001b[0m\n",
      "\u001b[0;36m  File \u001b[0;32m\"/home/e/PycharmProjects/PySyft/packages/syft/src/syft/core/tensor/lazy_repeat_array.py\"\u001b[0;36m, line \u001b[0;32m175\u001b[0m\n\u001b[0;31m    else:\u001b[0m\n\u001b[0m    ^\u001b[0m\n\u001b[0;31mIndentationError\u001b[0m\u001b[0;31m:\u001b[0m expected an indented block\n"
     ]
    }
   ],
   "source": [
    "import syft as sy\n",
    "import numpy as np"
   ]
  },
  {
   "cell_type": "code",
   "execution_count": null,
   "id": "d7d0db8d-8727-45c1-936f-771f488b10b9",
   "metadata": {},
   "outputs": [],
   "source": [
    "from syft"
   ]
  }
 ],
 "metadata": {
  "kernelspec": {
   "display_name": "Python 3 (ipykernel)",
   "language": "python",
   "name": "python3"
  },
  "language_info": {
   "codemirror_mode": {
    "name": "ipython",
    "version": 3
   },
   "file_extension": ".py",
   "mimetype": "text/x-python",
   "name": "python",
   "nbconvert_exporter": "python",
   "pygments_lexer": "ipython3",
   "version": "3.9.7"
  }
 },
 "nbformat": 4,
 "nbformat_minor": 5
}
