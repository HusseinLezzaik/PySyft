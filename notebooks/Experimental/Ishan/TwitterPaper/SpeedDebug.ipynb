{
 "cells": [
  {
   "cell_type": "code",
   "execution_count": 1,
   "id": "b63dd96b-fb6c-4fa3-8602-7b05d968343c",
   "metadata": {},
   "outputs": [],
   "source": [
    "import pandas as pd\n",
    "import numpy as np\n",
    "from syft import DataSubjectArray"
   ]
  },
  {
   "cell_type": "code",
   "execution_count": 2,
   "id": "810e594b-f4fe-4625-9f59-48ebad414fd3",
   "metadata": {},
   "outputs": [],
   "source": [
    "data = pd.read_parquet(\"/mnt/hdd1/1M_rows_dataset_sample.parquet\")"
   ]
  },
  {
   "cell_type": "code",
   "execution_count": 4,
   "id": "8eea6aa0-b544-4f49-a2cd-83c0d3a7c0fc",
   "metadata": {},
   "outputs": [],
   "source": [
    "users = data.user_id.to_numpy()"
   ]
  },
  {
   "cell_type": "code",
   "execution_count": 5,
   "id": "486fb6c5-ffea-499e-b832-8478fa6e8675",
   "metadata": {},
   "outputs": [
    {
     "data": {
      "text/plain": [
       "array([413396, 487138, 476426, ..., 665630, 150054, 663885])"
      ]
     },
     "execution_count": 5,
     "metadata": {},
     "output_type": "execute_result"
    }
   ],
   "source": [
    "users"
   ]
  },
  {
   "cell_type": "code",
   "execution_count": 6,
   "id": "97c656d1-c39b-48cc-a5ba-b367ac904202",
   "metadata": {},
   "outputs": [
    {
     "name": "stdout",
     "output_type": "stream",
     "text": [
      "1.11 s ± 88.9 ms per loop (mean ± std. dev. of 7 runs, 1 loop each)\n"
     ]
    }
   ],
   "source": [
    "%%timeit\n",
    "dsa = DataSubjectArray.from_objs(users)"
   ]
  },
  {
   "cell_type": "code",
   "execution_count": 8,
   "id": "e63308ae-cf45-4238-aa12-8c20c35f2f71",
   "metadata": {},
   "outputs": [
    {
     "name": "stdout",
     "output_type": "stream",
     "text": [
      "4.163981199264526\n"
     ]
    }
   ],
   "source": [
    "from time import time\n",
    "\n",
    "t0 = time()\n",
    "dsa = DataSubjectArray.from_objs(users)\n",
    "tf = time()\n",
    "print(tf-t0)"
   ]
  },
  {
   "cell_type": "code",
   "execution_count": null,
   "id": "deb65e7e-507e-4ebf-bf51-c9b3a0a86545",
   "metadata": {},
   "outputs": [],
   "source": [
    "%%timeit\n",
    "dsa.sum()"
   ]
  },
  {
   "cell_type": "code",
   "execution_count": null,
   "id": "b693cfd2-6a9b-42bc-86f9-a335a732c0c0",
   "metadata": {},
   "outputs": [],
   "source": []
  }
 ],
 "metadata": {
  "kernelspec": {
   "display_name": "Python 3 (ipykernel)",
   "language": "python",
   "name": "python3"
  },
  "language_info": {
   "codemirror_mode": {
    "name": "ipython",
    "version": 3
   },
   "file_extension": ".py",
   "mimetype": "text/x-python",
   "name": "python",
   "nbconvert_exporter": "python",
   "pygments_lexer": "ipython3",
   "version": "3.9.7"
  }
 },
 "nbformat": 4,
 "nbformat_minor": 5
}
