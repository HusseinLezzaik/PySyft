{
 "cells": [
  {
   "cell_type": "code",
   "execution_count": 1,
   "id": "b63dd96b-fb6c-4fa3-8602-7b05d968343c",
   "metadata": {},
   "outputs": [],
   "source": [
    "import pandas as pd\n",
    "import numpy as np\n",
    "import syft as sy\n",
    "from syft import DataSubjectArray"
   ]
  },
  {
   "cell_type": "code",
   "execution_count": 2,
   "id": "122d2dc2-5fb7-4494-8993-7037500de4d8",
   "metadata": {},
   "outputs": [
    {
     "name": "stdout",
     "output_type": "stream",
     "text": [
      "\u001b[93mWARNING:\u001b[0m CHANGE YOUR USERNAME AND PASSWORD!!! \n",
      "\n",
      "Anyone can login as an admin to your node right now because your password is still the default PySyft username and password!!!\n",
      "\n",
      "Connecting to localhost... done! \t Logging into adp... done!\n"
     ]
    }
   ],
   "source": [
    "domain = sy.login(email=\"info@openmined.org\", password=\"changethis\", port=8081)"
   ]
  },
  {
   "cell_type": "code",
   "execution_count": 3,
   "id": "bbf71c7d-a596-4e3c-9314-0f407be3b4cb",
   "metadata": {},
   "outputs": [
    {
     "data": {
      "text/html": [
       "<style>\n",
       "                #myInput {\n",
       "                  background-position: 10px 12px; /* Position the search icon */\n",
       "                  background-repeat: no-repeat; /* Do not repeat the icon image */\n",
       "                  background-color: #bbb;\n",
       "                  width: 98%; /* Full-width */\n",
       "                  font-size: 14px; /* Increase font-size */\n",
       "                  padding: 12px 20px 12px 40px; /* Add some padding */\n",
       "                  border: 1px solid #ddd; /* Add a grey border */\n",
       "                  margin-bottom: 12px; /* Add some space below the input */\n",
       "                }\n",
       "\n",
       "                #myTable {\n",
       "                  border-collapse: collapse; /* Collapse borders */\n",
       "                  width: 100%; /* Full-width */\n",
       "                  border: 1px solid #ddd; /* Add a grey border */\n",
       "                  font-size: 14px; /* Increase font-size */\n",
       "                }\n",
       "\n",
       "                #myTable th, #myTable td {\n",
       "                  text-align: left; /* Left-align text */\n",
       "                  padding: 10px; /* Add padding */\n",
       "                }\n",
       "\n",
       "                #myTable tr {\n",
       "                  /* Add a bottom border to all table rows */\n",
       "                  border-bottom: 1px solid #ddd;\n",
       "                }\n",
       "\n",
       "                #myTable tr.header, #myTable tr:hover {\n",
       "                  /* Add a grey background color to the table header and on hover */\n",
       "                  background-color: #777;\n",
       "                }\n",
       "                </style>\n",
       "\n",
       "                <table id=\"myTable\" style=\"width:1000px\">\n",
       "                  <tr class=\"header\">\n",
       "                    <th style=\"width:30px\">Idx</th>\n",
       "                    <th style=\"width:20%;\">Name</th>\n",
       "                    <th style=\"width:35%;\">Description</th>\n",
       "                    <th style=\"width:20%;\">Assets</th>\n",
       "                    <th style=\"width:300px;\">Id</th>\n",
       "                  </tr>\n",
       "                \n",
       "\n",
       "          <tr>\n",
       "            <td>[0]</td>\n",
       "            <td>Twitter Dataset</td>\n",
       "            <td>Synthetic Twitter Dataset</td>\n",
       "            <td>[\"tweet_id\"] -> <class 'syft.core.tensor.tensor.Tensor'><br /><br />[\"buckets\"] -> <class 'syft.core.tensor.tensor.Tensor'><br /><br />[\"user_id\"] -> <class 'syft.core.tensor.tensor.Tensor'><br /><br /></td>\n",
       "            <td>f3f12dea-2803-45ea-9520-7364dbacddd6</td>\n",
       "          </tr>\n",
       "        </table>\n",
       "\n",
       "        <script>\n",
       "        function myFunction() {\n",
       "          // Declare variables\n",
       "          var input, filter, table, tr, td, i, txtValue;\n",
       "          input = document.getElementById(\"myInput\");\n",
       "          filter = input.value.toUpperCase();\n",
       "          table = document.getElementById(\"myTable\");\n",
       "          tr = table.getElementsByTagName(\"tr\");\n",
       "\n",
       "          // Loop through all table rows, and hide those who don't match the search query\n",
       "          for (i = 0; i < tr.length; i++) {\n",
       "            name_td = tr[i].getElementsByTagName(\"td\")[1];\n",
       "            desc_td = tr[i].getElementsByTagName(\"td\")[2];\n",
       "            asset_td = tr[i].getElementsByTagName(\"td\")[3];\n",
       "            id_td = tr[i].getElementsByTagName(\"td\")[4];\n",
       "            if (name_td || desc_td || asset_td || id_td) {\n",
       "              name_txtValue = name_td.textContent || name_td.innerText;\n",
       "              desc_txtValue = desc_td.textContent || name_td.innerText;\n",
       "              asset_txtValue = asset_td.textContent || name_td.innerText;\n",
       "              id_txtValue = id_td.textContent || name_td.innerText;\n",
       "              name_bool = name_txtValue.toUpperCase().indexOf(filter) > -1;\n",
       "              desc_bool = desc_txtValue.toUpperCase().indexOf(filter) > -1;\n",
       "              asset_bool = asset_txtValue.toUpperCase().indexOf(filter) > -1;\n",
       "              id_bool = id_txtValue.toUpperCase().indexOf(filter) > -1;\n",
       "              if (name_bool || desc_bool || asset_bool || id_bool) {\n",
       "                tr[i].style.display = \"\";\n",
       "              } else {\n",
       "                tr[i].style.display = \"none\";\n",
       "              }\n",
       "            }\n",
       "          }\n",
       "        }\n",
       "        </script>"
      ],
      "text/plain": [
       "<syft.core.node.common.client_manager.dataset_api.DatasetRequestAPI at 0x7fa5b18b5ac0>"
      ]
     },
     "execution_count": 3,
     "metadata": {},
     "output_type": "execute_result"
    }
   ],
   "source": [
    "domain.datasets"
   ]
  },
  {
   "cell_type": "code",
   "execution_count": 9,
   "id": "ab29f55c-3312-4aba-9f3f-e57d1ccab1a8",
   "metadata": {},
   "outputs": [
    {
     "name": "stdout",
     "output_type": "stream",
     "text": [
      "Help on method concatenate in module syft.core.tensor.autodp.phi_tensor:\n",
      "\n",
      "concatenate(other: 'TensorWrappedPhiTensorPointer', *args: 'Any', **kwargs: 'Any') -> 'MPCTensor' method of syft.core.tensor.autodp.phi_tensor.TensorWrappedPhiTensorPointer instance\n",
      "    Apply the \"add\" operation between \"self\" and \"other\"\n",
      "    \n",
      "    Args:\n",
      "        y (Union[TensorWrappedPhiTensorPointer,MPCTensor,int,float,np.ndarray]) : second operand.\n",
      "    \n",
      "    \n",
      "    Returns:\n",
      "        Union[TensorWrappedPhiTensorPointer,MPCTensor] : Result of the operation.\n",
      "\n"
     ]
    }
   ],
   "source": [
    "help(domain.datasets[0][\"tweet_id\"].concatenate)"
   ]
  },
  {
   "cell_type": "code",
   "execution_count": 2,
   "id": "810e594b-f4fe-4625-9f59-48ebad414fd3",
   "metadata": {},
   "outputs": [],
   "source": [
    "data = pd.read_parquet(\"/mnt/hdd1/1M_rows_dataset_sample.parquet\")"
   ]
  },
  {
   "cell_type": "code",
   "execution_count": 4,
   "id": "8eea6aa0-b544-4f49-a2cd-83c0d3a7c0fc",
   "metadata": {},
   "outputs": [],
   "source": [
    "users = data.user_id.to_numpy()"
   ]
  },
  {
   "cell_type": "code",
   "execution_count": 5,
   "id": "486fb6c5-ffea-499e-b832-8478fa6e8675",
   "metadata": {},
   "outputs": [
    {
     "data": {
      "text/plain": [
       "array([413396, 487138, 476426, ..., 665630, 150054, 663885])"
      ]
     },
     "execution_count": 5,
     "metadata": {},
     "output_type": "execute_result"
    }
   ],
   "source": [
    "users"
   ]
  },
  {
   "cell_type": "code",
   "execution_count": 6,
   "id": "97c656d1-c39b-48cc-a5ba-b367ac904202",
   "metadata": {},
   "outputs": [
    {
     "name": "stdout",
     "output_type": "stream",
     "text": [
      "1.11 s ± 88.9 ms per loop (mean ± std. dev. of 7 runs, 1 loop each)\n"
     ]
    }
   ],
   "source": [
    "%%timeit\n",
    "dsa = DataSubjectArray.from_objs(users)"
   ]
  },
  {
   "cell_type": "code",
   "execution_count": 8,
   "id": "e63308ae-cf45-4238-aa12-8c20c35f2f71",
   "metadata": {},
   "outputs": [
    {
     "name": "stdout",
     "output_type": "stream",
     "text": [
      "4.163981199264526\n"
     ]
    }
   ],
   "source": [
    "from time import time\n",
    "\n",
    "t0 = time()\n",
    "dsa = DataSubjectArray.from_objs(users)\n",
    "tf = time()\n",
    "print(tf-t0)"
   ]
  },
  {
   "cell_type": "code",
   "execution_count": null,
   "id": "deb65e7e-507e-4ebf-bf51-c9b3a0a86545",
   "metadata": {},
   "outputs": [],
   "source": [
    "%%timeit\n",
    "dsa.sum()"
   ]
  },
  {
   "cell_type": "code",
   "execution_count": null,
   "id": "b693cfd2-6a9b-42bc-86f9-a335a732c0c0",
   "metadata": {},
   "outputs": [],
   "source": []
  }
 ],
 "metadata": {
  "kernelspec": {
   "display_name": "Python 3 (ipykernel)",
   "language": "python",
   "name": "python3"
  },
  "language_info": {
   "codemirror_mode": {
    "name": "ipython",
    "version": 3
   },
   "file_extension": ".py",
   "mimetype": "text/x-python",
   "name": "python",
   "nbconvert_exporter": "python",
   "pygments_lexer": "ipython3",
   "version": "3.9.7"
  }
 },
 "nbformat": 4,
 "nbformat_minor": 5
}
