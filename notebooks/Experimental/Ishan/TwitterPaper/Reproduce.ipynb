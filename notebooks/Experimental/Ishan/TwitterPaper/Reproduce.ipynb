{
 "cells": [
  {
   "cell_type": "code",
   "execution_count": 1,
   "id": "3baf1305-74b1-4fed-9d12-b0e32a1c0624",
   "metadata": {},
   "outputs": [],
   "source": [
    "import numpy as np\n",
    "import syft as sy\n",
    "import pandas as pd"
   ]
  },
  {
   "cell_type": "code",
   "execution_count": 2,
   "id": "f3d4b7ad-2cd5-419d-b3b5-ed591005914b",
   "metadata": {},
   "outputs": [],
   "source": [
    "data = pd.read_parquet(\"/mnt/hdd1/1M_rows_dataset_sample.parquet\")"
   ]
  },
  {
   "cell_type": "code",
   "execution_count": 3,
   "id": "eb2597c7-5ddd-4925-8f23-8f5a05bda59d",
   "metadata": {},
   "outputs": [
    {
     "data": {
      "text/html": [
       "<div>\n",
       "<style scoped>\n",
       "    .dataframe tbody tr th:only-of-type {\n",
       "        vertical-align: middle;\n",
       "    }\n",
       "\n",
       "    .dataframe tbody tr th {\n",
       "        vertical-align: top;\n",
       "    }\n",
       "\n",
       "    .dataframe thead th {\n",
       "        text-align: right;\n",
       "    }\n",
       "</style>\n",
       "<table border=\"1\" class=\"dataframe\">\n",
       "  <thead>\n",
       "    <tr style=\"text-align: right;\">\n",
       "      <th></th>\n",
       "      <th>tweet_id</th>\n",
       "      <th>impressions</th>\n",
       "      <th>impressions_ct</th>\n",
       "      <th>bucket</th>\n",
       "      <th>tweet_origin</th>\n",
       "      <th>tweet_date_time</th>\n",
       "      <th>date</th>\n",
       "      <th>time</th>\n",
       "      <th>user_id</th>\n",
       "      <th>user_country</th>\n",
       "      <th>url</th>\n",
       "      <th>publication_title</th>\n",
       "      <th>ad_fontes_bias</th>\n",
       "      <th>ad_fontes_reliability</th>\n",
       "      <th>domain</th>\n",
       "    </tr>\n",
       "  </thead>\n",
       "  <tbody>\n",
       "    <tr>\n",
       "      <th>0</th>\n",
       "      <td>59</td>\n",
       "      <td>9036</td>\n",
       "      <td>1870</td>\n",
       "      <td>0</td>\n",
       "      <td>Japan</td>\n",
       "      <td>2021-05-03 01:38:55</td>\n",
       "      <td>2021-05-03</td>\n",
       "      <td>01:38:55</td>\n",
       "      <td>413396</td>\n",
       "      <td>Germany</td>\n",
       "      <td>https://www.alternet.org/2018/09/michael-moore...</td>\n",
       "      <td>AlterNet</td>\n",
       "      <td>-28.25</td>\n",
       "      <td>10.75</td>\n",
       "      <td>.alternet.org</td>\n",
       "    </tr>\n",
       "    <tr>\n",
       "      <th>1</th>\n",
       "      <td>59</td>\n",
       "      <td>9036</td>\n",
       "      <td>1870</td>\n",
       "      <td>0</td>\n",
       "      <td>Japan</td>\n",
       "      <td>2021-05-03 01:38:55</td>\n",
       "      <td>2021-05-03</td>\n",
       "      <td>01:38:55</td>\n",
       "      <td>487138</td>\n",
       "      <td>Canada</td>\n",
       "      <td>https://www.alternet.org/2018/09/michael-moore...</td>\n",
       "      <td>AlterNet</td>\n",
       "      <td>-28.25</td>\n",
       "      <td>10.75</td>\n",
       "      <td>.alternet.org</td>\n",
       "    </tr>\n",
       "    <tr>\n",
       "      <th>2</th>\n",
       "      <td>59</td>\n",
       "      <td>9036</td>\n",
       "      <td>1870</td>\n",
       "      <td>0</td>\n",
       "      <td>Japan</td>\n",
       "      <td>2021-05-03 01:38:55</td>\n",
       "      <td>2021-05-03</td>\n",
       "      <td>01:38:55</td>\n",
       "      <td>476426</td>\n",
       "      <td>Canada</td>\n",
       "      <td>https://www.alternet.org/2018/09/michael-moore...</td>\n",
       "      <td>AlterNet</td>\n",
       "      <td>-28.25</td>\n",
       "      <td>10.75</td>\n",
       "      <td>.alternet.org</td>\n",
       "    </tr>\n",
       "    <tr>\n",
       "      <th>3</th>\n",
       "      <td>59</td>\n",
       "      <td>9036</td>\n",
       "      <td>1870</td>\n",
       "      <td>0</td>\n",
       "      <td>Japan</td>\n",
       "      <td>2021-05-03 01:38:55</td>\n",
       "      <td>2021-05-03</td>\n",
       "      <td>01:38:55</td>\n",
       "      <td>407094</td>\n",
       "      <td>U.K.</td>\n",
       "      <td>https://www.alternet.org/2018/09/michael-moore...</td>\n",
       "      <td>AlterNet</td>\n",
       "      <td>-28.25</td>\n",
       "      <td>10.75</td>\n",
       "      <td>.alternet.org</td>\n",
       "    </tr>\n",
       "    <tr>\n",
       "      <th>4</th>\n",
       "      <td>59</td>\n",
       "      <td>9036</td>\n",
       "      <td>1870</td>\n",
       "      <td>0</td>\n",
       "      <td>Japan</td>\n",
       "      <td>2021-05-03 01:38:55</td>\n",
       "      <td>2021-05-03</td>\n",
       "      <td>01:38:55</td>\n",
       "      <td>683755</td>\n",
       "      <td>Canada</td>\n",
       "      <td>https://www.alternet.org/2018/09/michael-moore...</td>\n",
       "      <td>AlterNet</td>\n",
       "      <td>-28.25</td>\n",
       "      <td>10.75</td>\n",
       "      <td>.alternet.org</td>\n",
       "    </tr>\n",
       "  </tbody>\n",
       "</table>\n",
       "</div>"
      ],
      "text/plain": [
       "   tweet_id  impressions  impressions_ct  bucket tweet_origin  \\\n",
       "0        59         9036            1870       0        Japan   \n",
       "1        59         9036            1870       0        Japan   \n",
       "2        59         9036            1870       0        Japan   \n",
       "3        59         9036            1870       0        Japan   \n",
       "4        59         9036            1870       0        Japan   \n",
       "\n",
       "      tweet_date_time        date      time  user_id user_country  \\\n",
       "0 2021-05-03 01:38:55  2021-05-03  01:38:55   413396      Germany   \n",
       "1 2021-05-03 01:38:55  2021-05-03  01:38:55   487138       Canada   \n",
       "2 2021-05-03 01:38:55  2021-05-03  01:38:55   476426       Canada   \n",
       "3 2021-05-03 01:38:55  2021-05-03  01:38:55   407094         U.K.   \n",
       "4 2021-05-03 01:38:55  2021-05-03  01:38:55   683755       Canada   \n",
       "\n",
       "                                                 url publication_title  \\\n",
       "0  https://www.alternet.org/2018/09/michael-moore...          AlterNet   \n",
       "1  https://www.alternet.org/2018/09/michael-moore...          AlterNet   \n",
       "2  https://www.alternet.org/2018/09/michael-moore...          AlterNet   \n",
       "3  https://www.alternet.org/2018/09/michael-moore...          AlterNet   \n",
       "4  https://www.alternet.org/2018/09/michael-moore...          AlterNet   \n",
       "\n",
       "   ad_fontes_bias  ad_fontes_reliability         domain  \n",
       "0          -28.25                  10.75  .alternet.org  \n",
       "1          -28.25                  10.75  .alternet.org  \n",
       "2          -28.25                  10.75  .alternet.org  \n",
       "3          -28.25                  10.75  .alternet.org  \n",
       "4          -28.25                  10.75  .alternet.org  "
      ]
     },
     "execution_count": 3,
     "metadata": {},
     "output_type": "execute_result"
    }
   ],
   "source": [
    "data.head()"
   ]
  },
  {
   "cell_type": "code",
   "execution_count": 14,
   "id": "7b56b33d-84ac-458f-bb56-72db0bb6228c",
   "metadata": {},
   "outputs": [
    {
     "data": {
      "text/plain": [
       "array([59, 63, 62, 64, 51, 75, 60, 81, 53, 71, 50, 57, 70, 82, 78, 69, 52,\n",
       "       77, 72, 55, 61, 79, 66, 65, 56, 74, 68, 73, 58, 32, 76, 14, 30, 27,\n",
       "       67, 20, 80, 28, 16, 12,  7, 24,  8,  4, 21, 43,  6, 23, 25, 46, 33,\n",
       "       29, 31, 35])"
      ]
     },
     "execution_count": 14,
     "metadata": {},
     "output_type": "execute_result"
    }
   ],
   "source": [
    "data[\"tweet_id\"].unique()"
   ]
  },
  {
   "cell_type": "code",
   "execution_count": null,
   "id": "a1536a42-f2c4-4e4f-ab0e-d33f0613c6b1",
   "metadata": {},
   "outputs": [],
   "source": [
    "users = data[\"user_id\"].to_numpy(dtype=np.int64)"
   ]
  },
  {
   "cell_type": "code",
   "execution_count": 10,
   "id": "d14aa553-c309-415e-a1b4-da378b7da974",
   "metadata": {},
   "outputs": [],
   "source": [
    "tweet_ids = sy.Tensor(data[\"tweet_id\"].to_numpy(dtype=np.int64)).private(min_val=0, max_val=60, data_subjects=)\n",
    "tweet_buckets = sy.Tensor(data[\"bucket\"].to_numpy(dtype=np.int64))\n",
    "tweet_user_id = sy.Tensor()"
   ]
  },
  {
   "cell_type": "code",
   "execution_count": 11,
   "id": "6734d019-cd58-4024-9ea5-39583575bdfd",
   "metadata": {},
   "outputs": [
    {
     "name": "stdout",
     "output_type": "stream",
     "text": [
      "\u001b[93mWARNING:\u001b[0m CHANGE YOUR USERNAME AND PASSWORD!!! \n",
      "\n",
      "Anyone can login as an admin to your node right now because your password is still the default PySyft username and password!!!\n",
      "\n",
      "Connecting to localhost... done! \t Logging into adp... done!\n"
     ]
    }
   ],
   "source": [
    "domain = sy.login(email=\"info@openmined.org\", password=\"changethis\", port=8081)"
   ]
  },
  {
   "cell_type": "code",
   "execution_count": 12,
   "id": "6486eb58-9ed1-4f3f-8a26-98f18be8c287",
   "metadata": {},
   "outputs": [
    {
     "name": "stdout",
     "output_type": "stream",
     "text": [
      "Loading dataset... checking asset types...                                                                                                                                    "
     ]
    },
    {
     "ename": "Exception",
     "evalue": "ERROR: All private assets must have proper Differential Privacy metadata applied.\n\nExample: syft.Tensor([1,2,3,4]).private()\n\nand then follow the wizard. 🧙",
     "output_type": "error",
     "traceback": [
      "\u001b[0;31m---------------------------------------------------------------------------\u001b[0m",
      "\u001b[0;31mException\u001b[0m                                 Traceback (most recent call last)",
      "\u001b[0;32m/tmp/ipykernel_50462/457937793.py\u001b[0m in \u001b[0;36m<module>\u001b[0;34m\u001b[0m\n\u001b[0;32m----> 1\u001b[0;31m domain.load_dataset(\n\u001b[0m\u001b[1;32m      2\u001b[0m     assets={\n\u001b[1;32m      3\u001b[0m         \u001b[0;34m\"tweet_id\"\u001b[0m\u001b[0;34m:\u001b[0m \u001b[0mtweet_ids\u001b[0m\u001b[0;34m,\u001b[0m\u001b[0;34m\u001b[0m\u001b[0;34m\u001b[0m\u001b[0m\n\u001b[1;32m      4\u001b[0m         \u001b[0;34m\"buckets\"\u001b[0m\u001b[0;34m:\u001b[0m \u001b[0mtweet_buckets\u001b[0m\u001b[0;34m,\u001b[0m\u001b[0;34m\u001b[0m\u001b[0;34m\u001b[0m\u001b[0m\n\u001b[1;32m      5\u001b[0m         \u001b[0;34m\"user_id\"\u001b[0m\u001b[0;34m:\u001b[0m \u001b[0mtweet_user_id\u001b[0m\u001b[0;34m\u001b[0m\u001b[0;34m\u001b[0m\u001b[0m\n",
      "\u001b[0;32m~/PycharmProjects/PySyft/packages/syft/src/syft/core/node/domain_client.py\u001b[0m in \u001b[0;36mload_dataset\u001b[0;34m(self, assets, name, description, skip_checks, chunk_size, use_blob_storage, **metadata)\u001b[0m\n\u001b[1;32m    675\u001b[0m                     \u001b[0mgetattr\u001b[0m\u001b[0;34m(\u001b[0m\u001b[0masset\u001b[0m\u001b[0;34m,\u001b[0m \u001b[0;34m\"child\"\u001b[0m\u001b[0;34m,\u001b[0m \u001b[0;32mNone\u001b[0m\u001b[0;34m)\u001b[0m\u001b[0;34m,\u001b[0m \u001b[0;34m(\u001b[0m\u001b[0mPhiTensor\u001b[0m\u001b[0;34m,\u001b[0m \u001b[0mGammaTensor\u001b[0m\u001b[0;34m)\u001b[0m\u001b[0;34m\u001b[0m\u001b[0;34m\u001b[0m\u001b[0m\n\u001b[1;32m    676\u001b[0m                 ):\n\u001b[0;32m--> 677\u001b[0;31m                     raise Exception(\n\u001b[0m\u001b[1;32m    678\u001b[0m                         \u001b[0;34m\"ERROR: All private assets must have \"\u001b[0m\u001b[0;34m\u001b[0m\u001b[0;34m\u001b[0m\u001b[0m\n\u001b[1;32m    679\u001b[0m                         \u001b[0;34m+\u001b[0m \u001b[0;34m\"proper Differential Privacy metadata applied.\\n\"\u001b[0m\u001b[0;34m\u001b[0m\u001b[0;34m\u001b[0m\u001b[0m\n",
      "\u001b[0;31mException\u001b[0m: ERROR: All private assets must have proper Differential Privacy metadata applied.\n\nExample: syft.Tensor([1,2,3,4]).private()\n\nand then follow the wizard. 🧙"
     ]
    }
   ],
   "source": [
    "domain.load_dataset(\n",
    "    assets={\n",
    "        \"tweet_id\": tweet_ids,\n",
    "        \"buckets\": tweet_buckets,\n",
    "        \"user_id\": tweet_user_id\n",
    "    },\n",
    "    name=\"Twitter Dataset\",\n",
    "    description=\"Synthetic Twitter Dataset\"\n",
    ")"
   ]
  },
  {
   "cell_type": "code",
   "execution_count": 8,
   "id": "7e797545-10b8-4472-9eae-c0d8411f04d3",
   "metadata": {},
   "outputs": [
    {
     "data": {
      "text/plain": [
       "165481"
      ]
     },
     "execution_count": 8,
     "metadata": {},
     "output_type": "execute_result"
    }
   ],
   "source": [
    "len(data.user_id.unique())"
   ]
  },
  {
   "cell_type": "code",
   "execution_count": 9,
   "id": "fd29e30c-a0df-4f7a-9ae4-13817e90237f",
   "metadata": {},
   "outputs": [
    {
     "data": {
      "text/plain": [
       "1000000"
      ]
     },
     "execution_count": 9,
     "metadata": {},
     "output_type": "execute_result"
    }
   ],
   "source": [
    "len(data.user_id)"
   ]
  },
  {
   "cell_type": "code",
   "execution_count": null,
   "id": "1f131a17-164f-4ffa-be03-de88184b754e",
   "metadata": {},
   "outputs": [],
   "source": []
  }
 ],
 "metadata": {
  "kernelspec": {
   "display_name": "Python 3 (ipykernel)",
   "language": "python",
   "name": "python3"
  },
  "language_info": {
   "codemirror_mode": {
    "name": "ipython",
    "version": 3
   },
   "file_extension": ".py",
   "mimetype": "text/x-python",
   "name": "python",
   "nbconvert_exporter": "python",
   "pygments_lexer": "ipython3",
   "version": "3.9.7"
  }
 },
 "nbformat": 4,
 "nbformat_minor": 5
}
