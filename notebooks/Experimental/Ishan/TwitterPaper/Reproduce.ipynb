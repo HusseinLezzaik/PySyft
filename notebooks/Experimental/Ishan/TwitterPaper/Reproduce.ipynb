{
 "cells": [
  {
   "cell_type": "code",
   "execution_count": 1,
   "id": "3baf1305-74b1-4fed-9d12-b0e32a1c0624",
   "metadata": {},
   "outputs": [],
   "source": [
    "import numpy as np\n",
    "import syft as sy\n",
    "import pandas as pd"
   ]
  },
  {
   "cell_type": "code",
   "execution_count": 2,
   "id": "1671f773-9961-4f61-a4a6-a88485dd7943",
   "metadata": {},
   "outputs": [],
   "source": [
    "from time import time"
   ]
  },
  {
   "cell_type": "code",
   "execution_count": 3,
   "id": "f3d4b7ad-2cd5-419d-b3b5-ed591005914b",
   "metadata": {},
   "outputs": [],
   "source": [
    "data = pd.read_parquet(\"/mnt/hdd1/1M_rows_dataset_sample.parquet\")"
   ]
  },
  {
   "cell_type": "code",
   "execution_count": 4,
   "id": "eb2597c7-5ddd-4925-8f23-8f5a05bda59d",
   "metadata": {},
   "outputs": [
    {
     "data": {
      "text/html": [
       "<div>\n",
       "<style scoped>\n",
       "    .dataframe tbody tr th:only-of-type {\n",
       "        vertical-align: middle;\n",
       "    }\n",
       "\n",
       "    .dataframe tbody tr th {\n",
       "        vertical-align: top;\n",
       "    }\n",
       "\n",
       "    .dataframe thead th {\n",
       "        text-align: right;\n",
       "    }\n",
       "</style>\n",
       "<table border=\"1\" class=\"dataframe\">\n",
       "  <thead>\n",
       "    <tr style=\"text-align: right;\">\n",
       "      <th></th>\n",
       "      <th>tweet_id</th>\n",
       "      <th>impressions</th>\n",
       "      <th>impressions_ct</th>\n",
       "      <th>bucket</th>\n",
       "      <th>tweet_origin</th>\n",
       "      <th>tweet_date_time</th>\n",
       "      <th>date</th>\n",
       "      <th>time</th>\n",
       "      <th>user_id</th>\n",
       "      <th>user_country</th>\n",
       "      <th>url</th>\n",
       "      <th>publication_title</th>\n",
       "      <th>ad_fontes_bias</th>\n",
       "      <th>ad_fontes_reliability</th>\n",
       "      <th>domain</th>\n",
       "    </tr>\n",
       "  </thead>\n",
       "  <tbody>\n",
       "    <tr>\n",
       "      <th>0</th>\n",
       "      <td>59</td>\n",
       "      <td>9036</td>\n",
       "      <td>1870</td>\n",
       "      <td>0</td>\n",
       "      <td>Japan</td>\n",
       "      <td>2021-05-03 01:38:55</td>\n",
       "      <td>2021-05-03</td>\n",
       "      <td>01:38:55</td>\n",
       "      <td>413396</td>\n",
       "      <td>Germany</td>\n",
       "      <td>https://www.alternet.org/2018/09/michael-moore...</td>\n",
       "      <td>AlterNet</td>\n",
       "      <td>-28.25</td>\n",
       "      <td>10.75</td>\n",
       "      <td>.alternet.org</td>\n",
       "    </tr>\n",
       "    <tr>\n",
       "      <th>1</th>\n",
       "      <td>59</td>\n",
       "      <td>9036</td>\n",
       "      <td>1870</td>\n",
       "      <td>0</td>\n",
       "      <td>Japan</td>\n",
       "      <td>2021-05-03 01:38:55</td>\n",
       "      <td>2021-05-03</td>\n",
       "      <td>01:38:55</td>\n",
       "      <td>487138</td>\n",
       "      <td>Canada</td>\n",
       "      <td>https://www.alternet.org/2018/09/michael-moore...</td>\n",
       "      <td>AlterNet</td>\n",
       "      <td>-28.25</td>\n",
       "      <td>10.75</td>\n",
       "      <td>.alternet.org</td>\n",
       "    </tr>\n",
       "    <tr>\n",
       "      <th>2</th>\n",
       "      <td>59</td>\n",
       "      <td>9036</td>\n",
       "      <td>1870</td>\n",
       "      <td>0</td>\n",
       "      <td>Japan</td>\n",
       "      <td>2021-05-03 01:38:55</td>\n",
       "      <td>2021-05-03</td>\n",
       "      <td>01:38:55</td>\n",
       "      <td>476426</td>\n",
       "      <td>Canada</td>\n",
       "      <td>https://www.alternet.org/2018/09/michael-moore...</td>\n",
       "      <td>AlterNet</td>\n",
       "      <td>-28.25</td>\n",
       "      <td>10.75</td>\n",
       "      <td>.alternet.org</td>\n",
       "    </tr>\n",
       "    <tr>\n",
       "      <th>3</th>\n",
       "      <td>59</td>\n",
       "      <td>9036</td>\n",
       "      <td>1870</td>\n",
       "      <td>0</td>\n",
       "      <td>Japan</td>\n",
       "      <td>2021-05-03 01:38:55</td>\n",
       "      <td>2021-05-03</td>\n",
       "      <td>01:38:55</td>\n",
       "      <td>407094</td>\n",
       "      <td>U.K.</td>\n",
       "      <td>https://www.alternet.org/2018/09/michael-moore...</td>\n",
       "      <td>AlterNet</td>\n",
       "      <td>-28.25</td>\n",
       "      <td>10.75</td>\n",
       "      <td>.alternet.org</td>\n",
       "    </tr>\n",
       "    <tr>\n",
       "      <th>4</th>\n",
       "      <td>59</td>\n",
       "      <td>9036</td>\n",
       "      <td>1870</td>\n",
       "      <td>0</td>\n",
       "      <td>Japan</td>\n",
       "      <td>2021-05-03 01:38:55</td>\n",
       "      <td>2021-05-03</td>\n",
       "      <td>01:38:55</td>\n",
       "      <td>683755</td>\n",
       "      <td>Canada</td>\n",
       "      <td>https://www.alternet.org/2018/09/michael-moore...</td>\n",
       "      <td>AlterNet</td>\n",
       "      <td>-28.25</td>\n",
       "      <td>10.75</td>\n",
       "      <td>.alternet.org</td>\n",
       "    </tr>\n",
       "  </tbody>\n",
       "</table>\n",
       "</div>"
      ],
      "text/plain": [
       "   tweet_id  impressions  impressions_ct  bucket tweet_origin  \\\n",
       "0        59         9036            1870       0        Japan   \n",
       "1        59         9036            1870       0        Japan   \n",
       "2        59         9036            1870       0        Japan   \n",
       "3        59         9036            1870       0        Japan   \n",
       "4        59         9036            1870       0        Japan   \n",
       "\n",
       "      tweet_date_time        date      time  user_id user_country  \\\n",
       "0 2021-05-03 01:38:55  2021-05-03  01:38:55   413396      Germany   \n",
       "1 2021-05-03 01:38:55  2021-05-03  01:38:55   487138       Canada   \n",
       "2 2021-05-03 01:38:55  2021-05-03  01:38:55   476426       Canada   \n",
       "3 2021-05-03 01:38:55  2021-05-03  01:38:55   407094         U.K.   \n",
       "4 2021-05-03 01:38:55  2021-05-03  01:38:55   683755       Canada   \n",
       "\n",
       "                                                 url publication_title  \\\n",
       "0  https://www.alternet.org/2018/09/michael-moore...          AlterNet   \n",
       "1  https://www.alternet.org/2018/09/michael-moore...          AlterNet   \n",
       "2  https://www.alternet.org/2018/09/michael-moore...          AlterNet   \n",
       "3  https://www.alternet.org/2018/09/michael-moore...          AlterNet   \n",
       "4  https://www.alternet.org/2018/09/michael-moore...          AlterNet   \n",
       "\n",
       "   ad_fontes_bias  ad_fontes_reliability         domain  \n",
       "0          -28.25                  10.75  .alternet.org  \n",
       "1          -28.25                  10.75  .alternet.org  \n",
       "2          -28.25                  10.75  .alternet.org  \n",
       "3          -28.25                  10.75  .alternet.org  \n",
       "4          -28.25                  10.75  .alternet.org  "
      ]
     },
     "execution_count": 4,
     "metadata": {},
     "output_type": "execute_result"
    }
   ],
   "source": [
    "data.head()"
   ]
  },
  {
   "cell_type": "code",
   "execution_count": 5,
   "id": "7b56b33d-84ac-458f-bb56-72db0bb6228c",
   "metadata": {},
   "outputs": [
    {
     "data": {
      "text/plain": [
       "array([59, 63, 62, 64, 51, 75, 60, 81, 53, 71, 50, 57, 70, 82, 78, 69, 52,\n",
       "       77, 72, 55, 61, 79, 66, 65, 56, 74, 68, 73, 58, 32, 76, 14, 30, 27,\n",
       "       67, 20, 80, 28, 16, 12,  7, 24,  8,  4, 21, 43,  6, 23, 25, 46, 33,\n",
       "       29, 31, 35])"
      ]
     },
     "execution_count": 5,
     "metadata": {},
     "output_type": "execute_result"
    }
   ],
   "source": [
    "data[\"tweet_id\"].unique()"
   ]
  },
  {
   "cell_type": "code",
   "execution_count": 6,
   "id": "a1536a42-f2c4-4e4f-ab0e-d33f0613c6b1",
   "metadata": {},
   "outputs": [],
   "source": [
    "users = data[\"user_id\"].to_numpy(dtype=np.int64)[:10]"
   ]
  },
  {
   "cell_type": "code",
   "execution_count": 7,
   "id": "1a41b187-aca2-4596-9225-89e98da997b5",
   "metadata": {},
   "outputs": [
    {
     "data": {
      "text/plain": [
       "(71023, 683755)"
      ]
     },
     "execution_count": 7,
     "metadata": {},
     "output_type": "execute_result"
    }
   ],
   "source": [
    "users.min(), users.max()"
   ]
  },
  {
   "cell_type": "code",
   "execution_count": 8,
   "id": "b9373b74-6f53-40c6-b312-6613c5c68a26",
   "metadata": {},
   "outputs": [],
   "source": [
    "tweet_id_data = data[\"tweet_id\"].to_numpy(dtype=np.int64)[:10]"
   ]
  },
  {
   "cell_type": "code",
   "execution_count": 9,
   "id": "3694a65d-ffad-4239-83cd-8fbcee0c1331",
   "metadata": {},
   "outputs": [
    {
     "data": {
      "text/plain": [
       "(10,)"
      ]
     },
     "execution_count": 9,
     "metadata": {},
     "output_type": "execute_result"
    }
   ],
   "source": [
    "tweet_id_data.shape"
   ]
  },
  {
   "cell_type": "code",
   "execution_count": 10,
   "id": "89f113ad-44da-4730-9abf-c7c7526601fb",
   "metadata": {},
   "outputs": [
    {
     "name": "stdout",
     "output_type": "stream",
     "text": [
      "Time to annotate:  0.004360198974609375\n"
     ]
    }
   ],
   "source": [
    "t0 = time()\n",
    "tweet_ids = sy.Tensor(tweet_id_data).private(min_val=0, max_val=60, data_subjects=users)\n",
    "tf = time()\n",
    "print(\"Time to annotate: \", tf-t0)"
   ]
  },
  {
   "cell_type": "code",
   "execution_count": 11,
   "id": "eab6d605-5653-4c49-a538-b3aea4ae3872",
   "metadata": {},
   "outputs": [],
   "source": [
    "bucket_data = data[\"bucket\"].to_numpy(dtype=np.int64)[:10]"
   ]
  },
  {
   "cell_type": "code",
   "execution_count": 12,
   "id": "63a05f7e-a137-4bc4-b21f-0fc9e50c4004",
   "metadata": {},
   "outputs": [],
   "source": [
    "tweet_buckets = sy.Tensor(bucket_data).private(min_val=0, max_val=1, data_subjects=users)"
   ]
  },
  {
   "cell_type": "code",
   "execution_count": 13,
   "id": "ad5e220b-3707-4c1d-b47c-002b4ba1b5ca",
   "metadata": {},
   "outputs": [],
   "source": [
    "tweet_user_id = sy.Tensor(users).private(min_val=0, max_val=700_000, data_subjects=users)"
   ]
  },
  {
   "cell_type": "code",
   "execution_count": 14,
   "id": "6734d019-cd58-4024-9ea5-39583575bdfd",
   "metadata": {},
   "outputs": [
    {
     "name": "stdout",
     "output_type": "stream",
     "text": [
      "\u001b[93mWARNING:\u001b[0m CHANGE YOUR USERNAME AND PASSWORD!!! \n",
      "\n",
      "Anyone can login as an admin to your node right now because your password is still the default PySyft username and password!!!\n",
      "\n",
      "Connecting to localhost... done! \t Logging into adp... done!\n"
     ]
    }
   ],
   "source": [
    "domain = sy.login(email=\"info@openmined.org\", password=\"changethis\", port=8081)"
   ]
  },
  {
   "cell_type": "code",
   "execution_count": 15,
   "id": "6486eb58-9ed1-4f3f-8a26-98f18be8c287",
   "metadata": {},
   "outputs": [
    {
     "name": "stderr",
     "output_type": "stream",
     "text": [
      "kj/filesystem-disk-unix.c++:1690: warning: PWD environment variable doesn't match current directory; pwd = /home/e/PycharmProjects/PySyft/notebooks/Experimental/Ishan\n"
     ]
    },
    {
     "name": "stdout",
     "output_type": "stream",
     "text": [
      "Loading dataset... uploading...🚀                                                                                                                                             "
     ]
    },
    {
     "name": "stderr",
     "output_type": "stream",
     "text": [
      "Uploading `tweet_id`: 100%|\u001b[32m███████████████████████████████████████████\u001b[0m| 1/1 [00:00<00:00,  4.79it/s]\u001b[0m\n",
      "Uploading `buckets`: 100%|\u001b[32m███████████████████████████████████████████\u001b[0m| 1/1 [00:00<00:00, 153.96it/s]\u001b[0m\n",
      "Uploading `user_id`: 100%|\u001b[32m███████████████████████████████████████████\u001b[0m| 1/1 [00:00<00:00, 151.84it/s]\u001b[0m\n"
     ]
    },
    {
     "name": "stdout",
     "output_type": "stream",
     "text": [
      "Dataset is uploaded successfully !!! 🎉\n",
      "\n",
      "Run `<your client variable>.datasets` to see your new dataset loaded into your machine!\n"
     ]
    }
   ],
   "source": [
    "domain.load_dataset(\n",
    "    assets={\n",
    "        \"tweet_id\": tweet_ids,\n",
    "        \"buckets\": tweet_buckets,\n",
    "        \"user_id\": tweet_user_id\n",
    "    },\n",
    "    name=\"Twitter Dataset\",\n",
    "    description=\"Synthetic Twitter Dataset\"\n",
    ")"
   ]
  },
  {
   "cell_type": "code",
   "execution_count": 16,
   "id": "1f131a17-164f-4ffa-be03-de88184b754e",
   "metadata": {},
   "outputs": [
    {
     "name": "stdout",
     "output_type": "stream",
     "text": [
      "User created successfully!\n"
     ]
    },
    {
     "data": {
      "text/plain": [
       "{'name': 'DataScientist',\n",
       " 'email': 'ds@ds.ai',\n",
       " 'password': 'mlaids',\n",
       " 'url': 'localhost'}"
      ]
     },
     "execution_count": 16,
     "metadata": {},
     "output_type": "execute_result"
    }
   ],
   "source": [
    "domain.create_user(name=\"DataScientist\", email=\"ds@ds.ai\", password=\"mlaids\", budget=1000)"
   ]
  },
  {
   "cell_type": "code",
   "execution_count": 17,
   "id": "305de2ba-5aa7-4a5a-af21-a32c845ed14b",
   "metadata": {},
   "outputs": [
    {
     "name": "stdout",
     "output_type": "stream",
     "text": [
      "Connecting to localhost... done! \t Logging into adp... done!\n"
     ]
    }
   ],
   "source": [
    "ds_node = sy.login(email=\"ds@ds.ai\", password=\"mlaids\", port=8081)"
   ]
  },
  {
   "cell_type": "code",
   "execution_count": 18,
   "id": "0d205853-459c-4af1-bafb-d004382e5537",
   "metadata": {},
   "outputs": [
    {
     "data": {
      "text/html": [
       "<style>\n",
       "                #myInput {\n",
       "                  background-position: 10px 12px; /* Position the search icon */\n",
       "                  background-repeat: no-repeat; /* Do not repeat the icon image */\n",
       "                  background-color: #bbb;\n",
       "                  width: 98%; /* Full-width */\n",
       "                  font-size: 14px; /* Increase font-size */\n",
       "                  padding: 12px 20px 12px 40px; /* Add some padding */\n",
       "                  border: 1px solid #ddd; /* Add a grey border */\n",
       "                  margin-bottom: 12px; /* Add some space below the input */\n",
       "                }\n",
       "\n",
       "                #myTable {\n",
       "                  border-collapse: collapse; /* Collapse borders */\n",
       "                  width: 100%; /* Full-width */\n",
       "                  border: 1px solid #ddd; /* Add a grey border */\n",
       "                  font-size: 14px; /* Increase font-size */\n",
       "                }\n",
       "\n",
       "                #myTable th, #myTable td {\n",
       "                  text-align: left; /* Left-align text */\n",
       "                  padding: 10px; /* Add padding */\n",
       "                }\n",
       "\n",
       "                #myTable tr {\n",
       "                  /* Add a bottom border to all table rows */\n",
       "                  border-bottom: 1px solid #ddd;\n",
       "                }\n",
       "\n",
       "                #myTable tr.header, #myTable tr:hover {\n",
       "                  /* Add a grey background color to the table header and on hover */\n",
       "                  background-color: #777;\n",
       "                }\n",
       "                </style>\n",
       "\n",
       "                <table id=\"myTable\" style=\"width:1000px\">\n",
       "                  <tr class=\"header\">\n",
       "                    <th style=\"width:30px\">Idx</th>\n",
       "                    <th style=\"width:20%;\">Name</th>\n",
       "                    <th style=\"width:35%;\">Description</th>\n",
       "                    <th style=\"width:20%;\">Assets</th>\n",
       "                    <th style=\"width:300px;\">Id</th>\n",
       "                  </tr>\n",
       "                \n",
       "\n",
       "          <tr>\n",
       "            <td>[0]</td>\n",
       "            <td>Twitter Dataset</td>\n",
       "            <td>Synthetic Twitter Dataset</td>\n",
       "            <td>[\"tweet_id\"] -> <class 'syft.core.tensor.tensor.Tensor'><br /><br />[\"buckets\"] -> <class 'syft.core.tensor.tensor.Tensor'><br /><br />[\"user_id\"] -> <class 'syft.core.tensor.tensor.Tensor'><br /><br /></td>\n",
       "            <td>2894e563-d730-4e71-bbad-17f4011f6e1d</td>\n",
       "          </tr>\n",
       "        </table>\n",
       "\n",
       "        <script>\n",
       "        function myFunction() {\n",
       "          // Declare variables\n",
       "          var input, filter, table, tr, td, i, txtValue;\n",
       "          input = document.getElementById(\"myInput\");\n",
       "          filter = input.value.toUpperCase();\n",
       "          table = document.getElementById(\"myTable\");\n",
       "          tr = table.getElementsByTagName(\"tr\");\n",
       "\n",
       "          // Loop through all table rows, and hide those who don't match the search query\n",
       "          for (i = 0; i < tr.length; i++) {\n",
       "            name_td = tr[i].getElementsByTagName(\"td\")[1];\n",
       "            desc_td = tr[i].getElementsByTagName(\"td\")[2];\n",
       "            asset_td = tr[i].getElementsByTagName(\"td\")[3];\n",
       "            id_td = tr[i].getElementsByTagName(\"td\")[4];\n",
       "            if (name_td || desc_td || asset_td || id_td) {\n",
       "              name_txtValue = name_td.textContent || name_td.innerText;\n",
       "              desc_txtValue = desc_td.textContent || name_td.innerText;\n",
       "              asset_txtValue = asset_td.textContent || name_td.innerText;\n",
       "              id_txtValue = id_td.textContent || name_td.innerText;\n",
       "              name_bool = name_txtValue.toUpperCase().indexOf(filter) > -1;\n",
       "              desc_bool = desc_txtValue.toUpperCase().indexOf(filter) > -1;\n",
       "              asset_bool = asset_txtValue.toUpperCase().indexOf(filter) > -1;\n",
       "              id_bool = id_txtValue.toUpperCase().indexOf(filter) > -1;\n",
       "              if (name_bool || desc_bool || asset_bool || id_bool) {\n",
       "                tr[i].style.display = \"\";\n",
       "              } else {\n",
       "                tr[i].style.display = \"none\";\n",
       "              }\n",
       "            }\n",
       "          }\n",
       "        }\n",
       "        </script>"
      ],
      "text/plain": [
       "<syft.core.node.common.client_manager.dataset_api.DatasetRequestAPI at 0x7fa46715ca30>"
      ]
     },
     "execution_count": 18,
     "metadata": {},
     "output_type": "execute_result"
    }
   ],
   "source": [
    "ds_node.datasets"
   ]
  },
  {
   "cell_type": "code",
   "execution_count": 21,
   "id": "2172da73-d244-4309-8278-3633de8f4212",
   "metadata": {},
   "outputs": [],
   "source": [
    "tweet_ids = ds_node.datasets[0][\"tweet_id\"]\n",
    "buckets = ds_node.datasets[0][\"buckets\"]\n",
    "user_id = ds_node.datasets[0][\"user_id\"]"
   ]
  },
  {
   "cell_type": "code",
   "execution_count": 22,
   "id": "3011a76f-29f9-4d0e-bca5-49e877885fb6",
   "metadata": {},
   "outputs": [],
   "source": [
    "chron_impression_idx = buckets == 0"
   ]
  },
  {
   "cell_type": "code",
   "execution_count": 23,
   "id": "c144b4d7-6ddc-431e-8484-ac715d30bb01",
   "metadata": {},
   "outputs": [
    {
     "data": {
      "text/plain": [
       "True"
      ]
     },
     "execution_count": 23,
     "metadata": {},
     "output_type": "execute_result"
    }
   ],
   "source": [
    "chron_impression_idx.exists"
   ]
  },
  {
   "cell_type": "code",
   "execution_count": 24,
   "id": "bd9c30fa-4698-4f56-92ae-2f842e084c6e",
   "metadata": {},
   "outputs": [],
   "source": [
    "chron_impressions = chron_impression_idx.sum()"
   ]
  },
  {
   "cell_type": "code",
   "execution_count": 25,
   "id": "40ebd85b-94e7-495a-bffc-d8386e43108a",
   "metadata": {},
   "outputs": [
    {
     "data": {
      "text/plain": [
       "True"
      ]
     },
     "execution_count": 25,
     "metadata": {},
     "output_type": "execute_result"
    }
   ],
   "source": [
    "chron_impressions.exists"
   ]
  },
  {
   "cell_type": "code",
   "execution_count": 26,
   "id": "d7ee7ee8-0e50-4f7d-8330-1b2bf270abe7",
   "metadata": {},
   "outputs": [],
   "source": [
    "algo_impression_idx = buckets == 1"
   ]
  },
  {
   "cell_type": "code",
   "execution_count": 27,
   "id": "4b2525f1-7716-4497-a629-b195feffdf96",
   "metadata": {},
   "outputs": [
    {
     "data": {
      "text/plain": [
       "True"
      ]
     },
     "execution_count": 27,
     "metadata": {},
     "output_type": "execute_result"
    }
   ],
   "source": [
    "algo_impression_idx.exists"
   ]
  },
  {
   "cell_type": "code",
   "execution_count": 28,
   "id": "6b178180-324c-49be-8bc6-f7f02164a41c",
   "metadata": {},
   "outputs": [],
   "source": [
    "algo_impressions = algo_impression_idx.sum()"
   ]
  },
  {
   "cell_type": "code",
   "execution_count": 29,
   "id": "7856a214-3296-4497-9e2b-468a34acf79e",
   "metadata": {},
   "outputs": [
    {
     "data": {
      "text/plain": [
       "True"
      ]
     },
     "execution_count": 29,
     "metadata": {},
     "output_type": "execute_result"
    }
   ],
   "source": [
    "algo_impressions.exists"
   ]
  },
  {
   "cell_type": "code",
   "execution_count": 30,
   "id": "7953ffdf-7407-4734-953e-e08cc535d578",
   "metadata": {},
   "outputs": [
    {
     "name": "stderr",
     "output_type": "stream",
     "text": [
      "/home/e/PycharmProjects/PySyft/packages/syft/src/syft/core/tensor/lazy_repeat_array.py:216: RuntimeWarning: invalid value encountered in true_divide\n",
      "  return self.__class__(data=self.data / other.data, shape=self.shape)\n"
     ]
    }
   ],
   "source": [
    "amp_ratio = algo_impressions/chron_impressions"
   ]
  },
  {
   "cell_type": "code",
   "execution_count": 37,
   "id": "c2483ae3-a28f-4af2-910a-2d3de3ae5142",
   "metadata": {},
   "outputs": [
    {
     "data": {
      "text/plain": [
       "<AnyPointer -> adp:fe94900fee2c49d2b4d9d8661c9761af>"
      ]
     },
     "execution_count": 37,
     "metadata": {},
     "output_type": "execute_result"
    }
   ],
   "source": [
    "amp_ratio.publish(sigma=1)"
   ]
  },
  {
   "cell_type": "code",
   "execution_count": 33,
   "id": "8cdf815b-2060-4d65-9819-083f38126e7a",
   "metadata": {},
   "outputs": [
    {
     "data": {
      "text/plain": [
       "1000.0"
      ]
     },
     "execution_count": 33,
     "metadata": {},
     "output_type": "execute_result"
    }
   ],
   "source": [
    "ds_node.privacy_budget"
   ]
  },
  {
   "cell_type": "code",
   "execution_count": 34,
   "id": "a8e9f2f3-7f64-447c-9098-390a970358c3",
   "metadata": {},
   "outputs": [
    {
     "data": {
      "text/plain": [
       "<AnyPointer -> adp:9b3ef79d371641cba0bfbb8cfc60f818>"
      ]
     },
     "execution_count": 34,
     "metadata": {},
     "output_type": "execute_result"
    }
   ],
   "source": [
    "x"
   ]
  },
  {
   "cell_type": "code",
   "execution_count": 35,
   "id": "48c7acb9-6519-4db0-80fe-8f5f2f1670a9",
   "metadata": {},
   "outputs": [],
   "source": [
    "ratio = x.get()"
   ]
  },
  {
   "cell_type": "code",
   "execution_count": 36,
   "id": "dd328911-35b5-4580-8b92-7399f54e2f82",
   "metadata": {},
   "outputs": [
    {
     "data": {
      "text/plain": [
       "1.1602989161731234"
      ]
     },
     "execution_count": 36,
     "metadata": {},
     "output_type": "execute_result"
    }
   ],
   "source": [
    "ratio"
   ]
  }
 ],
 "metadata": {
  "kernelspec": {
   "display_name": "Python 3 (ipykernel)",
   "language": "python",
   "name": "python3"
  },
  "language_info": {
   "codemirror_mode": {
    "name": "ipython",
    "version": 3
   },
   "file_extension": ".py",
   "mimetype": "text/x-python",
   "name": "python",
   "nbconvert_exporter": "python",
   "pygments_lexer": "ipython3",
   "version": "3.9.7"
  }
 },
 "nbformat": 4,
 "nbformat_minor": 5
}
