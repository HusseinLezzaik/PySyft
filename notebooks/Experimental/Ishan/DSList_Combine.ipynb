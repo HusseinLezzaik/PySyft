{
 "cells": [
  {
   "cell_type": "code",
   "execution_count": 1,
   "id": "43abf2d1-151d-4cd6-b26c-5bf11e4e16d1",
   "metadata": {},
   "outputs": [],
   "source": [
    "import syft as sy\n",
    "import numpy as np"
   ]
  },
  {
   "cell_type": "code",
   "execution_count": 3,
   "id": "44db52cf-3a01-46d4-a464-895a28637e5b",
   "metadata": {},
   "outputs": [],
   "source": [
    "data = np.random.rand(5,5)"
   ]
  },
  {
   "cell_type": "code",
   "execution_count": 4,
   "id": "cddded39-4d8d-450e-a5cd-a6b86ca96370",
   "metadata": {},
   "outputs": [
    {
     "data": {
      "text/plain": [
       "array([[0.00344841, 0.28461394, 0.40674502, 0.65192505, 0.4366143 ],\n",
       "       [0.77786636, 0.16790497, 0.50863802, 0.0247833 , 0.71514441],\n",
       "       [0.56320539, 0.39671595, 0.777376  , 0.17333718, 0.57227747],\n",
       "       [0.97074707, 0.70858966, 0.97408037, 0.7692087 , 0.93204796],\n",
       "       [0.21275171, 0.65408602, 0.8994702 , 0.63878413, 0.63063116]])"
      ]
     },
     "execution_count": 4,
     "metadata": {},
     "output_type": "execute_result"
    }
   ],
   "source": [
    "data"
   ]
  },
  {
   "cell_type": "code",
   "execution_count": 9,
   "id": "e7409287-fd03-4114-82d6-d2db1236c84e",
   "metadata": {},
   "outputs": [],
   "source": [
    "tensor = sy.phi_tensor.PhiTensor(child=data, data_subjects=\"Ishan\", min_vals=0, max_vals=1)"
   ]
  },
  {
   "cell_type": "code",
   "execution_count": 10,
   "id": "e2122a7b-2692-4d0d-93d8-87276fa9a56c",
   "metadata": {},
   "outputs": [
    {
     "data": {
      "text/plain": [
       "PhiTensor(child=FixedPrecisionTensor(child=[[  225 18652 26656 42724 28613]\n",
       " [50978 11003 33334  1624 46867]\n",
       " [36910 25999 50946 11359 37504]\n",
       " [63618 46438 63837 50410 61082]\n",
       " [13942 42866 58947 41863 41329]]), min_vals=<lazyrepeatarray data: 0 -> shape: (5, 5)>, max_vals=<lazyrepeatarray data: 1 -> shape: (5, 5)>)"
      ]
     },
     "execution_count": 10,
     "metadata": {},
     "output_type": "execute_result"
    }
   ],
   "source": [
    "tensor"
   ]
  },
  {
   "cell_type": "code",
   "execution_count": 11,
   "id": "75319723-4506-4a99-8190-415a198dc022",
   "metadata": {},
   "outputs": [
    {
     "data": {
      "text/plain": [
       "<syft.core.adp.data_subject_list.DataSubjectList at 0x7f5908dadd60>"
      ]
     },
     "execution_count": 11,
     "metadata": {},
     "output_type": "execute_result"
    }
   ],
   "source": [
    "tensor.data_subjects"
   ]
  },
  {
   "cell_type": "code",
   "execution_count": 17,
   "id": "90a36c69-86eb-4aba-a3b7-c0dad6c5a267",
   "metadata": {},
   "outputs": [
    {
     "data": {
      "text/plain": [
       "array(0)"
      ]
     },
     "execution_count": 17,
     "metadata": {},
     "output_type": "execute_result"
    }
   ],
   "source": [
    "tensor.data_subjects.data_subjects_indexed"
   ]
  },
  {
   "cell_type": "code",
   "execution_count": 19,
   "id": "fdbba9a4-d873-45df-9c0a-7f5fef8fdd66",
   "metadata": {},
   "outputs": [
    {
     "data": {
      "text/plain": [
       "array(['Ishan'], dtype='<U5')"
      ]
     },
     "execution_count": 19,
     "metadata": {},
     "output_type": "execute_result"
    }
   ],
   "source": [
    "tensor.data_subjects.one_hot_lookup"
   ]
  },
  {
   "cell_type": "code",
   "execution_count": 12,
   "id": "bba5cd80-cea6-46c4-8c48-34b553c81e7e",
   "metadata": {},
   "outputs": [],
   "source": [
    "tensor2 = sy.phi_tensor.PhiTensor(child=data, data_subjects=\"Osam\", min_vals=0, max_vals=1)"
   ]
  },
  {
   "cell_type": "code",
   "execution_count": 13,
   "id": "881e7fb7-82e1-4aaf-895f-5774793c8176",
   "metadata": {},
   "outputs": [
    {
     "data": {
      "text/plain": [
       "PhiTensor(child=FixedPrecisionTensor(child=[[  225 18652 26656 42724 28613]\n",
       " [50978 11003 33334  1624 46867]\n",
       " [36910 25999 50946 11359 37504]\n",
       " [63618 46438 63837 50410 61082]\n",
       " [13942 42866 58947 41863 41329]]), min_vals=<lazyrepeatarray data: 0 -> shape: (5, 5)>, max_vals=<lazyrepeatarray data: 1 -> shape: (5, 5)>)"
      ]
     },
     "execution_count": 13,
     "metadata": {},
     "output_type": "execute_result"
    }
   ],
   "source": [
    "tensor2"
   ]
  },
  {
   "cell_type": "code",
   "execution_count": 18,
   "id": "31c8a65c-6806-4849-9a75-2991c9070842",
   "metadata": {},
   "outputs": [
    {
     "data": {
      "text/plain": [
       "array(0)"
      ]
     },
     "execution_count": 18,
     "metadata": {},
     "output_type": "execute_result"
    }
   ],
   "source": [
    "tensor2.data_subjects.data_subjects_indexed"
   ]
  },
  {
   "cell_type": "code",
   "execution_count": 21,
   "id": "cb791743-fd0f-4095-9e3d-fc4622a81fbd",
   "metadata": {},
   "outputs": [
    {
     "data": {
      "text/plain": [
       "array(['Osam'], dtype='<U4')"
      ]
     },
     "execution_count": 21,
     "metadata": {},
     "output_type": "execute_result"
    }
   ],
   "source": [
    "tensor2.data_subjects.one_hot_lookup"
   ]
  },
  {
   "cell_type": "code",
   "execution_count": 14,
   "id": "cba27d52-fa60-4027-a677-38a47b12af33",
   "metadata": {},
   "outputs": [],
   "source": [
    "result = tensor + tensor2"
   ]
  },
  {
   "cell_type": "code",
   "execution_count": 15,
   "id": "1c426808-5a50-443b-bb81-61ea978b2da7",
   "metadata": {},
   "outputs": [
    {
     "data": {
      "text/plain": [
       "syft.core.tensor.autodp.gamma_tensor.GammaTensor"
      ]
     },
     "execution_count": 15,
     "metadata": {},
     "output_type": "execute_result"
    }
   ],
   "source": [
    "type(result)"
   ]
  },
  {
   "cell_type": "code",
   "execution_count": 16,
   "id": "b58fbeac-3704-435b-a690-520e439abd1b",
   "metadata": {},
   "outputs": [],
   "source": [
    "from syft.core.tensor.autodp.gamma_tensor import GammaTensor\n",
    "assert isinstance(result, GammaTensor)"
   ]
  },
  {
   "cell_type": "code",
   "execution_count": 22,
   "id": "c5f191c6-921a-47a5-970f-62ead7625d70",
   "metadata": {},
   "outputs": [
    {
     "data": {
      "text/plain": [
       "array(0)"
      ]
     },
     "execution_count": 22,
     "metadata": {},
     "output_type": "execute_result"
    }
   ],
   "source": [
    "result.data_subjects.data_subjects_indexed"
   ]
  },
  {
   "cell_type": "code",
   "execution_count": 23,
   "id": "066ba0d0-02c7-4a94-9379-a223ba818404",
   "metadata": {},
   "outputs": [
    {
     "data": {
      "text/plain": [
       "array(['Ishan'], dtype='<U5')"
      ]
     },
     "execution_count": 23,
     "metadata": {},
     "output_type": "execute_result"
    }
   ],
   "source": [
    "result.data_subjects.one_hot_lookup"
   ]
  },
  {
   "cell_type": "code",
   "execution_count": 33,
   "id": "dd1d1e5a-e1c5-4e3b-b938-c83d5c79a138",
   "metadata": {},
   "outputs": [
    {
     "ename": "NameError",
     "evalue": "name 'DataSubjectList' is not defined",
     "output_type": "error",
     "traceback": [
      "\u001b[0;31m---------------------------------------------------------------------------\u001b[0m",
      "\u001b[0;31mNameError\u001b[0m                                 Traceback (most recent call last)",
      "\u001b[0;32m/tmp/ipykernel_13049/1331299058.py\u001b[0m in \u001b[0;36m<module>\u001b[0;34m\u001b[0m\n\u001b[1;32m      4\u001b[0m \u001b[0;34m\u001b[0m\u001b[0m\n\u001b[1;32m      5\u001b[0m \u001b[0;34m\u001b[0m\u001b[0m\n\u001b[0;32m----> 6\u001b[0;31m \u001b[0;32mclass\u001b[0m \u001b[0mDataSubjectList\u001b[0m\u001b[0;34m:\u001b[0m\u001b[0;34m\u001b[0m\u001b[0;34m\u001b[0m\u001b[0m\n\u001b[0m\u001b[1;32m      7\u001b[0m     \u001b[0;31m# __attr_allowlist__ = (\"one_hot_lookup\", \"data_subjects_indexed\")\u001b[0m\u001b[0;34m\u001b[0m\u001b[0;34m\u001b[0m\u001b[0m\n\u001b[1;32m      8\u001b[0m     \u001b[0;31m# __slots__ = (\"one_hot_lookup\", \"data_subjects_indexed\")\u001b[0m\u001b[0;34m\u001b[0m\u001b[0;34m\u001b[0m\u001b[0m\n",
      "\u001b[0;32m/tmp/ipykernel_13049/1331299058.py\u001b[0m in \u001b[0;36mDataSubjectList\u001b[0;34m()\u001b[0m\n\u001b[1;32m     74\u001b[0m         \u001b[0;32mreturn\u001b[0m \u001b[0mself\u001b[0m \u001b[0;34m==\u001b[0m \u001b[0mother\u001b[0m\u001b[0;34m\u001b[0m\u001b[0;34m\u001b[0m\u001b[0m\n\u001b[1;32m     75\u001b[0m \u001b[0;34m\u001b[0m\u001b[0m\n\u001b[0;32m---> 76\u001b[0;31m     \u001b[0;32mdef\u001b[0m \u001b[0msum\u001b[0m\u001b[0;34m(\u001b[0m\u001b[0mself\u001b[0m\u001b[0;34m)\u001b[0m \u001b[0;34m->\u001b[0m \u001b[0mDataSubjectList\u001b[0m\u001b[0;34m:\u001b[0m\u001b[0;34m\u001b[0m\u001b[0;34m\u001b[0m\u001b[0m\n\u001b[0m\u001b[1;32m     77\u001b[0m         \u001b[0;31m# If sum is used without any arguments then the result is always a singular value\u001b[0m\u001b[0;34m\u001b[0m\u001b[0;34m\u001b[0m\u001b[0m\n\u001b[1;32m     78\u001b[0m         return DataSubjectList(\n",
      "\u001b[0;31mNameError\u001b[0m: name 'DataSubjectList' is not defined"
     ]
    }
   ],
   "source": []
  },
  {
   "cell_type": "code",
   "execution_count": 57,
   "id": "e4c624bc-09d4-41ce-9b89-d0e8ee031b0a",
   "metadata": {},
   "outputs": [],
   "source": [
    "B = np.array([\"A\", \"Ishan\", \"B\"])"
   ]
  },
  {
   "cell_type": "code",
   "execution_count": 52,
   "id": "9c7f2172-650d-47db-b695-31be4206a0e6",
   "metadata": {},
   "outputs": [
    {
     "name": "stdout",
     "output_type": "stream",
     "text": [
      "4\n"
     ]
    },
    {
     "data": {
      "text/plain": [
       "array(['Ishan', 'Osam', 'Ruchi', 'Rasswanth', 'A', 'B'], dtype='<U9')"
      ]
     },
     "execution_count": 52,
     "metadata": {},
     "output_type": "execute_result"
    }
   ],
   "source": [
    "print(len(A))\n",
    "\n",
    "np.concatenate((A, B))"
   ]
  },
  {
   "cell_type": "code",
   "execution_count": 54,
   "id": "b406a74e-0a42-4650-a292-913298384d3f",
   "metadata": {},
   "outputs": [
    {
     "data": {
      "text/plain": [
       "False"
      ]
     },
     "execution_count": 54,
     "metadata": {},
     "output_type": "execute_result"
    }
   ],
   "source": [
    "B in A"
   ]
  },
  {
   "cell_type": "code",
   "execution_count": 61,
   "id": "137a1e9d-c764-4640-aac4-999dedfd7836",
   "metadata": {},
   "outputs": [
    {
     "data": {
      "text/plain": [
       "array(['Ishan', 'Osam', 'Ruchi', 'Rasswanth'], dtype='<U9')"
      ]
     },
     "execution_count": 61,
     "metadata": {},
     "output_type": "execute_result"
    }
   ],
   "source": [
    "#one_hot_lookup\n",
    "A = np.array([\"Ishan\", \"Osam\", \"Ruchi\", \"Rasswanth\"])\n",
    "A"
   ]
  },
  {
   "cell_type": "code",
   "execution_count": 35,
   "id": "9c172372-b154-4062-be4c-3d0ce3df3c4d",
   "metadata": {},
   "outputs": [
    {
     "data": {
      "text/plain": [
       "array([[3, 0, 0, 1, 3, 2, 2, 1, 0, 3],\n",
       "       [2, 2, 0, 1, 0, 1, 1, 1, 2, 1],\n",
       "       [1, 1, 2, 1, 2, 2, 2, 0, 1, 2],\n",
       "       [1, 1, 1, 1, 1, 3, 3, 2, 3, 0],\n",
       "       [1, 3, 2, 1, 1, 0, 3, 1, 0, 2],\n",
       "       [0, 1, 3, 3, 3, 1, 0, 3, 2, 1],\n",
       "       [0, 3, 2, 2, 1, 2, 1, 1, 0, 2],\n",
       "       [3, 0, 1, 0, 1, 2, 2, 3, 1, 2],\n",
       "       [0, 3, 1, 2, 1, 3, 3, 3, 1, 1],\n",
       "       [1, 0, 2, 2, 1, 3, 3, 3, 2, 3]])"
      ]
     },
     "execution_count": 35,
     "metadata": {},
     "output_type": "execute_result"
    }
   ],
   "source": [
    "#data_subjects_indexed\n",
    "np.random.choice([0,1,2,3], size=(10,10))"
   ]
  },
  {
   "cell_type": "code",
   "execution_count": 37,
   "id": "c26e4fb4-7f88-424f-bacc-7a4d0f13de13",
   "metadata": {},
   "outputs": [],
   "source": [
    "a = np.ones(5)"
   ]
  },
  {
   "cell_type": "code",
   "execution_count": 38,
   "id": "88506a10-ff1e-4f0c-ac15-e17846199170",
   "metadata": {},
   "outputs": [
    {
     "data": {
      "text/plain": [
       "array([1., 1., 1., 1., 1.])"
      ]
     },
     "execution_count": 38,
     "metadata": {},
     "output_type": "execute_result"
    }
   ],
   "source": [
    "a"
   ]
  },
  {
   "cell_type": "code",
   "execution_count": 41,
   "id": "e2fbd1ec-a286-4591-b948-530a99f94d32",
   "metadata": {},
   "outputs": [],
   "source": [
    "b = np.ones(10) * 2"
   ]
  },
  {
   "cell_type": "code",
   "execution_count": 42,
   "id": "33c58ae6-34ad-4113-878d-0bbfcc5d665b",
   "metadata": {},
   "outputs": [
    {
     "data": {
      "text/plain": [
       "array([2., 2., 2., 2., 2., 2., 2., 2., 2., 2.])"
      ]
     },
     "execution_count": 42,
     "metadata": {},
     "output_type": "execute_result"
    }
   ],
   "source": [
    "b"
   ]
  },
  {
   "cell_type": "code",
   "execution_count": 44,
   "id": "4084cab6-32bd-4022-8a2a-bc6955c4c092",
   "metadata": {},
   "outputs": [
    {
     "data": {
      "text/plain": [
       "array([1., 1., 1., 1., 1., 2., 2., 2., 2., 2., 2., 2., 2., 2., 2.])"
      ]
     },
     "execution_count": 44,
     "metadata": {},
     "output_type": "execute_result"
    }
   ],
   "source": [
    "np.concatenate((a, b))"
   ]
  },
  {
   "cell_type": "code",
   "execution_count": 45,
   "id": "74d87022-c66b-4f07-b550-29635ec7da62",
   "metadata": {},
   "outputs": [],
   "source": [
    "c = a * 2"
   ]
  },
  {
   "cell_type": "code",
   "execution_count": 46,
   "id": "0762bcd3-c77e-4b08-860f-09fa9f4fa349",
   "metadata": {},
   "outputs": [
    {
     "data": {
      "text/plain": [
       "array([2., 2., 2., 2., 2.])"
      ]
     },
     "execution_count": 46,
     "metadata": {},
     "output_type": "execute_result"
    }
   ],
   "source": [
    "c"
   ]
  },
  {
   "cell_type": "code",
   "execution_count": 48,
   "id": "64f95bea-7890-4c01-865c-b3b1a89c4c33",
   "metadata": {},
   "outputs": [
    {
     "data": {
      "text/plain": [
       "array([[1., 1., 1., 1., 1.],\n",
       "       [2., 2., 2., 2., 2.]])"
      ]
     },
     "execution_count": 48,
     "metadata": {},
     "output_type": "execute_result"
    }
   ],
   "source": [
    "res = np.stack((a, c))\n",
    "res"
   ]
  },
  {
   "cell_type": "code",
   "execution_count": 49,
   "id": "ccf88d8f-f4ac-4834-bb75-bad004061b6d",
   "metadata": {},
   "outputs": [
    {
     "data": {
      "text/plain": [
       "(2, 5)"
      ]
     },
     "execution_count": 49,
     "metadata": {},
     "output_type": "execute_result"
    }
   ],
   "source": [
    "res.shape"
   ]
  },
  {
   "cell_type": "code",
   "execution_count": 55,
   "id": "811b994b-9f51-48ea-a33a-f435a8c31ebe",
   "metadata": {},
   "outputs": [
    {
     "data": {
      "text/plain": [
       "array(['Ishan', 'Osam', 'Ruchi', 'Rasswanth'], dtype='<U9')"
      ]
     },
     "execution_count": 55,
     "metadata": {},
     "output_type": "execute_result"
    }
   ],
   "source": [
    "A"
   ]
  },
  {
   "cell_type": "code",
   "execution_count": 58,
   "id": "f2fc7e6f-260e-4ba9-a084-eb707615f85e",
   "metadata": {},
   "outputs": [
    {
     "data": {
      "text/plain": [
       "array(['A', 'Ishan'], dtype='<U5')"
      ]
     },
     "execution_count": 58,
     "metadata": {},
     "output_type": "execute_result"
    }
   ],
   "source": [
    "B"
   ]
  },
  {
   "cell_type": "code",
   "execution_count": 60,
   "id": "9d0eb7ee-44b8-4937-9e4a-f97cdd9cb364",
   "metadata": {},
   "outputs": [
    {
     "name": "stdout",
     "output_type": "stream",
     "text": [
      "False\n",
      "True\n"
     ]
    }
   ],
   "source": [
    "for i in B:\n",
    "    print(i in A)"
   ]
  },
  {
   "cell_type": "code",
   "execution_count": 66,
   "id": "71ef6858-1327-4627-8443-ebfd2b6f3740",
   "metadata": {},
   "outputs": [
    {
     "data": {
      "text/plain": [
       "array(['A', 'Ishan', 'Osam', 'Rasswanth', 'Ruchi'], dtype='<U9')"
      ]
     },
     "execution_count": 66,
     "metadata": {},
     "output_type": "execute_result"
    }
   ],
   "source": [
    "combined = np.unique(np.concatenate((A, B)))\n",
    "combined"
   ]
  },
  {
   "cell_type": "code",
   "execution_count": 67,
   "id": "c6815701-f0b3-41a7-a46b-7bccefa5110f",
   "metadata": {},
   "outputs": [
    {
     "ename": "AttributeError",
     "evalue": "'numpy.ndarray' object has no attribute 'at'",
     "output_type": "error",
     "traceback": [
      "\u001b[0;31m---------------------------------------------------------------------------\u001b[0m",
      "\u001b[0;31mAttributeError\u001b[0m                            Traceback (most recent call last)",
      "\u001b[0;32m/tmp/ipykernel_13049/2040105859.py\u001b[0m in \u001b[0;36m<module>\u001b[0;34m\u001b[0m\n\u001b[0;32m----> 1\u001b[0;31m \u001b[0mcombined\u001b[0m\u001b[0;34m.\u001b[0m\u001b[0mat\u001b[0m\u001b[0;34m(\u001b[0m\u001b[0mB\u001b[0m\u001b[0;34m)\u001b[0m\u001b[0;34m\u001b[0m\u001b[0;34m\u001b[0m\u001b[0m\n\u001b[0m",
      "\u001b[0;31mAttributeError\u001b[0m: 'numpy.ndarray' object has no attribute 'at'"
     ]
    }
   ],
   "source": [
    "combined."
   ]
  },
  {
   "cell_type": "code",
   "execution_count": 68,
   "id": "07450f62-7216-4676-83ea-23793dfd897b",
   "metadata": {},
   "outputs": [],
   "source": [
    "arr = np.random.choice([0,1,2,3], size=(10,10))"
   ]
  },
  {
   "cell_type": "code",
   "execution_count": 69,
   "id": "772a7858-055d-4f4c-9e73-7a7185de8570",
   "metadata": {},
   "outputs": [
    {
     "data": {
      "text/plain": [
       "array([[3, 3, 2, 1, 0, 2, 1, 3, 0, 3],\n",
       "       [1, 0, 3, 3, 0, 1, 0, 0, 1, 0],\n",
       "       [0, 3, 0, 2, 0, 2, 1, 2, 2, 3],\n",
       "       [2, 3, 2, 3, 0, 2, 0, 3, 1, 3],\n",
       "       [0, 1, 2, 2, 0, 1, 1, 1, 3, 1],\n",
       "       [2, 3, 2, 2, 1, 1, 1, 3, 1, 1],\n",
       "       [0, 3, 3, 1, 1, 0, 3, 3, 1, 0],\n",
       "       [1, 0, 2, 3, 2, 3, 0, 1, 1, 2],\n",
       "       [1, 3, 2, 1, 3, 1, 0, 2, 2, 3],\n",
       "       [3, 1, 1, 3, 1, 1, 3, 3, 3, 0]])"
      ]
     },
     "execution_count": 69,
     "metadata": {},
     "output_type": "execute_result"
    }
   ],
   "source": [
    "arr"
   ]
  },
  {
   "cell_type": "code",
   "execution_count": 74,
   "id": "d142a9cc-853e-423d-af3a-fe9b3fbea4d0",
   "metadata": {},
   "outputs": [
    {
     "data": {
      "text/plain": [
       "array([[66, 66,  2,  1,  0,  2,  1, 66,  0, 66],\n",
       "       [ 1,  0, 66, 66,  0,  1,  0,  0,  1,  0],\n",
       "       [ 0, 66,  0,  2,  0,  2,  1,  2,  2, 66],\n",
       "       [ 2, 66,  2, 66,  0,  2,  0, 66,  1, 66],\n",
       "       [ 0,  1,  2,  2,  0,  1,  1,  1, 66,  1],\n",
       "       [ 2, 66,  2,  2,  1,  1,  1, 66,  1,  1],\n",
       "       [ 0, 66, 66,  1,  1,  0, 66, 66,  1,  0],\n",
       "       [ 1,  0,  2, 66,  2, 66,  0,  1,  1,  2],\n",
       "       [ 1, 66,  2,  1, 66,  1,  0,  2,  2, 66],\n",
       "       [66,  1,  1, 66,  1,  1, 66, 66, 66,  0]])"
      ]
     },
     "execution_count": 74,
     "metadata": {},
     "output_type": "execute_result"
    }
   ],
   "source": [
    "np.where(arr == 3, 66, arr)"
   ]
  },
  {
   "cell_type": "code",
   "execution_count": 75,
   "id": "566847a4-c6dc-4f95-b692-ce0240a34d2d",
   "metadata": {},
   "outputs": [],
   "source": [
    "arr[arr == 3] = 67"
   ]
  },
  {
   "cell_type": "code",
   "execution_count": 76,
   "id": "0eb8adb2-db31-4f77-8e6e-2ca1ae41e06c",
   "metadata": {},
   "outputs": [
    {
     "data": {
      "text/plain": [
       "array([[67, 67,  2,  1,  0,  2,  1, 67,  0, 67],\n",
       "       [ 1,  0, 67, 67,  0,  1,  0,  0,  1,  0],\n",
       "       [ 0, 67,  0,  2,  0,  2,  1,  2,  2, 67],\n",
       "       [ 2, 67,  2, 67,  0,  2,  0, 67,  1, 67],\n",
       "       [ 0,  1,  2,  2,  0,  1,  1,  1, 67,  1],\n",
       "       [ 2, 67,  2,  2,  1,  1,  1, 67,  1,  1],\n",
       "       [ 0, 67, 67,  1,  1,  0, 67, 67,  1,  0],\n",
       "       [ 1,  0,  2, 67,  2, 67,  0,  1,  1,  2],\n",
       "       [ 1, 67,  2,  1, 67,  1,  0,  2,  2, 67],\n",
       "       [67,  1,  1, 67,  1,  1, 67, 67, 67,  0]])"
      ]
     },
     "execution_count": 76,
     "metadata": {},
     "output_type": "execute_result"
    }
   ],
   "source": [
    "arr"
   ]
  },
  {
   "cell_type": "code",
   "execution_count": 91,
   "id": "f171c369-e16f-40f7-bf98-b98a4291ec44",
   "metadata": {},
   "outputs": [
    {
     "data": {
      "text/plain": [
       "array([0, 2, 1])"
      ]
     },
     "execution_count": 91,
     "metadata": {},
     "output_type": "execute_result"
    }
   ],
   "source": [
    "arr.take([4,5,6])"
   ]
  },
  {
   "cell_type": "code",
   "execution_count": 102,
   "id": "4ccb8b75-3d52-479f-8d08-9874e259be09",
   "metadata": {},
   "outputs": [
    {
     "data": {
      "text/plain": [
       "array(['A', 'Ishan'], dtype='<U5')"
      ]
     },
     "execution_count": 102,
     "metadata": {},
     "output_type": "execute_result"
    }
   ],
   "source": [
    "B"
   ]
  },
  {
   "cell_type": "code",
   "execution_count": 103,
   "id": "772a34b4-3592-49b7-bb08-30beb58d13eb",
   "metadata": {},
   "outputs": [
    {
     "data": {
      "text/plain": [
       "array(['Ishan', 'Osam', 'Ruchi', 'Rasswanth'], dtype='<U9')"
      ]
     },
     "execution_count": 103,
     "metadata": {},
     "output_type": "execute_result"
    }
   ],
   "source": [
    "A"
   ]
  },
  {
   "cell_type": "code",
   "execution_count": 110,
   "id": "e247e9ee-a253-4b4a-979c-253acab579e5",
   "metadata": {},
   "outputs": [
    {
     "data": {
      "text/plain": [
       "array([55, 56, 57])"
      ]
     },
     "execution_count": 110,
     "metadata": {},
     "output_type": "execute_result"
    }
   ],
   "source": [
    "search"
   ]
  },
  {
   "cell_type": "code",
   "execution_count": 107,
   "id": "f63ac836-fe1b-41ac-b30a-74396957710f",
   "metadata": {},
   "outputs": [
    {
     "data": {
      "text/plain": [
       "array([ 0,  1,  2,  3,  4,  5,  6,  7,  8,  9, 10, 11, 12, 13, 14, 15, 16,\n",
       "       17, 18, 19, 20, 21, 22, 23, 24, 25, 26, 27, 28, 29, 30, 31, 32, 33,\n",
       "       34, 35, 36, 37, 38, 39, 40, 41, 42, 43, 44, 45, 46, 47, 48, 49, 50,\n",
       "       51, 52, 53, 54, 55, 56, 57, 58, 59, 60, 61, 62, 63, 64, 65, 66, 67,\n",
       "       68, 69, 70, 71, 72, 73, 74, 75, 76, 77, 78, 79, 80, 81, 82, 83, 84,\n",
       "       85, 86, 87, 88, 89, 90, 91, 92, 93, 94, 95, 96, 97, 98, 99])"
      ]
     },
     "execution_count": 107,
     "metadata": {},
     "output_type": "execute_result"
    }
   ],
   "source": [
    "np.arange(100)"
   ]
  },
  {
   "cell_type": "markdown",
   "id": "d52b7ec0-52e0-4652-99a8-aa8e2f0924b1",
   "metadata": {},
   "source": [
    "dsl1 = [A, B, C, D, E]\n",
    "dsl2 = [F,G,A,B,H]\n",
    "\n",
    "result = [A, B, C, D, E, F, G, H]\n",
    "unchanged = C, D\n",
    "overlapping remap = A, B\n",
    "adjusted = F, G, H\n",
    "\n",
    "F goes from 0 to 0 + len(dsl1)\n",
    "G goes from 1 to 1 + len(dsl1)\n",
    "H goes from 4 to 4 + len(dsl1) - # of overlapping DS before H\n",
    "\n",
    "\n",
    "What if we did \n",
    "Final result = np.concatenate((dsl1, dsl2.take(unique_indices))) to get [A, B, C, D, E, F, G, H]\n",
    "then we found ideal indices FOR THE UNIQUE VALUES = np.arange(len(dsl1), len(final result))\n",
    "\n",
    "\n",
    "Then we just remapped the unique values to the ideal indices \n"
   ]
  },
  {
   "cell_type": "code",
   "execution_count": 157,
   "id": "8e98167d-f3d4-4226-b308-04eaf5b4cd47",
   "metadata": {},
   "outputs": [],
   "source": [
    "from syft.core.adp.data_subject_list import DataSubjectList"
   ]
  },
  {
   "cell_type": "code",
   "execution_count": 190,
   "id": "3b4ccd3e-7908-4687-b4d2-286e5a6144d8",
   "metadata": {},
   "outputs": [],
   "source": [
    "def combine_overlapping_dsl(dsl1: DataSubjectList, dsl2: DataSubjectList) -> DataSubjectList:\n",
    "    # dsl1_uniques = dsl1.num_uniques\n",
    "    # dsl2_uniques = dsl2.num_uniques\n",
    "    dsl1_uniques = len(dsl1.one_hot_lookup)\n",
    "    dsl2_uniques = len(dsl2.one_hot_lookup)\n",
    "    \n",
    "    if dsl1_uniques >= dsl2_uniques:\n",
    "        search_terms = dsl2.one_hot_lookup\n",
    "        bigger_list = dsl1.one_hot_lookup\n",
    "        array_to_change = dsl2.data_subjects_indexed\n",
    "        unchanged_array = dsl1.data_subjects_indexed\n",
    "    else:\n",
    "        search_terms = dsl1.one_hot_lookup\n",
    "        bigger_list = dsl2.one_hot_lookup\n",
    "        array_to_change = dsl1.data_subjects_indexed\n",
    "        unchanged_array = dsl2.data_subjects_indexed\n",
    "    \n",
    "    # Array of True/False depending on whether search term exists in bigger list\n",
    "    overlap = np.isin(search_terms, bigger_list)  #TODO: is there a way to use np.searchsorted w/o the index 0 problem? \n",
    "    overlapping_indices = (overlap==True).nonzero()[0] # The DS at these indices of search_terms exist in bigger_list\n",
    "    unique_indices = (overlap==False).nonzero()[0] # The DS at these indices are unique\n",
    "    \n",
    "    if len(overlapping_indices) == 0:  # If there's no overlap, our job is super simple\n",
    "        return DataSubjectList(\n",
    "            one_hot_lookup=np.concatenate((dsl1.one_hot_lookup, dsl2.one_hot_lookup)), \n",
    "            data_subjects_indexed=np.stack((dsl1.data_subjects_indexed, dsl2.data_subjects_indexed + dsl1_uniques))\n",
    "        )\n",
    "    \n",
    "    # Task 1- For the overlapping data subjects, we need to find the index already allotted to them.\n",
    "    target_overlap_indices = np.searchsorted(bigger_list, search_terms.take(overlapping_indices))\n",
    "    \n",
    "    # Now that we need to replace the previous indices with the new indices\n",
    "    output_data_subjects_indexed = np.zeros_like(dsl2.data_subjects_indexed)\n",
    "    for old_value, new_value in zip(overlapping_indices, target_overlap_indices):\n",
    "        output_data_subjects_indexed[array_to_change == old_value] = new_value\n",
    "    \n",
    "    # Task 2- do the same but for unique data subjects\n",
    "    unique_data_subjects = search_terms.take(unique_indices)\n",
    "    \n",
    "    output_one_hot_encoding = np.concatenate((bigger_list, unique_data_subjects))\n",
    "    target_unique_indices = np.arange(len(bigger_list), len(output_one_hot_encoding))\n",
    "    \n",
    "    for old_value, new_value in zip(unique_indices, target_unique_indices):\n",
    "        output_data_subjects_indexed[array_to_change == old_value] = new_value\n",
    "    \n",
    "    final_dsi = np.stack((unchanged_array, output_data_subjects_indexed))\n",
    "    \n",
    "    return DataSubjectList(one_hot_lookup=output_one_hot_encoding, data_subjects_indexed=final_dsi)"
   ]
  },
  {
   "cell_type": "code",
   "execution_count": 193,
   "id": "e6b21eb1-e9c5-43fe-9fe0-1ef30224c00f",
   "metadata": {},
   "outputs": [
    {
     "name": "stdout",
     "output_type": "stream",
     "text": [
      "['Ishan' 'Osam' 'Rasswanth']\n",
      "[[0 1 2 1 1]\n",
      " [0 2 1 1 2]\n",
      " [0 0 0 0 2]\n",
      " [0 2 0 2 0]\n",
      " [1 1 0 1 2]]\n",
      "['Ishan' 'Osam' 'Rasswanth']\n",
      "[[2 1 1 2 2]\n",
      " [2 2 2 2 0]\n",
      " [0 2 0 1 1]\n",
      " [1 0 1 0 2]\n",
      " [2 0 2 2 0]]\n",
      "['Ishan' 'Osam' 'Rasswanth']\n",
      "[[[0 1 2 1 1]\n",
      "  [0 2 1 1 2]\n",
      "  [0 0 0 0 2]\n",
      "  [0 2 0 2 0]\n",
      "  [1 1 0 1 2]]\n",
      "\n",
      " [[2 1 1 2 2]\n",
      "  [2 2 2 2 0]\n",
      "  [0 2 0 1 1]\n",
      "  [1 0 1 0 2]\n",
      "  [2 0 2 2 0]]]\n"
     ]
    }
   ],
   "source": [
    "a = DataSubjectList.from_objs(np.random.choice([\"Ishan\", \"Osam\", \"Rasswanth\"], size=(5,5)))\n",
    "print(a.one_hot_lookup)\n",
    "print(a.data_subjects_indexed)\n",
    "\n",
    "b = DataSubjectList.from_objs(np.random.choice([\"Ishan\", \"Osam\", \"Rasswanth\"], size=(5,5)))\n",
    "print(b.one_hot_lookup)\n",
    "print(b.data_subjects_indexed)\n",
    "\n",
    "res = combine_overlapping_dsl(a, b)\n",
    "print(res.one_hot_lookup)\n",
    "print(res.data_subjects_indexed)"
   ]
  },
  {
   "cell_type": "code",
   "execution_count": 153,
   "id": "16e33a37-3121-44c2-a85b-c68c09178734",
   "metadata": {},
   "outputs": [
    {
     "data": {
      "text/plain": [
       "array([[2, 2, 3, 3, 2, 4, 0, 3, 0, 0],\n",
       "       [3, 3, 1, 2, 2, 3, 4, 1, 2, 2],\n",
       "       [0, 3, 0, 1, 3, 0, 4, 2, 1, 1],\n",
       "       [1, 0, 1, 4, 0, 4, 1, 2, 2, 2],\n",
       "       [0, 1, 0, 2, 3, 1, 2, 3, 4, 1],\n",
       "       [3, 1, 4, 3, 1, 2, 2, 3, 2, 4],\n",
       "       [3, 2, 0, 0, 4, 3, 0, 2, 0, 4],\n",
       "       [0, 3, 2, 2, 0, 2, 4, 3, 3, 2],\n",
       "       [0, 4, 4, 0, 4, 0, 0, 4, 2, 1],\n",
       "       [1, 1, 1, 1, 2, 1, 1, 2, 4, 2]])"
      ]
     },
     "execution_count": 153,
     "metadata": {},
     "output_type": "execute_result"
    }
   ],
   "source": [
    "data = np.random.randint(0, 5, size=(10,10))\n",
    "data"
   ]
  },
  {
   "cell_type": "code",
   "execution_count": 189,
   "id": "8787843c-e8b0-4ff3-97a3-eabb6cb0ce21",
   "metadata": {},
   "outputs": [
    {
     "data": {
      "text/plain": [
       "False"
      ]
     },
     "execution_count": 189,
     "metadata": {},
     "output_type": "execute_result"
    }
   ],
   "source": [
    "[1,2,3,4,5] in [3,2,1]"
   ]
  },
  {
   "cell_type": "code",
   "execution_count": 155,
   "id": "f8a55606-3b9a-47e2-bfc4-6280508e131a",
   "metadata": {},
   "outputs": [
    {
     "name": "stdout",
     "output_type": "stream",
     "text": [
      "[[ 9  9 12 12  9 15  3 12  3  3]\n",
      " [12 12  6  9  9 12 15  6  9  9]\n",
      " [ 3 12  3  6 12  3 15  9  6  6]\n",
      " [ 6  3  6 15  3 15  6  9  9  9]\n",
      " [ 3  6  3  9 12  6  9 12 15  6]\n",
      " [12  6 15 12  6  9  9 12  9 15]\n",
      " [12  9  3  3 15 12  3  9  3 15]\n",
      " [ 3 12  9  9  3  9 15 12 12  9]\n",
      " [ 3 15 15  3 15  3  3 15  9  6]\n",
      " [ 6  6  6  6  9  6  6  9 15  9]]\n"
     ]
    }
   ],
   "source": [
    "before = [0,1,2,3,4]\n",
    "after = [3,6,9,12,15]\n",
    "\n",
    "output = np.zeros_like(data)\n",
    "for b, a in zip(before, after):\n",
    "    output[data==b] = a\n",
    "\n",
    "print(output)"
   ]
  },
  {
   "cell_type": "code",
   "execution_count": 151,
   "id": "b723b72a-1322-4a15-aff0-02d9490da185",
   "metadata": {},
   "outputs": [
    {
     "data": {
      "text/plain": [
       "array([  0,   0,  27,  28,  28, 100,   0])"
      ]
     },
     "execution_count": 151,
     "metadata": {},
     "output_type": "execute_result"
    }
   ],
   "source": [
    "np.searchsorted(np.arange(100)*2+1, [-1, -2, 55, 56, 57, 200, 0])"
   ]
  },
  {
   "cell_type": "code",
   "execution_count": null,
   "id": "9be654eb-57e0-4623-b2cf-e87bc6ebab81",
   "metadata": {},
   "outputs": [],
   "source": [
    "def remap_indices(overlapping_indices, unique_indices, offset):\n"
   ]
  },
  {
   "cell_type": "code",
   "execution_count": 129,
   "id": "39e47530-c282-4193-8ee9-6e269364efe2",
   "metadata": {},
   "outputs": [
    {
     "data": {
      "text/plain": [
       "array([False, False,  True,  True,  True])"
      ]
     },
     "execution_count": 129,
     "metadata": {},
     "output_type": "execute_result"
    }
   ],
   "source": [
    "#(\n",
    "np.isin([-1, -2, 55, 56, 57], np.arange(100))#==False).nonzero()[0]"
   ]
  },
  {
   "cell_type": "code",
   "execution_count": 148,
   "id": "53172111-08fb-4f89-a837-fdb5e318a96f",
   "metadata": {},
   "outputs": [
    {
     "data": {
      "text/plain": [
       "array([1., 1., 1.])"
      ]
     },
     "execution_count": 148,
     "metadata": {},
     "output_type": "execute_result"
    }
   ],
   "source": [
    "res.take([0,2,1])"
   ]
  },
  {
   "cell_type": "code",
   "execution_count": 149,
   "id": "99f3af1b-bc81-4a7d-857c-4d30b78fcf41",
   "metadata": {},
   "outputs": [],
   "source": [
    "res.put([0, 2, 1], 5)"
   ]
  },
  {
   "cell_type": "code",
   "execution_count": 150,
   "id": "2f176e47-cc60-4a3d-9ed6-db307be8ca76",
   "metadata": {},
   "outputs": [
    {
     "data": {
      "text/plain": [
       "array([[5., 5., 5., 1., 1.],\n",
       "       [2., 2., 2., 2., 2.]])"
      ]
     },
     "execution_count": 150,
     "metadata": {},
     "output_type": "execute_result"
    }
   ],
   "source": [
    "res"
   ]
  },
  {
   "cell_type": "code",
   "execution_count": 132,
   "id": "653270e8-1cc0-40f6-8132-6b6d1472df93",
   "metadata": {},
   "outputs": [
    {
     "data": {
      "text/plain": [
       "(array([2, 3, 4]), array([0, 1]))"
      ]
     },
     "execution_count": 132,
     "metadata": {},
     "output_type": "execute_result"
    }
   ],
   "source": [
    "get_overlapping_and_unique_indices([-1, -2, 55, 56, 57], np.arange(100))"
   ]
  },
  {
   "cell_type": "code",
   "execution_count": 113,
   "id": "a1f07424-342d-4f34-9e6e-1490ce5eb5bf",
   "metadata": {},
   "outputs": [
    {
     "name": "stdout",
     "output_type": "stream",
     "text": [
      "[0, 1, 2]\n"
     ]
    },
    {
     "data": {
      "text/plain": [
       "array([55, 56, 57])"
      ]
     },
     "execution_count": 113,
     "metadata": {},
     "output_type": "execute_result"
    }
   ],
   "source": [
    "def get_overlapping_ds(bigger_list, smaller_list):\n",
    "    indices = []\n",
    "    for index, x in enumerate(smaller_list):\n",
    "        if np.isin(x, bigger_list).any():\n",
    "            indices.append(index)\n",
    "    return indices\n",
    "\n",
    "search = np.array([55, 56, 57])\n",
    "indices = get_overlapping_ds(np.arange(100), search)\n",
    "print(indices)\n",
    "search.take(indices)"
   ]
  },
  {
   "cell_type": "code",
   "execution_count": 81,
   "id": "733c4e8c-0546-4206-8d35-30f52a5787f8",
   "metadata": {},
   "outputs": [
    {
     "data": {
      "text/plain": [
       "array(['Ishan', 'A', 'A', 'A'], dtype='<U5')"
      ]
     },
     "execution_count": 81,
     "metadata": {},
     "output_type": "execute_result"
    }
   ],
   "source": [
    "B.take(indices)"
   ]
  },
  {
   "cell_type": "code",
   "execution_count": 88,
   "id": "ea5f3893-9271-4ba8-b966-cc91dc403e16",
   "metadata": {},
   "outputs": [
    {
     "data": {
      "text/plain": [
       "masked_array(data=[--, 'Osam', 'Ruchi', 'Rasswanth'],\n",
       "             mask=[ True, False, False, False],\n",
       "       fill_value='N/A',\n",
       "            dtype='<U9')"
      ]
     },
     "execution_count": 88,
     "metadata": {},
     "output_type": "execute_result"
    }
   ],
   "source": [
    "np.ma.masked_array(data=A, mask=indices)"
   ]
  },
  {
   "cell_type": "code",
   "execution_count": 83,
   "id": "4c9335c9-245b-4a0e-91fc-c1a895dbc69a",
   "metadata": {},
   "outputs": [
    {
     "data": {
      "text/plain": [
       "array(['A', 'Ishan'], dtype='<U5')"
      ]
     },
     "execution_count": 83,
     "metadata": {},
     "output_type": "execute_result"
    }
   ],
   "source": [
    "B"
   ]
  },
  {
   "cell_type": "code",
   "execution_count": 84,
   "id": "5ed445ab-fa91-47e3-82d5-484a88d270da",
   "metadata": {},
   "outputs": [
    {
     "data": {
      "text/plain": [
       "array(['Ishan', 'Osam', 'Ruchi', 'Rasswanth'], dtype='<U9')"
      ]
     },
     "execution_count": 84,
     "metadata": {},
     "output_type": "execute_result"
    }
   ],
   "source": [
    "A"
   ]
  },
  {
   "cell_type": "code",
   "execution_count": null,
   "id": "f40788a7-9252-47f6-b93f-d71fe357d553",
   "metadata": {},
   "outputs": [],
   "source": []
  }
 ],
 "metadata": {
  "kernelspec": {
   "display_name": "Python 3 (ipykernel)",
   "language": "python",
   "name": "python3"
  },
  "language_info": {
   "codemirror_mode": {
    "name": "ipython",
    "version": 3
   },
   "file_extension": ".py",
   "mimetype": "text/x-python",
   "name": "python",
   "nbconvert_exporter": "python",
   "pygments_lexer": "ipython3",
   "version": "3.9.7"
  }
 },
 "nbformat": 4,
 "nbformat_minor": 5
}
