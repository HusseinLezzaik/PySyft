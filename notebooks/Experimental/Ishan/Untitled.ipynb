{
 "cells": [
  {
   "cell_type": "code",
   "execution_count": 1,
   "id": "5925b7d8-6d73-4b37-9af0-e0f958625f42",
   "metadata": {},
   "outputs": [
    {
     "name": "stderr",
     "output_type": "stream",
     "text": [
      "/home/e/anaconda3/envs/Hagrid/lib/python3.9/site-packages/tqdm/auto.py:22: TqdmWarning: IProgress not found. Please update jupyter and ipywidgets. See https://ipywidgets.readthedocs.io/en/stable/user_install.html\n",
      "  from .autonotebook import tqdm as notebook_tqdm\n"
     ]
    },
    {
     "name": "stdout",
     "output_type": "stream",
     "text": [
      "Creating new Ledger\n"
     ]
    }
   ],
   "source": [
    "import syft as sy\n",
    "import numpy as np\n",
    "from syft.core.adp.data_subject_list import DataSubjectList\n",
    "from syft.core.tensor.autodp.phi_tensor import PhiTensor\n",
    "from syft.core.tensor.autodp.gamma_tensor import GammaTensor\n",
    "\n",
    "from syft.core.adp.data_subject_ledger import DataSubjectLedger\n",
    "from syft.core.adp.ledger_store import DictLedgerStore\n",
    "from typing import Any\n",
    "\n",
    "\n",
    "ledger_store = DictLedgerStore()\n",
    "user_key = b\"1231\"\n",
    "ledger = DataSubjectLedger.get_or_create(store=ledger_store, user_key=user_key)\n",
    "\n",
    "def get_budget_for_user(*args: Any, **kwargs: Any) -> float:\n",
    "    return 999999\n",
    "\n",
    "def deduct_epsilon_for_user(*args: Any, **kwargs: Any) -> bool:\n",
    "    return True"
   ]
  },
  {
   "cell_type": "code",
   "execution_count": 2,
   "id": "5fc9fc68-64df-4adb-8df1-e7f3382e36a6",
   "metadata": {},
   "outputs": [],
   "source": [
    "tensor1 = PhiTensor(\n",
    "    child=np.random.randint(low=5, high=100, size=(10,10), dtype=np.int64),\n",
    "    data_subjects=np.ones((10, 10), dtype=np.int64),\n",
    "    min_vals=5,\n",
    "    max_vals=100,\n",
    ")\n",
    "\n",
    "tensor2 = PhiTensor(\n",
    "    child=np.random.randint(low=5, high=100, size=(10,10), dtype=np.int64),\n",
    "    data_subjects=np.zeros((10, 10), dtype=np.int64),\n",
    "    min_vals=5,\n",
    "    max_vals=100,\n",
    ")"
   ]
  },
  {
   "cell_type": "code",
   "execution_count": 3,
   "id": "5e9a2c92-fba9-4f05-86d3-a3b5d8707699",
   "metadata": {},
   "outputs": [],
   "source": [
    "addition_result = tensor1 + tensor2"
   ]
  },
  {
   "cell_type": "code",
   "execution_count": 4,
   "id": "0b01aeaf-de9e-441c-8a8d-4c7b821d7af4",
   "metadata": {},
   "outputs": [
    {
     "name": "stderr",
     "output_type": "stream",
     "text": [
      "  0%|                                                                                                                                                                   | 0/2 [00:00<?, ?it/s]WARNING:absl:No GPU/TPU found, falling back to CPU. (Set TF_CPP_MIN_LOG_LEVEL=0 and rerun for more info.)\n",
      "/home/e/anaconda3/envs/Hagrid/lib/python3.9/site-packages/jax/interpreters/mlir.py:512: UserWarning: Some donated buffers were not usable: ShapedArray(float64[100]), ShapedArray(int64[10,10]).\n",
      "Donation is not implemented for cpu.\n",
      "See an explanation at https://jax.readthedocs.io/en/latest/faq.html#buffer-donation.\n",
      "  warnings.warn(f\"Some donated buffers were not usable: {', '.join(unused_donations)}.\\n{msg}\")\n",
      "100%|███████████████████████████████████████████████████████████████████████████████████████████████████████████████████████████████████████████████████████████| 2/2 [00:00<00:00,  6.23it/s]"
     ]
    },
    {
     "name": "stdout",
     "output_type": "stream",
     "text": [
      "Epsilon spend  [2207.50711133 2207.50711133 2207.50711133 2207.50711133 2207.50711133\n",
      " 2207.50711133 2207.50711133 2207.50711133 2207.50711133 2207.50711133\n",
      " 2207.50711133 2207.50711133 2207.50711133 2207.50711133 2207.50711133\n",
      " 2207.50711133 2207.50711133 2207.50711133 2207.50711133 2207.50711133\n",
      " 2207.50711133 2207.50711133 2207.50711133 2207.50711133 2207.50711133\n",
      " 2207.50711133 2207.50711133 2207.50711133 2207.50711133 2207.50711133\n",
      " 2207.50711133 2207.50711133 2207.50711133 2207.50711133 2207.50711133\n",
      " 2207.50711133 2207.50711133 2207.50711133 2207.50711133 2207.50711133\n",
      " 2207.50711133 2207.50711133 2207.50711133 2207.50711133 2207.50711133\n",
      " 2207.50711133 2207.50711133 2207.50711133 2207.50711133 2207.50711133\n",
      " 2207.50711133 2207.50711133 2207.50711133 2207.50711133 2207.50711133\n",
      " 2207.50711133 2207.50711133 2207.50711133 2207.50711133 2207.50711133\n",
      " 2207.50711133 2207.50711133 2207.50711133 2207.50711133 2207.50711133\n",
      " 2207.50711133 2207.50711133 2207.50711133 2207.50711133 2207.50711133\n",
      " 2207.50711133 2207.50711133 2207.50711133 2207.50711133 2207.50711133\n",
      " 2207.50711133 2207.50711133 2207.50711133 2207.50711133 2207.50711133\n",
      " 2207.50711133 2207.50711133 2207.50711133 2207.50711133 2207.50711133\n",
      " 2207.50711133 2207.50711133 2207.50711133 2207.50711133 2207.50711133\n",
      " 2207.50711133 2207.50711133 2207.50711133 2207.50711133 2207.50711133\n",
      " 2207.50711133 2207.50711133 2207.50711133 2207.50711133 2207.50711133]\n",
      "Highest possible spend  2207.507111331433\n",
      "Attemping to spend epsilon: 2207.507111331433. Try: 0\n",
      "got user budget 999999.0 epsilon_spent 2207.507111331433\n",
      "Epsilon spend  [2069.48742796 2069.48742796 2069.48742796 2069.48742796 2069.48742796\n",
      " 2069.48742796 2069.48742796 2069.48742796 2069.48742796 2069.48742796\n",
      " 2069.48742796 2069.48742796 2069.48742796 2069.48742796 2069.48742796\n",
      " 2069.48742796 2069.48742796 2069.48742796 2069.48742796 2069.48742796\n",
      " 2069.48742796 2069.48742796 2069.48742796 2069.48742796 2069.48742796\n",
      " 2069.48742796 2069.48742796 2069.48742796 2069.48742796 2069.48742796\n",
      " 2069.48742796 2069.48742796 2069.48742796 2069.48742796 2069.48742796\n",
      " 2069.48742796 2069.48742796 2069.48742796 2069.48742796 2069.48742796\n",
      " 2069.48742796 2069.48742796 2069.48742796 2069.48742796 2069.48742796\n",
      " 2069.48742796 2069.48742796 2069.48742796 2069.48742796 2069.48742796\n",
      " 2069.48742796 2069.48742796 2069.48742796 2069.48742796 2069.48742796\n",
      " 2069.48742796 2069.48742796 2069.48742796 2069.48742796 2069.48742796\n",
      " 2069.48742796 2069.48742796 2069.48742796 2069.48742796 2069.48742796\n",
      " 2069.48742796 2069.48742796 2069.48742796 2069.48742796 2069.48742796\n",
      " 2069.48742796 2069.48742796 2069.48742796 2069.48742796 2069.48742796\n",
      " 2069.48742796 2069.48742796 2069.48742796 2069.48742796 2069.48742796\n",
      " 2069.48742796 2069.48742796 2069.48742796 2069.48742796 2069.48742796\n",
      " 2069.48742796 2069.48742796 2069.48742796 2069.48742796 2069.48742796\n",
      " 2069.48742796 2069.48742796 2069.48742796 2069.48742796 2069.48742796\n",
      " 2069.48742796 2069.48742796 2069.48742796 2069.48742796 2069.48742796]\n",
      "Highest possible spend  2069.48742796408\n",
      "Attemping to spend epsilon: 2069.48742796408. Try: 0\n",
      "got user budget 999999.0 epsilon_spent 2069.48742796408\n",
      "We have filtered all the input tensors. Now to compute the result:\n",
      "Filtered inputs  [array([[68., 70., 67., 91.,  7., 50., 26., 80., 53., 30.],\n",
      "       [34., 93., 76., 72., 45., 98., 13., 92., 44., 11.],\n",
      "       [62., 49., 94., 93., 60., 90., 25., 14., 97., 81.],\n",
      "       [13., 62., 80., 93., 48., 48., 81., 95., 55., 90.],\n",
      "       [65., 69., 86.,  5., 79., 51., 96., 41.,  6., 44.],\n",
      "       [42., 83., 87., 96., 41., 42., 95., 50., 42., 85.],\n",
      "       [12., 22., 32., 30., 86., 89., 48., 48.,  5., 37.],\n",
      "       [47., 17., 34., 19., 41., 53., 43., 49., 47., 11.],\n",
      "       [90., 21., 13., 26., 13., 73., 52.,  5., 35., 37.],\n",
      "       [35., 76., 81., 80., 39., 98., 55., 85., 71., 58.]]), array([[10., 50., 73., 56., 29., 19., 84., 51., 94., 54.],\n",
      "       [31., 88., 41., 26., 48., 12., 90., 52., 12., 96.],\n",
      "       [96., 94., 22., 14., 75., 88., 33., 32., 23., 92.],\n",
      "       [15., 75., 97., 34., 60., 67., 45., 43.,  7., 13.],\n",
      "       [78., 66., 59., 57., 77., 19., 48., 79., 73., 69.],\n",
      "       [41., 97., 35., 34., 23., 87., 73., 88., 41., 25.],\n",
      "       [24., 38., 43., 56., 70., 59., 94., 12., 35., 55.],\n",
      "       [32., 91., 32., 51., 97.,  7., 43., 28., 10., 37.],\n",
      "       [81., 88., 81., 63., 77.,  7., 50., 20., 89., 45.],\n",
      "       [57., 78., 51., 75., 99., 35., 18., 78., 10., 17.]])]\n",
      "original output (before noise: [[ 78. 120. 140. 147.  36.  69. 110. 131. 147.  84.]\n",
      " [ 65. 181. 117.  98.  93. 110. 103. 144.  56. 107.]\n",
      " [158. 143. 116. 107. 135. 178.  58.  46. 120. 173.]\n",
      " [ 28. 137. 177. 127. 108. 115. 126. 138.  62. 103.]\n",
      " [143. 135. 145.  62. 156.  70. 144. 120.  79. 113.]\n",
      " [ 83. 180. 122. 130.  64. 129. 168. 138.  83. 110.]\n",
      " [ 36.  60.  75.  86. 156. 148. 142.  60.  40.  92.]\n",
      " [ 79. 108.  66.  70. 138.  60.  86.  77.  57.  48.]\n",
      " [171. 109.  94.  89.  90.  80. 102.  25. 124.  82.]\n",
      " [ 92. 154. 132. 155. 138. 133.  73. 163.  81.  75.]]\n",
      "noise:  [[-9.02319415e+00 -4.83409107e+00  9.01733363e+00 -9.38581945e+00\n",
      "   1.69543592e+01  1.30149031e+01 -1.41936565e+01  1.76974778e+00\n",
      "  -1.08932156e+00  7.51430856e+00]\n",
      " [-8.36384795e+00  2.14641240e+01 -1.43430093e+00 -9.47198890e+00\n",
      "   2.46170815e+00 -2.66733664e+00  8.54147578e+00  1.12387388e+00\n",
      "  -1.09738509e+01 -6.14634014e+00]\n",
      " [-1.14325397e+01 -6.32154010e+00  1.13292688e+01 -1.00865859e+01\n",
      "   5.87498484e+00 -8.32613725e+00 -1.51148335e-02  1.87379400e+01\n",
      "  -6.70395048e+00 -2.06303567e+01]\n",
      " [ 9.37360303e+00  3.25708868e-01 -1.13395557e+01  1.81100748e+00\n",
      "   5.75661240e+00 -1.37117207e+01  8.51458759e-01 -4.55221118e+00\n",
      "   1.36876739e+00  1.99674825e+01]\n",
      " [ 1.45020247e+01  4.75421003e+00  9.55132875e+00  2.02930329e+01\n",
      "  -6.42033225e+00  9.88329154e+00 -5.23256331e-01  1.30045083e+01\n",
      "  -1.21571030e+01  2.04350575e+00]\n",
      " [-1.27437100e+01 -5.76277905e+00 -1.79486471e+00  4.29890492e+00\n",
      "   3.35941948e+00  3.93488324e+00  3.68253834e+00  1.05395512e+01\n",
      "  -1.13747600e+01 -1.69999512e+00]\n",
      " [ 6.90823459e+00  4.41216992e-01  4.35617421e+00  2.58903622e+00\n",
      "  -1.06874831e-01 -9.05762299e+00  1.57697529e+01 -2.72200773e+00\n",
      "   1.77738558e-01  3.04532846e+00]\n",
      " [ 1.73070820e+01  1.20406505e+01  7.64297869e+00  1.77913781e-01\n",
      "  -4.18179790e+00  4.68782855e+00 -1.87789113e+01 -1.70548527e+01\n",
      "   3.70026258e+00 -1.13927698e+01]\n",
      " [ 7.31410324e+00 -6.62129862e+00 -6.42692000e+00  1.32398846e+01\n",
      "  -1.34454853e+00 -9.78209042e+00 -6.64254034e+00 -2.51963992e+00\n",
      "   1.15568980e+01 -3.14725778e+00]\n",
      " [ 1.21634777e+01  5.29211546e+00  1.45330843e+01  7.23702407e+00\n",
      "  -8.13418519e+00 -1.83572047e+00  1.56833842e+01 -1.01773157e+01\n",
      "  -9.45151032e+00  7.14100371e+00]]\n",
      "got output <class 'numpy.ndarray'> float64\n"
     ]
    },
    {
     "name": "stderr",
     "output_type": "stream",
     "text": [
      "\n"
     ]
    }
   ],
   "source": [
    "res = addition_result.publish(get_budget_for_user=get_budget_for_user, deduct_epsilon_for_user=deduct_epsilon_for_user, ledger=ledger, sigma=10)"
   ]
  },
  {
   "cell_type": "code",
   "execution_count": 5,
   "id": "4f793368-69ff-46ae-ad5d-d6c9f603a0e1",
   "metadata": {},
   "outputs": [
    {
     "data": {
      "text/plain": [
       "array([[ 68.97680585, 115.16590893, 149.01733363, 137.61418055,\n",
       "         52.95435923,  82.01490313,  95.80634349, 132.76974778,\n",
       "        145.91067844,  91.51430856],\n",
       "       [ 56.63615205, 202.46412404, 115.56569907,  88.5280111 ,\n",
       "         95.46170815, 107.33266336, 111.54147578, 145.12387388,\n",
       "         45.02614913, 100.85365986],\n",
       "       [146.56746032, 136.6784599 , 127.32926879,  96.9134141 ,\n",
       "        140.87498484, 169.67386275,  57.98488517,  64.73794005,\n",
       "        113.29604952, 152.36964326],\n",
       "       [ 37.37360303, 137.32570887, 165.66044425, 128.81100748,\n",
       "        113.7566124 , 101.28827932, 126.85145876, 133.44778882,\n",
       "         63.36876739, 122.96748252],\n",
       "       [157.50202467, 139.75421003, 154.55132875,  82.29303289,\n",
       "        149.57966775,  79.88329154, 143.47674367, 133.00450826,\n",
       "         66.84289702, 115.04350575],\n",
       "       [ 70.25629002, 174.23722095, 120.20513529, 134.29890492,\n",
       "         67.35941948, 132.93488324, 171.68253834, 148.53955119,\n",
       "         71.62523996, 108.30000488],\n",
       "       [ 42.90823459,  60.44121699,  79.35617421,  88.58903622,\n",
       "        155.89312517, 138.94237701, 157.76975294,  57.27799227,\n",
       "         40.17773856,  95.04532846],\n",
       "       [ 96.30708203, 120.04065046,  73.64297869,  70.17791378,\n",
       "        133.8182021 ,  64.68782855,  67.22108871,  59.94514728,\n",
       "         60.70026258,  36.60723022],\n",
       "       [178.31410324, 102.37870138,  87.57308   , 102.23988461,\n",
       "         88.65545147,  70.21790958,  95.35745966,  22.48036008,\n",
       "        135.55689804,  78.85274222],\n",
       "       [104.16347774, 159.29211546, 146.53308433, 162.23702407,\n",
       "        129.86581481, 131.16427953,  88.68338424, 152.8226843 ,\n",
       "         71.54848968,  82.14100371]])"
      ]
     },
     "execution_count": 5,
     "metadata": {},
     "output_type": "execute_result"
    }
   ],
   "source": [
    "res"
   ]
  },
  {
   "cell_type": "code",
   "execution_count": 6,
   "id": "b8aaa5c0-403e-4ae3-b574-36d72c5910ee",
   "metadata": {},
   "outputs": [
    {
     "data": {
      "text/plain": [
       "array([[ 78., 120., 140., 147.,  36.,  69., 110., 131., 147.,  84.],\n",
       "       [ 65., 181., 117.,  98.,  93., 110., 103., 144.,  56., 107.],\n",
       "       [158., 143., 116., 107., 135., 178.,  58.,  46., 120., 173.],\n",
       "       [ 28., 137., 177., 127., 108., 115., 126., 138.,  62., 103.],\n",
       "       [143., 135., 145.,  62., 156.,  70., 144., 120.,  79., 113.],\n",
       "       [ 83., 180., 122., 130.,  64., 129., 168., 138.,  83., 110.],\n",
       "       [ 36.,  60.,  75.,  86., 156., 148., 142.,  60.,  40.,  92.],\n",
       "       [ 79., 108.,  66.,  70., 138.,  60.,  86.,  77.,  57.,  48.],\n",
       "       [171., 109.,  94.,  89.,  90.,  80., 102.,  25., 124.,  82.],\n",
       "       [ 92., 154., 132., 155., 138., 133.,  73., 163.,  81.,  75.]])"
      ]
     },
     "execution_count": 6,
     "metadata": {},
     "output_type": "execute_result"
    }
   ],
   "source": [
    "(tensor1.child + tensor2.child).decode()"
   ]
  },
  {
   "cell_type": "code",
   "execution_count": 7,
   "id": "57fcba73-9d7b-4f0b-81d4-0c6898f579c9",
   "metadata": {},
   "outputs": [
    {
     "data": {
      "text/plain": [
       "array([[-1.15681976e+01, -4.02840922e+00,  6.44095259e+00,\n",
       "        -6.38491119e+00,  4.70954423e+01,  1.88621784e+01,\n",
       "        -1.29033241e+01,  1.35095250e+00, -7.41035073e-01,\n",
       "         8.94560543e+00],\n",
       "       [-1.28674584e+01,  1.18586321e+01, -1.22589823e+00,\n",
       "        -9.66529479e+00,  2.64699801e+00, -2.42485149e+00,\n",
       "         8.29269493e+00,  7.80467974e-01, -1.95961623e+01,\n",
       "        -5.74424312e+00],\n",
       "       [-7.23578461e+00, -4.42065741e+00,  9.76661102e+00,\n",
       "        -9.42671579e+00,  4.35184062e+00, -4.67760520e+00,\n",
       "        -2.60600578e-02,  4.07346523e+01, -5.58662540e+00,\n",
       "        -1.19250617e+01],\n",
       "       [ 3.34771537e+01,  2.37743699e-01, -6.40652867e+00,\n",
       "         1.42599014e+00,  5.33019667e+00, -1.19232354e+01,\n",
       "         6.75760919e-01, -3.29870376e+00,  2.20768934e+00,\n",
       "         1.93859054e+01],\n",
       "       [ 1.01412760e+01,  3.52163706e+00,  6.58712328e+00,\n",
       "         3.27306982e+01, -4.11559760e+00,  1.41189879e+01,\n",
       "        -3.63372452e-01,  1.08370902e+01, -1.53887379e+01,\n",
       "         1.80841217e+00],\n",
       "       [-1.53538674e+01, -3.20154392e+00, -1.47120058e+00,\n",
       "         3.30684994e+00,  5.24909294e+00,  3.05029709e+00,\n",
       "         2.19198711e+00,  7.63735593e+00, -1.37045302e+01,\n",
       "        -1.54545011e+00],\n",
       "       [ 1.91895405e+01,  7.35361654e-01,  5.80823228e+00,\n",
       "         3.01050723e+00, -6.85095071e-02, -6.12001553e+00,\n",
       "         1.11054598e+01, -4.53667955e+00,  4.44346394e-01,\n",
       "         3.31013963e+00],\n",
       "       [ 2.19076988e+01,  1.11487504e+01,  1.15802707e+01,\n",
       "         2.54162545e-01, -3.03028834e+00,  7.81304759e+00,\n",
       "        -2.18359434e+01, -2.21491594e+01,  6.49168874e+00,\n",
       "        -2.37349370e+01],\n",
       "       [ 4.27725336e+00, -6.07458589e+00, -6.83714894e+00,\n",
       "         1.48762748e+01, -1.49394281e+00, -1.22276130e+01,\n",
       "        -6.51229445e+00, -1.00785597e+01,  9.32007906e+00,\n",
       "        -3.83811924e+00],\n",
       "       [ 1.32211715e+01,  3.43643861e+00,  1.10099124e+01,\n",
       "         4.66904779e+00, -5.89433709e+00, -1.38024095e+00,\n",
       "         2.14840880e+01, -6.24375196e+00, -1.16685313e+01,\n",
       "         9.52133829e+00]])"
      ]
     },
     "execution_count": 7,
     "metadata": {},
     "output_type": "execute_result"
    }
   ],
   "source": [
    "(res - (tensor1.child + tensor2.child).decode())/(tensor1.child+tensor2.child).decode()*100"
   ]
  },
  {
   "cell_type": "code",
   "execution_count": 8,
   "id": "687c05df-efe1-475e-9261-a7ff29d298cb",
   "metadata": {},
   "outputs": [
    {
     "name": "stdout",
     "output_type": "stream",
     "text": [
      "WARNING: CHANGE YOUR USERNAME AND PASSWORD!!! \n",
      "\n",
      "Anyone can login as an admin to your node right now because your password is still the default PySyft username and password!!!\n",
      "\n",
      "Connecting to localhost... done! \t Logging into adp... done!\n"
     ]
    }
   ],
   "source": [
    "domain = sy.login(email=\"info@openmined.org\", password=\"changethis\", port=8081)"
   ]
  },
  {
   "cell_type": "markdown",
   "id": "ee173e2b-4568-41ee-b11b-7cb7722a7abf",
   "metadata": {},
   "source": [
    "domain.load_dataset(\n",
    "    assets={\"tensor1\": ,\n",
    "            \"tensor2\": tensor2},\n",
    "    name=\"Testing\",\n",
    "    description=\"For testing purposes only\")"
   ]
  },
  {
   "cell_type": "code",
   "execution_count": 13,
   "id": "cc62dc2f-3e89-41fb-95c4-6d9b1a8b5b42",
   "metadata": {},
   "outputs": [
    {
     "name": "stdout",
     "output_type": "stream",
     "text": [
      "WARNING: CHANGE YOUR USERNAME AND PASSWORD!!! \n",
      "\n",
      "Anyone can login as an admin to your node right now because your password is still the default PySyft username and password!!!\n",
      "\n",
      "Connecting to localhost... done! \t Logging into adp... done!\n",
      "Connecting to localhost... done! \t Logging into adp... done!\n",
      "Loading dataset... uploading...🚀                                                                                                                                             "
     ]
    },
    {
     "name": "stderr",
     "output_type": "stream",
     "text": [
      "Uploading `my_data_asset`: 100%|\u001b[32m█████████████████████████████████████\u001b[0m| 1/1 [00:00<00:00, 193.17it/s]\u001b[0m"
     ]
    },
    {
     "name": "stdout",
     "output_type": "stream",
     "text": [
      "Dataset is uploaded successfully !!! 🎉\n",
      "\n",
      "Run `<your client variable>.datasets` to see your new dataset loaded into your machine!\n",
      "backend_phi_tensor: Tensor(child=[[1 2 3]\n",
      " [4 5 6]\n",
      " [0 0 1]\n",
      " [0 1 1]]) <class 'syft.core.tensor.tensor.Tensor'>\n",
      "<FloatPointer -> adp:e3186e28ea6b48d78367b453069f9203> <class 'syft.proxy.syft.lib.python.FloatPointer'>\n"
     ]
    },
    {
     "name": "stderr",
     "output_type": "stream",
     "text": [
      "\n"
     ]
    }
   ],
   "source": [
    "import syft as sy\n",
    "import numpy as np\n",
    "sy.logger.remove()\n",
    "\n",
    "fb = sy.login(email=\"info@openmined.org\", password=\"changethis\", port=8081)\n",
    "\n",
    "email = \"sheldon4@caltech.edu\"\n",
    "password = \"pw\"\n",
    "if email not in [entry['email'] for entry in fb.users.all()]:\n",
    "    fb.users.create(\n",
    "        **{\n",
    "            \"name\": \"Sheldon2 Cooper\",\n",
    "            \"email\": email,\n",
    "            \"password\": password,\n",
    "            \"budget\": 1000\n",
    "        }\n",
    "    )\n",
    "    \n",
    "user = sy.login(email=email, password=password, port=8081)\n",
    "\n",
    "\n",
    "# numpy arrays\n",
    "np_data = np.array([\n",
    "    [1, 2, 3],\n",
    "    [4, 5, 6],\n",
    "    [0, 0, 1],\n",
    "    [0, 1, 1]]\n",
    ")\n",
    "\n",
    "# Creates syft.core.tensor.tensor.Tensor (after private?)\n",
    "backend_phi_tensor = sy.Tensor(np_data)\n",
    "\n",
    "# .private is out-of-place\n",
    "private_phi_tensor = backend_phi_tensor.private(\n",
    "    min_val=0,\n",
    "    max_val=1,\n",
    "    data_subjects=[\"abc\"] * np_data.shape[0])\n",
    "\n",
    "fb.load_dataset(\n",
    "    assets={\n",
    "        \"my_data_asset\":private_phi_tensor,\n",
    "    },\n",
    "    name=\"my_data\",\n",
    "    description=\"description\"\n",
    ")\n",
    "\n",
    "# The printing mechanism hides the underlying nesting\n",
    "print(\"backend_phi_tensor:\", backend_phi_tensor, type(backend_phi_tensor))\n",
    "frontend_tensor_ptr = user.datasets[-1][\"my_data_asset\"]\n",
    "published = frontend_tensor_ptr.publish(sigma=1)\n",
    "# If we get immediately from user.dataset it would raise an Authoriztion exception\n",
    "print(published, type(published))\n",
    "# print(frontend_tensor_ptr.get(timeout_secs=1, reason=\"hello\"))\n",
    "# published.check_access()"
   ]
  },
  {
   "cell_type": "code",
   "execution_count": 15,
   "id": "0757a5ef-c98e-4b35-a20e-7c6787d23076",
   "metadata": {},
   "outputs": [],
   "source": [
    "res = published.get()"
   ]
  },
  {
   "cell_type": "code",
   "execution_count": 16,
   "id": "d6e342e8-45c3-4dd4-a639-d210f039974b",
   "metadata": {},
   "outputs": [
    {
     "data": {
      "text/plain": [
       "array([[ 0.70142924,  2.42204564,  4.14895047],\n",
       "       [ 4.94596474,  4.20143383,  5.69558241],\n",
       "       [-0.4773361 , -0.92185703,  0.92677619],\n",
       "       [ 1.33985553,  1.12282246,  1.31639632]])"
      ]
     },
     "execution_count": 16,
     "metadata": {},
     "output_type": "execute_result"
    }
   ],
   "source": [
    "res"
   ]
  },
  {
   "cell_type": "code",
   "execution_count": null,
   "id": "23bd5b7e-9b4b-4221-95d0-b510bcc283e4",
   "metadata": {},
   "outputs": [],
   "source": []
  }
 ],
 "metadata": {
  "kernelspec": {
   "display_name": "Python 3 (ipykernel)",
   "language": "python",
   "name": "python3"
  },
  "language_info": {
   "codemirror_mode": {
    "name": "ipython",
    "version": 3
   },
   "file_extension": ".py",
   "mimetype": "text/x-python",
   "name": "python",
   "nbconvert_exporter": "python",
   "pygments_lexer": "ipython3",
   "version": "3.9.7"
  }
 },
 "nbformat": 4,
 "nbformat_minor": 5
}
