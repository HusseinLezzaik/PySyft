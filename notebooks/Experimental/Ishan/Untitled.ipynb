{
 "cells": [
  {
   "cell_type": "code",
   "execution_count": 1,
   "id": "4363f840-7e69-4095-bf11-0d62b7d6ef61",
   "metadata": {},
   "outputs": [],
   "source": [
    "import syft as sy\n",
    "import numpy as np"
   ]
  },
  {
   "cell_type": "code",
   "execution_count": 9,
   "id": "388d421f-5ad0-4172-8611-e1f1c578d0ad",
   "metadata": {},
   "outputs": [],
   "source": [
    "data = sy.Tensor(np.random.randint(low=2, high=100, size=(10,10), dtype=np.int64))"
   ]
  },
  {
   "cell_type": "code",
   "execution_count": 10,
   "id": "24c07a6e-abca-4d38-9f4f-0c53b9a83caf",
   "metadata": {},
   "outputs": [
    {
     "data": {
      "text/plain": [
       "Tensor(child=[[95 31 75 95 80 41 89 59 92 85]\n",
       " [ 6 50 15 53 72 65 68 43 85 56]\n",
       " [67 35 44  7  2 33 26 74 75 71]\n",
       " [25 65 20  3 91 68 45 47  3 33]\n",
       " [28 56 39 70 36 54 16 44 90 16]\n",
       " [44  4  7 66 37 75 37 15 89 83]\n",
       " [90 25 62 30 94 64 30  9 20 70]\n",
       " [86 15 24 50  9  6 81 16 62 45]\n",
       " [20 80 70 96 70 80 75 75 27 36]\n",
       " [79 95 35 71 30 65 43 53 15 17]])"
      ]
     },
     "execution_count": 10,
     "metadata": {},
     "output_type": "execute_result"
    }
   ],
   "source": [
    "data"
   ]
  },
  {
   "cell_type": "markdown",
   "id": "9ed6f6b2-2e48-4a86-a0d8-8e374f24e066",
   "metadata": {},
   "source": [
    "syft Tensor\n",
    "-\n",
    "DP tensors\n",
    "- Phi\n",
    "- gamma tensor\n",
    "\n",
    "Store data + METADATA\n",
    "\n",
    "FPT tensors\n",
    "-\n",
    "\n",
    "float = 10.035\n",
    "OR\n",
    "int = 10035 & precision = 3\n",
    "\n",
    "\n",
    "MPC tensors\n",
    "- \n",
    "SHare tensors\n",
    "-\n",
    "Numpy\n",
    "\n",
    "\n",
    "syft Tensor\n",
    "-\n",
    "DP tensors\n",
    "- Phi\n",
    "- gamma tensor\n",
    "Numpy"
   ]
  }
 ],
 "metadata": {
  "kernelspec": {
   "display_name": "Python 3 (ipykernel)",
   "language": "python",
   "name": "python3"
  },
  "language_info": {
   "codemirror_mode": {
    "name": "ipython",
    "version": 3
   },
   "file_extension": ".py",
   "mimetype": "text/x-python",
   "name": "python",
   "nbconvert_exporter": "python",
   "pygments_lexer": "ipython3",
   "version": "3.8.10"
  }
 },
 "nbformat": 4,
 "nbformat_minor": 5
}
