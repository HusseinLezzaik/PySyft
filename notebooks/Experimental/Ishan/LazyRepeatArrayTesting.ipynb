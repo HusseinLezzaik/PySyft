{
 "cells": [
  {
   "cell_type": "code",
   "execution_count": 12,
   "id": "505e072e-9bff-4710-b283-431cccda6d73",
   "metadata": {},
   "outputs": [],
   "source": [
    "import numpy as np\n",
    "from dataclasses import dataclass, field\n",
    "from typing import Optional, Callable, List, Tuple, Union\n",
    "\n",
    "def lra_matmul(lra1, lra2) -> np.ndarray:\n",
    "    return np.matmul(lra1, lra2.to_numpy())\n",
    "\n",
    "\n",
    "@dataclass\n",
    "class lazyrepeatarray:\n",
    "    data: Union[int, float]\n",
    "    shape: Tuple\n",
    "    transforms: Optional[List] = field(repr=False, default=None)\n",
    "        \n",
    "    def __post_init__(self):\n",
    "        if self.transforms is None:\n",
    "            self.transforms = []\n",
    "        self._shape = self.shape\n",
    "    \n",
    "    def to_numpy(self, original=False) -> np.ndarray:\n",
    "        if not original:\n",
    "            return np.ones(self.shape) * self.data\n",
    "        else:\n",
    "            return np.ones(self._shape) * self.data\n",
    "    \n",
    "    def add_op(self, function: Callable, selection=slice(None), args={}):\n",
    "        self.transforms.append((function, selection, args))\n",
    "    \n",
    "    def evaluate(self):\n",
    "        # print(f'self = {self}')\n",
    "        # print(f'self.transforms = {self.transforms}')\n",
    "        result = self.to_numpy(original=True)\n",
    "        for func, selection, args in self.transforms:\n",
    "            if func == np.matmul or func == lra_matmul:\n",
    "                result = func(result[selection], args)\n",
    "            else:\n",
    "                result[selection] = func(result[selection], args)\n",
    "        self.transforms = []\n",
    "        return result\n",
    "    \n",
    "#     def __repr__(self):\n",
    "#         return f\"LazyRepeatArray(data={self.data}, shape={self.shape}, op_count={len(self.transforms)})\"\n",
    "    \n",
    "    def __add__(self, other):\n",
    "        if isinstance(other, (int, np.integer, float, np.floating)):\n",
    "            self.data += other\n",
    "            return self\n",
    "        elif isinstance(other, (np.ndarray, lazyrepeatarray)):\n",
    "            try: \n",
    "                self.shape = np.broadcast_shapes(self.shape, other.shape)\n",
    "                \n",
    "                if isinstance(other, lazyrepeatarray):\n",
    "                    self.add_op(function=np.add, args=other.data)\n",
    "                elif isinstance(other, np.ndarray):\n",
    "                    self.add_op(function=np.add, args=other)\n",
    "                return self\n",
    "            except ValueError:\n",
    "                raise Exception(f\"Cannot broadcast shapes {self.shape} and {other.shape}\")\n",
    "                \n",
    "    def matmul(self, other):\n",
    "        if isinstance(other, (int, np.integer, float, np.floating)):\n",
    "            raise Exception\n",
    "        elif isinstance(other, (np.ndarray, lazyrepeatarray)):\n",
    "            if len(self.shape) != 2 or len(other.shape) != 2:\n",
    "                raise Exception(\"Matmul only valid for 2D arrays\")\n",
    "            \n",
    "            if self.shape[-1] != other.shape[0]:\n",
    "                raise Exception(f\"Matmul not possible b/w shapes {self.shape} & {other.shape}\")\n",
    "            else:\n",
    "                self.shape = (self.shape[0], other.shape[-1])\n",
    "                if isinstance(other, lazyrepeatarray):\n",
    "                    self.add_op(function=lra_matmul, args=other)\n",
    "                elif isinstance(other, np.ndarray):\n",
    "                    self.add_op(function=np.matmul, args=other)\n",
    "                return self\n",
    "                \n",
    "    \n",
    "    def dot(self, other):\n",
    "        if isinstance(other, (int, np.integer, float, np.floating)):\n",
    "            self.data *= other\n",
    "            return self\n",
    "        elif isinstance(other, (np.ndarray, lazyrepeatarray)):\n",
    "            if other.shape[0] != self.shape[0]:\n",
    "                raise Exception\n",
    "            else:\n",
    "                pass\n",
    "#                 try: \n",
    "#                     self.shape = np.broadcast_shapes(self.shape, other.shape)\n",
    "\n",
    "#                     if isinstance(other, lazyrepeatarray):\n",
    "#                         self.add_op(function=np.add, args=other.data)\n",
    "#                     elif isinstance(other, np.ndarray):\n",
    "#                         self.add_op(function=np.add, args=other)\n",
    "#                     return self\n",
    "#                 except ValueError:\n",
    "#                     raise Exception(f\"Cannot broadcast shapes {self.shape} and {other.shape}\")\n",
    "    \n",
    "    \n",
    "    "
   ]
  },
  {
   "cell_type": "code",
   "execution_count": 13,
   "id": "a2bbad2e-4118-4a85-9b5c-43bcb9d1f7eb",
   "metadata": {},
   "outputs": [
    {
     "ename": "KeyboardInterrupt",
     "evalue": "",
     "output_type": "error",
     "traceback": [
      "\u001b[0;31m---------------------------------------------------------------------------\u001b[0m",
      "\u001b[0;31mKeyboardInterrupt\u001b[0m                         Traceback (most recent call last)",
      "Input \u001b[0;32mIn [13]\u001b[0m, in \u001b[0;36m<module>\u001b[0;34m\u001b[0m\n\u001b[1;32m      1\u001b[0m a \u001b[38;5;241m=\u001b[39m lazyrepeatarray(\u001b[38;5;241m1\u001b[39m, (\u001b[38;5;241m50000\u001b[39m, \u001b[38;5;241m60000\u001b[39m))\n\u001b[0;32m----> 2\u001b[0m b \u001b[38;5;241m=\u001b[39m \u001b[43mnp\u001b[49m\u001b[38;5;241;43m.\u001b[39;49m\u001b[43mrandom\u001b[49m\u001b[38;5;241;43m.\u001b[39;49m\u001b[43mrandom\u001b[49m\u001b[43m(\u001b[49m\u001b[43m(\u001b[49m\u001b[38;5;241;43m60000\u001b[39;49m\u001b[43m,\u001b[49m\u001b[43m \u001b[49m\u001b[38;5;241;43m50000\u001b[39;49m\u001b[43m)\u001b[49m\u001b[43m)\u001b[49m\n",
      "\u001b[0;31mKeyboardInterrupt\u001b[0m: "
     ]
    }
   ],
   "source": [
    "a = lazyrepeatarray(1, (50000, 60000))\n",
    "b = np.random.random((60000, 50000))"
   ]
  },
  {
   "cell_type": "code",
   "execution_count": null,
   "id": "ab78af4b-f28b-4c0b-b32b-f1564d69e384",
   "metadata": {},
   "outputs": [],
   "source": [
    "c = a.matmul(b)"
   ]
  },
  {
   "cell_type": "code",
   "execution_count": 3,
   "id": "56c56efb-ba3a-4d03-bd5a-ac090565040a",
   "metadata": {},
   "outputs": [],
   "source": [
    "a = lamatmulpeatarray(10, (5,6))\n",
    "b = np.random.random((6, 5))"
   ]
  },
  {
   "cell_type": "code",
   "execution_count": 4,
   "id": "bd417bed-dbed-4154-817e-49aa8f3778d6",
   "metadata": {},
   "outputs": [],
   "source": [
    "a = lazyrepeatarray(10, (10000, 10000))\n",
    "b = np.random.random((10000, 10000))"
   ]
  },
  {
   "cell_type": "code",
   "execution_count": 5,
   "id": "ab9041ec-3f10-4073-8538-1998a6380519",
   "metadata": {},
   "outputs": [
    {
     "name": "stdout",
     "output_type": "stream",
     "text": [
      "Time taken\n",
      "22.01602292060852\n"
     ]
    }
   ],
   "source": [
    "c = a.matmul(b)\n",
    "# print(c)\n",
    "import time\n",
    "start = time.time()\n",
    "c.evaluate()\n",
    "end = time.time()\n",
    "print(\"Time taken\")\n",
    "print(end - start)"
   ]
  },
  {
   "cell_type": "code",
   "execution_count": 14,
   "id": "ce5f433b-96f7-4d1e-aa12-6018bb55f181",
   "metadata": {},
   "outputs": [
    {
     "name": "stdout",
     "output_type": "stream",
     "text": [
      "lazyrepeatarray(data=10, shape=(5, 7))\n"
     ]
    },
    {
     "data": {
      "text/plain": [
       "array([[600., 600., 600., 600., 600., 600., 600.],\n",
       "       [600., 600., 600., 600., 600., 600., 600.],\n",
       "       [600., 600., 600., 600., 600., 600., 600.],\n",
       "       [600., 600., 600., 600., 600., 600., 600.],\n",
       "       [600., 600., 600., 600., 600., 600., 600.]])"
      ]
     },
     "execution_count": 14,
     "metadata": {},
     "output_type": "execute_result"
    }
   ],
   "source": [
    "a = lazyrepeatarray(10, (5,6))\n",
    "d = lazyrepeatarray(10, (6,7))\n",
    "\n",
    "c = a.matmul(d)\n",
    "print(c)\n",
    "c.evaluate()"
   ]
  },
  {
   "cell_type": "code",
   "execution_count": 7,
   "id": "d06c63ac-b029-4a1e-b2c1-6e131e33c001",
   "metadata": {},
   "outputs": [
    {
     "data": {
      "text/plain": [
       "array([[26., 26., 26., 26., 26., 26.],\n",
       "       [26., 26., 26., 26., 26., 26.],\n",
       "       [26., 26., 26., 26., 26., 26.],\n",
       "       [26., 26., 26., 26., 26., 26.],\n",
       "       [26., 26., 26., 26., 26., 26.]])"
      ]
     },
     "execution_count": 7,
     "metadata": {},
     "output_type": "execute_result"
    }
   ],
   "source": [
    "(a + a + 6).evaluate()"
   ]
  },
  {
   "cell_type": "code",
   "execution_count": 8,
   "id": "ab5ed866-38cb-4c3c-9884-4b723cd25b72",
   "metadata": {},
   "outputs": [],
   "source": [
    "a = lazyrepeatarray(10, (5,6))"
   ]
  },
  {
   "cell_type": "code",
   "execution_count": 9,
   "id": "cd9b9892-639e-4be8-bdbd-4fd6171747eb",
   "metadata": {},
   "outputs": [
    {
     "data": {
      "text/plain": [
       "array([[16., 16., 16., 16., 16., 16.],\n",
       "       [16., 16., 16., 16., 16., 16.],\n",
       "       [16., 16., 16., 16., 16., 16.],\n",
       "       [16., 16., 16., 16., 16., 16.],\n",
       "       [16., 16., 16., 16., 16., 16.]])"
      ]
     },
     "execution_count": 9,
     "metadata": {},
     "output_type": "execute_result"
    }
   ],
   "source": [
    "(a + 6).evaluate()"
   ]
  },
  {
   "cell_type": "code",
   "execution_count": 10,
   "id": "0180bc61-6dcc-44b0-ab76-670b1f8bb6b5",
   "metadata": {},
   "outputs": [
    {
     "data": {
      "text/plain": [
       "16"
      ]
     },
     "execution_count": 10,
     "metadata": {},
     "output_type": "execute_result"
    }
   ],
   "source": [
    "a.data"
   ]
  },
  {
   "cell_type": "code",
   "execution_count": 11,
   "id": "3ea11ad2-fa36-4c70-a26e-16d61a8ee503",
   "metadata": {},
   "outputs": [
    {
     "data": {
      "text/plain": [
       "[]"
      ]
     },
     "execution_count": 11,
     "metadata": {},
     "output_type": "execute_result"
    }
   ],
   "source": [
    "a.transforms"
   ]
  },
  {
   "cell_type": "code",
   "execution_count": 12,
   "id": "4c0fc8ea-0c1e-4c9b-90bf-a9469710aade",
   "metadata": {},
   "outputs": [
    {
     "data": {
      "text/plain": [
       "array(1, dtype=object)"
      ]
     },
     "execution_count": 12,
     "metadata": {},
     "output_type": "execute_result"
    }
   ],
   "source": [
    "np.ones_like(a)"
   ]
  },
  {
   "cell_type": "code",
   "execution_count": 13,
   "id": "d8fa7efc-6308-4773-8b21-c5e7fdbbddc5",
   "metadata": {},
   "outputs": [
    {
     "data": {
      "text/plain": [
       "array([7., 7., 7., 7., 7., 7.])"
      ]
     },
     "execution_count": 13,
     "metadata": {},
     "output_type": "execute_result"
    }
   ],
   "source": [
    "np.add(np.ones(6), 6)"
   ]
  },
  {
   "cell_type": "code",
   "execution_count": null,
   "id": "cc9ef28d-4253-4940-9ea4-88256dbc5da4",
   "metadata": {},
   "outputs": [],
   "source": []
  },
  {
   "cell_type": "code",
   "execution_count": null,
   "id": "c6f4974c-1941-490b-be31-8eae799fb623",
   "metadata": {},
   "outputs": [],
   "source": []
  },
  {
   "cell_type": "code",
   "execution_count": null,
   "id": "f68644a2-dd7a-4332-b042-ce3aeb42e157",
   "metadata": {},
   "outputs": [],
   "source": []
  },
  {
   "cell_type": "code",
   "execution_count": null,
   "id": "ca856290-3bab-4051-95f8-d4237d41814c",
   "metadata": {},
   "outputs": [],
   "source": []
  },
  {
   "cell_type": "code",
   "execution_count": null,
   "id": "13b4105c-4d65-48eb-bc92-48f9d4576a25",
   "metadata": {},
   "outputs": [],
   "source": []
  },
  {
   "cell_type": "code",
   "execution_count": null,
   "id": "9aa93a1d-b66c-44a6-bca0-159e2ca2e48e",
   "metadata": {},
   "outputs": [],
   "source": []
  },
  {
   "cell_type": "code",
   "execution_count": null,
   "id": "671fe4f5-d29d-46b3-93a2-3cda5caa570a",
   "metadata": {},
   "outputs": [],
   "source": []
  },
  {
   "cell_type": "code",
   "execution_count": null,
   "id": "edf2c377-38e7-4848-84dc-7719116f438f",
   "metadata": {},
   "outputs": [],
   "source": []
  }
 ],
 "metadata": {
  "kernelspec": {
   "display_name": "Python 3 (ipykernel)",
   "language": "python",
   "name": "python3"
  },
  "language_info": {
   "codemirror_mode": {
    "name": "ipython",
    "version": 3
   },
   "file_extension": ".py",
   "mimetype": "text/x-python",
   "name": "python",
   "nbconvert_exporter": "python",
   "pygments_lexer": "ipython3",
   "version": "3.9.10"
  }
 },
 "nbformat": 4,
 "nbformat_minor": 5
}
