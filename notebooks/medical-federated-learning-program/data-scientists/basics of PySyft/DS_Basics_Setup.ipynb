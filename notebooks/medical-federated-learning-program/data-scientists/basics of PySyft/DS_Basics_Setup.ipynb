{
 "cells": [
  {
   "cell_type": "markdown",
   "id": "54306f4c-e494-4580-9a61-4c7e8d228f44",
   "metadata": {},
   "source": [
    "Run these cells to prepare two domain nodes for the DS notebook demo"
   ]
  },
  {
   "cell_type": "code",
   "execution_count": null,
   "id": "581ab00d-acaa-49b8-abf5-072624b7201c",
   "metadata": {},
   "outputs": [],
   "source": [
    "import syft as sy\n",
    "import numpy as np"
   ]
  },
  {
   "cell_type": "code",
   "execution_count": null,
   "id": "61e3eef0-e459-4305-b08f-8addd2828ea4",
   "metadata": {},
   "outputs": [],
   "source": [
    "dataset1 = sy.Tensor(np.array([1,2,3,4])).private(min_val=0, max_val=5, data_subjects=[\"101\",\"101\",\"101\",\"101\"])\n",
    "dataset2 = sy.Tensor(np.array([1,2,3,4])).private(min_val=0, max_val=5, data_subjects=[\"102\",\"102\",\"102\",\"102\"])"
   ]
  },
  {
   "cell_type": "code",
   "execution_count": null,
   "id": "08c9dbfc-102d-407a-8a3f-c3e8a87d0ecd",
   "metadata": {},
   "outputs": [],
   "source": [
    "training_data_fb = np.array([\n",
    "    [1,0,1],\n",
    "    [1,1,1]]\n",
    ")\n",
    "\n",
    "training_targets_fb = np.array([[1,1]]).T\n",
    "\n",
    "training_data_fb = sy.Tensor(training_data_fb).private(\n",
    "    min_val=0,\n",
    "    max_val=1,\n",
    "    data_subjects=[\"HappyPerson\"] * np.ones_like(training_data_fb, dtype=\"object\"),\n",
    ")\n",
    "training_targets_fb = sy.Tensor(training_targets_fb).private(\n",
    "    min_val=0,\n",
    "    max_val=1,\n",
    "    data_subjects=[\"HappyPerson\"] * np.ones_like(training_targets_fb, dtype=\"object\"),\n",
    "    \n",
    ")"
   ]
  },
  {
   "cell_type": "code",
   "execution_count": null,
   "id": "fbb5b99c-c8d6-4947-a640-ccdd344b127f",
   "metadata": {},
   "outputs": [],
   "source": [
    "training_data_om = np.array([\n",
    "    [0, 0, 1],\n",
    "    [0, 1, 1]]\n",
    ")\n",
    "                        \n",
    "training_targets_om = np.array([[0, 0]]).T\n",
    "\n",
    "training_data_om = sy.Tensor(training_data_om).private(\n",
    "    min_val=0,\n",
    "    max_val=1,\n",
    "    data_subjects=[\"Rasswanth\"] * np.ones_like(training_data_om, dtype=\"object\"),\n",
    "    \n",
    ")\n",
    "training_targets_om = sy.Tensor(training_targets_om).private(\n",
    "    min_val=0,\n",
    "    max_val=1,\n",
    "    data_subjects=[\"Rasswanth\"] * np.ones_like(training_targets_om, dtype=\"object\"),\n",
    "    \n",
    ")\n"
   ]
  },
  {
   "cell_type": "code",
   "execution_count": null,
   "id": "79b1d9e1-1c99-41e3-bec8-15b7e6f413b3",
   "metadata": {},
   "outputs": [],
   "source": [
    "domain1 = sy.login(email=\"info@openmined.org\", password=\"changethis\", port=8081)\n",
    "\n",
    "domain2 = sy.login(email=\"info@openmined.org\", password=\"changethis\", port=8082)"
   ]
  },
  {
   "cell_type": "markdown",
   "id": "d90a6873-e4b9-46f4-a268-858f3e81edf5",
   "metadata": {},
   "source": [
    "<hr>"
   ]
  },
  {
   "cell_type": "code",
   "execution_count": null,
   "id": "d003c849-7447-4e65-bd4a-add4d2387e45",
   "metadata": {},
   "outputs": [],
   "source": [
    "domain1.load_dataset(assets={\"data\":dataset1}, name=\"Cohort 1 Data\", description=\"Test results from Cohort 1\")\n",
    "domain2.load_dataset(assets={\"data\":dataset2}, name=\"Cohort 2 Data\", description=\"Test results from Cohort 2\")"
   ]
  },
  {
   "cell_type": "code",
   "execution_count": null,
   "id": "6c450c04-2c61-4965-85c5-a47e0cc417f9",
   "metadata": {},
   "outputs": [],
   "source": [
    "domain1.load_dataset(\n",
    "    assets={\n",
    "        \"training_data\":training_data_fb,\n",
    "        \"training_targets\":training_targets_fb\n",
    "    },\n",
    "    name=\"Our training data for XOR networks!\",\n",
    "    description=\"Collected on Jan 27 2022\"\n",
    ")\n"
   ]
  },
  {
   "cell_type": "code",
   "execution_count": null,
   "id": "175dbb6b-b581-4ace-bbf7-ee80f96ba8ac",
   "metadata": {},
   "outputs": [],
   "source": [
    "domain2.load_dataset(\n",
    "    assets={\n",
    "        \"training_data\":training_data_om,\n",
    "        \"training_targets\":training_targets_om\n",
    "    },\n",
    "    name=\"Our training data for XOR networks!\",\n",
    "    description=\"Collected on Jan 27 2022\"\n",
    ")\n"
   ]
  },
  {
   "cell_type": "code",
   "execution_count": null,
   "id": "30240395-0f3d-4f38-b855-ae0d67abfb0f",
   "metadata": {},
   "outputs": [],
   "source": [
    "domain1.create_user(name=\"Sam Carter\", email=\"sam@stargate.net\", password=\"changethis\", budget=999999)"
   ]
  },
  {
   "cell_type": "code",
   "execution_count": null,
   "id": "b9bff3f2",
   "metadata": {},
   "outputs": [],
   "source": [
    "domain2.create_user(name=\"Sam Carter\", email=\"sam@stargate.net\", password=\"changethis\", budget=999999)"
   ]
  },
  {
   "cell_type": "markdown",
   "id": "b1a56995-12b4-4e58-98e8-d0e9603be830",
   "metadata": {},
   "source": [
    " "
   ]
  },
  {
   "cell_type": "code",
   "execution_count": null,
   "id": "401fcd00-a048-4ade-a4bd-168b76baf26b",
   "metadata": {},
   "outputs": [],
   "source": [
    "sy.networks"
   ]
  },
  {
   "cell_type": "code",
   "execution_count": null,
   "id": "8ca31128-5efd-4c65-9771-9d482cfaf9ad",
   "metadata": {},
   "outputs": [],
   "source": []
  }
 ],
 "metadata": {
  "interpreter": {
   "hash": "630449982b6186a6531308cd76ed4d510e9db65154e43844c2906c6a20ad2a6d"
  },
  "kernelspec": {
   "display_name": "Python 3 (ipykernel)",
   "language": "python",
   "name": "python3"
  },
  "language_info": {
   "codemirror_mode": {
    "name": "ipython",
    "version": 3
   },
   "file_extension": ".py",
   "mimetype": "text/x-python",
   "name": "python",
   "nbconvert_exporter": "python",
   "pygments_lexer": "ipython3",
   "version": "3.9.7"
  }
 },
 "nbformat": 4,
 "nbformat_minor": 5
}
