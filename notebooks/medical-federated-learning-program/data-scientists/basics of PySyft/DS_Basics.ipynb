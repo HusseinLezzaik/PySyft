{
 "cells": [
  {
   "cell_type": "markdown",
   "id": "2cb32e59-4cb7-4980-9284-270b26a53722",
   "metadata": {},
   "source": [
    "<img src=\"imgs/heading_title.jpg\" style=\"width: 100%; margin:0;\" />"
   ]
  },
  {
   "cell_type": "markdown",
   "id": "2957c250",
   "metadata": {},
   "source": [
    "<img src=\"imgs/heading_recap.png\" style=\"width: 100%; margin:0;\" />"
   ]
  },
  {
   "cell_type": "markdown",
   "id": "501351e3",
   "metadata": {},
   "source": [
    "<img src=\"imgs/heading_ds.png\" style=\"width: 100%; margin:0;\" />"
   ]
  },
  {
   "cell_type": "markdown",
   "id": "3b22dc53",
   "metadata": {},
   "source": [
    "![heading_overview_1](imgs/heading_overview.png)"
   ]
  },
  {
   "cell_type": "markdown",
   "id": "dcbe3269",
   "metadata": {},
   "source": [
    " "
   ]
  },
  {
   "cell_type": "markdown",
   "id": "0da570b7",
   "metadata": {},
   "source": [
    " "
   ]
  },
  {
   "cell_type": "markdown",
   "id": "abf211e8",
   "metadata": {},
   "source": [
    "<img src=\"imgs/login_tab.png\" style=\"width: 664px; margin:0;\"/>"
   ]
  },
  {
   "cell_type": "code",
   "execution_count": null,
   "id": "adc512ca",
   "metadata": {},
   "outputs": [],
   "source": [
    "import syft as sy\n",
    "\n",
    "ds_domain_node_1 = sy.login(\n",
    "    email=\"sam@stargate.net\", \n",
    "    password=\"changethis\", \n",
    "    port=8081\n",
    ")"
   ]
  },
  {
   "cell_type": "markdown",
   "id": "0a7a041e",
   "metadata": {},
   "source": [
    " "
   ]
  },
  {
   "cell_type": "markdown",
   "id": "207e9d88",
   "metadata": {},
   "source": [
    "<img src=\"imgs/tab_list_datasets.png\" style=\"width: 664px; margin:0;\" />"
   ]
  },
  {
   "cell_type": "code",
   "execution_count": null,
   "id": "6888a651",
   "metadata": {},
   "outputs": [],
   "source": [
    "ds_domain_node_1.datasets"
   ]
  },
  {
   "cell_type": "markdown",
   "id": "d5b9ff8a",
   "metadata": {},
   "source": [
    " "
   ]
  },
  {
   "cell_type": "markdown",
   "id": "279174b5",
   "metadata": {},
   "source": [
    " "
   ]
  },
  {
   "cell_type": "markdown",
   "id": "be929fe1",
   "metadata": {},
   "source": [
    "<img src=\"imgs/heading_remote_pointer.png\" style=\"width: 100%; margin:0;\"/>"
   ]
  },
  {
   "cell_type": "markdown",
   "id": "cfdc6b9b",
   "metadata": {},
   "source": [
    " "
   ]
  },
  {
   "cell_type": "markdown",
   "id": "0d8b3edd-5d0a-49da-bb38-a0edda167109",
   "metadata": {},
   "source": [
    "<img src=\"imgs/tab_dataset_pointer.png\" style=\"width: 664px; margin:0;\" />"
   ]
  },
  {
   "cell_type": "code",
   "execution_count": null,
   "id": "344d0cc5-d47e-4306-86ef-49cc7415e48b",
   "metadata": {},
   "outputs": [],
   "source": [
    "data = ds_domain_node_1.datasets[0][\"data\"]\n",
    "data"
   ]
  },
  {
   "cell_type": "markdown",
   "id": "3fded265",
   "metadata": {},
   "source": [
    " "
   ]
  },
  {
   "cell_type": "markdown",
   "id": "078af626",
   "metadata": {},
   "source": [
    " "
   ]
  },
  {
   "cell_type": "markdown",
   "id": "4e95d3e9",
   "metadata": {},
   "source": [
    "<img src=\"imgs/heading_remote_execution.png\" style=\"width: 100%; margin:0;\"/>"
   ]
  },
  {
   "cell_type": "markdown",
   "id": "8ffd1441",
   "metadata": {},
   "source": [
    " "
   ]
  },
  {
   "cell_type": "markdown",
   "id": "2f21c31b",
   "metadata": {},
   "source": [
    "<img src=\"imgs/tab_rpc.png\" style=\"width: 664px; margin:0;\" />"
   ]
  },
  {
   "cell_type": "markdown",
   "id": "b4cb7762-fd24-4b9f-9e04-6c6a68588b3b",
   "metadata": {},
   "source": [
    "So now we know that **Tensor Pointers** let you access data on another domain node without having to make a copy of it.\n",
    "But this is only half the story; afterall, we don't just want to access data, we want to *work with it!* How do we do that?\n",
    "\n",
    "The answer is something called **Remote Procedure Calls**. Let's start with our tensor pointer:"
   ]
  },
  {
   "cell_type": "markdown",
   "id": "347ecd1d",
   "metadata": {},
   "source": [
    " "
   ]
  },
  {
   "cell_type": "markdown",
   "id": "c20f7eca",
   "metadata": {},
   "source": [
    "<img src=\"imgs/tab_view_dataset_shape.png\" style=\"width: 664px; margin:0;\" />"
   ]
  },
  {
   "cell_type": "code",
   "execution_count": null,
   "id": "15971c8d-992f-43e9-af23-92c66b5b9d78",
   "metadata": {},
   "outputs": [],
   "source": [
    "data.public_shape"
   ]
  },
  {
   "cell_type": "markdown",
   "id": "3e021f6e",
   "metadata": {},
   "source": [
    " "
   ]
  },
  {
   "cell_type": "markdown",
   "id": "ea224405",
   "metadata": {},
   "source": [
    "<img src=\"imgs/tab_transpose_operation.png\" style=\"width: 664px; margin:0;\" />"
   ]
  },
  {
   "cell_type": "code",
   "execution_count": null,
   "id": "bfdb2dab-d797-4c2f-a89b-a0c63304a39e",
   "metadata": {},
   "outputs": [],
   "source": [
    "transformed_data = data.T"
   ]
  },
  {
   "cell_type": "markdown",
   "id": "9f38a956",
   "metadata": {},
   "source": [
    " "
   ]
  },
  {
   "cell_type": "markdown",
   "id": "10eef4ff",
   "metadata": {},
   "source": [
    "<img src=\"imgs/tab_transformed_data_shape.png\" style=\"width: 664px; margin:0;\" />"
   ]
  },
  {
   "cell_type": "code",
   "execution_count": null,
   "id": "5fb71677-a848-4df7-8a25-f0fa40ac8b26",
   "metadata": {},
   "outputs": [],
   "source": [
    "transformed_data.public_shape"
   ]
  },
  {
   "cell_type": "markdown",
   "id": "2da4aa66",
   "metadata": {},
   "source": [
    " "
   ]
  },
  {
   "cell_type": "markdown",
   "id": "371c54c4",
   "metadata": {},
   "source": [
    " "
   ]
  },
  {
   "cell_type": "markdown",
   "id": "45572ca6",
   "metadata": {},
   "source": [
    "<img src=\"imgs/heading_download_results.png\" style=\"width: 100%; margin:0;\"/>"
   ]
  },
  {
   "cell_type": "markdown",
   "id": "ea544b79",
   "metadata": {},
   "source": [
    " "
   ]
  },
  {
   "cell_type": "markdown",
   "id": "ff5af8de",
   "metadata": {},
   "source": [
    "<img src=\"imgs/tab_differential_privacy.png\" style=\"width: 664px; margin:0;\" />"
   ]
  },
  {
   "cell_type": "markdown",
   "id": "849ecfea-7550-496e-899b-81af1c75dfa7",
   "metadata": {},
   "source": [
    "To recap: \n",
    "- We now know that **Tensor Pointers** give a data scientist the ability to access data remotely\n",
    "- They can work on remote data (using **Remote Procedure Calls**) without physically having it on their device!\n",
    "\n",
    "Now let's say you've done your analysis. How do you actually get results? And how do we make sure the data scientist seeing the results of their analysis doesn't invade or violate anyone's privacy?\n",
    "\n",
    "The answer lies in something called **Differential Privacy**."
   ]
  },
  {
   "cell_type": "markdown",
   "id": "1bd39261",
   "metadata": {},
   "source": [
    " "
   ]
  },
  {
   "cell_type": "markdown",
   "id": "676a61f4",
   "metadata": {},
   "source": [
    "<img src=\"imgs/tab_allocated_pb.png\" style=\"width: 664px; margin:0;\" />"
   ]
  },
  {
   "cell_type": "code",
   "execution_count": null,
   "id": "7c210323-eadd-428e-a2e9-b56bac9a6f83",
   "metadata": {},
   "outputs": [],
   "source": [
    "ds_domain_node_1.privacy_budget"
   ]
  },
  {
   "cell_type": "markdown",
   "id": "c3eb8b62",
   "metadata": {},
   "source": [
    " "
   ]
  },
  {
   "cell_type": "markdown",
   "id": "60ac55fa",
   "metadata": {},
   "source": [
    "<img src=\"imgs/tab_download_private_data.png\" style=\"width: 664px; margin:0;\" />"
   ]
  },
  {
   "cell_type": "code",
   "execution_count": null,
   "id": "7e1d67a3-c18c-4380-8da9-c12a555589f4",
   "metadata": {
    "scrolled": false
   },
   "outputs": [],
   "source": [
    "transformed_data.get()"
   ]
  },
  {
   "cell_type": "markdown",
   "id": "3adb6e73-29bf-4318-97d2-94eb0f785606",
   "metadata": {},
   "source": [
    "As you can see, this failed since our data scientist is trying to download raw data that they don't have the permission for.\n",
    "\n",
    "They would retrieve this data by spending something called a **privacy budget.** They specify how much noise they want to add, and accordingly, their privacy budget gets deducted:"
   ]
  },
  {
   "cell_type": "markdown",
   "id": "da50e734",
   "metadata": {},
   "source": [
    " "
   ]
  },
  {
   "cell_type": "markdown",
   "id": "7d36be5b",
   "metadata": {},
   "source": [
    "<img src=\"imgs/tab_publish_results.png\" style=\"width: 664px; margin:0;\"/>"
   ]
  },
  {
   "cell_type": "code",
   "execution_count": null,
   "id": "e8d70cda-6b91-4392-a6bd-a795688903b5",
   "metadata": {},
   "outputs": [],
   "source": [
    "ptr = data.publish(sigma=0.5)"
   ]
  },
  {
   "cell_type": "markdown",
   "id": "674faa07",
   "metadata": {},
   "source": [
    " "
   ]
  },
  {
   "cell_type": "markdown",
   "id": "459a5f64",
   "metadata": {},
   "source": [
    "<img src=\"imgs/tab_download_result.png\" style=\"width: 664px; margin:0;\"/>"
   ]
  },
  {
   "cell_type": "code",
   "execution_count": null,
   "id": "827e2552-54ff-46ee-b9d9-0a1f7b308634",
   "metadata": {},
   "outputs": [],
   "source": [
    "res = ptr.get()\n",
    "res.decode()"
   ]
  },
  {
   "cell_type": "markdown",
   "id": "9898d301",
   "metadata": {},
   "source": [
    " "
   ]
  },
  {
   "cell_type": "markdown",
   "id": "39d410fc",
   "metadata": {},
   "source": [
    "<img src=\"imgs/tab_check_rem_pb.png\" style=\"width: 664px; margin:0;\" />"
   ]
  },
  {
   "cell_type": "code",
   "execution_count": null,
   "id": "43f1a828-4a10-4261-9315-8d8bed6a270c",
   "metadata": {},
   "outputs": [],
   "source": [
    "ds_domain_node_1.privacy_budget"
   ]
  },
  {
   "cell_type": "markdown",
   "id": "d8352c23",
   "metadata": {},
   "source": [
    " "
   ]
  },
  {
   "cell_type": "markdown",
   "id": "f4de1ca0",
   "metadata": {},
   "source": [
    "<img src=\"imgs/tab_download_transposed_data.png\" style=\"width: 664px; margin:0;\" />"
   ]
  },
  {
   "cell_type": "code",
   "execution_count": null,
   "id": "38c381a9-587e-40d6-9abc-64d974834869",
   "metadata": {},
   "outputs": [],
   "source": [
    "transformed_data"
   ]
  },
  {
   "cell_type": "code",
   "execution_count": null,
   "id": "57796128-72b7-43e9-97c6-8fb19cae53a0",
   "metadata": {},
   "outputs": [],
   "source": [
    "new_pointer = transformed_data.publish(sigma=0.5)"
   ]
  },
  {
   "cell_type": "code",
   "execution_count": null,
   "id": "d3e4993c-83d8-42ee-bac2-a255db63aa70",
   "metadata": {},
   "outputs": [],
   "source": [
    "result = new_pointer.get()"
   ]
  },
  {
   "cell_type": "code",
   "execution_count": null,
   "id": "a142f252-aaa3-47cb-805b-c485180a2d4a",
   "metadata": {},
   "outputs": [],
   "source": [
    "result.decode()"
   ]
  },
  {
   "cell_type": "code",
   "execution_count": null,
   "id": "fe0ad113-7af5-4b7c-9f1e-864f8a500227",
   "metadata": {},
   "outputs": [],
   "source": [
    "result.shape"
   ]
  },
  {
   "cell_type": "markdown",
   "id": "80228779",
   "metadata": {},
   "source": [
    " "
   ]
  },
  {
   "cell_type": "markdown",
   "id": "ad893bdd",
   "metadata": {},
   "source": [
    " "
   ]
  },
  {
   "cell_type": "markdown",
   "id": "653bb7d0",
   "metadata": {},
   "source": [
    "<img src=\"imgs/heading_multiple_domains.png\" style=\"width: 100%; margin:0;\"/>"
   ]
  },
  {
   "cell_type": "markdown",
   "id": "939da8bc",
   "metadata": {},
   "source": [
    " "
   ]
  },
  {
   "cell_type": "markdown",
   "id": "2ecbe1b6",
   "metadata": {},
   "source": [
    "<img src=\"imgs/tab_smpc.png\" style=\"width: 664px; margin:0;\" />"
   ]
  },
  {
   "cell_type": "markdown",
   "id": "c5757e42",
   "metadata": {},
   "source": [
    " "
   ]
  },
  {
   "cell_type": "markdown",
   "id": "28fb031b-a68d-45cc-8cb3-b4fee5bd444c",
   "metadata": {
    "tags": []
   },
   "source": [
    "Okay- so we created a Tensor Pointer, used its remote procedure calls to conduct an experiment, and got the result by spending some privacy budget. This combination lets you use domain from one domain node. But what if you wanted to combine data from several domain nodes?\n",
    "\n",
    "This is possible through a cryptographic tool called **Secure Multiparty Computation**, or SMPC for short.\n",
    "\n",
    "Let's start by logging onto a second domain node:"
   ]
  },
  {
   "cell_type": "markdown",
   "id": "e1a902bd",
   "metadata": {},
   "source": [
    " "
   ]
  },
  {
   "cell_type": "markdown",
   "id": "edc165e8",
   "metadata": {},
   "source": [
    "<img src=\"imgs/tab_login_to_second_domain.png\" style=\"width: 664px; margin:0;\" />"
   ]
  },
  {
   "cell_type": "code",
   "execution_count": null,
   "id": "0cab6eba-4859-4ba4-bf65-73f6ba69ba38",
   "metadata": {},
   "outputs": [],
   "source": [
    "ds_domain_node_2 = sy.login(email=\"sam@stargate.net\", password=\"changethis\", port=8082)"
   ]
  },
  {
   "cell_type": "markdown",
   "id": "63427ec1",
   "metadata": {},
   "source": [
    " "
   ]
  },
  {
   "cell_type": "markdown",
   "id": "3deaccc5",
   "metadata": {},
   "source": [
    "<img src=\"imgs/tab_second_domain_datasets.png\" style=\"width: 664px; margin:0;\" />"
   ]
  },
  {
   "cell_type": "code",
   "execution_count": null,
   "id": "5ba6dcb4-8fed-4e00-9ac2-c88207a02ba3",
   "metadata": {},
   "outputs": [],
   "source": [
    "ds_domain_node_2.datasets"
   ]
  },
  {
   "cell_type": "markdown",
   "id": "c75e9031",
   "metadata": {},
   "source": [
    " "
   ]
  },
  {
   "cell_type": "markdown",
   "id": "99d7b5c5-939f-48f9-98f8-7dc54ca81a0f",
   "metadata": {},
   "source": [
    "Let's say we want to take the two example datasets, and see the result of their addition. We would do this by simply adding the two tensor pointers:"
   ]
  },
  {
   "cell_type": "markdown",
   "id": "7b59f9fa",
   "metadata": {},
   "source": [
    "<img src=\"imgs/tab_add_data_from_two_domains.png\" style=\"width: 664px; margin:0;\" />"
   ]
  },
  {
   "cell_type": "code",
   "execution_count": null,
   "id": "a7af2fb0-673a-45f8-a163-2056f7c25418",
   "metadata": {},
   "outputs": [],
   "source": [
    "pointer1 = ds_domain_node_1.datasets[0][\"data\"]\n",
    "pointer2 = ds_domain_node_2.datasets[0][\"data\"]\n",
    "\n",
    "pointer_to_result = pointer1 + pointer2"
   ]
  },
  {
   "cell_type": "markdown",
   "id": "7d714bae",
   "metadata": {},
   "source": [
    " "
   ]
  },
  {
   "cell_type": "markdown",
   "id": "4bc7b924-7b01-442c-937e-3256e9c04d27",
   "metadata": {},
   "source": [
    "Once we have a pointer to the result, we can spend some privacy budget by publishing!"
   ]
  },
  {
   "cell_type": "markdown",
   "id": "aa83edeb",
   "metadata": {},
   "source": [
    "<img src=\"imgs/tab_sum_publish_results.png\" style=\"width: 664px; margin:0;\" />"
   ]
  },
  {
   "cell_type": "code",
   "execution_count": null,
   "id": "4dffa258-bdcf-46d6-9df5-fcb40ba96762",
   "metadata": {},
   "outputs": [],
   "source": [
    "published_result = pointer_to_result.publish(2)"
   ]
  },
  {
   "cell_type": "markdown",
   "id": "413d1cf9",
   "metadata": {},
   "source": [
    " "
   ]
  },
  {
   "cell_type": "markdown",
   "id": "de2a1648",
   "metadata": {},
   "source": [
    "<img src=\"imgs/tab_download_sum_result.png\" style=\"width: 664px; margin:0;\"/>"
   ]
  },
  {
   "cell_type": "code",
   "execution_count": null,
   "id": "e7980720",
   "metadata": {},
   "outputs": [],
   "source": [
    "published_result.get()"
   ]
  },
  {
   "cell_type": "markdown",
   "id": "60cb93fa-4e58-43b1-861e-221cdf3d6c9d",
   "metadata": {},
   "source": [
    "The power of SMPC is that it lets us calculate and use data that's stored in two separate places (maybe even separated by thousands of miles!) without exposing any private information to any party."
   ]
  },
  {
   "cell_type": "markdown",
   "id": "15165caa",
   "metadata": {},
   "source": [
    " "
   ]
  },
  {
   "cell_type": "markdown",
   "id": "4f9f7090",
   "metadata": {},
   "source": [
    "<img src=\"imgs/heading_network_nodes.png\" style=\"width: 100%; margin:0;\"/>"
   ]
  },
  {
   "cell_type": "markdown",
   "id": "f5281cd8",
   "metadata": {},
   "source": [
    " "
   ]
  },
  {
   "cell_type": "markdown",
   "id": "7bfbf109",
   "metadata": {},
   "source": [
    "<img src=\"imgs/tab_list_networks.png\" style=\"width: 664px; margin:0;\"/>"
   ]
  },
  {
   "cell_type": "code",
   "execution_count": null,
   "id": "d6952d42",
   "metadata": {},
   "outputs": [],
   "source": [
    "sy.networks"
   ]
  },
  {
   "cell_type": "markdown",
   "id": "6c62c462",
   "metadata": {},
   "source": [
    " "
   ]
  },
  {
   "cell_type": "markdown",
   "id": "8c875fa5",
   "metadata": {},
   "source": [
    "<img src=\"imgs/tab_select_network.png\" style=\"width: 664px; margin:0;\"/>"
   ]
  },
  {
   "cell_type": "code",
   "execution_count": null,
   "id": "5d0faf72",
   "metadata": {},
   "outputs": [],
   "source": [
    "network_client = sy.networks[\"GovAI Network 5\"]"
   ]
  },
  {
   "cell_type": "markdown",
   "id": "f3e18097",
   "metadata": {},
   "source": [
    " "
   ]
  },
  {
   "cell_type": "markdown",
   "id": "fa1d065c",
   "metadata": {},
   "source": [
    "<img src=\"imgs/tab_list_domains.png\" style=\"width: 664px; margin:0;\"/>"
   ]
  },
  {
   "cell_type": "code",
   "execution_count": null,
   "id": "d3f6f231",
   "metadata": {},
   "outputs": [],
   "source": [
    "network_client.domains"
   ]
  },
  {
   "cell_type": "markdown",
   "id": "d8531304",
   "metadata": {},
   "source": [
    " "
   ]
  },
  {
   "cell_type": "markdown",
   "id": "e44ee7c6",
   "metadata": {},
   "source": [
    "<img src=\"imgs/tab_select_a_domain.png\" style=\"width: 664px; margin:0;\"/>"
   ]
  },
  {
   "cell_type": "code",
   "execution_count": null,
   "id": "5334445a",
   "metadata": {},
   "outputs": [],
   "source": [
    "proxy_domain_client = network_client.domains[0]\n",
    "proxy_domain_client"
   ]
  },
  {
   "cell_type": "markdown",
   "id": "759f1b87",
   "metadata": {},
   "source": [
    " "
   ]
  },
  {
   "cell_type": "markdown",
   "id": "efc3ba62",
   "metadata": {},
   "source": [
    "<img src=\"imgs/tab_view_datasets_via_proxy.png\" style=\"width: 664px; margin:0;\"/>"
   ]
  },
  {
   "cell_type": "code",
   "execution_count": null,
   "id": "c702f66f",
   "metadata": {},
   "outputs": [],
   "source": [
    "proxy_domain_client.datasets"
   ]
  },
  {
   "cell_type": "markdown",
   "id": "75234ffd",
   "metadata": {},
   "source": [
    " "
   ]
  },
  {
   "cell_type": "markdown",
   "id": "7fb05f3c",
   "metadata": {},
   "source": [
    "<img src=\"imgs/tab_login_via_proxy.png\" style=\"width: 664px; margin:0;\"/>"
   ]
  },
  {
   "cell_type": "code",
   "execution_count": null,
   "id": "668c174f",
   "metadata": {},
   "outputs": [],
   "source": [
    "domain_client = proxy_domain_client.login(email=\"sam@stargate.net\", password=changethis)"
   ]
  },
  {
   "cell_type": "markdown",
   "id": "9db1be1c",
   "metadata": {},
   "source": [
    " "
   ]
  },
  {
   "cell_type": "markdown",
   "id": "848df0ad",
   "metadata": {},
   "source": [
    " "
   ]
  },
  {
   "cell_type": "markdown",
   "id": "fd231f23",
   "metadata": {},
   "source": [
    " "
   ]
  },
  {
   "cell_type": "markdown",
   "id": "799472fd",
   "metadata": {},
   "source": [
    "<img src=\"imgs/heading_session_recap.png\" style=\"width: 100%; margin:0;\"/>"
   ]
  },
  {
   "cell_type": "markdown",
   "id": "a4b133f4",
   "metadata": {},
   "source": [
    "# Thank You !!!"
   ]
  }
 ],
 "metadata": {
  "interpreter": {
   "hash": "630449982b6186a6531308cd76ed4d510e9db65154e43844c2906c6a20ad2a6d"
  },
  "kernelspec": {
   "display_name": "Python 3 (ipykernel)",
   "language": "python",
   "name": "python3"
  },
  "language_info": {
   "codemirror_mode": {
    "name": "ipython",
    "version": 3
   },
   "file_extension": ".py",
   "mimetype": "text/x-python",
   "name": "python",
   "nbconvert_exporter": "python",
   "pygments_lexer": "ipython3",
   "version": "3.9.7"
  }
 },
 "nbformat": 4,
 "nbformat_minor": 5
}
