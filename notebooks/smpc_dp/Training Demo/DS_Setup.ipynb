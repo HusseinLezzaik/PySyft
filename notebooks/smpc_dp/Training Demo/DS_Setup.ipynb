{
 "cells": [
  {
   "cell_type": "markdown",
   "id": "54306f4c-e494-4580-9a61-4c7e8d228f44",
   "metadata": {},
   "source": [
    "Run these cells to prepare two domain nodes for the DS notebook demo"
   ]
  },
  {
   "cell_type": "code",
   "execution_count": 1,
   "id": "581ab00d-acaa-49b8-abf5-072624b7201c",
   "metadata": {},
   "outputs": [
    {
     "name": "stderr",
     "output_type": "stream",
     "text": [
      "/home/shubham/anaconda3/envs/syft/lib/python3.9/site-packages/tqdm/auto.py:22: TqdmWarning: IProgress not found. Please update jupyter and ipywidgets. See https://ipywidgets.readthedocs.io/en/stable/user_install.html\n",
      "  from .autonotebook import tqdm as notebook_tqdm\n"
     ]
    }
   ],
   "source": [
    "import syft as sy\n",
    "import numpy as np"
   ]
  },
  {
   "cell_type": "code",
   "execution_count": 2,
   "id": "61e3eef0-e459-4305-b08f-8addd2828ea4",
   "metadata": {},
   "outputs": [],
   "source": [
    "dataset1 = sy.Tensor(np.array([1,2,3,4])).private(min_val=0, max_val=5, data_subjects=[\"101\",\"101\",\"101\",\"101\"])\n",
    "dataset2 = sy.Tensor(np.array([1,2,3,4])).private(min_val=0, max_val=5, data_subjects=[\"102\",\"102\",\"102\",\"102\"])"
   ]
  },
  {
   "cell_type": "code",
   "execution_count": 3,
   "id": "08c9dbfc-102d-407a-8a3f-c3e8a87d0ecd",
   "metadata": {},
   "outputs": [],
   "source": [
    "training_data_fb = np.array([\n",
    "    [1,0,1],\n",
    "    [1,1,1]]\n",
    ")\n",
    "\n",
    "training_targets_fb = np.array([[1,1]]).T\n",
    "\n",
    "training_data_fb = sy.Tensor(training_data_fb).private(\n",
    "    min_val=0,\n",
    "    max_val=1,\n",
    "    data_subjects=[\"HappyPerson\"] * training_data_fb.shape[0],\n",
    ")\n",
    "training_targets_fb = sy.Tensor(training_targets_fb).private(\n",
    "    min_val=0,\n",
    "    max_val=1,\n",
    "    data_subjects=[\"HappyPerson\"] * training_targets_fb.shape[0],\n",
    "    \n",
    ")"
   ]
  },
  {
   "cell_type": "code",
   "execution_count": 4,
   "id": "fbb5b99c-c8d6-4947-a640-ccdd344b127f",
   "metadata": {},
   "outputs": [],
   "source": [
    "training_data_om = np.array([\n",
    "    [0, 0, 1],\n",
    "    [0, 1, 1]]\n",
    ")\n",
    "                        \n",
    "training_targets_om = np.array([[0, 0]]).T\n",
    "\n",
    "training_data_om = sy.Tensor(training_data_om).private(\n",
    "    min_val=0,\n",
    "    max_val=1,\n",
    "    data_subjects=[\"Rasswanth\"] * training_data_om.shape[0],\n",
    "    \n",
    ")\n",
    "training_targets_om = sy.Tensor(training_targets_om).private(\n",
    "    min_val=0,\n",
    "    max_val=1,\n",
    "    data_subjects=[\"Rasswanth\"] * training_targets_om.shape[0],\n",
    "    \n",
    ")\n"
   ]
  },
  {
   "cell_type": "code",
   "execution_count": 5,
   "id": "79b1d9e1-1c99-41e3-bec8-15b7e6f413b3",
   "metadata": {},
   "outputs": [
    {
     "name": "stdout",
     "output_type": "stream",
     "text": [
      "WARNING: CHANGE YOUR USERNAME AND PASSWORD!!! \n",
      "\n",
      "Anyone can login as an admin to your node right now because your password is still the default PySyft username and password!!!\n",
      "\n",
      "Connecting to localhost... done! \t Logging into mystifying_sophia... done!\n",
      "WARNING: CHANGE YOUR USERNAME AND PASSWORD!!! \n",
      "\n",
      "Anyone can login as an admin to your node right now because your password is still the default PySyft username and password!!!\n",
      "\n",
      "Connecting to localhost... done! \t Logging into silly_salakhutdinov... done!\n"
     ]
    }
   ],
   "source": [
    "domain1 = sy.login(email=\"info@openmined.org\", password=\"changethis\", port=8081)\n",
    "\n",
    "domain2 = sy.login(email=\"info@openmined.org\", password=\"changethis\", port=8082)"
   ]
  },
  {
   "cell_type": "markdown",
   "id": "d90a6873-e4b9-46f4-a268-858f3e81edf5",
   "metadata": {},
   "source": [
    "<hr>"
   ]
  },
  {
   "cell_type": "code",
   "execution_count": 6,
   "id": "d003c849-7447-4e65-bd4a-add4d2387e45",
   "metadata": {},
   "outputs": [
    {
     "name": "stdout",
     "output_type": "stream",
     "text": [
      "Loading dataset...\r",
      "Loading dataset... checking assets...\r",
      "Loading dataset... checking dataset name for uniqueness...\r",
      "Loading dataset... checking dataset name for uniqueness...                                                                                                                    \r",
      "Loading dataset... checking asset types...                              \r",
      "Loading dataset... uploading...🚀                        "
     ]
    },
    {
     "name": "stderr",
     "output_type": "stream",
     "text": [
      "Uploading `data`: 100%|\u001b[32m███████████████████████████████████████████████\u001b[0m| 1/1 [00:00<00:00,  4.75it/s]\u001b[0m\n"
     ]
    },
    {
     "name": "stdout",
     "output_type": "stream",
     "text": [
      "\r",
      "Dataset is uploaded successfully !!! 🎉\n",
      "\n",
      "Run `<your client variable>.datasets` to see your new dataset loaded into your machine!\n",
      "Loading dataset...\r",
      "Loading dataset... checking assets...\r",
      "Loading dataset... checking dataset name for uniqueness...\r",
      "Loading dataset... checking dataset name for uniqueness...                                                                                                                    \r",
      "Loading dataset... checking asset types...                              \r",
      "Loading dataset... uploading...🚀                        "
     ]
    },
    {
     "name": "stderr",
     "output_type": "stream",
     "text": [
      "Uploading `data`: 100%|\u001b[32m███████████████████████████████████████████████\u001b[0m| 1/1 [00:00<00:00,  4.74it/s]\u001b[0m"
     ]
    },
    {
     "name": "stdout",
     "output_type": "stream",
     "text": [
      "\r",
      "Dataset is uploaded successfully !!! 🎉\n",
      "\n",
      "Run `<your client variable>.datasets` to see your new dataset loaded into your machine!\n"
     ]
    },
    {
     "name": "stderr",
     "output_type": "stream",
     "text": [
      "\n"
     ]
    }
   ],
   "source": [
    "domain1.load_dataset(assets={\"data\":dataset1}, name=\"Cohort 1 Data\", description=\"Test results from Cohort 1\")\n",
    "domain2.load_dataset(assets={\"data\":dataset2}, name=\"Cohort 2 Data\", description=\"Test results from Cohort 2\")"
   ]
  },
  {
   "cell_type": "code",
   "execution_count": 7,
   "id": "6c450c04-2c61-4965-85c5-a47e0cc417f9",
   "metadata": {},
   "outputs": [
    {
     "name": "stdout",
     "output_type": "stream",
     "text": [
      "Loading dataset...\r",
      "Loading dataset... checking assets...\r",
      "Loading dataset... checking dataset name for uniqueness...\r",
      "Loading dataset... checking dataset name for uniqueness...                                                                                                                    \r",
      "Loading dataset... checking asset types...                              \r",
      "Loading dataset... uploading...🚀                        "
     ]
    },
    {
     "name": "stderr",
     "output_type": "stream",
     "text": [
      "Uploading `training_data`: 100%|\u001b[32m█████████████████████████████████████\u001b[0m| 1/1 [00:00<00:00, 138.48it/s]\u001b[0m\n",
      "Uploading `training_targets`: 100%|\u001b[32m██████████████████████████████████\u001b[0m| 1/1 [00:00<00:00, 117.13it/s]\u001b[0m\n"
     ]
    },
    {
     "name": "stdout",
     "output_type": "stream",
     "text": [
      "\r",
      "Dataset is uploaded successfully !!! 🎉\n",
      "\n",
      "Run `<your client variable>.datasets` to see your new dataset loaded into your machine!\n"
     ]
    }
   ],
   "source": [
    "domain1.load_dataset(\n",
    "    assets={\n",
    "        \"training_data\":training_data_fb,\n",
    "        \"training_targets\":training_targets_fb\n",
    "    },\n",
    "    name=\"Our training data for XOR networks!\",\n",
    "    description=\"Collected on Jan 27 2022\"\n",
    ")\n"
   ]
  },
  {
   "cell_type": "code",
   "execution_count": 9,
   "id": "175dbb6b-b581-4ace-bbf7-ee80f96ba8ac",
   "metadata": {},
   "outputs": [
    {
     "name": "stdout",
     "output_type": "stream",
     "text": [
      "Loading dataset...\r",
      "Loading dataset... checking assets...\r",
      "Loading dataset... checking dataset name for uniqueness...\r",
      "Loading dataset... checking dataset name for uniqueness...                                                                                                                    \r",
      "Loading dataset... checking asset types...                              \r",
      "Loading dataset... uploading...🚀                        "
     ]
    },
    {
     "name": "stderr",
     "output_type": "stream",
     "text": [
      "Uploading `training_data`: 100%|\u001b[32m█████████████████████████████████████\u001b[0m| 1/1 [00:00<00:00, 139.77it/s]\u001b[0m\n",
      "Uploading `training_targets`: 100%|\u001b[32m██████████████████████████████████\u001b[0m| 1/1 [00:00<00:00, 141.88it/s]\u001b[0m\n"
     ]
    },
    {
     "name": "stdout",
     "output_type": "stream",
     "text": [
      "\r",
      "Dataset is uploaded successfully !!! 🎉\n",
      "\n",
      "Run `<your client variable>.datasets` to see your new dataset loaded into your machine!\n"
     ]
    }
   ],
   "source": [
    "domain2.load_dataset(\n",
    "    assets={\n",
    "        \"training_data\":training_data_om,\n",
    "        \"training_targets\":training_targets_om\n",
    "    },\n",
    "    name=\"Our training data for XOR networks!\",\n",
    "    description=\"Collected on Jan 27 2022\"\n",
    ")\n"
   ]
  },
  {
   "cell_type": "code",
   "execution_count": 10,
   "id": "30240395-0f3d-4f38-b855-ae0d67abfb0f",
   "metadata": {},
   "outputs": [
    {
     "name": "stdout",
     "output_type": "stream",
     "text": [
      "User created successfully!\n",
      "User created successfully!\n"
     ]
    },
    {
     "data": {
      "text/plain": [
       "{'name': 'Sam Carter',\n",
       " 'email': 'sam@stargate.net',\n",
       " 'password': 'changethis',\n",
       " 'url': 'localhost'}"
      ]
     },
     "execution_count": 10,
     "metadata": {},
     "output_type": "execute_result"
    }
   ],
   "source": [
    "domain1.create_user(name=\"Sam Carter\", email=\"sam@stargate.net\", password=\"changethis\", budget=999999)\n",
    "domain2.create_user(name=\"Sam Carter\", email=\"sam@stargate.net\", password=\"changethis\", budget=999999)"
   ]
  },
  {
   "cell_type": "markdown",
   "id": "b1a56995-12b4-4e58-98e8-d0e9603be830",
   "metadata": {},
   "source": [
    "<hr>"
   ]
  },
  {
   "cell_type": "code",
   "execution_count": 11,
   "id": "401fcd00-a048-4ade-a4bd-168b76baf26b",
   "metadata": {},
   "outputs": [
    {
     "data": {
      "text/html": [
       "<div>\n",
       "<style scoped>\n",
       "    .dataframe tbody tr th:only-of-type {\n",
       "        vertical-align: middle;\n",
       "    }\n",
       "\n",
       "    .dataframe tbody tr th {\n",
       "        vertical-align: top;\n",
       "    }\n",
       "\n",
       "    .dataframe thead th {\n",
       "        text-align: right;\n",
       "    }\n",
       "</style>\n",
       "<table border=\"1\" class=\"dataframe\">\n",
       "  <thead>\n",
       "    <tr style=\"text-align: right;\">\n",
       "      <th></th>\n",
       "      <th>name</th>\n",
       "      <th>host_or_ip</th>\n",
       "      <th>vpn_host_or_ip</th>\n",
       "      <th>protocol</th>\n",
       "      <th>port</th>\n",
       "      <th>admin_email</th>\n",
       "      <th>website</th>\n",
       "      <th>slack</th>\n",
       "      <th>slack_channel</th>\n",
       "    </tr>\n",
       "  </thead>\n",
       "  <tbody>\n",
       "    <tr>\n",
       "      <th>0</th>\n",
       "      <td>opengrid</td>\n",
       "      <td>40.83.192.48</td>\n",
       "      <td>100.64.0.1</td>\n",
       "      <td>http</td>\n",
       "      <td>80</td>\n",
       "      <td>support@openmined.org</td>\n",
       "      <td>https://www.openmined.org/</td>\n",
       "      <td>https://slack.openmined.org/</td>\n",
       "      <td>#support</td>\n",
       "    </tr>\n",
       "    <tr>\n",
       "      <th>1</th>\n",
       "      <td>GovAI Network 1</td>\n",
       "      <td>20.84.12.110</td>\n",
       "      <td>100.64.0.1</td>\n",
       "      <td>http</td>\n",
       "      <td>80</td>\n",
       "      <td>support@openmined.org</td>\n",
       "      <td>https://www.governance.ai/</td>\n",
       "      <td>https://slack.openmined.org/</td>\n",
       "      <td>#support</td>\n",
       "    </tr>\n",
       "    <tr>\n",
       "      <th>2</th>\n",
       "      <td>GovAI Network 2</td>\n",
       "      <td>20.84.14.55</td>\n",
       "      <td>100.64.0.1</td>\n",
       "      <td>http</td>\n",
       "      <td>80</td>\n",
       "      <td>support@openmined.org</td>\n",
       "      <td>https://www.governance.ai/</td>\n",
       "      <td>https://slack.openmined.org/</td>\n",
       "      <td>#support</td>\n",
       "    </tr>\n",
       "    <tr>\n",
       "      <th>3</th>\n",
       "      <td>GovAI Network 3</td>\n",
       "      <td>20.84.13.24</td>\n",
       "      <td>100.64.0.1</td>\n",
       "      <td>http</td>\n",
       "      <td>80</td>\n",
       "      <td>support@openmined.org</td>\n",
       "      <td>https://www.governance.ai/</td>\n",
       "      <td>https://slack.openmined.org/</td>\n",
       "      <td>#support</td>\n",
       "    </tr>\n",
       "    <tr>\n",
       "      <th>4</th>\n",
       "      <td>GovAI Network 4</td>\n",
       "      <td>20.84.14.84</td>\n",
       "      <td>100.64.0.1</td>\n",
       "      <td>http</td>\n",
       "      <td>80</td>\n",
       "      <td>support@openmined.org</td>\n",
       "      <td>https://www.governance.ai/</td>\n",
       "      <td>https://slack.openmined.org/</td>\n",
       "      <td>#support</td>\n",
       "    </tr>\n",
       "    <tr>\n",
       "      <th>5</th>\n",
       "      <td>GovAI Network 5</td>\n",
       "      <td>20.84.12.64</td>\n",
       "      <td>100.64.0.1</td>\n",
       "      <td>http</td>\n",
       "      <td>80</td>\n",
       "      <td>support@openmined.org</td>\n",
       "      <td>https://www.governance.ai/</td>\n",
       "      <td>https://slack.openmined.org/</td>\n",
       "      <td>#support</td>\n",
       "    </tr>\n",
       "    <tr>\n",
       "      <th>6</th>\n",
       "      <td>GovAI Network 6</td>\n",
       "      <td>20.84.14.94</td>\n",
       "      <td>100.64.0.1</td>\n",
       "      <td>http</td>\n",
       "      <td>80</td>\n",
       "      <td>support@openmined.org</td>\n",
       "      <td>https://www.governance.ai/</td>\n",
       "      <td>https://slack.openmined.org/</td>\n",
       "      <td>#support</td>\n",
       "    </tr>\n",
       "    <tr>\n",
       "      <th>7</th>\n",
       "      <td>GovAI Network 7</td>\n",
       "      <td>20.84.12.138</td>\n",
       "      <td>100.64.0.1</td>\n",
       "      <td>http</td>\n",
       "      <td>80</td>\n",
       "      <td>support@openmined.org</td>\n",
       "      <td>https://www.governance.ai/</td>\n",
       "      <td>https://slack.openmined.org/</td>\n",
       "      <td>#support</td>\n",
       "    </tr>\n",
       "    <tr>\n",
       "      <th>8</th>\n",
       "      <td>GovAI Network 8</td>\n",
       "      <td>20.84.14.128</td>\n",
       "      <td>100.64.0.1</td>\n",
       "      <td>http</td>\n",
       "      <td>80</td>\n",
       "      <td>support@openmined.org</td>\n",
       "      <td>https://www.governance.ai/</td>\n",
       "      <td>https://slack.openmined.org/</td>\n",
       "      <td>#support</td>\n",
       "    </tr>\n",
       "    <tr>\n",
       "      <th>9</th>\n",
       "      <td>GovAI Network 9</td>\n",
       "      <td>20.84.12.33</td>\n",
       "      <td>100.64.0.1</td>\n",
       "      <td>http</td>\n",
       "      <td>80</td>\n",
       "      <td>support@openmined.org</td>\n",
       "      <td>https://www.governance.ai/</td>\n",
       "      <td>https://slack.openmined.org/</td>\n",
       "      <td>#support</td>\n",
       "    </tr>\n",
       "    <tr>\n",
       "      <th>10</th>\n",
       "      <td>GovAI Network 10</td>\n",
       "      <td>20.84.8.208</td>\n",
       "      <td>100.64.0.1</td>\n",
       "      <td>http</td>\n",
       "      <td>80</td>\n",
       "      <td>support@openmined.org</td>\n",
       "      <td>https://www.governance.ai/</td>\n",
       "      <td>https://slack.openmined.org/</td>\n",
       "      <td>#support</td>\n",
       "    </tr>\n",
       "    <tr>\n",
       "      <th>11</th>\n",
       "      <td>GovAI Network 11</td>\n",
       "      <td>20.121.84.111</td>\n",
       "      <td>100.64.0.1</td>\n",
       "      <td>http</td>\n",
       "      <td>80</td>\n",
       "      <td>support@openmined.org</td>\n",
       "      <td>https://www.governance.ai/</td>\n",
       "      <td>https://slack.openmined.org/</td>\n",
       "      <td>#support</td>\n",
       "    </tr>\n",
       "    <tr>\n",
       "      <th>12</th>\n",
       "      <td>GovAI Network 12</td>\n",
       "      <td>20.237.105.191</td>\n",
       "      <td>100.64.0.1</td>\n",
       "      <td>http</td>\n",
       "      <td>80</td>\n",
       "      <td>support@openmined.org</td>\n",
       "      <td>https://www.governance.ai/</td>\n",
       "      <td>https://slack.openmined.org/</td>\n",
       "      <td>#support</td>\n",
       "    </tr>\n",
       "  </tbody>\n",
       "</table>\n",
       "</div>"
      ],
      "text/plain": [
       "                name      host_or_ip vpn_host_or_ip protocol  port            admin_email                     website                         slack slack_channel\n",
       "0           opengrid    40.83.192.48     100.64.0.1     http    80  support@openmined.org  https://www.openmined.org/  https://slack.openmined.org/      #support\n",
       "1    GovAI Network 1    20.84.12.110     100.64.0.1     http    80  support@openmined.org  https://www.governance.ai/  https://slack.openmined.org/      #support\n",
       "2    GovAI Network 2     20.84.14.55     100.64.0.1     http    80  support@openmined.org  https://www.governance.ai/  https://slack.openmined.org/      #support\n",
       "3    GovAI Network 3     20.84.13.24     100.64.0.1     http    80  support@openmined.org  https://www.governance.ai/  https://slack.openmined.org/      #support\n",
       "4    GovAI Network 4     20.84.14.84     100.64.0.1     http    80  support@openmined.org  https://www.governance.ai/  https://slack.openmined.org/      #support\n",
       "5    GovAI Network 5     20.84.12.64     100.64.0.1     http    80  support@openmined.org  https://www.governance.ai/  https://slack.openmined.org/      #support\n",
       "6    GovAI Network 6     20.84.14.94     100.64.0.1     http    80  support@openmined.org  https://www.governance.ai/  https://slack.openmined.org/      #support\n",
       "7    GovAI Network 7    20.84.12.138     100.64.0.1     http    80  support@openmined.org  https://www.governance.ai/  https://slack.openmined.org/      #support\n",
       "8    GovAI Network 8    20.84.14.128     100.64.0.1     http    80  support@openmined.org  https://www.governance.ai/  https://slack.openmined.org/      #support\n",
       "9    GovAI Network 9     20.84.12.33     100.64.0.1     http    80  support@openmined.org  https://www.governance.ai/  https://slack.openmined.org/      #support\n",
       "10  GovAI Network 10     20.84.8.208     100.64.0.1     http    80  support@openmined.org  https://www.governance.ai/  https://slack.openmined.org/      #support\n",
       "11  GovAI Network 11   20.121.84.111     100.64.0.1     http    80  support@openmined.org  https://www.governance.ai/  https://slack.openmined.org/      #support\n",
       "12  GovAI Network 12  20.237.105.191     100.64.0.1     http    80  support@openmined.org  https://www.governance.ai/  https://slack.openmined.org/      #support"
      ]
     },
     "execution_count": 11,
     "metadata": {},
     "output_type": "execute_result"
    }
   ],
   "source": [
    "sy.networks"
   ]
  },
  {
   "cell_type": "code",
   "execution_count": null,
   "id": "8ca31128-5efd-4c65-9771-9d482cfaf9ad",
   "metadata": {},
   "outputs": [],
   "source": []
  }
 ],
 "metadata": {
  "interpreter": {
   "hash": "630449982b6186a6531308cd76ed4d510e9db65154e43844c2906c6a20ad2a6d"
  },
  "kernelspec": {
   "display_name": "Python 3 (ipykernel)",
   "language": "python",
   "name": "python3"
  },
  "language_info": {
   "codemirror_mode": {
    "name": "ipython",
    "version": 3
   },
   "file_extension": ".py",
   "mimetype": "text/x-python",
   "name": "python",
   "nbconvert_exporter": "python",
   "pygments_lexer": "ipython3",
   "version": "3.9.7"
  }
 },
 "nbformat": 4,
 "nbformat_minor": 5
}
