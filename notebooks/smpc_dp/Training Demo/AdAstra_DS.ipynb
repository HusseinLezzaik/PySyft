{
 "cells": [
  {
   "cell_type": "markdown",
   "id": "2cb32e59-4cb7-4980-9284-270b26a53722",
   "metadata": {},
   "source": [
    "# Medical Federated Learning Program- Data Science\n",
    "\n",
    "Welcome!\n",
    "Up until this point, you were a Data Owner, who:\n",
    "- Deployed a domain node using a `hagrid launch` command\n",
    "- Annotated a dataset\n",
    "- Uploaded this annotated dataset to the domain node\n",
    "- Connected this domain node to a Network node\n",
    "- And created a Data Scientist account!"
   ]
  },
  {
   "cell_type": "markdown",
   "id": "ba65dfb0-cbbe-423e-ba34-af49f45a70b5",
   "metadata": {},
   "source": [
    "In this notebook, we'll be demonstrating the basic building blocks that enable a data scientist to use this data, while preserving the privacy, security and integrity of the data you uploaded to your domain node.\n",
    "\n",
    "Now let's walk through how a data scientist would go about using this data, and this infrastructure!"
   ]
  },
  {
   "cell_type": "markdown",
   "id": "0d8b3edd-5d0a-49da-bb38-a0edda167109",
   "metadata": {},
   "source": [
    "## Accessing data you don't have: Introducing Tensor Pointers\n",
    "\n",
    "The raw, private data that you uploaded to your domain node never leaves your domain node.\n",
    "How then do data scientists work with it? The answer is called a **Tensor Pointer.**\n",
    "\n",
    "\n",
    "Let's login to our domain node as the Data Scientist:"
   ]
  },
  {
   "cell_type": "code",
   "execution_count": 1,
   "id": "e05e26df-1de5-4c18-9f4e-d55ab749cf85",
   "metadata": {},
   "outputs": [
    {
     "name": "stdout",
     "output_type": "stream",
     "text": [
      "WARNING: CHANGE YOUR PASSWORD!!! \n",
      "\n",
      "Anyone can login as an admin to your node right now because your password is still the default PySyft password!!!\n",
      "\n",
      "Connecting to localhost... done! \t Logging into canada... done!\n"
     ]
    }
   ],
   "source": [
    "import syft as sy\n",
    "\n",
    "# Login to the domain node as a DS\n",
    "ds_domain_node_1 = sy.login(email=\"sam@stargate.net\", password=\"changethis\", port=8081)"
   ]
  },
  {
   "cell_type": "markdown",
   "id": "d324c770-97fc-4a7a-864a-fac0862c5be4",
   "metadata": {},
   "source": [
    "<hr>\n",
    "**We've logged in!**\n",
    "\n",
    "Now as the data scientist, let's see which datasets are on this domain node:"
   ]
  },
  {
   "cell_type": "code",
   "execution_count": 2,
   "id": "3db865e7-7066-453c-8e5c-329c17bbaf4b",
   "metadata": {},
   "outputs": [
    {
     "data": {
      "text/html": [
       "<style>\n",
       "                #myInput {\n",
       "                  background-position: 10px 12px; /* Position the search icon */\n",
       "                  background-repeat: no-repeat; /* Do not repeat the icon image */\n",
       "                  background-color: #bbb;\n",
       "                  width: 98%; /* Full-width */\n",
       "                  font-size: 14px; /* Increase font-size */\n",
       "                  padding: 12px 20px 12px 40px; /* Add some padding */\n",
       "                  border: 1px solid #ddd; /* Add a grey border */\n",
       "                  margin-bottom: 12px; /* Add some space below the input */\n",
       "                }\n",
       "\n",
       "                #myTable {\n",
       "                  border-collapse: collapse; /* Collapse borders */\n",
       "                  width: 100%; /* Full-width */\n",
       "                  border: 1px solid #ddd; /* Add a grey border */\n",
       "                  font-size: 14px; /* Increase font-size */\n",
       "                }\n",
       "\n",
       "                #myTable th, #myTable td {\n",
       "                  text-align: left; /* Left-align text */\n",
       "                  padding: 10px; /* Add padding */\n",
       "                }\n",
       "\n",
       "                #myTable tr {\n",
       "                  /* Add a bottom border to all table rows */\n",
       "                  border-bottom: 1px solid #ddd;\n",
       "                }\n",
       "\n",
       "                #myTable tr.header, #myTable tr:hover {\n",
       "                  /* Add a grey background color to the table header and on hover */\n",
       "                  background-color: #777;\n",
       "                }\n",
       "                </style>\n",
       "\n",
       "                <table id=\"myTable\" style=\"width:1000px\">\n",
       "                  <tr class=\"header\">\n",
       "                    <th style=\"width:30px\">Idx</th>\n",
       "                    <th style=\"width:20%;\">Name</th>\n",
       "                    <th style=\"width:35%;\">Description</th>\n",
       "                    <th style=\"width:20%;\">Assets</th>\n",
       "                    <th style=\"width:300px;\">Id</th>\n",
       "                  </tr>\n",
       "                \n",
       "\n",
       "          <tr>\n",
       "            <td>[0]</td>\n",
       "            <td>TissueMNIST</td>\n",
       "            <td>This dataset is a modified form of TissueMNIST which is made available from the Broad Bioimage Benchmark Collection.</td>\n",
       "            <td>[\"train_images\"] -> int64<br /><br />[\"train_labels\"] -> int64<br /><br />[\"val_images\"] -> int64<br /><br />...<br /><br /></td>\n",
       "            <td>39f5779b-27f2-4156-b3d2-ef037a0f2fb5</td>\n",
       "          </tr>\n",
       "\n",
       "          <tr>\n",
       "            <td>[1]</td>\n",
       "            <td>Cohort 1 Data</td>\n",
       "            <td>Test results from Cohort 1</td>\n",
       "            <td>[\"data\"] -> int64<br /><br /></td>\n",
       "            <td>25cf2c92-5fa6-4da8-a1c9-4d50ae2ee7e0</td>\n",
       "          </tr>\n",
       "        </table>\n",
       "\n",
       "        <script>\n",
       "        function myFunction() {\n",
       "          // Declare variables\n",
       "          var input, filter, table, tr, td, i, txtValue;\n",
       "          input = document.getElementById(\"myInput\");\n",
       "          filter = input.value.toUpperCase();\n",
       "          table = document.getElementById(\"myTable\");\n",
       "          tr = table.getElementsByTagName(\"tr\");\n",
       "\n",
       "          // Loop through all table rows, and hide those who don't match the search query\n",
       "          for (i = 0; i < tr.length; i++) {\n",
       "            name_td = tr[i].getElementsByTagName(\"td\")[1];\n",
       "            desc_td = tr[i].getElementsByTagName(\"td\")[2];\n",
       "            asset_td = tr[i].getElementsByTagName(\"td\")[3];\n",
       "            id_td = tr[i].getElementsByTagName(\"td\")[4];\n",
       "            if (name_td || desc_td || asset_td || id_td) {\n",
       "              name_txtValue = name_td.textContent || name_td.innerText;\n",
       "              desc_txtValue = desc_td.textContent || name_td.innerText;\n",
       "              asset_txtValue = asset_td.textContent || name_td.innerText;\n",
       "              id_txtValue = id_td.textContent || name_td.innerText;\n",
       "              name_bool = name_txtValue.toUpperCase().indexOf(filter) > -1;\n",
       "              desc_bool = desc_txtValue.toUpperCase().indexOf(filter) > -1;\n",
       "              asset_bool = asset_txtValue.toUpperCase().indexOf(filter) > -1;\n",
       "              id_bool = id_txtValue.toUpperCase().indexOf(filter) > -1;\n",
       "              if (name_bool || desc_bool || asset_bool || id_bool) {\n",
       "                tr[i].style.display = \"\";\n",
       "              } else {\n",
       "                tr[i].style.display = \"none\";\n",
       "              }\n",
       "            }\n",
       "          }\n",
       "        }\n",
       "        </script>"
      ],
      "text/plain": [
       "<syft.core.node.common.client_manager.dataset_api.DatasetRequestAPI at 0x7f6db8fdb0a0>"
      ]
     },
     "execution_count": 2,
     "metadata": {},
     "output_type": "execute_result"
    }
   ],
   "source": [
    "ds_domain_node_1.datasets"
   ]
  },
  {
   "cell_type": "code",
   "execution_count": 3,
   "id": "344d0cc5-d47e-4306-86ef-49cc7415e48b",
   "metadata": {},
   "outputs": [],
   "source": [
    "data = ds_domain_node_1.datasets[-1][\"data\"]"
   ]
  },
  {
   "cell_type": "code",
   "execution_count": 4,
   "id": "3dd98ab8-cff3-45f0-a33d-71ce615145dd",
   "metadata": {},
   "outputs": [
    {
     "data": {
      "text/plain": [
       "array([4, 4, 2, 2])\n",
       "\n",
       " (The data printed above is synthetic - it's an imitation of the real data.)"
      ]
     },
     "execution_count": 4,
     "metadata": {},
     "output_type": "execute_result"
    }
   ],
   "source": [
    "data"
   ]
  },
  {
   "cell_type": "markdown",
   "id": "b4cb7762-fd24-4b9f-9e04-6c6a68588b3b",
   "metadata": {},
   "source": [
    "## Working with data you don't have: Remote Procedure Calls\n",
    "\n",
    "So now we know that **Tensor Pointers** let you access data on another domain node without having to make a copy of it.\n",
    "But this is only half the story; afterall, we don't just want to access data, we want to *work with it!* How do we do that?\n",
    "\n",
    "The answer is something called **Remote Procedure Calls**. Let's start with our tensor pointer:"
   ]
  },
  {
   "cell_type": "code",
   "execution_count": 5,
   "id": "15971c8d-992f-43e9-af23-92c66b5b9d78",
   "metadata": {},
   "outputs": [
    {
     "data": {
      "text/plain": [
       "(4,)"
      ]
     },
     "execution_count": 5,
     "metadata": {},
     "output_type": "execute_result"
    }
   ],
   "source": [
    "data.public_shape"
   ]
  },
  {
   "cell_type": "code",
   "execution_count": 6,
   "id": "bfdb2dab-d797-4c2f-a89b-a0c63304a39e",
   "metadata": {},
   "outputs": [],
   "source": [
    "transformed_data = data.T"
   ]
  },
  {
   "cell_type": "code",
   "execution_count": 7,
   "id": "5fb71677-a848-4df7-8a25-f0fa40ac8b26",
   "metadata": {},
   "outputs": [
    {
     "data": {
      "text/plain": [
       "(4,)"
      ]
     },
     "execution_count": 7,
     "metadata": {},
     "output_type": "execute_result"
    }
   ],
   "source": [
    "transformed_data.public_shape"
   ]
  },
  {
   "cell_type": "markdown",
   "id": "849ecfea-7550-496e-899b-81af1c75dfa7",
   "metadata": {},
   "source": [
    "## Getting results you can see: Differential Privacy\n",
    "\n",
    "To recap: \n",
    "- We now know that **Tensor Pointers** give a data scientist the ability to access data remotely\n",
    "- They can work on remote data (using **Remote Procedure Calls**) without physically having it on their device!\n",
    "\n",
    "Now let's say you've done your analysis. How do you actually get results? And how do we make sure the data scientist seeing the results of their analysis doesn't invade or violate anyone's privacy?\n",
    "\n",
    "The answer lies in something called **Differential Privacy**."
   ]
  },
  {
   "cell_type": "code",
   "execution_count": 8,
   "id": "7c210323-eadd-428e-a2e9-b56bac9a6f83",
   "metadata": {},
   "outputs": [
    {
     "data": {
      "text/plain": [
       "9999.0"
      ]
     },
     "execution_count": 8,
     "metadata": {},
     "output_type": "execute_result"
    }
   ],
   "source": [
    "ds_domain_node_1.privacy_budget"
   ]
  },
  {
   "cell_type": "code",
   "execution_count": 9,
   "id": "7e1d67a3-c18c-4380-8da9-c12a555589f4",
   "metadata": {},
   "outputs": [
    {
     "name": "stderr",
     "output_type": "stream",
     "text": [
      "[2022-06-08T04:13:00.621489+0000][CRITICAL][logger]][3014356] You do not have permission to .get() Object with ID: <UID: ce88ef0131d84315a79c73d2960700ff> on node canada Please submit a request.\n"
     ]
    },
    {
     "ename": "AuthorizationException",
     "evalue": "You do not have permission to .get() Object with ID: <UID: ce88ef0131d84315a79c73d2960700ff> on node canada Please submit a request.",
     "output_type": "error",
     "traceback": [
      "\u001b[0;31m---------------------------------------------------------------------------\u001b[0m",
      "\u001b[0;31mAuthorizationException\u001b[0m                    Traceback (most recent call last)",
      "\u001b[0;32m/tmp/ipykernel_3014356/1518016996.py\u001b[0m in \u001b[0;36m<module>\u001b[0;34m\u001b[0m\n\u001b[0;32m----> 1\u001b[0;31m \u001b[0mtransformed_data\u001b[0m\u001b[0;34m.\u001b[0m\u001b[0mget\u001b[0m\u001b[0;34m(\u001b[0m\u001b[0;34m)\u001b[0m\u001b[0;34m\u001b[0m\u001b[0;34m\u001b[0m\u001b[0m\n\u001b[0m",
      "\u001b[0;32m~/PySyft/packages/syft/src/syft/core/pointer/pointer.py\u001b[0m in \u001b[0;36mget\u001b[0;34m(self, request_block, timeout_secs, reason, delete_obj, verbose, proxy_only)\u001b[0m\n\u001b[1;32m    394\u001b[0m \u001b[0;34m\u001b[0m\u001b[0m\n\u001b[1;32m    395\u001b[0m         \u001b[0;32mif\u001b[0m \u001b[0;32mnot\u001b[0m \u001b[0mrequest_block\u001b[0m\u001b[0;34m:\u001b[0m\u001b[0;34m\u001b[0m\u001b[0;34m\u001b[0m\u001b[0m\n\u001b[0;32m--> 396\u001b[0;31m             result = self._get(\n\u001b[0m\u001b[1;32m    397\u001b[0m                 \u001b[0mdelete_obj\u001b[0m\u001b[0;34m=\u001b[0m\u001b[0mdelete_obj\u001b[0m\u001b[0;34m,\u001b[0m \u001b[0mverbose\u001b[0m\u001b[0;34m=\u001b[0m\u001b[0mverbose\u001b[0m\u001b[0;34m,\u001b[0m \u001b[0mproxy_only\u001b[0m\u001b[0;34m=\u001b[0m\u001b[0mproxy_only\u001b[0m\u001b[0;34m\u001b[0m\u001b[0;34m\u001b[0m\u001b[0m\n\u001b[1;32m    398\u001b[0m             )\n",
      "\u001b[0;32m~/PySyft/packages/syft/src/syft/core/pointer/pointer.py\u001b[0m in \u001b[0;36m_get\u001b[0;34m(self, delete_obj, verbose, proxy_only)\u001b[0m\n\u001b[1;32m    216\u001b[0m         )\n\u001b[1;32m    217\u001b[0m \u001b[0;34m\u001b[0m\u001b[0m\n\u001b[0;32m--> 218\u001b[0;31m         \u001b[0mobj\u001b[0m \u001b[0;34m=\u001b[0m \u001b[0mself\u001b[0m\u001b[0;34m.\u001b[0m\u001b[0mclient\u001b[0m\u001b[0;34m.\u001b[0m\u001b[0msend_immediate_msg_with_reply\u001b[0m\u001b[0;34m(\u001b[0m\u001b[0mmsg\u001b[0m\u001b[0;34m=\u001b[0m\u001b[0mobj_msg\u001b[0m\u001b[0;34m)\u001b[0m\u001b[0;34m\u001b[0m\u001b[0;34m\u001b[0m\u001b[0m\n\u001b[0m\u001b[1;32m    219\u001b[0m         \u001b[0;32mif\u001b[0m \u001b[0;32mnot\u001b[0m \u001b[0mproxy_only\u001b[0m \u001b[0;32mand\u001b[0m \u001b[0mobj\u001b[0m\u001b[0;34m.\u001b[0m\u001b[0mobj\u001b[0m\u001b[0;34m.\u001b[0m\u001b[0mis_proxy\u001b[0m\u001b[0;34m:\u001b[0m\u001b[0;34m\u001b[0m\u001b[0;34m\u001b[0m\u001b[0m\n\u001b[1;32m    220\u001b[0m             \u001b[0mpresigned_url_path\u001b[0m \u001b[0;34m=\u001b[0m \u001b[0mobj\u001b[0m\u001b[0;34m.\u001b[0m\u001b[0mobj\u001b[0m\u001b[0;34m.\u001b[0m\u001b[0m_data\u001b[0m\u001b[0;34m.\u001b[0m\u001b[0murl\u001b[0m\u001b[0;34m\u001b[0m\u001b[0;34m\u001b[0m\u001b[0m\n",
      "\u001b[0;32m~/PySyft/packages/syft/src/syft/core/node/common/client.py\u001b[0m in \u001b[0;36msend_immediate_msg_with_reply\u001b[0;34m(self, msg, timeout, route_index)\u001b[0m\n\u001b[1;32m    248\u001b[0m                 \u001b[0mexception\u001b[0m \u001b[0;34m=\u001b[0m \u001b[0mexception_msg\u001b[0m\u001b[0;34m.\u001b[0m\u001b[0mexception_type\u001b[0m\u001b[0;34m(\u001b[0m\u001b[0mexception_msg\u001b[0m\u001b[0;34m.\u001b[0m\u001b[0mexception_msg\u001b[0m\u001b[0;34m)\u001b[0m\u001b[0;34m\u001b[0m\u001b[0;34m\u001b[0m\u001b[0m\n\u001b[1;32m    249\u001b[0m                 \u001b[0merror\u001b[0m\u001b[0;34m(\u001b[0m\u001b[0mstr\u001b[0m\u001b[0;34m(\u001b[0m\u001b[0mexception\u001b[0m\u001b[0;34m)\u001b[0m\u001b[0;34m)\u001b[0m\u001b[0;34m\u001b[0m\u001b[0;34m\u001b[0m\u001b[0m\n\u001b[0;32m--> 250\u001b[0;31m                 \u001b[0mtraceback_and_raise\u001b[0m\u001b[0;34m(\u001b[0m\u001b[0mexception\u001b[0m\u001b[0;34m)\u001b[0m\u001b[0;34m\u001b[0m\u001b[0;34m\u001b[0m\u001b[0m\n\u001b[0m\u001b[1;32m    251\u001b[0m             \u001b[0;32melse\u001b[0m\u001b[0;34m:\u001b[0m\u001b[0;34m\u001b[0m\u001b[0;34m\u001b[0m\u001b[0m\n\u001b[1;32m    252\u001b[0m                 \u001b[0;32mreturn\u001b[0m \u001b[0mresponse\u001b[0m\u001b[0;34m.\u001b[0m\u001b[0mmessage\u001b[0m\u001b[0;34m\u001b[0m\u001b[0;34m\u001b[0m\u001b[0m\n",
      "\u001b[0;32m~/PySyft/packages/syft/src/syft/logger.py\u001b[0m in \u001b[0;36mtraceback_and_raise\u001b[0;34m(e, verbose)\u001b[0m\n\u001b[1;32m     68\u001b[0m     \u001b[0;32mif\u001b[0m \u001b[0;32mnot\u001b[0m \u001b[0missubclass\u001b[0m\u001b[0;34m(\u001b[0m\u001b[0mtype\u001b[0m\u001b[0;34m(\u001b[0m\u001b[0me\u001b[0m\u001b[0;34m)\u001b[0m\u001b[0;34m,\u001b[0m \u001b[0mException\u001b[0m\u001b[0;34m)\u001b[0m\u001b[0;34m:\u001b[0m\u001b[0;34m\u001b[0m\u001b[0;34m\u001b[0m\u001b[0m\n\u001b[1;32m     69\u001b[0m         \u001b[0me\u001b[0m \u001b[0;34m=\u001b[0m \u001b[0mException\u001b[0m\u001b[0;34m(\u001b[0m\u001b[0me\u001b[0m\u001b[0;34m)\u001b[0m\u001b[0;34m\u001b[0m\u001b[0;34m\u001b[0m\u001b[0m\n\u001b[0;32m---> 70\u001b[0;31m     \u001b[0;32mraise\u001b[0m \u001b[0me\u001b[0m\u001b[0;34m\u001b[0m\u001b[0;34m\u001b[0m\u001b[0m\n\u001b[0m\u001b[1;32m     71\u001b[0m \u001b[0;34m\u001b[0m\u001b[0m\n\u001b[1;32m     72\u001b[0m \u001b[0;34m\u001b[0m\u001b[0m\n",
      "\u001b[0;31mAuthorizationException\u001b[0m: You do not have permission to .get() Object with ID: <UID: ce88ef0131d84315a79c73d2960700ff> on node canada Please submit a request."
     ]
    }
   ],
   "source": [
    "transformed_data.get()"
   ]
  },
  {
   "cell_type": "markdown",
   "id": "3adb6e73-29bf-4318-97d2-94eb0f785606",
   "metadata": {},
   "source": [
    "As you can see, this failed since our data scientist is trying to download raw data that they don't have the permission for.\n",
    "\n",
    "They would retrieve this data by spending something called a **privacy budget.** They specify how much noise they want to add, and accordingly, their privacy budget gets deducted:"
   ]
  },
  {
   "cell_type": "code",
   "execution_count": 10,
   "id": "e8d70cda-6b91-4392-a6bd-a795688903b5",
   "metadata": {},
   "outputs": [],
   "source": [
    "ptr = data.publish(sigma=0.5)"
   ]
  },
  {
   "cell_type": "code",
   "execution_count": 11,
   "id": "827e2552-54ff-46ee-b9d9-0a1f7b308634",
   "metadata": {},
   "outputs": [
    {
     "name": "stderr",
     "output_type": "stream",
     "text": [
      "kj/filesystem-disk-unix.c++:1690: warning: PWD environment variable doesn't match current directory; pwd = /home/azureuser\n"
     ]
    }
   ],
   "source": [
    "res = ptr.get()"
   ]
  },
  {
   "cell_type": "code",
   "execution_count": 12,
   "id": "402ea635-0174-49a3-9178-9268e1f3813a",
   "metadata": {},
   "outputs": [
    {
     "data": {
      "text/plain": [
       "array([-1.15815735, -0.9848175 , -0.92993164,  0.37869263])"
      ]
     },
     "execution_count": 12,
     "metadata": {},
     "output_type": "execute_result"
    }
   ],
   "source": [
    "res.decode()"
   ]
  },
  {
   "cell_type": "code",
   "execution_count": 13,
   "id": "43f1a828-4a10-4261-9315-8d8bed6a270c",
   "metadata": {},
   "outputs": [
    {
     "data": {
      "text/plain": [
       "9999.0"
      ]
     },
     "execution_count": 13,
     "metadata": {},
     "output_type": "execute_result"
    }
   ],
   "source": [
    "ds_domain_node_1.privacy_budget"
   ]
  },
  {
   "cell_type": "code",
   "execution_count": 14,
   "id": "38c381a9-587e-40d6-9abc-64d974834869",
   "metadata": {},
   "outputs": [
    {
     "data": {
      "text/plain": [
       "array([4, 4, 2, 2])\n",
       "\n",
       " (The data printed above is synthetic - it's an imitation of the real data.)"
      ]
     },
     "execution_count": 14,
     "metadata": {},
     "output_type": "execute_result"
    }
   ],
   "source": [
    "transformed_data"
   ]
  },
  {
   "cell_type": "code",
   "execution_count": 15,
   "id": "57796128-72b7-43e9-97c6-8fb19cae53a0",
   "metadata": {},
   "outputs": [],
   "source": [
    "new_pointer = transformed_data.publish(sigma=0.5)"
   ]
  },
  {
   "cell_type": "code",
   "execution_count": 16,
   "id": "d3e4993c-83d8-42ee-bac2-a255db63aa70",
   "metadata": {},
   "outputs": [],
   "source": [
    "result = new_pointer.get()"
   ]
  },
  {
   "cell_type": "code",
   "execution_count": 17,
   "id": "a142f252-aaa3-47cb-805b-c485180a2d4a",
   "metadata": {},
   "outputs": [
    {
     "data": {
      "text/plain": [
       "array([-0.89207458,  0.45620728, -0.22010803,  0.17390442])"
      ]
     },
     "execution_count": 17,
     "metadata": {},
     "output_type": "execute_result"
    }
   ],
   "source": [
    "result.decode()"
   ]
  },
  {
   "cell_type": "code",
   "execution_count": 18,
   "id": "fe0ad113-7af5-4b7c-9f1e-864f8a500227",
   "metadata": {},
   "outputs": [
    {
     "data": {
      "text/plain": [
       "(4,)"
      ]
     },
     "execution_count": 18,
     "metadata": {},
     "output_type": "execute_result"
    }
   ],
   "source": [
    "result.shape"
   ]
  },
  {
   "cell_type": "markdown",
   "id": "a960cfc8-6e56-45a5-8eeb-27ae707eb934",
   "metadata": {},
   "source": [
    "## Finding data you don't have: Network Nodes\n",
    "\n"
   ]
  },
  {
   "cell_type": "code",
   "execution_count": 19,
   "id": "eeca1d91-a8fa-40ed-a35d-186df97f5a44",
   "metadata": {},
   "outputs": [
    {
     "data": {
      "text/html": [
       "<div>\n",
       "<style scoped>\n",
       "    .dataframe tbody tr th:only-of-type {\n",
       "        vertical-align: middle;\n",
       "    }\n",
       "\n",
       "    .dataframe tbody tr th {\n",
       "        vertical-align: top;\n",
       "    }\n",
       "\n",
       "    .dataframe thead th {\n",
       "        text-align: right;\n",
       "    }\n",
       "</style>\n",
       "<table border=\"1\" class=\"dataframe\">\n",
       "  <thead>\n",
       "    <tr style=\"text-align: right;\">\n",
       "      <th></th>\n",
       "      <th>name</th>\n",
       "      <th>host_or_ip</th>\n",
       "      <th>vpn_host_or_ip</th>\n",
       "      <th>protocol</th>\n",
       "      <th>port</th>\n",
       "      <th>admin_email</th>\n",
       "      <th>website</th>\n",
       "      <th>slack</th>\n",
       "      <th>slack_channel</th>\n",
       "    </tr>\n",
       "  </thead>\n",
       "  <tbody>\n",
       "    <tr>\n",
       "      <th>0</th>\n",
       "      <td>opengrid</td>\n",
       "      <td>40.83.192.48</td>\n",
       "      <td>100.64.0.1</td>\n",
       "      <td>http</td>\n",
       "      <td>80</td>\n",
       "      <td>support@openmined.org</td>\n",
       "      <td>https://www.openmined.org/</td>\n",
       "      <td>https://slack.openmined.org/</td>\n",
       "      <td>#support</td>\n",
       "    </tr>\n",
       "    <tr>\n",
       "      <th>1</th>\n",
       "      <td>GovAI Network 1</td>\n",
       "      <td>20.84.12.110</td>\n",
       "      <td>100.64.0.1</td>\n",
       "      <td>http</td>\n",
       "      <td>80</td>\n",
       "      <td>support@openmined.org</td>\n",
       "      <td>https://www.governance.ai/</td>\n",
       "      <td>https://slack.openmined.org/</td>\n",
       "      <td>#support</td>\n",
       "    </tr>\n",
       "    <tr>\n",
       "      <th>2</th>\n",
       "      <td>GovAI Network 2</td>\n",
       "      <td>20.84.14.55</td>\n",
       "      <td>100.64.0.1</td>\n",
       "      <td>http</td>\n",
       "      <td>80</td>\n",
       "      <td>support@openmined.org</td>\n",
       "      <td>https://www.governance.ai/</td>\n",
       "      <td>https://slack.openmined.org/</td>\n",
       "      <td>#support</td>\n",
       "    </tr>\n",
       "    <tr>\n",
       "      <th>3</th>\n",
       "      <td>GovAI Network 3</td>\n",
       "      <td>20.84.13.24</td>\n",
       "      <td>100.64.0.1</td>\n",
       "      <td>http</td>\n",
       "      <td>80</td>\n",
       "      <td>support@openmined.org</td>\n",
       "      <td>https://www.governance.ai/</td>\n",
       "      <td>https://slack.openmined.org/</td>\n",
       "      <td>#support</td>\n",
       "    </tr>\n",
       "    <tr>\n",
       "      <th>4</th>\n",
       "      <td>GovAI Network 4</td>\n",
       "      <td>20.84.14.84</td>\n",
       "      <td>100.64.0.1</td>\n",
       "      <td>http</td>\n",
       "      <td>80</td>\n",
       "      <td>support@openmined.org</td>\n",
       "      <td>https://www.governance.ai/</td>\n",
       "      <td>https://slack.openmined.org/</td>\n",
       "      <td>#support</td>\n",
       "    </tr>\n",
       "    <tr>\n",
       "      <th>5</th>\n",
       "      <td>GovAI Network 5</td>\n",
       "      <td>20.84.12.64</td>\n",
       "      <td>100.64.0.1</td>\n",
       "      <td>http</td>\n",
       "      <td>80</td>\n",
       "      <td>support@openmined.org</td>\n",
       "      <td>https://www.governance.ai/</td>\n",
       "      <td>https://slack.openmined.org/</td>\n",
       "      <td>#support</td>\n",
       "    </tr>\n",
       "    <tr>\n",
       "      <th>6</th>\n",
       "      <td>GovAI Network 6</td>\n",
       "      <td>20.84.14.94</td>\n",
       "      <td>100.64.0.1</td>\n",
       "      <td>http</td>\n",
       "      <td>80</td>\n",
       "      <td>support@openmined.org</td>\n",
       "      <td>https://www.governance.ai/</td>\n",
       "      <td>https://slack.openmined.org/</td>\n",
       "      <td>#support</td>\n",
       "    </tr>\n",
       "    <tr>\n",
       "      <th>7</th>\n",
       "      <td>GovAI Network 7</td>\n",
       "      <td>20.84.12.138</td>\n",
       "      <td>100.64.0.1</td>\n",
       "      <td>http</td>\n",
       "      <td>80</td>\n",
       "      <td>support@openmined.org</td>\n",
       "      <td>https://www.governance.ai/</td>\n",
       "      <td>https://slack.openmined.org/</td>\n",
       "      <td>#support</td>\n",
       "    </tr>\n",
       "    <tr>\n",
       "      <th>8</th>\n",
       "      <td>GovAI Network 8</td>\n",
       "      <td>20.84.14.128</td>\n",
       "      <td>100.64.0.1</td>\n",
       "      <td>http</td>\n",
       "      <td>80</td>\n",
       "      <td>support@openmined.org</td>\n",
       "      <td>https://www.governance.ai/</td>\n",
       "      <td>https://slack.openmined.org/</td>\n",
       "      <td>#support</td>\n",
       "    </tr>\n",
       "    <tr>\n",
       "      <th>9</th>\n",
       "      <td>GovAI Network 9</td>\n",
       "      <td>20.84.12.33</td>\n",
       "      <td>100.64.0.1</td>\n",
       "      <td>http</td>\n",
       "      <td>80</td>\n",
       "      <td>support@openmined.org</td>\n",
       "      <td>https://www.governance.ai/</td>\n",
       "      <td>https://slack.openmined.org/</td>\n",
       "      <td>#support</td>\n",
       "    </tr>\n",
       "    <tr>\n",
       "      <th>10</th>\n",
       "      <td>GovAI Network 10</td>\n",
       "      <td>20.84.8.208</td>\n",
       "      <td>100.64.0.1</td>\n",
       "      <td>http</td>\n",
       "      <td>80</td>\n",
       "      <td>support@openmined.org</td>\n",
       "      <td>https://www.governance.ai/</td>\n",
       "      <td>https://slack.openmined.org/</td>\n",
       "      <td>#support</td>\n",
       "    </tr>\n",
       "  </tbody>\n",
       "</table>\n",
       "</div>"
      ],
      "text/plain": [
       "                name    host_or_ip vpn_host_or_ip protocol  port            admin_email                     website                         slack slack_channel\n",
       "0           opengrid  40.83.192.48     100.64.0.1     http    80  support@openmined.org  https://www.openmined.org/  https://slack.openmined.org/      #support\n",
       "1    GovAI Network 1  20.84.12.110     100.64.0.1     http    80  support@openmined.org  https://www.governance.ai/  https://slack.openmined.org/      #support\n",
       "2    GovAI Network 2   20.84.14.55     100.64.0.1     http    80  support@openmined.org  https://www.governance.ai/  https://slack.openmined.org/      #support\n",
       "3    GovAI Network 3   20.84.13.24     100.64.0.1     http    80  support@openmined.org  https://www.governance.ai/  https://slack.openmined.org/      #support\n",
       "4    GovAI Network 4   20.84.14.84     100.64.0.1     http    80  support@openmined.org  https://www.governance.ai/  https://slack.openmined.org/      #support\n",
       "5    GovAI Network 5   20.84.12.64     100.64.0.1     http    80  support@openmined.org  https://www.governance.ai/  https://slack.openmined.org/      #support\n",
       "6    GovAI Network 6   20.84.14.94     100.64.0.1     http    80  support@openmined.org  https://www.governance.ai/  https://slack.openmined.org/      #support\n",
       "7    GovAI Network 7  20.84.12.138     100.64.0.1     http    80  support@openmined.org  https://www.governance.ai/  https://slack.openmined.org/      #support\n",
       "8    GovAI Network 8  20.84.14.128     100.64.0.1     http    80  support@openmined.org  https://www.governance.ai/  https://slack.openmined.org/      #support\n",
       "9    GovAI Network 9   20.84.12.33     100.64.0.1     http    80  support@openmined.org  https://www.governance.ai/  https://slack.openmined.org/      #support\n",
       "10  GovAI Network 10   20.84.8.208     100.64.0.1     http    80  support@openmined.org  https://www.governance.ai/  https://slack.openmined.org/      #support"
      ]
     },
     "execution_count": 19,
     "metadata": {},
     "output_type": "execute_result"
    }
   ],
   "source": [
    "sy.networks"
   ]
  },
  {
   "cell_type": "markdown",
   "id": "28fb031b-a68d-45cc-8cb3-b4fee5bd444c",
   "metadata": {
    "tags": []
   },
   "source": [
    "## Combining data from many nodes: Secure Multiparty Computation\n",
    "\n",
    "Okay- so we created a Tensor Pointer, used its remote procedure calls to conduct an experiment, and got the result by spending some privacy budget. This combination lets you use domain from one domain node. But what if you wanted to combine data from several domain nodes?\n",
    "\n",
    "This is possible through a cryptographic tool called **Secure Multiparty Computation**, or SMPC for short.\n",
    "\n",
    "Let's start by logging onto a second domain node:"
   ]
  },
  {
   "cell_type": "code",
   "execution_count": 20,
   "id": "0cab6eba-4859-4ba4-bf65-73f6ba69ba38",
   "metadata": {},
   "outputs": [
    {
     "name": "stdout",
     "output_type": "stream",
     "text": [
      "WARNING: CHANGE YOUR PASSWORD!!! \n",
      "\n",
      "Anyone can login as an admin to your node right now because your password is still the default PySyft password!!!\n",
      "\n",
      "Connecting to localhost... done! \t Logging into italy... done!\n"
     ]
    }
   ],
   "source": [
    "ds_domain_node_2 = sy.login(email=\"sam@stargate.net\", password=\"changethis\", port=8082)"
   ]
  },
  {
   "cell_type": "code",
   "execution_count": 21,
   "id": "5ba6dcb4-8fed-4e00-9ac2-c88207a02ba3",
   "metadata": {},
   "outputs": [
    {
     "data": {
      "text/html": [
       "<style>\n",
       "                #myInput {\n",
       "                  background-position: 10px 12px; /* Position the search icon */\n",
       "                  background-repeat: no-repeat; /* Do not repeat the icon image */\n",
       "                  background-color: #bbb;\n",
       "                  width: 98%; /* Full-width */\n",
       "                  font-size: 14px; /* Increase font-size */\n",
       "                  padding: 12px 20px 12px 40px; /* Add some padding */\n",
       "                  border: 1px solid #ddd; /* Add a grey border */\n",
       "                  margin-bottom: 12px; /* Add some space below the input */\n",
       "                }\n",
       "\n",
       "                #myTable {\n",
       "                  border-collapse: collapse; /* Collapse borders */\n",
       "                  width: 100%; /* Full-width */\n",
       "                  border: 1px solid #ddd; /* Add a grey border */\n",
       "                  font-size: 14px; /* Increase font-size */\n",
       "                }\n",
       "\n",
       "                #myTable th, #myTable td {\n",
       "                  text-align: left; /* Left-align text */\n",
       "                  padding: 10px; /* Add padding */\n",
       "                }\n",
       "\n",
       "                #myTable tr {\n",
       "                  /* Add a bottom border to all table rows */\n",
       "                  border-bottom: 1px solid #ddd;\n",
       "                }\n",
       "\n",
       "                #myTable tr.header, #myTable tr:hover {\n",
       "                  /* Add a grey background color to the table header and on hover */\n",
       "                  background-color: #777;\n",
       "                }\n",
       "                </style>\n",
       "\n",
       "                <table id=\"myTable\" style=\"width:1000px\">\n",
       "                  <tr class=\"header\">\n",
       "                    <th style=\"width:30px\">Idx</th>\n",
       "                    <th style=\"width:20%;\">Name</th>\n",
       "                    <th style=\"width:35%;\">Description</th>\n",
       "                    <th style=\"width:20%;\">Assets</th>\n",
       "                    <th style=\"width:300px;\">Id</th>\n",
       "                  </tr>\n",
       "                \n",
       "\n",
       "          <tr>\n",
       "            <td>[0]</td>\n",
       "            <td>TissueMNIST</td>\n",
       "            <td>This dataset is a modified form of TissueMNIST which is made available from the Broad Bioimage Benchmark Collection.</td>\n",
       "            <td>[\"train_images\"] -> int64<br /><br />[\"train_labels\"] -> int64<br /><br />[\"val_images\"] -> int64<br /><br />...<br /><br /></td>\n",
       "            <td>92aee3ef-185a-438a-b058-757bfd4180ef</td>\n",
       "          </tr>\n",
       "\n",
       "          <tr>\n",
       "            <td>[1]</td>\n",
       "            <td>Cohort 2 Data</td>\n",
       "            <td>Test results from Cohort 2</td>\n",
       "            <td>[\"data\"] -> int64<br /><br /></td>\n",
       "            <td>8cd9180d-208f-4bc0-a00e-1e83de947883</td>\n",
       "          </tr>\n",
       "        </table>\n",
       "\n",
       "        <script>\n",
       "        function myFunction() {\n",
       "          // Declare variables\n",
       "          var input, filter, table, tr, td, i, txtValue;\n",
       "          input = document.getElementById(\"myInput\");\n",
       "          filter = input.value.toUpperCase();\n",
       "          table = document.getElementById(\"myTable\");\n",
       "          tr = table.getElementsByTagName(\"tr\");\n",
       "\n",
       "          // Loop through all table rows, and hide those who don't match the search query\n",
       "          for (i = 0; i < tr.length; i++) {\n",
       "            name_td = tr[i].getElementsByTagName(\"td\")[1];\n",
       "            desc_td = tr[i].getElementsByTagName(\"td\")[2];\n",
       "            asset_td = tr[i].getElementsByTagName(\"td\")[3];\n",
       "            id_td = tr[i].getElementsByTagName(\"td\")[4];\n",
       "            if (name_td || desc_td || asset_td || id_td) {\n",
       "              name_txtValue = name_td.textContent || name_td.innerText;\n",
       "              desc_txtValue = desc_td.textContent || name_td.innerText;\n",
       "              asset_txtValue = asset_td.textContent || name_td.innerText;\n",
       "              id_txtValue = id_td.textContent || name_td.innerText;\n",
       "              name_bool = name_txtValue.toUpperCase().indexOf(filter) > -1;\n",
       "              desc_bool = desc_txtValue.toUpperCase().indexOf(filter) > -1;\n",
       "              asset_bool = asset_txtValue.toUpperCase().indexOf(filter) > -1;\n",
       "              id_bool = id_txtValue.toUpperCase().indexOf(filter) > -1;\n",
       "              if (name_bool || desc_bool || asset_bool || id_bool) {\n",
       "                tr[i].style.display = \"\";\n",
       "              } else {\n",
       "                tr[i].style.display = \"none\";\n",
       "              }\n",
       "            }\n",
       "          }\n",
       "        }\n",
       "        </script>"
      ],
      "text/plain": [
       "<syft.core.node.common.client_manager.dataset_api.DatasetRequestAPI at 0x7f6db888e3a0>"
      ]
     },
     "execution_count": 21,
     "metadata": {},
     "output_type": "execute_result"
    }
   ],
   "source": [
    "ds_domain_node_2.datasets"
   ]
  },
  {
   "cell_type": "markdown",
   "id": "99d7b5c5-939f-48f9-98f8-7dc54ca81a0f",
   "metadata": {},
   "source": [
    "Let's say we want to take the two example datasets, and see the result of their addition. We would do this by simply adding the two tensor pointers:"
   ]
  },
  {
   "cell_type": "code",
   "execution_count": 23,
   "id": "a7af2fb0-673a-45f8-a163-2056f7c25418",
   "metadata": {},
   "outputs": [],
   "source": [
    "pointer1 = ds_domain_node_1.datasets[-1][\"data\"]\n",
    "pointer2 = ds_domain_node_2.datasets[-1][\"data\"]\n",
    "\n",
    "pointer_to_result = pointer1 + pointer2"
   ]
  },
  {
   "cell_type": "markdown",
   "id": "4bc7b924-7b01-442c-937e-3256e9c04d27",
   "metadata": {},
   "source": [
    "Once we have a pointer to the result, we can spend some privacy budget by publishing!"
   ]
  },
  {
   "cell_type": "code",
   "execution_count": 24,
   "id": "4dffa258-bdcf-46d6-9df5-fcb40ba96762",
   "metadata": {},
   "outputs": [],
   "source": [
    "published_result = pointer_to_result.publish(2)"
   ]
  },
  {
   "cell_type": "code",
   "execution_count": 26,
   "id": "e7980720",
   "metadata": {},
   "outputs": [
    {
     "data": {
      "text/plain": [
       "array([[ 3.54360979e+18,  7.93422757e+18,  2.00631757e+18,\n",
       "         6.16724546e+18],\n",
       "       [-3.05205646e+00, -5.06864302e+00, -4.14999905e+00,\n",
       "        -2.80169500e-01]])"
      ]
     },
     "execution_count": 26,
     "metadata": {},
     "output_type": "execute_result"
    }
   ],
   "source": [
    "published_result.get()"
   ]
  },
  {
   "cell_type": "markdown",
   "id": "60cb93fa-4e58-43b1-861e-221cdf3d6c9d",
   "metadata": {},
   "source": [
    "The power of SMPC is that it lets us to calculate and use data that's stored in two separate places (maybe even separated by thousands of miles!) without exposing any private information to any party."
   ]
  },
  {
   "cell_type": "markdown",
   "id": "210b30ea-3984-4828-8d17-c4c2e8af4845",
   "metadata": {
    "jp-MarkdownHeadingCollapsed": true,
    "tags": []
   },
   "source": [
    "## Learning more from data: Machine Learning\n",
    "\n",
    "So far, all of the techniques explained previously have focused on providing privacy and security, in order to get access to more data.\n",
    "\n",
    "This final technique focuses more on what we'll be using the data *to do.*"
   ]
  },
  {
   "cell_type": "code",
   "execution_count": null,
   "id": "1d2fe015-8aa3-4009-beaf-e51a4665c4f5",
   "metadata": {},
   "outputs": [],
   "source": [
    "import numpy as np\n",
    "\n",
    "X = np.array([ [0,0,1],[0,1,1],[1,0,1],[1,1,1] ])\n",
    "y = np.array([[0,1,1,0]]).T\n",
    "\n",
    "syn0 = 2*np.random.random((3,4)) - 1\n",
    "syn1 = 2*np.random.random((4,1)) - 1\n",
    "for j in xrange(60000):\n",
    "    l1 = 1/(1+np.exp(-(np.dot(X,syn0))))\n",
    "    l2 = 1/(1+np.exp(-(np.dot(l1,syn1))))\n",
    "    l2_delta = (y - l2)*(l2*(1-l2))\n",
    "    l1_delta = l2_delta.dot(syn1.T) * (l1 * (1-l1))\n",
    "    syn1 += l1.T.dot(l2_delta)\n",
    "    syn0 += X.T.dot(l1_delta)"
   ]
  },
  {
   "cell_type": "markdown",
   "id": "e5374ff9-e3cd-4d74-9ea7-2b50a396347d",
   "metadata": {},
   "source": [
    "## Everything combined: PySyft\n",
    "\n",
    "PySyft combines all of these tools and techniques, and improves upon many of them. We'll soon be training a model with data across 100 domain nodes, "
   ]
  },
  {
   "cell_type": "code",
   "execution_count": null,
   "id": "c3399136-1fe3-4e9c-a02f-c8a42a47015e",
   "metadata": {},
   "outputs": [],
   "source": [
    "# Let's get pointers to the training data on both domain nodes!\n",
    "om_train_data = om.datasets[-1][\"training_data\"]\n",
    "om_targets_data = om.datasets[-1][\"training_targets\"]\n",
    "fb_train_data = fb.datasets[-1][\"training_data\"]\n",
    "fb_targets_data = fb.datasets[-1][\"training_targets\"]"
   ]
  },
  {
   "cell_type": "code",
   "execution_count": null,
   "id": "cb1822db-3fd3-4ab7-ace2-fc1e2a6463df",
   "metadata": {},
   "outputs": [],
   "source": [
    "# Let's combine all the training data!\n",
    "train_data = om_train_data.concatenate(fb_train_data)\n",
    "targets_data = om_targets_data.concatenate(fb_targets_data)\n",
    "X = train_data\n",
    "y = targets_data"
   ]
  },
  {
   "cell_type": "code",
   "execution_count": null,
   "id": "ef9273f4-fbf5-4d04-9cd2-29dd95591497",
   "metadata": {},
   "outputs": [],
   "source": [
    "def relu(x,deriv=False):\n",
    "    if deriv==True:\n",
    "        return x>0\n",
    "    return x*(x>0)"
   ]
  },
  {
   "cell_type": "code",
   "execution_count": null,
   "id": "7b6f2619-a61b-43b7-ad84-e1abc891ac46",
   "metadata": {},
   "outputs": [],
   "source": [
    "layer0_weights = 2*np.random.random((3,4)) - 1\n",
    "layer1_weights = 2*np.random.random((4,1)) - 1"
   ]
  },
  {
   "cell_type": "code",
   "execution_count": null,
   "id": "abf9f4bf-b643-4fe6-a159-f3ee4cac941a",
   "metadata": {},
   "outputs": [],
   "source": [
    "for j in range(1):\n",
    "    # Forward propagation\n",
    "    layer1_inputs = relu(X @ layer0_weights)  ; layer1_inputs.block\n",
    "    layer2_inputs = relu(layer1_inputs @ layer1_weights) ; layer2_inputs.block \n",
    "    \n",
    "    # Calculate errors\n",
    "    layer2_inputs_delta = (y - layer2_inputs)* relu(layer2_inputs,deriv=True) ; layer2_inputs_delta.block\n",
    "    layer1_inputs_delta = (layer2_inputs_delta@(layer1_weights.T)) * relu(layer1_inputs,deriv=True) ; layer1_inputs_delta.block\n",
    "    \n",
    "    # Update weights\n",
    "    layer1_weights  = layer1_weights + layer1_inputs.T @ layer2_inputs_delta ; layer1_weights.block\n",
    "    layer0_weights =  layer0_weights + X.T @ layer1_inputs_delta ; layer0_weights.block"
   ]
  },
  {
   "cell_type": "code",
   "execution_count": null,
   "id": "687bb3f3-8c33-40ff-85db-d1b98e121af3",
   "metadata": {},
   "outputs": [],
   "source": [
    "layer0_weights_dp = layer0_weights.publish(sigma=1e4)\n",
    "layer1_weights_dp = layer1_weights.publish(sigma=1e4)"
   ]
  },
  {
   "cell_type": "code",
   "execution_count": null,
   "id": "edd00e4c-9b24-44ce-b702-effbd0faa022",
   "metadata": {},
   "outputs": [],
   "source": [
    "print(layer0_weights_dp.get_copy())\n",
    "print(layer1_weights_dp.get_copy())"
   ]
  },
  {
   "cell_type": "markdown",
   "id": "d15ea1ad-6027-4c81-a036-0aac69da4da2",
   "metadata": {},
   "source": [
    "And voila! The model weights have updated."
   ]
  },
  {
   "cell_type": "code",
   "execution_count": null,
   "id": "d40714a4-8073-42b0-8a5f-7fe849dd9fc9",
   "metadata": {},
   "outputs": [],
   "source": []
  },
  {
   "cell_type": "markdown",
   "id": "58276a94-aba0-4aa6-a43c-a29f333d2c99",
   "metadata": {},
   "source": [
    "## Conclusion\n",
    "\n",
    "Thanks for following along! I hope you walk away from this with a better understanding of how PySyft works, and also get a sense of where we're going with all this. Very soon, we'll be using the domain nodes you setup to train an AI model on breast cancer data that's across 100 institutions. We're very humbled and grateful to get the chance to help all of you.\n",
    "\n",
    "If you have any questions or concerns, please feel free to post a message in the #support Slack channel! :)"
   ]
  }
 ],
 "metadata": {
  "interpreter": {
   "hash": "630449982b6186a6531308cd76ed4d510e9db65154e43844c2906c6a20ad2a6d"
  },
  "kernelspec": {
   "display_name": "Python 3 (ipykernel)",
   "language": "python",
   "name": "python3"
  },
  "language_info": {
   "codemirror_mode": {
    "name": "ipython",
    "version": 3
   },
   "file_extension": ".py",
   "mimetype": "text/x-python",
   "name": "python",
   "nbconvert_exporter": "python",
   "pygments_lexer": "ipython3",
   "version": "3.9.7"
  }
 },
 "nbformat": 4,
 "nbformat_minor": 5
}
