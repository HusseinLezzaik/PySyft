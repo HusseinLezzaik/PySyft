{
 "cells": [
  {
   "cell_type": "code",
   "execution_count": null,
   "id": "210accda",
   "metadata": {},
   "outputs": [],
   "source": [
    "import pandas as pd\n",
    "import syft as sy\n",
    "import numpy as np"
   ]
  },
  {
   "cell_type": "markdown",
   "id": "3ef49577",
   "metadata": {},
   "source": [
    "### Loading the dataset"
   ]
  },
  {
   "cell_type": "markdown",
   "id": "e7ca1165",
   "metadata": {},
   "source": [
    "### Logging into the domain"
   ]
  },
  {
   "cell_type": "code",
   "execution_count": null,
   "id": "101da27d",
   "metadata": {},
   "outputs": [],
   "source": [
    "# Let's login into the domain\n",
    "ca = sy.login(email=\"info@openmined.org\", password=\"changethis\", port=8081)"
   ]
  },
  {
   "cell_type": "code",
   "execution_count": null,
   "id": "d2a0b0d8-06b7-4322-b2ec-39fbae7e07b8",
   "metadata": {},
   "outputs": [],
   "source": [
    "ca"
   ]
  },
  {
   "cell_type": "code",
   "execution_count": null,
   "id": "eb908cc1-6507-485d-8cf3-70c2a6f7f3cf",
   "metadata": {},
   "outputs": [],
   "source": [
    "data = np.array([[1,2,3],[4,5,6],[7,8,9]])\n",
    "test_data_1  = sy.Tensor(data).private(min_val=1,max_val=10,data_subjects = [\"italy\"]*data.shape[0])"
   ]
  },
  {
   "cell_type": "code",
   "execution_count": null,
   "id": "78ec63fb-ceb1-4134-a408-de4d64e188e2",
   "metadata": {},
   "outputs": [],
   "source": [
    "test_data_1"
   ]
  },
  {
   "cell_type": "code",
   "execution_count": null,
   "id": "8c020439-2a15-4c10-afa8-3df6e8c372e9",
   "metadata": {},
   "outputs": [],
   "source": [
    "ca.load_dataset(\n",
    "    assets={\"canada_data\": test_data_1},\n",
    "    name=\"Canada Test data\",\n",
    "    description=\"\"\"Operation Testing\"\"\",\n",
    ")"
   ]
  },
  {
   "cell_type": "markdown",
   "id": "9382649e",
   "metadata": {},
   "source": [
    "### Upload the dataset to Domain node"
   ]
  },
  {
   "cell_type": "code",
   "execution_count": null,
   "id": "4328e3d6",
   "metadata": {},
   "outputs": [],
   "source": [
    "ca.datasets"
   ]
  },
  {
   "cell_type": "markdown",
   "id": "84ec1f64",
   "metadata": {},
   "source": [
    "### Create a Data Scientist User"
   ]
  },
  {
   "cell_type": "code",
   "execution_count": null,
   "id": "73091686",
   "metadata": {},
   "outputs": [],
   "source": [
    "ca.users.create(\n",
    "    **{\n",
    "        \"name\": \"Sheldon Cooper\",\n",
    "        \"email\": \"sheldon@caltech.edu\",\n",
    "        \"password\": \"bazinga\",\n",
    "        \"budget\":9_999_999\n",
    "    }\n",
    ")"
   ]
  },
  {
   "cell_type": "markdown",
   "id": "bb8f9148",
   "metadata": {},
   "source": [
    "### Accept/Deny Requests to the Domain"
   ]
  },
  {
   "cell_type": "code",
   "execution_count": null,
   "id": "f7f91a1b",
   "metadata": {},
   "outputs": [],
   "source": [
    "ca.users"
   ]
  },
  {
   "cell_type": "code",
   "execution_count": null,
   "id": "f4cf454a",
   "metadata": {},
   "outputs": [],
   "source": [
    "ca.requests[-1].accept()"
   ]
  },
  {
   "cell_type": "code",
   "execution_count": null,
   "id": "cf96d0ac",
   "metadata": {},
   "outputs": [],
   "source": []
  }
 ],
 "metadata": {
  "kernelspec": {
   "display_name": "Python 3 (ipykernel)",
   "language": "python",
   "name": "python3"
  },
  "language_info": {
   "codemirror_mode": {
    "name": "ipython",
    "version": 3
   },
   "file_extension": ".py",
   "mimetype": "text/x-python",
   "name": "python",
   "nbconvert_exporter": "python",
   "pygments_lexer": "ipython3",
   "version": "3.9.13"
  }
 },
 "nbformat": 4,
 "nbformat_minor": 5
}
