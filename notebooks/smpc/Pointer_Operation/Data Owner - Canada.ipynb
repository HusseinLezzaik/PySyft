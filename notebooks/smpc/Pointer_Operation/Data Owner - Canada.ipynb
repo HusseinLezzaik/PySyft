{
 "cells": [
  {
   "cell_type": "code",
   "execution_count": 1,
   "id": "210accda",
   "metadata": {},
   "outputs": [],
   "source": [
    "import pandas as pd\n",
    "import syft as sy\n",
    "import numpy as np"
   ]
  },
  {
   "cell_type": "markdown",
   "id": "3ef49577",
   "metadata": {},
   "source": [
    "### Loading the dataset"
   ]
  },
  {
   "cell_type": "markdown",
   "id": "e7ca1165",
   "metadata": {},
   "source": [
    "### Logging into the domain"
   ]
  },
  {
   "cell_type": "code",
   "execution_count": 2,
   "id": "101da27d",
   "metadata": {},
   "outputs": [
    {
     "name": "stdout",
     "output_type": "stream",
     "text": [
      "WARNING: CHANGE YOUR USERNAME AND PASSWORD!!! \n",
      "\n",
      "Anyone can login as an admin to your node right now because your password is still the default PySyft username and password!!!\n",
      "\n",
      "Connecting to localhost... done! \t Logging into canada... done!\n"
     ]
    }
   ],
   "source": [
    "# Let's login into the domain\n",
    "ca = sy.login(email=\"info@openmined.org\", password=\"changethis\", port=8081)"
   ]
  },
  {
   "cell_type": "code",
   "execution_count": 4,
   "id": "d2a0b0d8-06b7-4322-b2ec-39fbae7e07b8",
   "metadata": {},
   "outputs": [
    {
     "data": {
      "text/plain": [
       "<DomainClient - canada: <UID: 098348cce12e4388a6c0921cd752bbe3>>"
      ]
     },
     "execution_count": 4,
     "metadata": {},
     "output_type": "execute_result"
    }
   ],
   "source": [
    "ca"
   ]
  },
  {
   "cell_type": "markdown",
   "id": "9382649e",
   "metadata": {},
   "source": [
    "### Upload the dataset to Domain node"
   ]
  },
  {
   "cell_type": "code",
   "execution_count": null,
   "id": "f3a929c3",
   "metadata": {},
   "outputs": [],
   "source": [
    "canada_export_italy  = sy.Tensor(np.array([450])).private(min_val=0,max_val=500,data_subjects = [\"italy\"])\n"
   ]
  },
  {
   "cell_type": "code",
   "execution_count": null,
   "id": "1b3a70d9",
   "metadata": {},
   "outputs": [],
   "source": [
    "ca.load_dataset(\n",
    "    assets={\"Exports\": canada_export_italy},\n",
    "    name=\"Canada Trade Data\",\n",
    "    description=\"\"\"A collection of reports from Canada's statistics \n",
    "                    bureau about how much it thinks it imports and exports from other countries.\"\"\",\n",
    ")"
   ]
  },
  {
   "cell_type": "code",
   "execution_count": null,
   "id": "4328e3d6",
   "metadata": {},
   "outputs": [],
   "source": [
    "ca.datasets"
   ]
  },
  {
   "cell_type": "markdown",
   "id": "84ec1f64",
   "metadata": {},
   "source": [
    "### Create a Data Scientist User"
   ]
  },
  {
   "cell_type": "code",
   "execution_count": null,
   "id": "73091686",
   "metadata": {},
   "outputs": [],
   "source": [
    "ca.users.create(\n",
    "    **{\n",
    "        \"name\": \"Sheldon Cooper\",\n",
    "        \"email\": \"sheldon@caltech.edu\",\n",
    "        \"password\": \"bazinga\",\n",
    "        \"budget\":9_999_999\n",
    "    }\n",
    ")"
   ]
  },
  {
   "cell_type": "markdown",
   "id": "bb8f9148",
   "metadata": {},
   "source": [
    "### Accept/Deny Requests to the Domain"
   ]
  },
  {
   "cell_type": "code",
   "execution_count": null,
   "id": "f7f91a1b",
   "metadata": {},
   "outputs": [],
   "source": [
    "ca.users"
   ]
  },
  {
   "cell_type": "code",
   "execution_count": null,
   "id": "f4cf454a",
   "metadata": {},
   "outputs": [],
   "source": [
    "ca.requests[-1].accept()"
   ]
  },
  {
   "cell_type": "code",
   "execution_count": 5,
   "id": "cf96d0ac",
   "metadata": {},
   "outputs": [],
   "source": [
    "data = np.array([[1,2,3],[4,5,6],[7,8,9]])\n",
    "test_data_1  = sy.Tensor(data).private(min_val=1,max_val=10,data_subjects = [\"italy\"]*data.shape[0])"
   ]
  },
  {
   "cell_type": "code",
   "execution_count": 6,
   "id": "edffaa56-9935-4685-a010-3ff5945342d0",
   "metadata": {},
   "outputs": [
    {
     "data": {
      "text/plain": [
       "Tensor(child=PhiTensor(child=FixedPrecisionTensor(child=[[ 65536 131072 196608]\n",
       " [262144 327680 393216]\n",
       " [458752 524288 589824]]), min_vals=<lazyrepeatarray data: [1] -> shape: (3, 3)>, max_vals=<lazyrepeatarray data: [10] -> shape: (3, 3)>))"
      ]
     },
     "execution_count": 6,
     "metadata": {},
     "output_type": "execute_result"
    }
   ],
   "source": [
    "test_data_1"
   ]
  },
  {
   "cell_type": "code",
   "execution_count": 7,
   "id": "9d9566bc-a8a5-44b0-a7e1-674c9463bc9d",
   "metadata": {},
   "outputs": [
    {
     "name": "stderr",
     "output_type": "stream",
     "text": [
      "kj/filesystem-disk-unix.c++:1690: warning: PWD environment variable doesn't match current directory; pwd = /home/azureuser/PySyft\n"
     ]
    },
    {
     "name": "stdout",
     "output_type": "stream",
     "text": [
      "Loading dataset... uploading...🚀                                                                                                                                             "
     ]
    },
    {
     "name": "stderr",
     "output_type": "stream",
     "text": [
      "Uploading `canada_data`: 100%|\u001b[32m███████████████████████████████████████\u001b[0m| 1/1 [00:00<00:00, 213.55it/s]\u001b[0m"
     ]
    },
    {
     "name": "stdout",
     "output_type": "stream",
     "text": [
      "Dataset is uploaded successfully !!! 🎉\n",
      "\n",
      "Run `<your client variable>.datasets` to see your new dataset loaded into your machine!\n"
     ]
    },
    {
     "name": "stderr",
     "output_type": "stream",
     "text": [
      "\n"
     ]
    }
   ],
   "source": [
    "ca.load_dataset(\n",
    "    assets={\"canada_data\": test_data_1},\n",
    "    name=\"Canada Test data\",\n",
    "    description=\"\"\"Operation Testing\"\"\",\n",
    ")"
   ]
  },
  {
   "cell_type": "code",
   "execution_count": 8,
   "id": "7478fe9d-1dd0-49b1-b056-1ba7db5c13b5",
   "metadata": {},
   "outputs": [
    {
     "data": {
      "text/html": [
       "<style>\n",
       "                #myInput {\n",
       "                  background-position: 10px 12px; /* Position the search icon */\n",
       "                  background-repeat: no-repeat; /* Do not repeat the icon image */\n",
       "                  background-color: #bbb;\n",
       "                  width: 98%; /* Full-width */\n",
       "                  font-size: 14px; /* Increase font-size */\n",
       "                  padding: 12px 20px 12px 40px; /* Add some padding */\n",
       "                  border: 1px solid #ddd; /* Add a grey border */\n",
       "                  margin-bottom: 12px; /* Add some space below the input */\n",
       "                }\n",
       "\n",
       "                #myTable {\n",
       "                  border-collapse: collapse; /* Collapse borders */\n",
       "                  width: 100%; /* Full-width */\n",
       "                  border: 1px solid #ddd; /* Add a grey border */\n",
       "                  font-size: 14px; /* Increase font-size */\n",
       "                }\n",
       "\n",
       "                #myTable th, #myTable td {\n",
       "                  text-align: left; /* Left-align text */\n",
       "                  padding: 10px; /* Add padding */\n",
       "                }\n",
       "\n",
       "                #myTable tr {\n",
       "                  /* Add a bottom border to all table rows */\n",
       "                  border-bottom: 1px solid #ddd;\n",
       "                }\n",
       "\n",
       "                #myTable tr.header, #myTable tr:hover {\n",
       "                  /* Add a grey background color to the table header and on hover */\n",
       "                  background-color: #777;\n",
       "                }\n",
       "                </style>\n",
       "\n",
       "                <table id=\"myTable\" style=\"width:1000px\">\n",
       "                  <tr class=\"header\">\n",
       "                    <th style=\"width:30px\">Idx</th>\n",
       "                    <th style=\"width:20%;\">Name</th>\n",
       "                    <th style=\"width:35%;\">Description</th>\n",
       "                    <th style=\"width:20%;\">Assets</th>\n",
       "                    <th style=\"width:300px;\">Id</th>\n",
       "                  </tr>\n",
       "                \n",
       "\n",
       "          <tr>\n",
       "            <td>[0]</td>\n",
       "            <td>Canada Trade Data</td>\n",
       "            <td>A collection of reports from Canada's statistics \n",
       "                    bureau about how much it thinks it imports and exports from other countries.</td>\n",
       "            <td>[\"Exports\"] -> <class 'syft.core.tensor.tensor.Tensor'><br /><br /></td>\n",
       "            <td>ad54cd8e-31fd-41b3-98b5-d0c24cdeb8ec</td>\n",
       "          </tr>\n",
       "\n",
       "          <tr>\n",
       "            <td>[1]</td>\n",
       "            <td>Canada Test data</td>\n",
       "            <td>Operation Testing</td>\n",
       "            <td>[\"canada_data\"] -> <class 'syft.core.tensor.tensor.Tensor'><br /><br /></td>\n",
       "            <td>6aebd5dc-888b-4e2e-8089-3b9b3faecde8</td>\n",
       "          </tr>\n",
       "\n",
       "          <tr>\n",
       "            <td>[2]</td>\n",
       "            <td>Canada Test data</td>\n",
       "            <td>Operation Testing</td>\n",
       "            <td>[\"canada_data\"] -> <class 'syft.core.tensor.tensor.Tensor'><br /><br /></td>\n",
       "            <td>476a1de6-af27-4562-9802-455dbe6c6705</td>\n",
       "          </tr>\n",
       "\n",
       "          <tr>\n",
       "            <td>[3]</td>\n",
       "            <td>Canada Trade Data</td>\n",
       "            <td>A collection of reports from Canada's statistics \n",
       "                    bureau about how much it thinks it imports and exports from other countries.</td>\n",
       "            <td>[\"Exports\"] -> <class 'syft.core.tensor.tensor.Tensor'><br /><br /></td>\n",
       "            <td>b4ac8c4c-2951-471a-8f0b-20a6156b170e</td>\n",
       "          </tr>\n",
       "\n",
       "          <tr>\n",
       "            <td>[4]</td>\n",
       "            <td>Canada Trade Data</td>\n",
       "            <td>A collection of reports from Canada's statistics \n",
       "                    bureau about how much it thinks it imports and exports from other countries.</td>\n",
       "            <td>[\"Exports\"] -> <class 'syft.core.tensor.tensor.Tensor'><br /><br /></td>\n",
       "            <td>79e65382-d4a6-4db9-8688-df346950a643</td>\n",
       "          </tr>\n",
       "\n",
       "          <tr>\n",
       "            <td>[5]</td>\n",
       "            <td>Canada Trade Data</td>\n",
       "            <td>A collection of reports from Canada's statistics \n",
       "                    bureau about how much it thinks it imports and exports from other countries.</td>\n",
       "            <td>[\"Exports\"] -> <class 'syft.core.tensor.tensor.Tensor'><br /><br /></td>\n",
       "            <td>9c3e923c-523d-438f-ba5e-29a73bff6c5d</td>\n",
       "          </tr>\n",
       "\n",
       "          <tr>\n",
       "            <td>[6]</td>\n",
       "            <td>Canada Test data</td>\n",
       "            <td>Operation Testing</td>\n",
       "            <td>[\"canada_data\"] -> <class 'syft.core.tensor.tensor.Tensor'><br /><br /></td>\n",
       "            <td>b459fc33-eba0-4dcf-85be-9bb2d08bd96b</td>\n",
       "          </tr>\n",
       "        </table>\n",
       "\n",
       "        <script>\n",
       "        function myFunction() {\n",
       "          // Declare variables\n",
       "          var input, filter, table, tr, td, i, txtValue;\n",
       "          input = document.getElementById(\"myInput\");\n",
       "          filter = input.value.toUpperCase();\n",
       "          table = document.getElementById(\"myTable\");\n",
       "          tr = table.getElementsByTagName(\"tr\");\n",
       "\n",
       "          // Loop through all table rows, and hide those who don't match the search query\n",
       "          for (i = 0; i < tr.length; i++) {\n",
       "            name_td = tr[i].getElementsByTagName(\"td\")[1];\n",
       "            desc_td = tr[i].getElementsByTagName(\"td\")[2];\n",
       "            asset_td = tr[i].getElementsByTagName(\"td\")[3];\n",
       "            id_td = tr[i].getElementsByTagName(\"td\")[4];\n",
       "            if (name_td || desc_td || asset_td || id_td) {\n",
       "              name_txtValue = name_td.textContent || name_td.innerText;\n",
       "              desc_txtValue = desc_td.textContent || name_td.innerText;\n",
       "              asset_txtValue = asset_td.textContent || name_td.innerText;\n",
       "              id_txtValue = id_td.textContent || name_td.innerText;\n",
       "              name_bool = name_txtValue.toUpperCase().indexOf(filter) > -1;\n",
       "              desc_bool = desc_txtValue.toUpperCase().indexOf(filter) > -1;\n",
       "              asset_bool = asset_txtValue.toUpperCase().indexOf(filter) > -1;\n",
       "              id_bool = id_txtValue.toUpperCase().indexOf(filter) > -1;\n",
       "              if (name_bool || desc_bool || asset_bool || id_bool) {\n",
       "                tr[i].style.display = \"\";\n",
       "              } else {\n",
       "                tr[i].style.display = \"none\";\n",
       "              }\n",
       "            }\n",
       "          }\n",
       "        }\n",
       "        </script>"
      ],
      "text/plain": [
       "<syft.core.node.common.client_manager.dataset_api.DatasetRequestAPI at 0x7f452dc22130>"
      ]
     },
     "execution_count": 8,
     "metadata": {},
     "output_type": "execute_result"
    }
   ],
   "source": [
    "ca.datasets"
   ]
  }
 ],
 "metadata": {
  "kernelspec": {
   "display_name": "Python 3 (ipykernel)",
   "language": "python",
   "name": "python3"
  },
  "language_info": {
   "codemirror_mode": {
    "name": "ipython",
    "version": 3
   },
   "file_extension": ".py",
   "mimetype": "text/x-python",
   "name": "python",
   "nbconvert_exporter": "python",
   "pygments_lexer": "ipython3",
   "version": "3.9.13"
  }
 },
 "nbformat": 4,
 "nbformat_minor": 5
}
