{
 "cells": [
  {
   "cell_type": "code",
   "execution_count": 1,
   "id": "55a4d15e-d098-4de9-a311-c8ab6fa1a7ac",
   "metadata": {},
   "outputs": [
    {
     "name": "stderr",
     "output_type": "stream",
     "text": [
      "/Users/rasswanth/PySyft/.tox/syft.jupyter/lib/python3.9/site-packages/jax/_src/lib/__init__.py:33: UserWarning: JAX on Mac ARM machines is experimental and minimally tested. Please see https://github.com/google/jax/issues/5501 in the event of problems.\n",
      "  warnings.warn(\"JAX on Mac ARM machines is experimental and minimally tested. \"\n"
     ]
    }
   ],
   "source": [
    "import syft as sy"
   ]
  },
  {
   "cell_type": "code",
   "execution_count": 2,
   "id": "c590cf5c-faa4-492b-b8d4-119e244b853b",
   "metadata": {},
   "outputs": [
    {
     "name": "stdout",
     "output_type": "stream",
     "text": [
      "WARNING: CHANGE YOUR USERNAME AND PASSWORD!!! \n",
      "\n",
      "Anyone can login as an admin to your node right now because your password is still the default PySyft username and password!!!\n",
      "\n",
      "Connecting to localhost... done! \t Logging into canada... done!\n"
     ]
    }
   ],
   "source": [
    "ca = sy.login(email=\"info@openmined.org\", password=\"changethis\", port=8081)"
   ]
  },
  {
   "cell_type": "code",
   "execution_count": 3,
   "id": "7f369558-2ddc-45ac-96a1-4975e122a8a8",
   "metadata": {},
   "outputs": [
    {
     "name": "stdout",
     "output_type": "stream",
     "text": [
      "WARNING: CHANGE YOUR USERNAME AND PASSWORD!!! \n",
      "\n",
      "Anyone can login as an admin to your node right now because your password is still the default PySyft username and password!!!\n",
      "\n",
      "Connecting to localhost... done! \t Logging into italy... done!\n"
     ]
    }
   ],
   "source": [
    "it = sy.login(email=\"info@openmined.org\", password=\"changethis\", port=8082)"
   ]
  },
  {
   "cell_type": "code",
   "execution_count": 4,
   "id": "411dace4-78bf-458e-b742-6b24744f8ffb",
   "metadata": {},
   "outputs": [
    {
     "name": "stdout",
     "output_type": "stream",
     "text": [
      "Dataset: Canada Test data\n",
      "Description: Operation Testing\n",
      "\n"
     ]
    },
    {
     "data": {
      "text/html": [
       "<style>\n",
       "        #myInput {\n",
       "          background-position: 10px 12px; /* Position the search icon */\n",
       "          background-repeat: no-repeat; /* Do not repeat the icon image */\n",
       "          background-color: #bbb;\n",
       "          width: 98%; /* Full-width */\n",
       "          font-size: 14px; /* Increase font-size */\n",
       "          padding: 12px 20px 12px 40px; /* Add some padding */\n",
       "          border: 1px solid #ddd; /* Add a grey border */\n",
       "          margin-bottom: 12px; /* Add some space below the input */\n",
       "        }\n",
       "\n",
       "        #myTable {\n",
       "          border-collapse: collapse; /* Collapse borders */\n",
       "          width: 50%; /* Full-width */\n",
       "          border: 1px solid #ddd; /* Add a grey border */\n",
       "          font-size: 14px; /* Increase font-size */\n",
       "        }\n",
       "\n",
       "        #myTable th, #myTable td {\n",
       "          text-align: left; /* Left-align text */\n",
       "          padding: 10px; /* Add padding */\n",
       "        }\n",
       "\n",
       "        #myTable tr {\n",
       "          /* Add a bottom border to all table rows */\n",
       "          border-bottom: 1px solid #ddd;\n",
       "        }\n",
       "\n",
       "        #myTable tr.header, #myTable tr:hover {\n",
       "          /* Add a grey background color to the table header and on hover */\n",
       "          background-color: #777;\n",
       "        }\n",
       "        </style>\n",
       "\n",
       "        <table id=\"myTable\">\n",
       "          <tr class=\"header\">\n",
       "            <th style=\"width:15%;\">Asset Key</th>\n",
       "            <th style=\"width:20%;\">Type</th>\n",
       "            <th style=\"width:10%;\">Shape</th>\n",
       "          </tr>\n",
       "        \n",
       "\n",
       "              <tr>\n",
       "            <td>[\"canada_data\"]</td>\n",
       "            <td><class 'syft.core.tensor.tensor.Tensor'></td>\n",
       "            <td>(3, 3)</td>\n",
       "          </tr>\n",
       "        </table>\n",
       "\n",
       "        "
      ],
      "text/plain": [
       "<syft.core.node.common.client_manager.dataset_api.Dataset at 0x29f91a880>"
      ]
     },
     "execution_count": 4,
     "metadata": {},
     "output_type": "execute_result"
    }
   ],
   "source": [
    "ca.datasets[-1]"
   ]
  },
  {
   "cell_type": "code",
   "execution_count": 5,
   "id": "4b3825ce-ebbc-4965-9d5f-ae60778291cb",
   "metadata": {},
   "outputs": [],
   "source": [
    "ca_data = ca.datasets[-1][\"canada_data\"]\n",
    "it_data = it.datasets[-1][\"italy_data\"]"
   ]
  },
  {
   "cell_type": "code",
   "execution_count": 6,
   "id": "d1097129-bae6-4ed8-8b5b-f4234f34029f",
   "metadata": {},
   "outputs": [
    {
     "data": {
      "text/plain": [
       "syft.core.tensor.autodp.phi_tensor.TensorWrappedPhiTensorPointer"
      ]
     },
     "execution_count": 6,
     "metadata": {},
     "output_type": "execute_result"
    }
   ],
   "source": [
    "type(ca_data)"
   ]
  },
  {
   "cell_type": "code",
   "execution_count": 7,
   "id": "a427a2d7-f195-4bff-90c1-4c0cb3baf056",
   "metadata": {},
   "outputs": [
    {
     "data": {
      "text/plain": [
       "array([[5, 2, 1],\n",
       "       [5, 7, 6],\n",
       "       [3, 7, 9]])\n",
       "\n",
       " (The data printed above is synthetic - it's an imitation of the real data.)"
      ]
     },
     "execution_count": 7,
     "metadata": {},
     "output_type": "execute_result"
    }
   ],
   "source": [
    "it_data"
   ]
  },
  {
   "cell_type": "code",
   "execution_count": 8,
   "id": "9815f887-ea8e-44ae-8cc8-e821798bb185",
   "metadata": {},
   "outputs": [
    {
     "data": {
      "text/plain": [
       "array([[5, 6, 9],\n",
       "       [8, 8, 9],\n",
       "       [2, 3, 2]])\n",
       "\n",
       " (The data printed above is synthetic - it's an imitation of the real data.)"
      ]
     },
     "execution_count": 8,
     "metadata": {},
     "output_type": "execute_result"
    }
   ],
   "source": [
    "ca_data"
   ]
  },
  {
   "cell_type": "code",
   "execution_count": 10,
   "id": "da281a47-8d17-4366-af1e-a47f1aff79c4",
   "metadata": {},
   "outputs": [
    {
     "data": {
      "text/plain": [
       "array([[7, 7, 3],\n",
       "       [8, 6, 9],\n",
       "       [3, 9, 8]])\n",
       "\n",
       " (The data printed above is synthetic - it's an imitation of the real data.)"
      ]
     },
     "execution_count": 10,
     "metadata": {},
     "output_type": "execute_result"
    }
   ],
   "source": [
    "ca_data"
   ]
  },
  {
   "cell_type": "code",
   "execution_count": 9,
   "id": "bc8dab19-f1dd-4898-a112-208ce3c273ca",
   "metadata": {},
   "outputs": [
    {
     "data": {
      "text/plain": [
       "14\n",
       "\n",
       " (The data printed above is synthetic - it's an imitation of the real data.)"
      ]
     },
     "execution_count": 9,
     "metadata": {},
     "output_type": "execute_result"
    }
   ],
   "source": [
    "it_data.trace()"
   ]
  },
  {
   "cell_type": "code",
   "execution_count": 11,
   "id": "e471d3bb-72c2-4e35-b6aa-83c472975568",
   "metadata": {},
   "outputs": [],
   "source": [
    "ptr = ca_data.trace()"
   ]
  },
  {
   "cell_type": "code",
   "execution_count": 12,
   "id": "7faa875f-4929-4293-84d7-ff9229942908",
   "metadata": {},
   "outputs": [
    {
     "data": {
      "text/plain": [
       "True"
      ]
     },
     "execution_count": 12,
     "metadata": {},
     "output_type": "execute_result"
    }
   ],
   "source": [
    "ptr.exists"
   ]
  },
  {
   "cell_type": "code",
   "execution_count": 13,
   "id": "44ab0d5c-5a72-4bdb-937c-a9792c8eac14",
   "metadata": {},
   "outputs": [
    {
     "data": {
      "text/plain": [
       "Tensor(child=PhiTensor(child=15, min_vals=<lazyrepeatarray data: 3 -> shape: ()>, max_vals=<lazyrepeatarray data: 30 -> shape: ()>))"
      ]
     },
     "execution_count": 13,
     "metadata": {},
     "output_type": "execute_result"
    }
   ],
   "source": [
    "ptr.get_copy()"
   ]
  },
  {
   "cell_type": "code",
   "execution_count": null,
   "id": "b0c77681-49ea-4cac-9287-3182e8569d4e",
   "metadata": {},
   "outputs": [],
   "source": []
  },
  {
   "cell_type": "code",
   "execution_count": 14,
   "id": "b5ca523c-719d-48ad-b1d9-d9b56b91e3ec",
   "metadata": {},
   "outputs": [],
   "source": [
    "mpc_tensor = ca_data+ it_data"
   ]
  },
  {
   "cell_type": "code",
   "execution_count": 15,
   "id": "635d66e9-14e3-456c-8f02-b68b0f87f375",
   "metadata": {},
   "outputs": [
    {
     "data": {
      "text/plain": [
       "\n",
       "\n",
       "MPCTensor.shape=(3, 3)\n",
       "\t .child[0] = <TensorPointer -> canada:8c0a2cd4b5dda0650a71018b182c6712>\n",
       "\t .child[1] = <TensorPointer -> italy:8c0a2cd4b5dda0650a71018b182c6712>"
      ]
     },
     "execution_count": 15,
     "metadata": {},
     "output_type": "execute_result"
    }
   ],
   "source": [
    "mpc_tensor"
   ]
  },
  {
   "cell_type": "code",
   "execution_count": 16,
   "id": "00426375-6f41-4edb-9d97-a1b0d558f8f8",
   "metadata": {},
   "outputs": [],
   "source": [
    "res = mpc_tensor.trace()"
   ]
  },
  {
   "cell_type": "code",
   "execution_count": 17,
   "id": "369f92a0-54e9-462c-bfdd-0cd1366e0d63",
   "metadata": {},
   "outputs": [
    {
     "data": {
      "text/plain": [
       "<TensorPointer -> canada:8c0a2cd4b5dda0650a71018b182c6712>"
      ]
     },
     "execution_count": 17,
     "metadata": {},
     "output_type": "execute_result"
    }
   ],
   "source": [
    "mpc_tensor.child[0]"
   ]
  },
  {
   "cell_type": "code",
   "execution_count": null,
   "id": "77130394-6b45-40d9-a9a5-96692c31b7a7",
   "metadata": {},
   "outputs": [],
   "source": []
  },
  {
   "cell_type": "code",
   "execution_count": null,
   "id": "70b6d2ed-a2c4-4d9a-a44d-0037a05b7dad",
   "metadata": {},
   "outputs": [],
   "source": [
    "mpc_tensor.child[0].trace"
   ]
  },
  {
   "cell_type": "code",
   "execution_count": null,
   "id": "e2043fb8-0efc-488b-9efa-9a5b082fe4de",
   "metadata": {},
   "outputs": [],
   "source": []
  }
 ],
 "metadata": {
  "kernelspec": {
   "display_name": "Python 3 (ipykernel)",
   "language": "python",
   "name": "python3"
  },
  "language_info": {
   "codemirror_mode": {
    "name": "ipython",
    "version": 3
   },
   "file_extension": ".py",
   "mimetype": "text/x-python",
   "name": "python",
   "nbconvert_exporter": "python",
   "pygments_lexer": "ipython3",
   "version": "3.9.13"
  }
 },
 "nbformat": 4,
 "nbformat_minor": 5
}
