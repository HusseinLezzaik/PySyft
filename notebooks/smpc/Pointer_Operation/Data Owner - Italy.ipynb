{
 "cells": [
  {
   "cell_type": "code",
   "execution_count": 1,
   "id": "51d37b4c",
   "metadata": {},
   "outputs": [],
   "source": [
    "import pandas as pd\n",
    "import syft as sy\n",
    "import numpy as np"
   ]
  },
  {
   "cell_type": "markdown",
   "id": "2146967d",
   "metadata": {},
   "source": [
    "### Loading the dataset"
   ]
  },
  {
   "cell_type": "markdown",
   "id": "5c93d481",
   "metadata": {},
   "source": [
    "### Logging into the domain"
   ]
  },
  {
   "cell_type": "code",
   "execution_count": 2,
   "id": "9df58370",
   "metadata": {},
   "outputs": [
    {
     "name": "stdout",
     "output_type": "stream",
     "text": [
      "WARNING: CHANGE YOUR USERNAME AND PASSWORD!!! \n",
      "\n",
      "Anyone can login as an admin to your node right now because your password is still the default PySyft username and password!!!\n",
      "\n",
      "Connecting to localhost... done! \t Logging into italy... done!\n"
     ]
    }
   ],
   "source": [
    "# Let's login into the domain\n",
    "it = sy.login(email=\"info@openmined.org\", password=\"changethis\", port=8082)"
   ]
  },
  {
   "cell_type": "markdown",
   "id": "596486a9",
   "metadata": {},
   "source": [
    "### Upload the dataset to Domain node"
   ]
  },
  {
   "cell_type": "code",
   "execution_count": null,
   "id": "87164d4d",
   "metadata": {},
   "outputs": [],
   "source": [
    "italy_imports_canada  = sy.Tensor(np.array([250])).private(min_val=0,max_val=500,data_subjects = [\"italy\"])"
   ]
  },
  {
   "cell_type": "code",
   "execution_count": null,
   "id": "7c0fcd8c",
   "metadata": {},
   "outputs": [],
   "source": [
    "it.load_dataset(\n",
    "    assets={\"Imports\": italy_imports_canada},\n",
    "    name=\"Italy Trade Data \",\n",
    "    description=\"\"\"A collection of reports from iStat's statistics \n",
    "                    bureau about how much it thinks it imports and exports from other countries.\"\"\",\n",
    ")"
   ]
  },
  {
   "cell_type": "code",
   "execution_count": null,
   "id": "774a1c97",
   "metadata": {},
   "outputs": [],
   "source": [
    "it.datasets"
   ]
  },
  {
   "cell_type": "markdown",
   "id": "f70b2f98",
   "metadata": {},
   "source": [
    "### Create a Data Scientist User"
   ]
  },
  {
   "cell_type": "code",
   "execution_count": null,
   "id": "d89026f6",
   "metadata": {},
   "outputs": [],
   "source": [
    "it.users.create(\n",
    "    **{\n",
    "        \"name\": \"Sheldon Cooper\",\n",
    "        \"email\": \"sheldon@caltech.edu\",\n",
    "        \"password\": \"bazinga\",\n",
    "        \"budget\":9_999_999\n",
    "    }\n",
    ")"
   ]
  },
  {
   "cell_type": "markdown",
   "id": "28ba344a",
   "metadata": {},
   "source": [
    "### Accept/Deny Requests to the Domain"
   ]
  },
  {
   "cell_type": "code",
   "execution_count": null,
   "id": "0cc6559a",
   "metadata": {},
   "outputs": [],
   "source": [
    "it.requests.pandas"
   ]
  },
  {
   "cell_type": "code",
   "execution_count": null,
   "id": "7e177035",
   "metadata": {},
   "outputs": [],
   "source": [
    "it.requests[-1].accept()"
   ]
  },
  {
   "cell_type": "code",
   "execution_count": 3,
   "id": "ddbc0ed5",
   "metadata": {},
   "outputs": [],
   "source": [
    "data = np.array([[1,2,3],[4,5,6],[7,8,9]])\n",
    "test_data_2  = sy.Tensor(data).private(min_val=1,max_val=10,data_subjects = [\"italy\"]*data.shape[0])"
   ]
  },
  {
   "cell_type": "code",
   "execution_count": 4,
   "id": "2aceff94",
   "metadata": {},
   "outputs": [
    {
     "name": "stderr",
     "output_type": "stream",
     "text": [
      "kj/filesystem-disk-unix.c++:1690: warning: PWD environment variable doesn't match current directory; pwd = /home/azureuser/PySyft\n"
     ]
    },
    {
     "name": "stdout",
     "output_type": "stream",
     "text": [
      "Loading dataset... uploading...🚀                                                                                                                                             "
     ]
    },
    {
     "name": "stderr",
     "output_type": "stream",
     "text": [
      "Uploading `italy_data`: 100%|\u001b[32m████████████████████████████████████████\u001b[0m| 1/1 [00:00<00:00, 211.30it/s]\u001b[0m"
     ]
    },
    {
     "name": "stdout",
     "output_type": "stream",
     "text": [
      "Dataset is uploaded successfully !!! 🎉\n",
      "\n",
      "Run `<your client variable>.datasets` to see your new dataset loaded into your machine!\n"
     ]
    },
    {
     "name": "stderr",
     "output_type": "stream",
     "text": [
      "\n"
     ]
    }
   ],
   "source": [
    "it.load_dataset(\n",
    "    assets={\"italy_data\": test_data_2},\n",
    "    name=\"Italy Test data\",\n",
    "    description=\"\"\"Operation Testing\"\"\",\n",
    ")"
   ]
  },
  {
   "cell_type": "code",
   "execution_count": 5,
   "id": "a7555d87-12eb-441f-a3fb-bcfd5dadfd75",
   "metadata": {},
   "outputs": [
    {
     "data": {
      "text/html": [
       "<style>\n",
       "                #myInput {\n",
       "                  background-position: 10px 12px; /* Position the search icon */\n",
       "                  background-repeat: no-repeat; /* Do not repeat the icon image */\n",
       "                  background-color: #bbb;\n",
       "                  width: 98%; /* Full-width */\n",
       "                  font-size: 14px; /* Increase font-size */\n",
       "                  padding: 12px 20px 12px 40px; /* Add some padding */\n",
       "                  border: 1px solid #ddd; /* Add a grey border */\n",
       "                  margin-bottom: 12px; /* Add some space below the input */\n",
       "                }\n",
       "\n",
       "                #myTable {\n",
       "                  border-collapse: collapse; /* Collapse borders */\n",
       "                  width: 100%; /* Full-width */\n",
       "                  border: 1px solid #ddd; /* Add a grey border */\n",
       "                  font-size: 14px; /* Increase font-size */\n",
       "                }\n",
       "\n",
       "                #myTable th, #myTable td {\n",
       "                  text-align: left; /* Left-align text */\n",
       "                  padding: 10px; /* Add padding */\n",
       "                }\n",
       "\n",
       "                #myTable tr {\n",
       "                  /* Add a bottom border to all table rows */\n",
       "                  border-bottom: 1px solid #ddd;\n",
       "                }\n",
       "\n",
       "                #myTable tr.header, #myTable tr:hover {\n",
       "                  /* Add a grey background color to the table header and on hover */\n",
       "                  background-color: #777;\n",
       "                }\n",
       "                </style>\n",
       "\n",
       "                <table id=\"myTable\" style=\"width:1000px\">\n",
       "                  <tr class=\"header\">\n",
       "                    <th style=\"width:30px\">Idx</th>\n",
       "                    <th style=\"width:20%;\">Name</th>\n",
       "                    <th style=\"width:35%;\">Description</th>\n",
       "                    <th style=\"width:20%;\">Assets</th>\n",
       "                    <th style=\"width:300px;\">Id</th>\n",
       "                  </tr>\n",
       "                \n",
       "\n",
       "          <tr>\n",
       "            <td>[0]</td>\n",
       "            <td>Italy Trade Data </td>\n",
       "            <td>A collection of reports from iStat's statistics \n",
       "                    bureau about how much it thinks it imports and exports from other countries.</td>\n",
       "            <td>[\"Imports\"] -> <class 'syft.core.tensor.tensor.Tensor'><br /><br /></td>\n",
       "            <td>f3978610-1cff-4b1c-85e6-6d48d36dddbc</td>\n",
       "          </tr>\n",
       "\n",
       "          <tr>\n",
       "            <td>[1]</td>\n",
       "            <td>Italy Test data</td>\n",
       "            <td>Operation Testing</td>\n",
       "            <td>[\"italy_data\"] -> <class 'syft.core.tensor.tensor.Tensor'><br /><br /></td>\n",
       "            <td>5c1293a5-9827-4ad8-b0c8-b1caacad6b49</td>\n",
       "          </tr>\n",
       "\n",
       "          <tr>\n",
       "            <td>[2]</td>\n",
       "            <td>Italy Trade Data </td>\n",
       "            <td>A collection of reports from iStat's statistics \n",
       "                    bureau about how much it thinks it imports and exports from other countries.</td>\n",
       "            <td>[\"Imports\"] -> <class 'syft.core.tensor.tensor.Tensor'><br /><br /></td>\n",
       "            <td>c1c2d538-15ca-4787-bacd-1f6841995af4</td>\n",
       "          </tr>\n",
       "\n",
       "          <tr>\n",
       "            <td>[3]</td>\n",
       "            <td>Italy Trade Data </td>\n",
       "            <td>A collection of reports from iStat's statistics \n",
       "                    bureau about how much it thinks it imports and exports from other countries.</td>\n",
       "            <td>[\"Imports\"] -> <class 'syft.core.tensor.tensor.Tensor'><br /><br /></td>\n",
       "            <td>f73cff0a-dde2-46b5-8d79-290155383a0b</td>\n",
       "          </tr>\n",
       "\n",
       "          <tr>\n",
       "            <td>[4]</td>\n",
       "            <td>Italy Trade Data </td>\n",
       "            <td>A collection of reports from iStat's statistics \n",
       "                    bureau about how much it thinks it imports and exports from other countries.</td>\n",
       "            <td>[\"Imports\"] -> <class 'syft.core.tensor.tensor.Tensor'><br /><br /></td>\n",
       "            <td>9696c68f-7056-44b2-89ce-7281d3d21072</td>\n",
       "          </tr>\n",
       "\n",
       "          <tr>\n",
       "            <td>[5]</td>\n",
       "            <td>Italy Trade Data </td>\n",
       "            <td>A collection of reports from iStat's statistics \n",
       "                    bureau about how much it thinks it imports and exports from other countries.</td>\n",
       "            <td>[\"Imports\"] -> <class 'syft.core.tensor.tensor.Tensor'><br /><br /></td>\n",
       "            <td>231d6ff8-248b-4b76-90b6-579125a466eb</td>\n",
       "          </tr>\n",
       "\n",
       "          <tr>\n",
       "            <td>[6]</td>\n",
       "            <td>Italy Test data</td>\n",
       "            <td>Operation Testing</td>\n",
       "            <td>[\"italy_data\"] -> <class 'syft.core.tensor.tensor.Tensor'><br /><br /></td>\n",
       "            <td>998d7878-0080-4162-92bc-8956c622b6e3</td>\n",
       "          </tr>\n",
       "        </table>\n",
       "\n",
       "        <script>\n",
       "        function myFunction() {\n",
       "          // Declare variables\n",
       "          var input, filter, table, tr, td, i, txtValue;\n",
       "          input = document.getElementById(\"myInput\");\n",
       "          filter = input.value.toUpperCase();\n",
       "          table = document.getElementById(\"myTable\");\n",
       "          tr = table.getElementsByTagName(\"tr\");\n",
       "\n",
       "          // Loop through all table rows, and hide those who don't match the search query\n",
       "          for (i = 0; i < tr.length; i++) {\n",
       "            name_td = tr[i].getElementsByTagName(\"td\")[1];\n",
       "            desc_td = tr[i].getElementsByTagName(\"td\")[2];\n",
       "            asset_td = tr[i].getElementsByTagName(\"td\")[3];\n",
       "            id_td = tr[i].getElementsByTagName(\"td\")[4];\n",
       "            if (name_td || desc_td || asset_td || id_td) {\n",
       "              name_txtValue = name_td.textContent || name_td.innerText;\n",
       "              desc_txtValue = desc_td.textContent || name_td.innerText;\n",
       "              asset_txtValue = asset_td.textContent || name_td.innerText;\n",
       "              id_txtValue = id_td.textContent || name_td.innerText;\n",
       "              name_bool = name_txtValue.toUpperCase().indexOf(filter) > -1;\n",
       "              desc_bool = desc_txtValue.toUpperCase().indexOf(filter) > -1;\n",
       "              asset_bool = asset_txtValue.toUpperCase().indexOf(filter) > -1;\n",
       "              id_bool = id_txtValue.toUpperCase().indexOf(filter) > -1;\n",
       "              if (name_bool || desc_bool || asset_bool || id_bool) {\n",
       "                tr[i].style.display = \"\";\n",
       "              } else {\n",
       "                tr[i].style.display = \"none\";\n",
       "              }\n",
       "            }\n",
       "          }\n",
       "        }\n",
       "        </script>"
      ],
      "text/plain": [
       "<syft.core.node.common.client_manager.dataset_api.DatasetRequestAPI at 0x7f494b7a6130>"
      ]
     },
     "execution_count": 5,
     "metadata": {},
     "output_type": "execute_result"
    }
   ],
   "source": [
    "it.datasets"
   ]
  }
 ],
 "metadata": {
  "kernelspec": {
   "display_name": "Python 3 (ipykernel)",
   "language": "python",
   "name": "python3"
  },
  "language_info": {
   "codemirror_mode": {
    "name": "ipython",
    "version": 3
   },
   "file_extension": ".py",
   "mimetype": "text/x-python",
   "name": "python",
   "nbconvert_exporter": "python",
   "pygments_lexer": "ipython3",
   "version": "3.9.13"
  }
 },
 "nbformat": 4,
 "nbformat_minor": 5
}
