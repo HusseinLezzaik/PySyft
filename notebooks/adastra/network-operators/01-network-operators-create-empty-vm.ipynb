{
 "cells": [
  {
   "cell_type": "markdown",
   "id": "4cfd6c5a-09bd-42e6-aba6-24971da44d99",
   "metadata": {},
   "source": [
    "# Create an empty Ubuntu VM on Azure"
   ]
  },
  {
   "cell_type": "markdown",
   "id": "6495454f-0cf2-4d21-8a60-d01ba9b67b88",
   "metadata": {},
   "source": [
    "Install HAGrid"
   ]
  },
  {
   "cell_type": "markdown",
   "id": "5597864f-3ab6-4957-8a57-f865200b8314",
   "metadata": {},
   "source": [
    "```\n",
    "pip install hagrid\n",
    "```"
   ]
  },
  {
   "cell_type": "markdown",
   "id": "1e32e1a3-59e0-45f1-bfa0-3d008ca7413e",
   "metadata": {},
   "source": [
    "__NOTE__: Just in case there are some issues with a VM we should provision are few extra, here we use node_count 12 for a session of 10 users"
   ]
  },
  {
   "cell_type": "markdown",
   "id": "c698bf82-4346-40a7-b618-db3a471768d1",
   "metadata": {},
   "source": [
    "Run hagrid launch with these arguments:"
   ]
  },
  {
   "cell_type": "markdown",
   "id": "cb74a71b-6d04-4c18-98dd-6ac3040cbfde",
   "metadata": {},
   "source": [
    "```\n",
    "hagrid launch to azure --image_name=domain_0.7.0 --jupyter --ansible_extras=\"install=false\" --node_count 12\n",
    "```"
   ]
  },
  {
   "cell_type": "markdown",
   "id": "abc09642-a3a6-4b3a-88ee-1489b90263b6",
   "metadata": {},
   "source": [
    "- Use a new unique resource group for this session like: aa-test-1\n",
    "- Choose the location where your demo participants will be located, e.g. `eastus`, `westus` etc\n",
    "- Choose an 8 core machine like `Standard_D8s_v3`\n",
    "- Set the username to `azureuser`\n",
    "- Choose password and then `n` to auto-generate password\n",
    "- Set an easy to remember 12 character password like: `Adastrademo2022`\n",
    "- What ever you enter into Repo and Branch will be ignored"
   ]
  },
  {
   "cell_type": "markdown",
   "id": "2e3a1002-a097-494c-81fd-daf6fe2bdb1d",
   "metadata": {},
   "source": [
    "![ip_address](img/hagrid_bare_vm.png)"
   ]
  },
  {
   "cell_type": "markdown",
   "id": "0788b388-01ea-4aee-b47d-ba2ad15ff6d5",
   "metadata": {},
   "source": [
    "After it is finished you should see this message"
   ]
  },
  {
   "cell_type": "markdown",
   "id": "57b64cff-f09f-4af5-81a7-10789cab991f",
   "metadata": {},
   "source": [
    "![ip_address](img/hagrid_bare_vm_output.png)"
   ]
  },
  {
   "cell_type": "markdown",
   "id": "cbd970a1-fa74-4928-9b72-5afcffcd8041",
   "metadata": {},
   "source": [
    "Now run this to get JSON containing the information for all the VMs:"
   ]
  },
  {
   "cell_type": "markdown",
   "id": "e62978aa-99e5-469c-b69a-ede97f17295c",
   "metadata": {},
   "source": [
    "```\n",
    "cat ~/.hagrid/host_ips.json\n",
    "```"
   ]
  },
  {
   "cell_type": "code",
   "execution_count": 1,
   "id": "187a4aa7",
   "metadata": {},
   "outputs": [],
   "source": [
    "import os\n",
    "import json\n",
    "\n",
    "# paste the path to host ip json here\n",
    "HOST_IP_PATH = \"~/.hagrid/host_ips.json\"\n",
    "HOST_IP_PATH = os.path.expanduser(HOST_IP_PATH)\n",
    "\n",
    "with open(HOST_IP_PATH) as fp:\n",
    "    host_ips = json.loads(fp.read())"
   ]
  },
  {
   "cell_type": "code",
   "execution_count": 6,
   "id": "e849c95e",
   "metadata": {},
   "outputs": [
    {
     "data": {
      "text/plain": [
       "{'host_ips': [{'username': 'azureuser',\n",
       "   'password': 'Adastrademo2022',\n",
       "   'ip_address': '20.232.50.67',\n",
       "   'jupyter_token': 'cvarhsce6sjia1frm1dto4gezihly84m0kh53tn319thg277'},\n",
       "  {'username': 'azureuser',\n",
       "   'password': 'Adastrademo2022',\n",
       "   'ip_address': '20.232.50.47',\n",
       "   'jupyter_token': 'pdwdss0vmvqvr3unmw24tpryssaxrn587t0yy0xqo5wd23fi'},\n",
       "  {'username': 'azureuser',\n",
       "   'password': 'Adastrademo2022',\n",
       "   'ip_address': '20.232.50.28',\n",
       "   'jupyter_token': '01xfj9uvy1a5ygq6c4834xht8b1drg74y0g70xmbcnpufqg5'},\n",
       "  {'username': 'azureuser',\n",
       "   'password': 'Adastrademo2022',\n",
       "   'ip_address': '20.232.50.44',\n",
       "   'jupyter_token': 'wyrbksklc97111rwm688yzxcwl96d437cqtwwdv2abkd9u4l'},\n",
       "  {'username': 'azureuser',\n",
       "   'password': 'Adastrademo2022',\n",
       "   'ip_address': '20.232.50.32',\n",
       "   'jupyter_token': 'fuava5qbk4yw8xdt1pba3txhhqzaumrzv8jvya0fvy6cqu35'},\n",
       "  {'username': 'azureuser',\n",
       "   'password': 'Adastrademo2022',\n",
       "   'ip_address': '20.232.50.36',\n",
       "   'jupyter_token': 'p47tximp9bvnpu9crjoj09umgilsfan62ryoyzjq72bognay'},\n",
       "  {'username': 'azureuser',\n",
       "   'password': 'Adastrademo2022',\n",
       "   'ip_address': '20.232.50.42',\n",
       "   'jupyter_token': 'zsg051cnn7ld1vb4fponhqkk3ihcszjc0sqsr238jlehmshd'},\n",
       "  {'username': 'azureuser',\n",
       "   'password': 'Adastrademo2022',\n",
       "   'ip_address': '20.232.50.52',\n",
       "   'jupyter_token': 'ubbbedpppvqbncljjwcztljw6axuph7zzgdgko7g7nr1nzm1'},\n",
       "  {'username': 'azureuser',\n",
       "   'password': 'Adastrademo2022',\n",
       "   'ip_address': '20.232.50.58',\n",
       "   'jupyter_token': 'gphhq4bhu9k4y5kj8wmjv4nzkbb61ssxkqnj3rk9b9wiyhrs'},\n",
       "  {'username': 'azureuser',\n",
       "   'password': 'Adastrademo2022',\n",
       "   'ip_address': '20.232.50.72',\n",
       "   'jupyter_token': 'pxl65jr0ce0s6z91vkob68agrppf2xb6x1uvca6b3cg4d2ks'},\n",
       "  {'username': 'azureuser',\n",
       "   'password': 'Adastrademo2022',\n",
       "   'ip_address': '20.232.50.69',\n",
       "   'jupyter_token': 'e15gcbjktj9xj78gimv6mi5zd9eu5wsdyzlm0wmwb4hf93l3'},\n",
       "  {'username': 'azureuser',\n",
       "   'password': 'Adastrademo2022',\n",
       "   'ip_address': '20.232.50.54',\n",
       "   'jupyter_token': 'nmdqr69bj58zty8kdftl11qqaa5gt2bwsim2uy00i8pifzko'}]}"
      ]
     },
     "execution_count": 6,
     "metadata": {},
     "output_type": "execute_result"
    }
   ],
   "source": [
    "host_ips"
   ]
  },
  {
   "cell_type": "code",
   "execution_count": 50,
   "id": "a84951c8-0b81-4934-9887-8e0d1856b93f",
   "metadata": {},
   "outputs": [],
   "source": [
    "# update TOTAL_PARTICIPANTS\n",
    "# use the total participants not the total machines, e.g. 10 not 12\n",
    "# as this is used to calculate the data split assignment\n",
    "TOTAL_PARTICIPANTS = 10"
   ]
  },
  {
   "cell_type": "code",
   "execution_count": 51,
   "id": "735aa206-70c2-4204-adc5-e134bcb49c2d",
   "metadata": {},
   "outputs": [
    {
     "name": "stdout",
     "output_type": "stream",
     "text": [
      "Total participants: 10\n"
     ]
    }
   ],
   "source": [
    "# optionally add names or emails here which will be printed below to help keep track of assignment\n",
    "participants = [\n",
    "    \"Teo\",\n",
    "    \"Ruchi\",\n",
    "    \"Kyoko\",\n",
    "    \"Ivy\",\n",
    "    \"Shubham\",\n",
    "    \"Irina\",\n",
    "    \"Laura\",\n",
    "    \"Ionesio\",\n",
    "    \"Ronnie\",\n",
    "    \"Rasswanth\",\n",
    "]\n",
    "\n",
    "assert len(participants) <= TOTAL_PARTICIPANTS, \"TOTAL_PARTICIPANTS should be less than or equal to the length of participant list\"\n",
    "print(\"Total participants:\", len(participants))"
   ]
  },
  {
   "cell_type": "markdown",
   "id": "393d5372",
   "metadata": {},
   "source": [
    "If you need to re-partition the MedNIST dataset and create new data subsets, switch to [prepare MedNIST dataset notebook](02-prepare-datasets-MedNIST.ipynb)."
   ]
  },
  {
   "cell_type": "code",
   "execution_count": 52,
   "id": "5d208c27",
   "metadata": {},
   "outputs": [],
   "source": [
    "import requests\n",
    "\n",
    "DATASET_INFO_FILEPATH = \"https://raw.githubusercontent.com/shubham3121/datasets/main/MedNIST/dataset.json\"\n",
    "\n",
    "def get_dataset_urls():\n",
    "    \n",
    "    data_subset_urls = []\n",
    "    \n",
    "    response = requests.get(DATASET_INFO_FILEPATH)\n",
    "    data_subset_info = response.json()\n",
    "    DATASET_REPO_URL = \"https://media.githubusercontent.com/media/shubham3121/datasets/main/MedNIST/subsets/\"\n",
    "    \n",
    "    for dataset_name in data_subset_info.values():\n",
    "        url = DATASET_REPO_URL + dataset_name\n",
    "        data_subset_urls.append(url)\n",
    "        \n",
    "    return data_subset_urls"
   ]
  },
  {
   "cell_type": "code",
   "execution_count": 28,
   "id": "139da440-fa18-4c39-a451-647643930068",
   "metadata": {},
   "outputs": [],
   "source": [
    "def check_ip_port(host_ip: str, port: int) -> bool:\n",
    "    import socket\n",
    "    try:\n",
    "        sock = socket.socket(socket.AF_INET, socket.SOCK_STREAM)\n",
    "        sock.settimeout(2)\n",
    "        result = sock.connect_ex((host_ip, port))\n",
    "        sock.close()\n",
    "        if result == 0:\n",
    "            return True\n",
    "    except Exception:\n",
    "        pass\n",
    "    return False"
   ]
  },
  {
   "cell_type": "code",
   "execution_count": 29,
   "id": "db7499ee-c70e-40b7-babd-9c006a4af309",
   "metadata": {},
   "outputs": [],
   "source": [
    "def get_icon(status: bool) -> str:\n",
    "    return \"✅\" if status else \"❌\""
   ]
  },
  {
   "cell_type": "code",
   "execution_count": 30,
   "id": "3b67c540-1f37-4994-b144-402d5f602820",
   "metadata": {},
   "outputs": [],
   "source": [
    "def check_hosts_ready(host_ips: dict) -> None:\n",
    "    for host in host_ips[\"host_ips\"]:\n",
    "        print(\"-----------------------\")\n",
    "        host_ip = host[\"ip_address\"]\n",
    "        # make sure the containers are not running\n",
    "        http_up = check_ip_port(host_ip=host_ip, port=80)\n",
    "        print(f\"{get_icon(not http_up)} Containers Off {host_ip}:80\")\n",
    "        \n",
    "        # make sure jupyter notebooks is up\n",
    "        jupyter_up = check_ip_port(host_ip=host_ip, port=8888)\n",
    "        print(f\"{get_icon(jupyter_up)} Jupyter Up {host_ip}:8888\")\n",
    "        \n",
    "        # make sure SSH is up\n",
    "        ssh_up = check_ip_port(host_ip=host_ip, port=22)\n",
    "        print(f\"{get_icon(ssh_up)} SSH Up {host_ip}:22\")\n",
    "\n",
    "        print()\n",
    "        all_status = (not http_up) and jupyter_up and ssh_up\n",
    "        print(f\"{get_icon(all_status)} Node {host_ip} Ready!\")\n",
    "        print(\"-----------------------\")\n",
    "        print()"
   ]
  },
  {
   "cell_type": "code",
   "execution_count": 31,
   "id": "0a3daa70-c704-4861-bbf9-5e24501ee71a",
   "metadata": {},
   "outputs": [
    {
     "name": "stdout",
     "output_type": "stream",
     "text": [
      "-----------------------\n",
      "✅ Containers Off 20.232.50.67:80\n",
      "❌ Jupyter Up 20.232.50.67:8888\n"
     ]
    },
    {
     "ename": "KeyboardInterrupt",
     "evalue": "",
     "output_type": "error",
     "traceback": [
      "\u001b[0;31m---------------------------------------------------------------------------\u001b[0m",
      "\u001b[0;31mKeyboardInterrupt\u001b[0m                         Traceback (most recent call last)",
      "Input \u001b[0;32mIn [31]\u001b[0m, in \u001b[0;36m<module>\u001b[0;34m\u001b[0m\n\u001b[0;32m----> 1\u001b[0m \u001b[43mcheck_hosts_ready\u001b[49m\u001b[43m(\u001b[49m\u001b[43mhost_ips\u001b[49m\u001b[43m)\u001b[49m\n",
      "Input \u001b[0;32mIn [30]\u001b[0m, in \u001b[0;36mcheck_hosts_ready\u001b[0;34m(host_ips)\u001b[0m\n\u001b[1;32m     11\u001b[0m \u001b[38;5;28mprint\u001b[39m(\u001b[38;5;124mf\u001b[39m\u001b[38;5;124m\"\u001b[39m\u001b[38;5;132;01m{\u001b[39;00mget_icon(jupyter_up)\u001b[38;5;132;01m}\u001b[39;00m\u001b[38;5;124m Jupyter Up \u001b[39m\u001b[38;5;132;01m{\u001b[39;00mhost_ip\u001b[38;5;132;01m}\u001b[39;00m\u001b[38;5;124m:8888\u001b[39m\u001b[38;5;124m\"\u001b[39m)\n\u001b[1;32m     13\u001b[0m \u001b[38;5;66;03m# make sure SSH is up\u001b[39;00m\n\u001b[0;32m---> 14\u001b[0m ssh_up \u001b[38;5;241m=\u001b[39m \u001b[43mcheck_ip_port\u001b[49m\u001b[43m(\u001b[49m\u001b[43mhost_ip\u001b[49m\u001b[38;5;241;43m=\u001b[39;49m\u001b[43mhost_ip\u001b[49m\u001b[43m,\u001b[49m\u001b[43m \u001b[49m\u001b[43mport\u001b[49m\u001b[38;5;241;43m=\u001b[39;49m\u001b[38;5;241;43m22\u001b[39;49m\u001b[43m)\u001b[49m\n\u001b[1;32m     15\u001b[0m \u001b[38;5;28mprint\u001b[39m(\u001b[38;5;124mf\u001b[39m\u001b[38;5;124m\"\u001b[39m\u001b[38;5;132;01m{\u001b[39;00mget_icon(ssh_up)\u001b[38;5;132;01m}\u001b[39;00m\u001b[38;5;124m SSH Up \u001b[39m\u001b[38;5;132;01m{\u001b[39;00mhost_ip\u001b[38;5;132;01m}\u001b[39;00m\u001b[38;5;124m:22\u001b[39m\u001b[38;5;124m\"\u001b[39m)\n\u001b[1;32m     17\u001b[0m \u001b[38;5;28mprint\u001b[39m()\n",
      "Input \u001b[0;32mIn [28]\u001b[0m, in \u001b[0;36mcheck_ip_port\u001b[0;34m(host_ip, port)\u001b[0m\n\u001b[1;32m      4\u001b[0m sock \u001b[38;5;241m=\u001b[39m socket\u001b[38;5;241m.\u001b[39msocket(socket\u001b[38;5;241m.\u001b[39mAF_INET, socket\u001b[38;5;241m.\u001b[39mSOCK_STREAM)\n\u001b[1;32m      5\u001b[0m sock\u001b[38;5;241m.\u001b[39msettimeout(\u001b[38;5;241m2\u001b[39m)\n\u001b[0;32m----> 6\u001b[0m result \u001b[38;5;241m=\u001b[39m \u001b[43msock\u001b[49m\u001b[38;5;241;43m.\u001b[39;49m\u001b[43mconnect_ex\u001b[49m\u001b[43m(\u001b[49m\u001b[43m(\u001b[49m\u001b[43mhost_ip\u001b[49m\u001b[43m,\u001b[49m\u001b[43m \u001b[49m\u001b[43mport\u001b[49m\u001b[43m)\u001b[49m\u001b[43m)\u001b[49m\n\u001b[1;32m      7\u001b[0m sock\u001b[38;5;241m.\u001b[39mclose()\n\u001b[1;32m      8\u001b[0m \u001b[38;5;28;01mif\u001b[39;00m result \u001b[38;5;241m==\u001b[39m \u001b[38;5;241m0\u001b[39m:\n",
      "\u001b[0;31mKeyboardInterrupt\u001b[0m: "
     ]
    }
   ],
   "source": [
    "check_hosts_ready(host_ips)"
   ]
  },
  {
   "cell_type": "code",
   "execution_count": 53,
   "id": "dcf677a0-967f-4202-8584-8003c11e9da7",
   "metadata": {},
   "outputs": [],
   "source": [
    "def output_user_details(host_ips: dict, participants: list[str] = []) -> None:\n",
    "    notebook_path = \"adastra/data-owners/01-data-owners-login.ipynb\"\n",
    "    print(\"===============================\")\n",
    "    print(\"Ad Astra Demo 1\")\n",
    "    print(\"===============================\")\n",
    "    print()\n",
    "    print(\"Send to each participant\")\n",
    "    print()\n",
    "    if TOTAL_PARTICIPANTS > len(host_ips[\"host_ips\"]):\n",
    "        raise Exception(\n",
    "            f\"TOTAL_PARTICIPANTS: {TOTAL_PARTICIPANTS} is less than VM count: {len(host_ips['host_ips'])}\"\n",
    "        )\n",
    "    partition = 0\n",
    "    dataset_urls = get_dataset_urls()\n",
    "    num_of_urls = len(dataset_urls)\n",
    "    for host in host_ips[\"host_ips\"]:\n",
    "        partition += 1\n",
    "        if partition <= len(participants):\n",
    "            print(f\"Hi {participants[partition - 1]},\")\n",
    "        if partition <= TOTAL_PARTICIPANTS:\n",
    "            print(\"These are your Session Details:\")\n",
    "        else:\n",
    "            print(\"Spare Session Details:\")\n",
    "        print(\"-------------------------------\")\n",
    "        print(f\"VM Username: {host['username']}\")\n",
    "        print(f\"VM Password: {host['password']}\")\n",
    "        print(f\"VM IP Address: {host['ip_address']}\")\n",
    "        print(f\"📎 MY_DATASET_URL:\\n{dataset_urls[partition%num_of_urls]}\")\n",
    "\n",
    "        print()\n",
    "        print(f\"👉🏽 Start Here:\")\n",
    "        print(\n",
    "            f\"http://{host['ip_address']}:8888/lab/tree/notebooks/{notebook_path}\"\n",
    "            f\"?token={host['jupyter_token']}\"\n",
    "        )\n",
    "        print()"
   ]
  },
  {
   "cell_type": "code",
   "execution_count": 54,
   "id": "1bf67dae-b4c3-4202-bfe7-db511c5f03a8",
   "metadata": {},
   "outputs": [
    {
     "name": "stdout",
     "output_type": "stream",
     "text": [
      "===============================\n",
      "Ad Astra Demo 1\n",
      "===============================\n",
      "\n",
      "Send to each participant\n",
      "\n",
      "Hi Teo,\n",
      "These are your Session Details:\n",
      "-------------------------------\n",
      "VM Username: azureuser\n",
      "VM Password: Adastrademo2022\n",
      "VM IP Address: 20.232.50.67\n",
      "📎 MY_DATASET_URL:\n",
      "https://media.githubusercontent.com/media/shubham3121/datasets/main/MedNIST/subsets/MedNIST-b48a3173fe.pkl\n",
      "\n",
      "👉🏽 Start Here:\n",
      "http://20.232.50.67:8888/lab/tree/notebooks/adastra/data-owners/01-data-owners-login.ipynb?token=cvarhsce6sjia1frm1dto4gezihly84m0kh53tn319thg277\n",
      "\n",
      "Hi Ruchi,\n",
      "These are your Session Details:\n",
      "-------------------------------\n",
      "VM Username: azureuser\n",
      "VM Password: Adastrademo2022\n",
      "VM IP Address: 20.232.50.47\n",
      "📎 MY_DATASET_URL:\n",
      "https://media.githubusercontent.com/media/shubham3121/datasets/main/MedNIST/subsets/MedNIST-c865822efe.pkl\n",
      "\n",
      "👉🏽 Start Here:\n",
      "http://20.232.50.47:8888/lab/tree/notebooks/adastra/data-owners/01-data-owners-login.ipynb?token=pdwdss0vmvqvr3unmw24tpryssaxrn587t0yy0xqo5wd23fi\n",
      "\n",
      "Hi Kyoko,\n",
      "These are your Session Details:\n",
      "-------------------------------\n",
      "VM Username: azureuser\n",
      "VM Password: Adastrademo2022\n",
      "VM IP Address: 20.232.50.28\n",
      "📎 MY_DATASET_URL:\n",
      "https://media.githubusercontent.com/media/shubham3121/datasets/main/MedNIST/subsets/MedNIST-516a3f6746.pkl\n",
      "\n",
      "👉🏽 Start Here:\n",
      "http://20.232.50.28:8888/lab/tree/notebooks/adastra/data-owners/01-data-owners-login.ipynb?token=01xfj9uvy1a5ygq6c4834xht8b1drg74y0g70xmbcnpufqg5\n",
      "\n",
      "Hi Ivy,\n",
      "These are your Session Details:\n",
      "-------------------------------\n",
      "VM Username: azureuser\n",
      "VM Password: Adastrademo2022\n",
      "VM IP Address: 20.232.50.44\n",
      "📎 MY_DATASET_URL:\n",
      "https://media.githubusercontent.com/media/shubham3121/datasets/main/MedNIST/subsets/MedNIST-b35c610d54.pkl\n",
      "\n",
      "👉🏽 Start Here:\n",
      "http://20.232.50.44:8888/lab/tree/notebooks/adastra/data-owners/01-data-owners-login.ipynb?token=wyrbksklc97111rwm688yzxcwl96d437cqtwwdv2abkd9u4l\n",
      "\n",
      "Hi Shubham,\n",
      "These are your Session Details:\n",
      "-------------------------------\n",
      "VM Username: azureuser\n",
      "VM Password: Adastrademo2022\n",
      "VM IP Address: 20.232.50.32\n",
      "📎 MY_DATASET_URL:\n",
      "https://media.githubusercontent.com/media/shubham3121/datasets/main/MedNIST/subsets/MedNIST-48975f1701.pkl\n",
      "\n",
      "👉🏽 Start Here:\n",
      "http://20.232.50.32:8888/lab/tree/notebooks/adastra/data-owners/01-data-owners-login.ipynb?token=fuava5qbk4yw8xdt1pba3txhhqzaumrzv8jvya0fvy6cqu35\n",
      "\n",
      "Hi Irina,\n",
      "These are your Session Details:\n",
      "-------------------------------\n",
      "VM Username: azureuser\n",
      "VM Password: Adastrademo2022\n",
      "VM IP Address: 20.232.50.36\n",
      "📎 MY_DATASET_URL:\n",
      "https://media.githubusercontent.com/media/shubham3121/datasets/main/MedNIST/subsets/MedNIST-842492e114.pkl\n",
      "\n",
      "👉🏽 Start Here:\n",
      "http://20.232.50.36:8888/lab/tree/notebooks/adastra/data-owners/01-data-owners-login.ipynb?token=p47tximp9bvnpu9crjoj09umgilsfan62ryoyzjq72bognay\n",
      "\n",
      "Hi Laura,\n",
      "These are your Session Details:\n",
      "-------------------------------\n",
      "VM Username: azureuser\n",
      "VM Password: Adastrademo2022\n",
      "VM IP Address: 20.232.50.42\n",
      "📎 MY_DATASET_URL:\n",
      "https://media.githubusercontent.com/media/shubham3121/datasets/main/MedNIST/subsets/MedNIST-8ca1b11846.pkl\n",
      "\n",
      "👉🏽 Start Here:\n",
      "http://20.232.50.42:8888/lab/tree/notebooks/adastra/data-owners/01-data-owners-login.ipynb?token=zsg051cnn7ld1vb4fponhqkk3ihcszjc0sqsr238jlehmshd\n",
      "\n",
      "Hi Ionesio,\n",
      "These are your Session Details:\n",
      "-------------------------------\n",
      "VM Username: azureuser\n",
      "VM Password: Adastrademo2022\n",
      "VM IP Address: 20.232.50.52\n",
      "📎 MY_DATASET_URL:\n",
      "https://media.githubusercontent.com/media/shubham3121/datasets/main/MedNIST/subsets/MedNIST-aa8208fc64.pkl\n",
      "\n",
      "👉🏽 Start Here:\n",
      "http://20.232.50.52:8888/lab/tree/notebooks/adastra/data-owners/01-data-owners-login.ipynb?token=ubbbedpppvqbncljjwcztljw6axuph7zzgdgko7g7nr1nzm1\n",
      "\n",
      "Hi Ronnie,\n",
      "These are your Session Details:\n",
      "-------------------------------\n",
      "VM Username: azureuser\n",
      "VM Password: Adastrademo2022\n",
      "VM IP Address: 20.232.50.58\n",
      "📎 MY_DATASET_URL:\n",
      "https://media.githubusercontent.com/media/shubham3121/datasets/main/MedNIST/subsets/MedNIST-ecccc00ee3.pkl\n",
      "\n",
      "👉🏽 Start Here:\n",
      "http://20.232.50.58:8888/lab/tree/notebooks/adastra/data-owners/01-data-owners-login.ipynb?token=gphhq4bhu9k4y5kj8wmjv4nzkbb61ssxkqnj3rk9b9wiyhrs\n",
      "\n",
      "Hi Rasswanth,\n",
      "These are your Session Details:\n",
      "-------------------------------\n",
      "VM Username: azureuser\n",
      "VM Password: Adastrademo2022\n",
      "VM IP Address: 20.232.50.72\n",
      "📎 MY_DATASET_URL:\n",
      "https://media.githubusercontent.com/media/shubham3121/datasets/main/MedNIST/subsets/MedNIST-437467c744.pkl\n",
      "\n",
      "👉🏽 Start Here:\n",
      "http://20.232.50.72:8888/lab/tree/notebooks/adastra/data-owners/01-data-owners-login.ipynb?token=pxl65jr0ce0s6z91vkob68agrppf2xb6x1uvca6b3cg4d2ks\n",
      "\n",
      "Spare Session Details:\n",
      "-------------------------------\n",
      "VM Username: azureuser\n",
      "VM Password: Adastrademo2022\n",
      "VM IP Address: 20.232.50.69\n",
      "📎 MY_DATASET_URL:\n",
      "https://media.githubusercontent.com/media/shubham3121/datasets/main/MedNIST/subsets/MedNIST-b48a3173fe.pkl\n",
      "\n",
      "👉🏽 Start Here:\n",
      "http://20.232.50.69:8888/lab/tree/notebooks/adastra/data-owners/01-data-owners-login.ipynb?token=e15gcbjktj9xj78gimv6mi5zd9eu5wsdyzlm0wmwb4hf93l3\n",
      "\n",
      "Spare Session Details:\n",
      "-------------------------------\n",
      "VM Username: azureuser\n",
      "VM Password: Adastrademo2022\n",
      "VM IP Address: 20.232.50.54\n",
      "📎 MY_DATASET_URL:\n",
      "https://media.githubusercontent.com/media/shubham3121/datasets/main/MedNIST/subsets/MedNIST-c865822efe.pkl\n",
      "\n",
      "👉🏽 Start Here:\n",
      "http://20.232.50.54:8888/lab/tree/notebooks/adastra/data-owners/01-data-owners-login.ipynb?token=nmdqr69bj58zty8kdftl11qqaa5gt2bwsim2uy00i8pifzko\n",
      "\n"
     ]
    }
   ],
   "source": [
    "output_user_details(host_ips, participants)"
   ]
  }
 ],
 "metadata": {
  "kernelspec": {
   "display_name": "Python 3 (ipykernel)",
   "language": "python",
   "name": "python3"
  },
  "language_info": {
   "codemirror_mode": {
    "name": "ipython",
    "version": 3
   },
   "file_extension": ".py",
   "mimetype": "text/x-python",
   "name": "python",
   "nbconvert_exporter": "python",
   "pygments_lexer": "ipython3",
   "version": "3.9.7"
  }
 },
 "nbformat": 4,
 "nbformat_minor": 5
}
