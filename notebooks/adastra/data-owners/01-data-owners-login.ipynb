{
 "cells": [
  {
   "cell_type": "markdown",
   "id": "9b0aecae-6311-4607-85d3-fbf95f08353c",
   "metadata": {},
   "source": [
    "# 1. Log into System"
   ]
  },
  {
   "cell_type": "markdown",
   "id": "e8d79b0e",
   "metadata": {},
   "source": [
    "**What is a Domain Node ?**<br>\n",
    "A computer system (or collection of computer systems) which manages the remote study of a data owner's data by a data scientist. It is responsible for allowing the Data Owner to manage the data, as well as incoming requests from data scientists and for gatekeeping the data scientist's access to data, compute, and experimental results stored within the data owner's compute infrastructure.\n",
    "\n",
    "Let's start by creating our own Domain node. "
   ]
  },
  {
   "cell_type": "markdown",
   "id": "dc2f1e6d-03d6-4901-a2ef-e74ef102697a",
   "metadata": {},
   "source": [
    "Your Demo Coordinator will provided details for your very own fresh Ubuntu VM."
   ]
  },
  {
   "cell_type": "markdown",
   "id": "63af09a6-0f61-42ad-ac73-f137e194f19c",
   "metadata": {},
   "source": [
    "### Example Details"
   ]
  },
  {
   "cell_type": "markdown",
   "id": "c81dd32b-e301-4096-94c0-ae18725d851f",
   "metadata": {},
   "source": [
    "```\n",
    "Hi Person,\n",
    "These are your Session Details:\n",
    "-------------------------------\n",
    "Username: azureuser\n",
    "Password: **********\n",
    "VM IP Address: x.x.x.x\n",
    "\n",
    "📎 MY_DATASET_URL:\n",
    "https://media.githubusercontent.com/media/shubham3121/datasets/main/MedNIST/subsets/xxxxxxx.pkl\n",
    "```"
   ]
  },
  {
   "cell_type": "markdown",
   "id": "4be52f56-ce09-4558-89a7-4c678aeccb14",
   "metadata": {},
   "source": [
    "## 1.1. SSH into your VM"
   ]
  },
  {
   "cell_type": "markdown",
   "id": "5a5d2ca3-0eae-4df8-a2cb-8f133d477b6e",
   "metadata": {},
   "source": [
    "👇🏽 Run this cell to automatically detect the IP of your VM."
   ]
  },
  {
   "cell_type": "code",
   "execution_count": null,
   "id": "3a633578-8b7d-433d-87d9-1286350a7d1f",
   "metadata": {},
   "outputs": [],
   "source": [
    "# autodetect the host_ip\n",
    "from utils import auto_detect_domain_host_ip\n",
    "\n",
    "DOMAIN_HOST_IP = auto_detect_domain_host_ip()"
   ]
  },
  {
   "cell_type": "markdown",
   "id": "8361f9ab-d279-4bb0-b223-3c16e6893b33",
   "metadata": {
    "tags": []
   },
   "source": [
    "The first step is to open up a `terminal` window. To open a terminal window/tab, click on `File -> New -> Terminal`. This will launch a terminal window in a new tab."
   ]
  },
  {
   "cell_type": "markdown",
   "id": "96702915-5901-44d5-a204-b9d698b79668",
   "metadata": {},
   "source": [
    "For ease of use, you can drag the terminal tab to your right side to have the following side by side view."
   ]
  },
  {
   "cell_type": "markdown",
   "id": "ca14a5d5-44f7-47c7-a212-598ae8e6e59d",
   "metadata": {},
   "source": [
    "![side-by-side](img/open_terminal.png)"
   ]
  },
  {
   "cell_type": "markdown",
   "id": "897176d8-37ca-4ff8-b584-0b1e8837dc86",
   "metadata": {},
   "source": [
    "The second step is to `ssh` into your virtual machine through command line. Copy and run the following command into the terminal command line."
   ]
  },
  {
   "cell_type": "code",
   "execution_count": null,
   "id": "76805122-5b93-4d0a-9fef-104e1d8d1749",
   "metadata": {},
   "outputs": [],
   "source": [
    "print(f\"ssh azureuser@{DOMAIN_HOST_IP}\")"
   ]
  },
  {
   "cell_type": "markdown",
   "id": "5167345b-db05-42d7-9c94-0daffac588d7",
   "metadata": {},
   "source": [
    "If you are asked to accept the server fingerprint type `yes` and hit enter.\n",
    "\n",
    "You will then be prompted to enter your password."
   ]
  },
  {
   "cell_type": "markdown",
   "id": "1479b2c8-83d0-46ca-9e27-b43570294a8d",
   "metadata": {},
   "source": [
    "![ip_address](img/fingerprint_ssh.png)"
   ]
  },
  {
   "cell_type": "markdown",
   "id": "ac34f152-0994-4f73-9520-a9f7583a1e97",
   "metadata": {},
   "source": [
    "Once logged in, your terminal should look like below."
   ]
  },
  {
   "cell_type": "markdown",
   "id": "3daea9aa-cbb7-4826-b3cd-3670ae5c26c4",
   "metadata": {},
   "source": [
    "![ip_address](img/ssh_login.png)"
   ]
  },
  {
   "cell_type": "markdown",
   "id": "7dc7b46c-fc11-4081-bed4-b2cbb96c6ea2",
   "metadata": {},
   "source": [
    "Next step would be to provision/launch your domain node. Continue to the following notebook [02-data-owners-setup-domain.ipynb](02-data-owners-setup-domain.ipynb)"
   ]
  }
 ],
 "metadata": {
  "kernelspec": {
   "display_name": "Python 3 (ipykernel)",
   "language": "python",
   "name": "python3"
  },
  "language_info": {
   "codemirror_mode": {
    "name": "ipython",
    "version": 3
   },
   "file_extension": ".py",
   "mimetype": "text/x-python",
   "name": "python",
   "nbconvert_exporter": "python",
   "pygments_lexer": "ipython3",
   "version": "3.9.7"
  },
  "toc-autonumbering": false,
  "toc-showcode": false
 },
 "nbformat": 4,
 "nbformat_minor": 5
}
