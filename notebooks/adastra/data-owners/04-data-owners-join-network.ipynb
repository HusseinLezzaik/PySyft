{
 "cells": [
  {
   "cell_type": "markdown",
   "id": "1a72486f-ffbd-4800-bc03-5e6427964faa",
   "metadata": {},
   "source": [
    "# 4. Join a Network"
   ]
  },
  {
   "cell_type": "markdown",
   "id": "aa93f1b5-d5b7-4095-afb0-92e5251cd04e",
   "metadata": {},
   "source": [
    "## 4.1. Install & import Syft"
   ]
  },
  {
   "cell_type": "markdown",
   "id": "837d1051-fc15-4756-8cbb-c20479db7737",
   "metadata": {},
   "source": [
    "We have already installed syft for the demo, however installing syft is as easy as:\n",
    "\n",
    "`pip install --pre syft`."
   ]
  },
  {
   "cell_type": "markdown",
   "id": "56c36062-9f87-459a-8612-db0b2714d949",
   "metadata": {},
   "source": [
    "👇🏽👇🏽 **Run** the cells below 👇🏽👇🏽"
   ]
  },
  {
   "cell_type": "code",
   "execution_count": null,
   "id": "a76b76cd",
   "metadata": {},
   "outputs": [],
   "source": [
    "# Let's install syft\n",
    "!pip install -q --pre syft\n",
    "print(\"Syft is successfully installed !!! 🙌\")"
   ]
  },
  {
   "cell_type": "code",
   "execution_count": null,
   "id": "bd4defd0-b775-42bc-a2ff-f849198ffdc0",
   "metadata": {},
   "outputs": [],
   "source": [
    "# Let's verify if syft is successfully installed\n",
    "import syft as sy\n",
    "print(f\"You're running syft version: {sy.__version__}\")"
   ]
  },
  {
   "cell_type": "markdown",
   "id": "aad195f8",
   "metadata": {},
   "source": [
    "## 4.2. Log into the Domain"
   ]
  },
  {
   "cell_type": "markdown",
   "id": "a2c40e6f",
   "metadata": {},
   "source": [
    "Now that we have successfully installed `syft`, let's move on how one can log into a Domain node. There are two ways to log into your own node, as the Data Owner.\n",
    "\n",
    "1. Using the PySyft library\n",
    "2. Using the Web Interface (As described in the previous notebook [02-data-owners-setup-domain.ipynb](02-data-owners-setup-domain.ipynb))"
   ]
  },
  {
   "cell_type": "markdown",
   "id": "2676b53b",
   "metadata": {},
   "source": [
    "### 4.2.1 Using the PySyft library\n",
    "\n",
    "Let's use the `syft` library to login in to your domain and get an authenticated client to your Domain node.\n",
    "\n",
    "To login into the your domain you will need the following credentials:\n",
    "- url to the domain: Here the value in the `DOMAIN_HOST_IP` is the url to your domain.\n",
    "- email address: We will use the default email (`ADMIN_EMAIL`) set on domain creation.\n",
    "- password: We will use the default password (`ADMIN_PASSWORD`) set on domain creation.\n",
    "- port number: Port number on which the domain server is provisioned (defaults to 80)."
   ]
  },
  {
   "cell_type": "markdown",
   "id": "74e7800f-4443-4352-b9bc-b19bd5c06a22",
   "metadata": {},
   "source": [
    "#### 4.2.1.a. Setup login details"
   ]
  },
  {
   "cell_type": "markdown",
   "id": "c955412d-e361-4163-bbe8-5c574afbf515",
   "metadata": {},
   "source": [
    "👇🏽👇🏽 **Run** the cells below 👇🏽👇🏽"
   ]
  },
  {
   "cell_type": "code",
   "execution_count": null,
   "id": "49c351df-b9c9-4a5d-9adf-bccca9acd2ed",
   "metadata": {},
   "outputs": [],
   "source": [
    "# autodetect the host_ip\n",
    "from utils import auto_detect_domain_host_ip\n",
    "\n",
    "DOMAIN_HOST_IP = auto_detect_domain_host_ip()"
   ]
  },
  {
   "cell_type": "code",
   "execution_count": null,
   "id": "a1927f28-ad03-45d5-854a-c0c09ae00673",
   "metadata": {},
   "outputs": [],
   "source": [
    "# Set the email and password of your Domain node.\n",
    "# We will be using the default email and password that got created during Domain creation.\n",
    "\n",
    "ADMIN_EMAIL=\"info@openmined.org\"\n",
    "ADMIN_PASSWORD=\"changethis\""
   ]
  },
  {
   "cell_type": "markdown",
   "id": "f3b3a974-a900-4e06-8971-457d87811e3a",
   "metadata": {},
   "source": [
    "#### 4.2.1.b. Log into Domain"
   ]
  },
  {
   "cell_type": "markdown",
   "id": "2bda1aab-e481-4cae-afc9-6386a4e50afb",
   "metadata": {},
   "source": [
    "👇🏽👇🏽 **Run** the cells below 👇🏽👇🏽"
   ]
  },
  {
   "cell_type": "code",
   "execution_count": null,
   "id": "a1fb9475",
   "metadata": {},
   "outputs": [],
   "source": [
    "# Let's log into the domain using the credentials\n",
    "try:\n",
    "    domain_client = sy.login(\n",
    "        url=DOMAIN_HOST_IP, email=ADMIN_EMAIL, password=ADMIN_PASSWORD\n",
    "    )\n",
    "    print()\n",
    "    print(\"🎉 You successfully connected to your domain!\")\n",
    "except Exception as e:\n",
    "    print(\"❌ Unable to connect, did you set the `DOMAIN_HOST_IP` variable above?\")\n",
    "    raise e"
   ]
  },
  {
   "cell_type": "markdown",
   "id": "1e19140b",
   "metadata": {},
   "source": [
    "## 4.3 Network Node\n",
    "\n",
    "Our next step would be to connect to a Network Node. So, what is a Network Node?\n",
    "\n",
    "A Network Node is a level of abstraction above a Domain node. It is a server which exists outside of any data owner's institution, providing services to the network of data owners and data scientists.\n",
    "\n",
    "Therefore, a network node can be considered a collection of domains. A Network acts a bridge between between its members and subscribers. The members are **`Domains`** while subscribers are the **`end-users (e.g. Data Scientist)`** who explore and perform analysis on the datasets hosted by the members.\n",
    "\n",
    "Thus, in short, a Network node provides a secure interface between its members and subscribers.\n",
    "\n",
    "For the scope of this demonstration, *OpenMined* has created a Network node, to which we will register our Domain Node later in the notebook."
   ]
  },
  {
   "cell_type": "markdown",
   "id": "9cc06a47-47c5-41ae-841d-749d07e489db",
   "metadata": {},
   "source": [
    "## 4.3.1. Connect to a Network"
   ]
  },
  {
   "cell_type": "markdown",
   "id": "159da9b9-bfcd-4d06-963c-3bbd7dbf4ddd",
   "metadata": {},
   "source": [
    "You can either connect to a Network directly by knowing its `NETWORK_IP` or `hostname` or, you can browse available networks in the OpenMined `NetworkRegistry`."
   ]
  },
  {
   "cell_type": "markdown",
   "id": "a0cbac79-49dc-4f1b-bdbe-774826e12b9a",
   "metadata": {},
   "source": [
    "#### 4.3.1.a. Browse Networks\n",
    "Lets checkout some available Networks\n",
    "\n",
    "👇🏽👇🏽 **Run** the cell below 👇🏽👇🏽"
   ]
  },
  {
   "cell_type": "code",
   "execution_count": null,
   "id": "57bf77d7-5980-4197-a02c-a13ad7513c58",
   "metadata": {},
   "outputs": [],
   "source": [
    "sy.networks"
   ]
  },
  {
   "cell_type": "markdown",
   "id": "77476f18-c90f-4d62-acd9-5c9ca46ba01b",
   "metadata": {},
   "source": [
    "#### 4.3.1.b. Connect to Adastra Network\n",
    "\n",
    "Lets connect to the `Ad Astra` Network."
   ]
  },
  {
   "cell_type": "markdown",
   "id": "e5919237-5336-483c-a5b4-21267bdfbf9c",
   "metadata": {},
   "source": [
    "👇🏽👇🏽 **Run** the cell below 👇🏽👇🏽"
   ]
  },
  {
   "cell_type": "code",
   "execution_count": null,
   "id": "c68f268b-9739-4eec-bafa-59ccad7bffa7",
   "metadata": {},
   "outputs": [],
   "source": [
    "network_client = sy.networks[\"Ad Astra Demo 1\"]"
   ]
  },
  {
   "cell_type": "markdown",
   "id": "0b948bb4",
   "metadata": {},
   "source": [
    "Since we will be logging into the Network node as a Guest User, therefore we don't need to provide an email or password as part of the login. As a *GUEST USER*, our scope will be limited to only a few operations/functionalities.\n",
    "\n",
    "**Note:** Network node is a fairly new concept and is under rapid development. New functionalities will be added to it soon."
   ]
  },
  {
   "cell_type": "markdown",
   "id": "b3b33744",
   "metadata": {},
   "source": [
    "On successful login, we will receive an authenticated client."
   ]
  },
  {
   "cell_type": "markdown",
   "id": "900f286b-bb83-43e3-a05a-fed77a8a8668",
   "metadata": {},
   "source": [
    "#### 4.3.1.c. List Domains\n",
    "\n",
    "Now that we have an authenticated client to the network, let's list the available domains on this Network."
   ]
  },
  {
   "cell_type": "markdown",
   "id": "0adf11d9-5f77-4e32-979d-713f0b08f852",
   "metadata": {},
   "source": [
    "👇🏽👇🏽 **Run** the cells below 👇🏽👇🏽"
   ]
  },
  {
   "cell_type": "code",
   "execution_count": null,
   "id": "8cca3233-4ca8-42e8-b3ad-e21918e81040",
   "metadata": {},
   "outputs": [],
   "source": [
    "# List the available domains on this Network\n",
    "network_client.domains"
   ]
  },
  {
   "cell_type": "markdown",
   "id": "40618cac-ffcc-40a5-9c33-dd43aeb4b8f7",
   "metadata": {},
   "source": [
    "### 4.3.2 Join the Network\n",
    "\n",
    "As part of the next step, we will be joining the OpenMined network. Applying to a network will allow us to be listed as part of the Network.\n",
    "\n",
    "Let's apply to the Network. When we apply to join a network, the Domain client connects to the Network node through a secured VPN protocol (if a protocol is not established, then it will try to establish one) and then sends a request to join the Network."
   ]
  },
  {
   "cell_type": "markdown",
   "id": "15ea248a-dec6-4d04-b15a-cb8d6a6cbcd4",
   "metadata": {},
   "source": [
    "#### 4.3.2.a. Apply to Network"
   ]
  },
  {
   "cell_type": "markdown",
   "id": "4fa6a632-d0c8-4ac4-a5c8-8add43308928",
   "metadata": {},
   "source": [
    "👇🏽👇🏽 **Run** the cell below 👇🏽👇🏽"
   ]
  },
  {
   "cell_type": "code",
   "execution_count": null,
   "id": "a085c3f4-3ea4-4a3a-ab4b-54de864ba124",
   "metadata": {},
   "outputs": [],
   "source": [
    "# Let's apply to the Network\n",
    "domain_client.apply_to_network(network_client)"
   ]
  },
  {
   "cell_type": "markdown",
   "id": "17857c9e",
   "metadata": {},
   "source": [
    "On a successful request, our Domain is registered to the network node. Let's check this by listing the available domains on the network node."
   ]
  },
  {
   "cell_type": "markdown",
   "id": "ff0f74ab-3261-4aff-a2e2-36c652ddcf65",
   "metadata": {},
   "source": [
    "#### 4.3.2.b. List Domains"
   ]
  },
  {
   "cell_type": "markdown",
   "id": "44027698-957a-469c-80ba-3b2dcd9c9d1f",
   "metadata": {},
   "source": [
    "👇🏽👇🏽 **Run** the cell below 👇🏽👇🏽"
   ]
  },
  {
   "cell_type": "code",
   "execution_count": null,
   "id": "8a12be27-bfa5-41ad-a22c-456471220c7d",
   "metadata": {},
   "outputs": [],
   "source": [
    "# Listing the available domains on the Network\n",
    "# to check if our Domain is present on it or not.\n",
    "network_client.domains"
   ]
  },
  {
   "cell_type": "markdown",
   "id": "7cf0b544",
   "metadata": {},
   "source": [
    "We can also check if the Network node is connected to the Domain via VPN by calling`.vpn_status()` method on the `<domain_client>`. If the Network node is succesfully connected to the Domain via the VPN, then it should be present in the `peers` list (in the response returned by `.vpn_status()` method)."
   ]
  },
  {
   "cell_type": "markdown",
   "id": "0b9fb733-53fb-4ee6-afc2-fd9e4d198f97",
   "metadata": {},
   "source": [
    "#### 4.3.2.c. Check Domain VPN Status"
   ]
  },
  {
   "cell_type": "markdown",
   "id": "f7176bb4-1669-4ac3-aa20-f0fc0e58b7b2",
   "metadata": {},
   "source": [
    "👇🏽👇🏽 **Run** the cells below 👇🏽👇🏽"
   ]
  },
  {
   "cell_type": "code",
   "execution_count": null,
   "id": "28b1d205-83b3-4afe-baaf-3481c9f7086e",
   "metadata": {},
   "outputs": [],
   "source": [
    "# Verify if domain is connected to the Network node via VPN.\n",
    "domain_client.vpn_status()"
   ]
  },
  {
   "cell_type": "markdown",
   "id": "540a6b83",
   "metadata": {},
   "source": [
    "Great !!! Now that we are part of the Network node, let's move on to upload the MedNIST dataset onto our Domain node."
   ]
  },
  {
   "cell_type": "markdown",
   "id": "6645742a-a91c-436c-9c0e-9c10b93029a1",
   "metadata": {},
   "source": [
    "Great !!! 🙌🙌\n",
    "\n",
    "You have successfully joined the Ad Astra network."
   ]
  }
 ],
 "metadata": {
  "kernelspec": {
   "display_name": "Python 3 (ipykernel)",
   "language": "python",
   "name": "python3"
  },
  "language_info": {
   "codemirror_mode": {
    "name": "ipython",
    "version": 3
   },
   "file_extension": ".py",
   "mimetype": "text/x-python",
   "name": "python",
   "nbconvert_exporter": "python",
   "pygments_lexer": "ipython3",
   "version": "3.9.7"
  }
 },
 "nbformat": 4,
 "nbformat_minor": 5
}
