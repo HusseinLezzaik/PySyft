{
 "cells": [
  {
   "cell_type": "markdown",
   "id": "1a72486f-ffbd-4800-bc03-5e6427964faa",
   "metadata": {
    "tags": []
   },
   "source": [
    "# 3. Upload a Dataset"
   ]
  },
  {
   "cell_type": "markdown",
   "id": "78ca2364",
   "metadata": {},
   "source": [
    "## 3.1. Log into our Domain"
   ]
  },
  {
   "cell_type": "markdown",
   "id": "f15dc2ef-e2d0-4c25-9634-82c6d4730027",
   "metadata": {},
   "source": [
    "### 3.1.1 Import Syft"
   ]
  },
  {
   "cell_type": "markdown",
   "id": "a5b06bb5-16e1-400f-80b9-c2a831a54b7a",
   "metadata": {},
   "source": [
    "👇🏽👇🏽 **Run** the cell below 👇🏽👇🏽"
   ]
  },
  {
   "cell_type": "code",
   "execution_count": null,
   "id": "b923206d",
   "metadata": {},
   "outputs": [],
   "source": [
    "import syft as sy\n",
    "\n",
    "print(f\"You're running syft version: {sy.__version__}\")"
   ]
  },
  {
   "cell_type": "markdown",
   "id": "2de6d978-7a39-492b-b33b-2b37cf7d484e",
   "metadata": {},
   "source": [
    "### 3.1.2 Login into Domain"
   ]
  },
  {
   "cell_type": "markdown",
   "id": "f882c657-3734-4ab2-b957-c7e6c55f854d",
   "metadata": {},
   "source": [
    "#### 3.1.2.a. Setup login credentials"
   ]
  },
  {
   "cell_type": "markdown",
   "id": "4f837b0c-368a-4d79-a8f6-5df957fe6c0b",
   "metadata": {},
   "source": [
    "👇🏽👇🏽 **Run** the cells below 👇🏽👇🏽"
   ]
  },
  {
   "cell_type": "code",
   "execution_count": null,
   "id": "e9126647-18e5-40dc-a460-903d0f0eaa96",
   "metadata": {},
   "outputs": [],
   "source": [
    "# autodetect the host_ip\n",
    "from utils import auto_detect_domain_host_ip\n",
    "\n",
    "DOMAIN_HOST_IP = auto_detect_domain_host_ip()"
   ]
  },
  {
   "cell_type": "code",
   "execution_count": null,
   "id": "afab86d0-561a-457e-a377-b26a492f1f53",
   "metadata": {},
   "outputs": [],
   "source": [
    "# Set the email and password of your Domain node.\n",
    "# We will be using the default email and password that got created during Domain creation.\n",
    "\n",
    "ADMIN_EMAIL=\"info@openmined.org\"\n",
    "ADMIN_PASSWORD=\"changethis\""
   ]
  },
  {
   "cell_type": "markdown",
   "id": "a4949c38-b06f-4652-8dac-a9f8c8e744c5",
   "metadata": {},
   "source": [
    "#### 3.1.2.b. Log in using syft"
   ]
  },
  {
   "cell_type": "markdown",
   "id": "236f5af8-2fa8-4225-afb9-585ce0800b2b",
   "metadata": {},
   "source": [
    "👇🏽👇🏽 **Run** the cells below 👇🏽👇🏽"
   ]
  },
  {
   "cell_type": "code",
   "execution_count": null,
   "id": "7f682a99",
   "metadata": {},
   "outputs": [],
   "source": [
    "# Let's log into the domain using the credentials\n",
    "try:\n",
    "    domain_client = sy.login(\n",
    "        url=DOMAIN_HOST_IP, email=ADMIN_EMAIL, password=ADMIN_PASSWORD\n",
    "    )\n",
    "    print()\n",
    "    print(\"🎉 You successfully connected to your domain!\")\n",
    "except Exception as e:\n",
    "    print(\"❌ Unable to connect, did you set the `DOMAIN_HOST_IP` variable above?\")\n",
    "    raise e"
   ]
  },
  {
   "cell_type": "markdown",
   "id": "770bc6e1-8106-4079-a916-1f6fea2bec40",
   "metadata": {},
   "source": [
    "## 3.2. Creating a Dataset"
   ]
  },
  {
   "cell_type": "markdown",
   "id": "55ad95a9",
   "metadata": {},
   "source": [
    "### 3.2.1. MedNIST Dataset\n",
    "\n",
    "We will be using the MedNIST dataset. The MedNIST dataset was gathered from several sets from TCIA, the RSNA Bone Age Challenge, and the NIH Chest X-ray dataset.\n",
    "\n",
    "The dataset is kindly made available by Dr. Bradley J. Erickson M.D., Ph.D. (Department of Radiology, Mayo Clinic) under the Creative Commons CC BY-SA 4.0 license. If you use the MedNIST dataset, please acknowledge the source, e.g. https://colab.research.google.com/drive/1wy8XUSnNWlhDNazFdvGBHLfdkGvOHBKe#scrollTo=ZaHFhidyCBJa\n",
    "\n",
    "Let's move on to download and extract the dataset."
   ]
  },
  {
   "cell_type": "markdown",
   "id": "9d5af725",
   "metadata": {},
   "source": [
    "The dataset has been stored pickle file. Lets download the dataset using the instructions below."
   ]
  },
  {
   "cell_type": "markdown",
   "id": "b0dcc170",
   "metadata": {},
   "source": [
    "Copy your variables `MY_DATASET_URL` from your session details."
   ]
  },
  {
   "cell_type": "markdown",
   "id": "7d79ecf5",
   "metadata": {},
   "source": [
    "```\n",
    "Hi Person,\n",
    "These are your Session Details:\n",
    "-------------------------------\n",
    "Username: azureuser\n",
    "Password: **********\n",
    "VM IP Address: x.x.x.x\n",
    "    \n",
    "📎 MY_DATASET_URL:\n",
    "'https://media.githubusercontent.com/media/shubham3121/datasets/main/MedNIST/subsets/xxxxxxx.pkl'\n",
    "\n",
    "```"
   ]
  },
  {
   "cell_type": "markdown",
   "id": "ab7a8d8b-fc23-40fa-b6a9-d98dc1c5a849",
   "metadata": {},
   "source": [
    "#### 3.2.1.a. Set Dataset URL"
   ]
  },
  {
   "cell_type": "markdown",
   "id": "358b6031-eec2-458b-85b5-af59f24c1b24",
   "metadata": {},
   "source": [
    "👇🏽👇🏽 Set **MY_DATASET_URL** in the cell below and  **Run** the cell.👇🏽👇🏽"
   ]
  },
  {
   "cell_type": "code",
   "execution_count": null,
   "id": "83ab0392",
   "metadata": {},
   "outputs": [],
   "source": [
    "# replace these with your own from the session details\n",
    "# paste your dataset url here\n",
    "MY_DATASET_URL = \"\""
   ]
  },
  {
   "cell_type": "markdown",
   "id": "34a65acc-09ed-412f-aa5a-c9bb4256191d",
   "metadata": {},
   "source": [
    "#### 3.2.1.b. Download Dataset"
   ]
  },
  {
   "cell_type": "markdown",
   "id": "13a39eb6-6215-45ec-bec2-5781d3917d4f",
   "metadata": {},
   "source": [
    "👇🏽👇🏽 **Run** the cell below 👇🏽👇🏽"
   ]
  },
  {
   "cell_type": "code",
   "execution_count": null,
   "id": "35e6a8b8-89f4-4849-a1dd-02fc166da76f",
   "metadata": {},
   "outputs": [],
   "source": [
    "# download MedNIST.pkl\n",
    "from utils import download_mednist_dataset\n",
    "\n",
    "FILE_PATH = download_mednist_dataset(MY_DATASET_URL)"
   ]
  },
  {
   "cell_type": "markdown",
   "id": "a864da2e",
   "metadata": {},
   "source": [
    "Now, before we move forward, let's store some variables related to the dataset.\n",
    "\n",
    "We require your participant number and the total participant count in the session to allocate you a unique subset of the MedNIST data."
   ]
  },
  {
   "cell_type": "markdown",
   "id": "7515311f",
   "metadata": {},
   "source": [
    "### 3.2.2. Load the Dataset"
   ]
  },
  {
   "cell_type": "markdown",
   "id": "3b1e2f45",
   "metadata": {},
   "source": [
    "#### 3.2.2.a. Import Helper methods\n",
    "\n",
    "Below are some helper methods, that we will require to load and preprocess the dataset."
   ]
  },
  {
   "cell_type": "markdown",
   "id": "49274efb-f70d-4509-93e7-3b7fdcc01006",
   "metadata": {},
   "source": [
    "👇🏽👇🏽 **Run** the cell below 👇🏽👇🏽"
   ]
  },
  {
   "cell_type": "code",
   "execution_count": null,
   "id": "ef5c71ae",
   "metadata": {},
   "outputs": [],
   "source": [
    "# Import helper methods\n",
    "from syft.core.adp.data_subject_list import DataSubjectList\n",
    "from utils import (\n",
    "    get_data_description,\n",
    "    get_label_mapping,\n",
    "    split_into_train_test_val_sets,\n",
    "    load_data_as_df,\n",
    "    get_dataset_name,\n",
    ")"
   ]
  },
  {
   "cell_type": "markdown",
   "id": "f7bc7e5e-e8c5-4691-9fbd-0550a310c870",
   "metadata": {},
   "source": [
    "#### 3.2.2.b. Load dataset as Dataframe"
   ]
  },
  {
   "cell_type": "markdown",
   "id": "3158f9e2-d7b1-4f2b-87d7-acafc8e669a5",
   "metadata": {},
   "source": [
    "👇🏽👇🏽 **Run** the cells below 👇🏽👇🏽"
   ]
  },
  {
   "cell_type": "code",
   "execution_count": null,
   "id": "6009afa0-5903-4d37-a99a-d39b754c920a",
   "metadata": {},
   "outputs": [],
   "source": [
    "# Let's load the dataset as a dataframe\n",
    "dataset_df = load_data_as_df(FILE_PATH)"
   ]
  },
  {
   "cell_type": "code",
   "execution_count": null,
   "id": "6b03793c",
   "metadata": {},
   "outputs": [],
   "source": [
    "# Let's get a peek of the dataset\n",
    "dataset_df.head()"
   ]
  },
  {
   "cell_type": "markdown",
   "id": "651f0e40-e8e1-428d-992d-9c984704643f",
   "metadata": {},
   "source": [
    "#### 3.2.2.c. Split dataset"
   ]
  },
  {
   "cell_type": "markdown",
   "id": "01d85037-c171-415b-9a36-2ee594198bf0",
   "metadata": {},
   "source": [
    "👇🏽👇🏽 **Run** the cells below 👇🏽👇🏽"
   ]
  },
  {
   "cell_type": "code",
   "execution_count": null,
   "id": "db786ca5",
   "metadata": {},
   "outputs": [],
   "source": [
    "# Split the dataset into `train`, `validation` and `test` sets.\n",
    "data_dict = split_into_train_test_val_sets(dataset_df)"
   ]
  },
  {
   "cell_type": "code",
   "execution_count": null,
   "id": "4ce363b2",
   "metadata": {},
   "outputs": [],
   "source": [
    "data_dict[\"train\"].shape, data_dict[\"val\"].shape, data_dict[\"test\"].shape"
   ]
  },
  {
   "cell_type": "markdown",
   "id": "6a0d7bf0",
   "metadata": {},
   "source": [
    "Get the dataset description, that needs to be provided to the domain while uploading the dataset."
   ]
  },
  {
   "cell_type": "markdown",
   "id": "b0fb9e23",
   "metadata": {},
   "source": [
    "We can see that dataset description contains a brief info about the dataset and also a few meta information related to the dataset."
   ]
  },
  {
   "cell_type": "markdown",
   "id": "da69b7c3",
   "metadata": {},
   "source": [
    "### 3.2.3. Prepare Dataset for Upload"
   ]
  },
  {
   "cell_type": "markdown",
   "id": "5cc10b07",
   "metadata": {},
   "source": [
    "In the next step we will create assets for our datasets. Asset is a collection of private data. In our case the images and labels in the train, val and test sets will be part of the assets."
   ]
  },
  {
   "cell_type": "markdown",
   "id": "107c5913-27c5-4ce6-b3c7-4a186abe3983",
   "metadata": {},
   "source": [
    "#### 3.2.3.a. Preprocess the dataset"
   ]
  },
  {
   "cell_type": "markdown",
   "id": "32e3a9b7-aa16-45cb-a4f7-6e49279d67be",
   "metadata": {},
   "source": [
    "👇🏽👇🏽 **Run** the cells below 👇🏽👇🏽"
   ]
  },
  {
   "cell_type": "code",
   "execution_count": null,
   "id": "2d2c2ab5",
   "metadata": {},
   "outputs": [],
   "source": [
    "import numpy as np\n",
    "\n",
    "assets = dict()\n",
    "\n",
    "for name, data in data_dict.items():\n",
    "\n",
    "    # Let's create data subjects list.\n",
    "    # Data Subjects are the individuals whose privacy we're trying to protect.\n",
    "    data_subjects = DataSubjectList.from_series(data[\"patient_id\"])\n",
    "\n",
    "    # Convert images to numpy int64 array\n",
    "    images = data[\"image\"]\n",
    "    images = np.dstack(images.values).astype(np.int64)  # type cast to int64\n",
    "    dims = images.shape\n",
    "    images = images.reshape(dims[0] * dims[1], dims[2])  # reshape to 2D array\n",
    "    images = np.rollaxis(images, -1)\n",
    "\n",
    "    # Convert labels to numpy int64 array\n",
    "    labels = data[\"label\"].to_numpy().astype(\"int64\")\n",
    "\n",
    "    # Next we will make your data private private with min, max and data subjects.\n",
    "    # The min and max are minimum and maximum value in the given data.\n",
    "\n",
    "    # converting images to private data\n",
    "    image_data = sy.Tensor(images).private(\n",
    "        min_val=0, max_val=255, data_subjects=data_subjects\n",
    "    )\n",
    "\n",
    "    # converting labels to private data\n",
    "    label_data = sy.Tensor(labels).private(\n",
    "        min_val=0, max_val=5, data_subjects=data_subjects\n",
    "    )\n",
    "\n",
    "    assets[f\"{name}_images\"] = image_data\n",
    "    assets[f\"{name}_labels\"] = label_data\n",
    "    \n",
    "print(\"Data has been successfully preprocessed !!! 🕺\")"
   ]
  },
  {
   "cell_type": "markdown",
   "id": "11bc8fd6",
   "metadata": {},
   "source": [
    "Finally, we will upload the assets to the domain."
   ]
  },
  {
   "cell_type": "markdown",
   "id": "297660f6-a229-43ef-b52a-1e131d44261a",
   "metadata": {},
   "source": [
    "## 3.3. Upload the Dataset"
   ]
  },
  {
   "cell_type": "markdown",
   "id": "70a16e2a-9912-4b61-a48d-504c99a9005d",
   "metadata": {},
   "source": [
    "### 3.3.1. Set dataset name"
   ]
  },
  {
   "cell_type": "markdown",
   "id": "86ca7bca-400c-4bd6-8c22-ed9e0dc32bf2",
   "metadata": {},
   "source": [
    "👇🏽👇🏽 **Run** the cell below 👇🏽👇🏽"
   ]
  },
  {
   "cell_type": "code",
   "execution_count": null,
   "id": "9b8df79f",
   "metadata": {},
   "outputs": [],
   "source": [
    "# creating/uploading the dataset\n",
    "# Name of the dataset\n",
    "# Gets the dataset name from the dataset url\n",
    "name = get_dataset_name(MY_DATASET_URL)"
   ]
  },
  {
   "cell_type": "markdown",
   "id": "e6be382b-81bf-4a29-b15e-8d6149b29841",
   "metadata": {},
   "source": [
    "### 3.3.2. Set dataset description"
   ]
  },
  {
   "cell_type": "markdown",
   "id": "9dfb0a34-d752-4818-be17-274adfd8b648",
   "metadata": {},
   "source": [
    "👇🏽👇🏽 **Run** the cell below 👇🏽👇🏽"
   ]
  },
  {
   "cell_type": "code",
   "execution_count": null,
   "id": "f68e763e-6f35-44f9-a077-3ca4bfeef857",
   "metadata": {},
   "outputs": [],
   "source": [
    "dataset_description = get_data_description(dataset_df)\n",
    "print(dataset_description)"
   ]
  },
  {
   "cell_type": "markdown",
   "id": "4bc89bfb-e63b-4c1a-9c26-30ae9b93ffd4",
   "metadata": {},
   "source": [
    "### 3.3.3. Upload dataset to Domain"
   ]
  },
  {
   "cell_type": "markdown",
   "id": "be1d949c-222d-47dd-bf44-497e38349946",
   "metadata": {},
   "source": [
    "👇🏽👇🏽 **Run** the cell below 👇🏽👇🏽"
   ]
  },
  {
   "cell_type": "code",
   "execution_count": null,
   "id": "ef4be075-2712-4e97-94a2-9547a33464da",
   "metadata": {},
   "outputs": [],
   "source": [
    "# upload the MedNIST data\n",
    "domain_client.load_dataset(\n",
    "    assets=assets, name=name, description=dataset_description, use_blob_storage=True\n",
    ")"
   ]
  },
  {
   "cell_type": "markdown",
   "id": "ba5c03e4",
   "metadata": {},
   "source": [
    "Now let's check if the dataset we successfully uploaded"
   ]
  },
  {
   "cell_type": "markdown",
   "id": "e690bc21-d5fd-490e-a4f8-af712dbdb1d3",
   "metadata": {},
   "source": [
    "### 3.3.4. List datasets"
   ]
  },
  {
   "cell_type": "markdown",
   "id": "470e05e4-b667-45a1-bd86-6bd83e587743",
   "metadata": {},
   "source": [
    "👇🏽👇🏽 **Run** the cell below 👇🏽👇🏽"
   ]
  },
  {
   "cell_type": "code",
   "execution_count": null,
   "id": "f43b1d7b-579f-4cb9-b5f6-8dab895d8111",
   "metadata": {},
   "outputs": [],
   "source": [
    "domain_client.datasets"
   ]
  },
  {
   "cell_type": "markdown",
   "id": "29ce8459-dcd0-4ac1-a970-fd122364e086",
   "metadata": {},
   "source": [
    "### 3.3.5. View uploaded asset"
   ]
  },
  {
   "cell_type": "markdown",
   "id": "4e12d9eb-5696-4884-91ab-35e373339b42",
   "metadata": {},
   "source": [
    "👇🏽👇🏽 **Run** the cell below 👇🏽👇🏽"
   ]
  },
  {
   "cell_type": "code",
   "execution_count": null,
   "id": "991e5bb1",
   "metadata": {},
   "outputs": [],
   "source": [
    "domain_client.datasets[0]"
   ]
  },
  {
   "cell_type": "markdown",
   "id": "ee7c4aa2-1833-49c6-8fa1-92421f156961",
   "metadata": {},
   "source": [
    "## 3.4. Create a Data Scientist Account"
   ]
  },
  {
   "cell_type": "markdown",
   "id": "a327aaee-2b58-4fc1-bfaf-6c2a3f690e45",
   "metadata": {},
   "source": [
    "### 3.4.1. Set data scientist credentials"
   ]
  },
  {
   "cell_type": "markdown",
   "id": "806ff888-1132-478b-8554-48302f8e5d9f",
   "metadata": {},
   "source": [
    "👇🏽👇🏽 **Run** the cell below 👇🏽👇🏽"
   ]
  },
  {
   "cell_type": "code",
   "execution_count": 14,
   "id": "b2878747-ff5c-4805-b069-1c4e283d2a5c",
   "metadata": {},
   "outputs": [
    {
     "name": "stdout",
     "output_type": "stream",
     "text": [
      "Please set a value for 'name'.\n",
      "Please set a value for 'email'.\n",
      "Please set a value for 'password'.\n",
      "Please set the missing/incorrect values and re-run this cell\n"
     ]
    }
   ],
   "source": [
    "# Enter the details for your Data Scientist Below.\n",
    "from utils import validate_ds_credentials\n",
    "\n",
    "data_scientist_details = {\n",
    "    \"name\": \"\",\n",
    "    \"email\": \"\",\n",
    "    \"password\": \"\",\n",
    "    \"budget\": 9999,\n",
    "}\n",
    "       \n",
    "validate_ds_credentials(data_scientist_details)"
   ]
  },
  {
   "cell_type": "markdown",
   "id": "6fa8c145-a686-4fe7-bcfb-299f96c8224d",
   "metadata": {},
   "source": [
    "### 3.4.2. create data scientist user"
   ]
  },
  {
   "cell_type": "markdown",
   "id": "bbbb9a44-c5d4-4541-a9e9-4c10765c3b13",
   "metadata": {},
   "source": [
    "👇🏽👇🏽 **Run** the cell below 👇🏽👇🏽"
   ]
  },
  {
   "cell_type": "code",
   "execution_count": 12,
   "id": "781c9baf-9715-46cb-bc64-790597a369f3",
   "metadata": {},
   "outputs": [
    {
     "ename": "NameError",
     "evalue": "name 'domain_client' is not defined",
     "output_type": "error",
     "traceback": [
      "\u001b[0;31m---------------------------------------------------------------------------\u001b[0m",
      "\u001b[0;31mNameError\u001b[0m                                 Traceback (most recent call last)",
      "Input \u001b[0;32mIn [12]\u001b[0m, in \u001b[0;36m<module>\u001b[0;34m\u001b[0m\n\u001b[1;32m      1\u001b[0m \u001b[38;5;66;03m# Create the data scientist user\u001b[39;00m\n\u001b[0;32m----> 2\u001b[0m \u001b[43mdomain_client\u001b[49m\u001b[38;5;241m.\u001b[39musers\u001b[38;5;241m.\u001b[39mcreate(\u001b[38;5;241m*\u001b[39m\u001b[38;5;241m*\u001b[39mdata_scientist_details)\n\u001b[1;32m      3\u001b[0m \u001b[38;5;28mprint\u001b[39m(\u001b[38;5;124m\"\u001b[39m\u001b[38;5;124mData Scientist successfully created 🙌🙌\u001b[39m\u001b[38;5;124m\"\u001b[39m)\n",
      "\u001b[0;31mNameError\u001b[0m: name 'domain_client' is not defined"
     ]
    }
   ],
   "source": [
    "# Create the data scientist user\n",
    "domain_client.users.create(**data_scientist_details)\n",
    "print(\"Data Scientist successfully created 🙌🙌\")"
   ]
  },
  {
   "cell_type": "markdown",
   "id": "e74a431d-53b7-41bb-8c4f-617fc0ea158c",
   "metadata": {},
   "source": [
    "### 3.4.3. Print data scientist details"
   ]
  },
  {
   "cell_type": "markdown",
   "id": "90ab9263-e1da-47b4-82d6-d922f866393b",
   "metadata": {},
   "source": [
    "👇🏽👇🏽 **Run** the cell below 👇🏽👇🏽"
   ]
  },
  {
   "cell_type": "code",
   "execution_count": null,
   "id": "f5aec7e8-29d8-48b4-89d2-80a2252558ad",
   "metadata": {},
   "outputs": [],
   "source": [
    "print(\"Please give these details to the data scientist 👇🏽\")\n",
    "login_details = {}\n",
    "login_details[\"url\"] = DOMAIN_HOST_IP\n",
    "login_details[\"name\"] = data_scientist_details[\"name\"]\n",
    "login_details[\"email\"] = data_scientist_details[\"email\"]\n",
    "login_details[\"password\"] = data_scientist_details[\"password\"]\n",
    "login_details[\"dataset_name\"] = name\n",
    "print()\n",
    "print(login_details)"
   ]
  },
  {
   "cell_type": "markdown",
   "id": "9d176234-89c0-4fec-a6c8-84c9e0248602",
   "metadata": {},
   "source": [
    "☝🏽☝🏽 **Copy** the credentials and share it with the Demo Instructor. ☝🏽☝🏽"
   ]
  }
 ],
 "metadata": {
  "kernelspec": {
   "display_name": "Python 3 (ipykernel)",
   "language": "python",
   "name": "python3"
  },
  "language_info": {
   "codemirror_mode": {
    "name": "ipython",
    "version": 3
   },
   "file_extension": ".py",
   "mimetype": "text/x-python",
   "name": "python",
   "nbconvert_exporter": "python",
   "pygments_lexer": "ipython3",
   "version": "3.9.7"
  },
  "toc-autonumbering": false,
  "toc-showcode": false,
  "toc-showmarkdowntxt": false
 },
 "nbformat": 4,
 "nbformat_minor": 5
}
